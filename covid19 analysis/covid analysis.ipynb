{
 "cells": [
  {
   "cell_type": "markdown",
   "metadata": {},
   "source": [
    "# THIS IS A EXPLORATRY ANALYSIS OF COVID 19 CASES IN OUR COUNTRY"
   ]
  },
  {
   "cell_type": "markdown",
   "metadata": {},
   "source": [
    "THIS  DATA ANALYSIS IS DONE BY:\n",
    "JONNALA CHANDRA PUJITHA\n",
    "   ---student in SRM university\n",
    "  "
   ]
  },
  {
   "cell_type": "markdown",
   "metadata": {},
   "source": [
    "References:\n",
    "   \n",
    "   \n",
    "   data set:https://www.kaggle.com/anandhuh/latest-covid19-india-statewise-data\n",
    "    \n",
    "    \n",
    " learnt in:https://jovian.ai/learn/data-analysis-with-python-zero-to-pandas\n",
    "    \n",
    "    \n",
    "  inspired from: https://github.com/mona2401/COVID-19-Data-Analyisis\n",
    "    \n",
    "    \n",
    "    "
   ]
  },
  {
   "cell_type": "markdown",
   "metadata": {},
   "source": [
    "### How it started in India?\n",
    "\n",
    "##### The first *COVID-19* case was reported on 30th January 2020 when a student arrived *Kerala* from **Wuhan**. Just in next 2 days, Kerela reported 2 more cases. For almost a month, no new cases were reported in India, however, on 2nd March 2020, five new cases of corona virus were reported in Kerala again and since then the cases have been rising affecting *25* states."
   ]
  },
  {
   "cell_type": "markdown",
   "metadata": {},
   "source": [
    "### Corona Virus Explained in Simple Terms:\n",
    "- Let's say Raj got infected yesterday, but he won't know it untill next 14 days\n",
    "- Raj thinks he is healthy but he is infecting 10 persons per day\n",
    "- Now these 10 persons think they are completely healthy, they travel, go out and infect 100 others\n",
    "- These 100 persons think they are healthy but they have already infected 1000 persons\n",
    "- No one knows who is healthy or who can infect you\n",
    "- All you can do is be responsible, stay in quarentine\n",
    "\n",
    "## analysis by jonnala chandra pujitha\n",
    " ### FOR ALL STATES OF INDIA\n"
   ]
  },
  {
   "cell_type": "code",
   "execution_count": 69,
   "metadata": {},
   "outputs": [],
   "source": [
    "import matplotlib.pyplot as plt\n",
    "import pandas as pd\n",
    "from matplotlib import style\n",
    "%matplotlib inline\n",
    "import plotly\n",
    "import plotly.express as px\n",
    "#to use plotly in object oriented way\n",
    "import plotly.graph_objects as go\n",
    "import cufflinks as cf\n",
    "import plotly.offline as pyo\n",
    "from plotly.offline import init_notebook_mode,plot,iplot\n",
    "import folium\n",
    "plt.rcParams['figure.figsize']=20,12\n",
    "style.use('ggplot')\n"
   ]
  },
  {
   "cell_type": "code",
   "execution_count": 11,
   "metadata": {},
   "outputs": [
    {
     "data": {
      "text/html": [
       "        <script type=\"text/javascript\">\n",
       "        window.PlotlyConfig = {MathJaxConfig: 'local'};\n",
       "        if (window.MathJax) {MathJax.Hub.Config({SVG: {font: \"STIX-Web\"}});}\n",
       "        if (typeof require !== 'undefined') {\n",
       "        require.undef(\"plotly\");\n",
       "        requirejs.config({\n",
       "            paths: {\n",
       "                'plotly': ['https://cdn.plot.ly/plotly-2.4.2.min']\n",
       "            }\n",
       "        });\n",
       "        require(['plotly'], function(Plotly) {\n",
       "            window._Plotly = Plotly;\n",
       "        });\n",
       "        }\n",
       "        </script>\n",
       "        "
      ]
     },
     "metadata": {},
     "output_type": "display_data"
    },
    {
     "data": {
      "text/html": [
       "        <script type=\"text/javascript\">\n",
       "        window.PlotlyConfig = {MathJaxConfig: 'local'};\n",
       "        if (window.MathJax) {MathJax.Hub.Config({SVG: {font: \"STIX-Web\"}});}\n",
       "        if (typeof require !== 'undefined') {\n",
       "        require.undef(\"plotly\");\n",
       "        requirejs.config({\n",
       "            paths: {\n",
       "                'plotly': ['https://cdn.plot.ly/plotly-2.4.2.min']\n",
       "            }\n",
       "        });\n",
       "        require(['plotly'], function(Plotly) {\n",
       "            window._Plotly = Plotly;\n",
       "        });\n",
       "        }\n",
       "        </script>\n",
       "        "
      ]
     },
     "metadata": {},
     "output_type": "display_data"
    }
   ],
   "source": [
    "pyo.init_notebook_mode(connected=True)\n",
    "cf.go_offline()"
   ]
  },
  {
   "cell_type": "code",
   "execution_count": 12,
   "metadata": {},
   "outputs": [],
   "source": [
    "dataframe=pd.read_csv('Latest Covid-19 India Status.csv')"
   ]
  },
  {
   "cell_type": "code",
   "execution_count": 13,
   "metadata": {},
   "outputs": [
    {
     "data": {
      "text/html": [
       "<div>\n",
       "<style scoped>\n",
       "    .dataframe tbody tr th:only-of-type {\n",
       "        vertical-align: middle;\n",
       "    }\n",
       "\n",
       "    .dataframe tbody tr th {\n",
       "        vertical-align: top;\n",
       "    }\n",
       "\n",
       "    .dataframe thead th {\n",
       "        text-align: right;\n",
       "    }\n",
       "</style>\n",
       "<table border=\"1\" class=\"dataframe\">\n",
       "  <thead>\n",
       "    <tr style=\"text-align: right;\">\n",
       "      <th></th>\n",
       "      <th>State/UTs</th>\n",
       "      <th>Total Cases</th>\n",
       "      <th>Active</th>\n",
       "      <th>Discharged</th>\n",
       "      <th>Deaths</th>\n",
       "      <th>Active Ratio</th>\n",
       "      <th>Discharge Ratio</th>\n",
       "      <th>Death Ratio</th>\n",
       "    </tr>\n",
       "  </thead>\n",
       "  <tbody>\n",
       "    <tr>\n",
       "      <th>0</th>\n",
       "      <td>Andaman and Nicobar</td>\n",
       "      <td>7620</td>\n",
       "      <td>9</td>\n",
       "      <td>7482</td>\n",
       "      <td>129</td>\n",
       "      <td>0.12</td>\n",
       "      <td>98.19</td>\n",
       "      <td>1.69</td>\n",
       "    </tr>\n",
       "    <tr>\n",
       "      <th>1</th>\n",
       "      <td>Andhra Pradesh</td>\n",
       "      <td>2049314</td>\n",
       "      <td>11655</td>\n",
       "      <td>2023496</td>\n",
       "      <td>14163</td>\n",
       "      <td>0.57</td>\n",
       "      <td>98.74</td>\n",
       "      <td>0.69</td>\n",
       "    </tr>\n",
       "    <tr>\n",
       "      <th>2</th>\n",
       "      <td>Arunachal Pradesh</td>\n",
       "      <td>54572</td>\n",
       "      <td>440</td>\n",
       "      <td>53856</td>\n",
       "      <td>276</td>\n",
       "      <td>0.81</td>\n",
       "      <td>98.69</td>\n",
       "      <td>0.51</td>\n",
       "    </tr>\n",
       "    <tr>\n",
       "      <th>3</th>\n",
       "      <td>Assam</td>\n",
       "      <td>601787</td>\n",
       "      <td>4487</td>\n",
       "      <td>591432</td>\n",
       "      <td>5868</td>\n",
       "      <td>0.75</td>\n",
       "      <td>98.28</td>\n",
       "      <td>0.98</td>\n",
       "    </tr>\n",
       "    <tr>\n",
       "      <th>4</th>\n",
       "      <td>Bihar</td>\n",
       "      <td>725952</td>\n",
       "      <td>55</td>\n",
       "      <td>716237</td>\n",
       "      <td>9660</td>\n",
       "      <td>0.01</td>\n",
       "      <td>98.66</td>\n",
       "      <td>1.33</td>\n",
       "    </tr>\n",
       "    <tr>\n",
       "      <th>5</th>\n",
       "      <td>Chandigarh</td>\n",
       "      <td>65224</td>\n",
       "      <td>42</td>\n",
       "      <td>64363</td>\n",
       "      <td>819</td>\n",
       "      <td>0.06</td>\n",
       "      <td>98.68</td>\n",
       "      <td>1.26</td>\n",
       "    </tr>\n",
       "    <tr>\n",
       "      <th>6</th>\n",
       "      <td>Chhattisgarh</td>\n",
       "      <td>1005325</td>\n",
       "      <td>285</td>\n",
       "      <td>991475</td>\n",
       "      <td>13565</td>\n",
       "      <td>0.03</td>\n",
       "      <td>98.62</td>\n",
       "      <td>1.35</td>\n",
       "    </tr>\n",
       "    <tr>\n",
       "      <th>7</th>\n",
       "      <td>Dadra and Nagar Haveli and Daman and Diu</td>\n",
       "      <td>10670</td>\n",
       "      <td>0</td>\n",
       "      <td>10666</td>\n",
       "      <td>4</td>\n",
       "      <td>0.00</td>\n",
       "      <td>99.96</td>\n",
       "      <td>0.04</td>\n",
       "    </tr>\n",
       "    <tr>\n",
       "      <th>8</th>\n",
       "      <td>Delhi</td>\n",
       "      <td>1438821</td>\n",
       "      <td>392</td>\n",
       "      <td>1413342</td>\n",
       "      <td>25087</td>\n",
       "      <td>0.03</td>\n",
       "      <td>98.23</td>\n",
       "      <td>1.74</td>\n",
       "    </tr>\n",
       "    <tr>\n",
       "      <th>9</th>\n",
       "      <td>Goa</td>\n",
       "      <td>176318</td>\n",
       "      <td>830</td>\n",
       "      <td>172176</td>\n",
       "      <td>3312</td>\n",
       "      <td>0.47</td>\n",
       "      <td>97.65</td>\n",
       "      <td>1.88</td>\n",
       "    </tr>\n",
       "    <tr>\n",
       "      <th>10</th>\n",
       "      <td>Gujarat</td>\n",
       "      <td>825916</td>\n",
       "      <td>156</td>\n",
       "      <td>815678</td>\n",
       "      <td>10082</td>\n",
       "      <td>0.02</td>\n",
       "      <td>98.76</td>\n",
       "      <td>1.22</td>\n",
       "    </tr>\n",
       "    <tr>\n",
       "      <th>11</th>\n",
       "      <td>Haryana</td>\n",
       "      <td>770863</td>\n",
       "      <td>278</td>\n",
       "      <td>760711</td>\n",
       "      <td>9874</td>\n",
       "      <td>0.04</td>\n",
       "      <td>98.68</td>\n",
       "      <td>1.28</td>\n",
       "    </tr>\n",
       "    <tr>\n",
       "      <th>12</th>\n",
       "      <td>Himachal Pradesh</td>\n",
       "      <td>218898</td>\n",
       "      <td>1793</td>\n",
       "      <td>213430</td>\n",
       "      <td>3675</td>\n",
       "      <td>0.82</td>\n",
       "      <td>97.50</td>\n",
       "      <td>1.68</td>\n",
       "    </tr>\n",
       "    <tr>\n",
       "      <th>13</th>\n",
       "      <td>Jammu and Kashmir</td>\n",
       "      <td>329320</td>\n",
       "      <td>1388</td>\n",
       "      <td>323510</td>\n",
       "      <td>4422</td>\n",
       "      <td>0.42</td>\n",
       "      <td>98.24</td>\n",
       "      <td>1.34</td>\n",
       "    </tr>\n",
       "    <tr>\n",
       "      <th>14</th>\n",
       "      <td>Jharkhand</td>\n",
       "      <td>348215</td>\n",
       "      <td>78</td>\n",
       "      <td>343002</td>\n",
       "      <td>5135</td>\n",
       "      <td>0.02</td>\n",
       "      <td>98.50</td>\n",
       "      <td>1.47</td>\n",
       "    </tr>\n",
       "    <tr>\n",
       "      <th>15</th>\n",
       "      <td>Karnataka</td>\n",
       "      <td>2975067</td>\n",
       "      <td>12594</td>\n",
       "      <td>2924693</td>\n",
       "      <td>37780</td>\n",
       "      <td>0.42</td>\n",
       "      <td>98.31</td>\n",
       "      <td>1.27</td>\n",
       "    </tr>\n",
       "    <tr>\n",
       "      <th>16</th>\n",
       "      <td>Kerala</td>\n",
       "      <td>4664944</td>\n",
       "      <td>144075</td>\n",
       "      <td>4495904</td>\n",
       "      <td>24965</td>\n",
       "      <td>3.09</td>\n",
       "      <td>96.38</td>\n",
       "      <td>0.54</td>\n",
       "    </tr>\n",
       "    <tr>\n",
       "      <th>17</th>\n",
       "      <td>Ladakh</td>\n",
       "      <td>20795</td>\n",
       "      <td>73</td>\n",
       "      <td>20515</td>\n",
       "      <td>207</td>\n",
       "      <td>0.35</td>\n",
       "      <td>98.65</td>\n",
       "      <td>1.00</td>\n",
       "    </tr>\n",
       "    <tr>\n",
       "      <th>18</th>\n",
       "      <td>Lakshadweep</td>\n",
       "      <td>10361</td>\n",
       "      <td>4</td>\n",
       "      <td>10306</td>\n",
       "      <td>51</td>\n",
       "      <td>0.04</td>\n",
       "      <td>99.47</td>\n",
       "      <td>0.49</td>\n",
       "    </tr>\n",
       "    <tr>\n",
       "      <th>19</th>\n",
       "      <td>Madhya Pradesh</td>\n",
       "      <td>792519</td>\n",
       "      <td>115</td>\n",
       "      <td>781882</td>\n",
       "      <td>10522</td>\n",
       "      <td>0.01</td>\n",
       "      <td>98.66</td>\n",
       "      <td>1.33</td>\n",
       "    </tr>\n",
       "    <tr>\n",
       "      <th>20</th>\n",
       "      <td>Maharashtra</td>\n",
       "      <td>6547793</td>\n",
       "      <td>40252</td>\n",
       "      <td>6368530</td>\n",
       "      <td>139011</td>\n",
       "      <td>0.61</td>\n",
       "      <td>97.26</td>\n",
       "      <td>2.12</td>\n",
       "    </tr>\n",
       "    <tr>\n",
       "      <th>21</th>\n",
       "      <td>Manipur</td>\n",
       "      <td>120426</td>\n",
       "      <td>2207</td>\n",
       "      <td>116365</td>\n",
       "      <td>1854</td>\n",
       "      <td>1.83</td>\n",
       "      <td>96.63</td>\n",
       "      <td>1.54</td>\n",
       "    </tr>\n",
       "    <tr>\n",
       "      <th>22</th>\n",
       "      <td>Meghalaya</td>\n",
       "      <td>81161</td>\n",
       "      <td>1693</td>\n",
       "      <td>78068</td>\n",
       "      <td>1400</td>\n",
       "      <td>2.09</td>\n",
       "      <td>96.19</td>\n",
       "      <td>1.72</td>\n",
       "    </tr>\n",
       "    <tr>\n",
       "      <th>23</th>\n",
       "      <td>Mizoram</td>\n",
       "      <td>93660</td>\n",
       "      <td>16841</td>\n",
       "      <td>76512</td>\n",
       "      <td>307</td>\n",
       "      <td>17.98</td>\n",
       "      <td>81.69</td>\n",
       "      <td>0.33</td>\n",
       "    </tr>\n",
       "    <tr>\n",
       "      <th>24</th>\n",
       "      <td>Nagaland</td>\n",
       "      <td>31219</td>\n",
       "      <td>365</td>\n",
       "      <td>30189</td>\n",
       "      <td>665</td>\n",
       "      <td>1.17</td>\n",
       "      <td>96.70</td>\n",
       "      <td>2.13</td>\n",
       "    </tr>\n",
       "    <tr>\n",
       "      <th>25</th>\n",
       "      <td>Odisha</td>\n",
       "      <td>1025874</td>\n",
       "      <td>5099</td>\n",
       "      <td>1012583</td>\n",
       "      <td>8192</td>\n",
       "      <td>0.50</td>\n",
       "      <td>98.70</td>\n",
       "      <td>0.80</td>\n",
       "    </tr>\n",
       "    <tr>\n",
       "      <th>26</th>\n",
       "      <td>Puducherry</td>\n",
       "      <td>126308</td>\n",
       "      <td>828</td>\n",
       "      <td>123640</td>\n",
       "      <td>1840</td>\n",
       "      <td>0.66</td>\n",
       "      <td>97.89</td>\n",
       "      <td>1.46</td>\n",
       "    </tr>\n",
       "    <tr>\n",
       "      <th>27</th>\n",
       "      <td>Punjab</td>\n",
       "      <td>601600</td>\n",
       "      <td>290</td>\n",
       "      <td>584797</td>\n",
       "      <td>16513</td>\n",
       "      <td>0.05</td>\n",
       "      <td>97.21</td>\n",
       "      <td>2.74</td>\n",
       "    </tr>\n",
       "    <tr>\n",
       "      <th>28</th>\n",
       "      <td>Rajasthan</td>\n",
       "      <td>954322</td>\n",
       "      <td>76</td>\n",
       "      <td>945292</td>\n",
       "      <td>8954</td>\n",
       "      <td>0.01</td>\n",
       "      <td>99.05</td>\n",
       "      <td>0.94</td>\n",
       "    </tr>\n",
       "    <tr>\n",
       "      <th>29</th>\n",
       "      <td>Sikkim</td>\n",
       "      <td>31412</td>\n",
       "      <td>600</td>\n",
       "      <td>30425</td>\n",
       "      <td>387</td>\n",
       "      <td>1.91</td>\n",
       "      <td>96.86</td>\n",
       "      <td>1.23</td>\n",
       "    </tr>\n",
       "    <tr>\n",
       "      <th>30</th>\n",
       "      <td>Tamil Nadu</td>\n",
       "      <td>2662177</td>\n",
       "      <td>17192</td>\n",
       "      <td>2609435</td>\n",
       "      <td>35550</td>\n",
       "      <td>0.65</td>\n",
       "      <td>98.02</td>\n",
       "      <td>1.34</td>\n",
       "    </tr>\n",
       "    <tr>\n",
       "      <th>31</th>\n",
       "      <td>Telengana</td>\n",
       "      <td>665749</td>\n",
       "      <td>4620</td>\n",
       "      <td>657213</td>\n",
       "      <td>3916</td>\n",
       "      <td>0.69</td>\n",
       "      <td>98.72</td>\n",
       "      <td>0.59</td>\n",
       "    </tr>\n",
       "    <tr>\n",
       "      <th>32</th>\n",
       "      <td>Tripura</td>\n",
       "      <td>84127</td>\n",
       "      <td>260</td>\n",
       "      <td>83054</td>\n",
       "      <td>813</td>\n",
       "      <td>0.31</td>\n",
       "      <td>98.72</td>\n",
       "      <td>0.97</td>\n",
       "    </tr>\n",
       "    <tr>\n",
       "      <th>33</th>\n",
       "      <td>Uttar Pradesh</td>\n",
       "      <td>1709800</td>\n",
       "      <td>159</td>\n",
       "      <td>1686749</td>\n",
       "      <td>22892</td>\n",
       "      <td>0.01</td>\n",
       "      <td>98.65</td>\n",
       "      <td>1.34</td>\n",
       "    </tr>\n",
       "    <tr>\n",
       "      <th>34</th>\n",
       "      <td>Uttarakhand</td>\n",
       "      <td>343530</td>\n",
       "      <td>209</td>\n",
       "      <td>335927</td>\n",
       "      <td>7394</td>\n",
       "      <td>0.06</td>\n",
       "      <td>97.79</td>\n",
       "      <td>2.15</td>\n",
       "    </tr>\n",
       "    <tr>\n",
       "      <th>35</th>\n",
       "      <td>West Bengal</td>\n",
       "      <td>1568321</td>\n",
       "      <td>7580</td>\n",
       "      <td>1541963</td>\n",
       "      <td>18778</td>\n",
       "      <td>0.48</td>\n",
       "      <td>98.32</td>\n",
       "      <td>1.20</td>\n",
       "    </tr>\n",
       "  </tbody>\n",
       "</table>\n",
       "</div>"
      ],
      "text/plain": [
       "                                   State/UTs  Total Cases  Active  Discharged  \\\n",
       "0                        Andaman and Nicobar         7620       9        7482   \n",
       "1                             Andhra Pradesh      2049314   11655     2023496   \n",
       "2                          Arunachal Pradesh        54572     440       53856   \n",
       "3                                      Assam       601787    4487      591432   \n",
       "4                                      Bihar       725952      55      716237   \n",
       "5                                 Chandigarh        65224      42       64363   \n",
       "6                               Chhattisgarh      1005325     285      991475   \n",
       "7   Dadra and Nagar Haveli and Daman and Diu        10670       0       10666   \n",
       "8                                      Delhi      1438821     392     1413342   \n",
       "9                                        Goa       176318     830      172176   \n",
       "10                                   Gujarat       825916     156      815678   \n",
       "11                                   Haryana       770863     278      760711   \n",
       "12                          Himachal Pradesh       218898    1793      213430   \n",
       "13                         Jammu and Kashmir       329320    1388      323510   \n",
       "14                                 Jharkhand       348215      78      343002   \n",
       "15                                 Karnataka      2975067   12594     2924693   \n",
       "16                                    Kerala      4664944  144075     4495904   \n",
       "17                                    Ladakh        20795      73       20515   \n",
       "18                               Lakshadweep        10361       4       10306   \n",
       "19                            Madhya Pradesh       792519     115      781882   \n",
       "20                               Maharashtra      6547793   40252     6368530   \n",
       "21                                   Manipur       120426    2207      116365   \n",
       "22                                 Meghalaya        81161    1693       78068   \n",
       "23                                   Mizoram        93660   16841       76512   \n",
       "24                                  Nagaland        31219     365       30189   \n",
       "25                                    Odisha      1025874    5099     1012583   \n",
       "26                                Puducherry       126308     828      123640   \n",
       "27                                    Punjab       601600     290      584797   \n",
       "28                                 Rajasthan       954322      76      945292   \n",
       "29                                    Sikkim        31412     600       30425   \n",
       "30                                Tamil Nadu      2662177   17192     2609435   \n",
       "31                                 Telengana       665749    4620      657213   \n",
       "32                                   Tripura        84127     260       83054   \n",
       "33                             Uttar Pradesh      1709800     159     1686749   \n",
       "34                               Uttarakhand       343530     209      335927   \n",
       "35                               West Bengal      1568321    7580     1541963   \n",
       "\n",
       "    Deaths  Active Ratio  Discharge Ratio  Death Ratio  \n",
       "0      129          0.12            98.19         1.69  \n",
       "1    14163          0.57            98.74         0.69  \n",
       "2      276          0.81            98.69         0.51  \n",
       "3     5868          0.75            98.28         0.98  \n",
       "4     9660          0.01            98.66         1.33  \n",
       "5      819          0.06            98.68         1.26  \n",
       "6    13565          0.03            98.62         1.35  \n",
       "7        4          0.00            99.96         0.04  \n",
       "8    25087          0.03            98.23         1.74  \n",
       "9     3312          0.47            97.65         1.88  \n",
       "10   10082          0.02            98.76         1.22  \n",
       "11    9874          0.04            98.68         1.28  \n",
       "12    3675          0.82            97.50         1.68  \n",
       "13    4422          0.42            98.24         1.34  \n",
       "14    5135          0.02            98.50         1.47  \n",
       "15   37780          0.42            98.31         1.27  \n",
       "16   24965          3.09            96.38         0.54  \n",
       "17     207          0.35            98.65         1.00  \n",
       "18      51          0.04            99.47         0.49  \n",
       "19   10522          0.01            98.66         1.33  \n",
       "20  139011          0.61            97.26         2.12  \n",
       "21    1854          1.83            96.63         1.54  \n",
       "22    1400          2.09            96.19         1.72  \n",
       "23     307         17.98            81.69         0.33  \n",
       "24     665          1.17            96.70         2.13  \n",
       "25    8192          0.50            98.70         0.80  \n",
       "26    1840          0.66            97.89         1.46  \n",
       "27   16513          0.05            97.21         2.74  \n",
       "28    8954          0.01            99.05         0.94  \n",
       "29     387          1.91            96.86         1.23  \n",
       "30   35550          0.65            98.02         1.34  \n",
       "31    3916          0.69            98.72         0.59  \n",
       "32     813          0.31            98.72         0.97  \n",
       "33   22892          0.01            98.65         1.34  \n",
       "34    7394          0.06            97.79         2.15  \n",
       "35   18778          0.48            98.32         1.20  "
      ]
     },
     "execution_count": 13,
     "metadata": {},
     "output_type": "execute_result"
    }
   ],
   "source": [
    "dataframe"
   ]
  },
  {
   "cell_type": "code",
   "execution_count": 16,
   "metadata": {},
   "outputs": [
    {
     "name": "stdout",
     "output_type": "stream",
     "text": [
      "total number of cases in india: 33739980\n"
     ]
    }
   ],
   "source": [
    "Total_cases_in_india=dataframe['Total Cases'].sum()\n",
    "print(\"total number of cases in india:\" ,Total_cases_in_india)"
   ]
  },
  {
   "cell_type": "code",
   "execution_count": 17,
   "metadata": {},
   "outputs": [
    {
     "name": "stdout",
     "output_type": "stream",
     "text": [
      "Active number of cases in india: 277020\n"
     ]
    }
   ],
   "source": [
    "active_cases_in_india=dataframe['Active'].sum()\n",
    "print(\"Active number of cases in india:\" ,active_cases_in_india)\n"
   ]
  },
  {
   "cell_type": "code",
   "execution_count": 18,
   "metadata": {},
   "outputs": [
    {
     "name": "stdout",
     "output_type": "stream",
     "text": [
      "cured number of cases in india: 33014898\n"
     ]
    }
   ],
   "source": [
    "cured_cases_in_india=dataframe['Discharged'].sum()\n",
    "print(\"cured number of cases in india:\" ,cured_cases_in_india)"
   ]
  },
  {
   "cell_type": "code",
   "execution_count": 19,
   "metadata": {},
   "outputs": [
    {
     "name": "stdout",
     "output_type": "stream",
     "text": [
      "deaths in india: 448062\n"
     ]
    }
   ],
   "source": [
    "death_cases_in_india=dataframe['Deaths'].sum()\n",
    "print(\"deaths in india:\" ,death_cases_in_india)"
   ]
  },
  {
   "cell_type": "code",
   "execution_count": 20,
   "metadata": {},
   "outputs": [
    {
     "name": "stdout",
     "output_type": "stream",
     "text": [
      "0.008210437587692701\n"
     ]
    }
   ],
   "source": [
    "active_ratio=active_cases_in_india/Total_cases_in_india\n",
    "print(active_ratio)"
   ]
  },
  {
   "cell_type": "code",
   "execution_count": 24,
   "metadata": {},
   "outputs": [
    {
     "data": {
      "text/html": [
       "<style  type=\"text/css\" >\n",
       "#T_bb99ff10_225c_11ec_bba4_046c59702343row0_col1,#T_bb99ff10_225c_11ec_bba4_046c59702343row0_col2,#T_bb99ff10_225c_11ec_bba4_046c59702343row0_col3,#T_bb99ff10_225c_11ec_bba4_046c59702343row0_col4,#T_bb99ff10_225c_11ec_bba4_046c59702343row2_col2,#T_bb99ff10_225c_11ec_bba4_046c59702343row2_col4,#T_bb99ff10_225c_11ec_bba4_046c59702343row4_col2,#T_bb99ff10_225c_11ec_bba4_046c59702343row4_col5,#T_bb99ff10_225c_11ec_bba4_046c59702343row5_col2,#T_bb99ff10_225c_11ec_bba4_046c59702343row5_col5,#T_bb99ff10_225c_11ec_bba4_046c59702343row6_col2,#T_bb99ff10_225c_11ec_bba4_046c59702343row6_col5,#T_bb99ff10_225c_11ec_bba4_046c59702343row7_col1,#T_bb99ff10_225c_11ec_bba4_046c59702343row7_col2,#T_bb99ff10_225c_11ec_bba4_046c59702343row7_col3,#T_bb99ff10_225c_11ec_bba4_046c59702343row7_col4,#T_bb99ff10_225c_11ec_bba4_046c59702343row7_col5,#T_bb99ff10_225c_11ec_bba4_046c59702343row7_col7,#T_bb99ff10_225c_11ec_bba4_046c59702343row8_col2,#T_bb99ff10_225c_11ec_bba4_046c59702343row8_col5,#T_bb99ff10_225c_11ec_bba4_046c59702343row10_col2,#T_bb99ff10_225c_11ec_bba4_046c59702343row10_col5,#T_bb99ff10_225c_11ec_bba4_046c59702343row11_col2,#T_bb99ff10_225c_11ec_bba4_046c59702343row11_col5,#T_bb99ff10_225c_11ec_bba4_046c59702343row14_col2,#T_bb99ff10_225c_11ec_bba4_046c59702343row14_col5,#T_bb99ff10_225c_11ec_bba4_046c59702343row17_col1,#T_bb99ff10_225c_11ec_bba4_046c59702343row17_col2,#T_bb99ff10_225c_11ec_bba4_046c59702343row17_col3,#T_bb99ff10_225c_11ec_bba4_046c59702343row17_col4,#T_bb99ff10_225c_11ec_bba4_046c59702343row18_col1,#T_bb99ff10_225c_11ec_bba4_046c59702343row18_col2,#T_bb99ff10_225c_11ec_bba4_046c59702343row18_col3,#T_bb99ff10_225c_11ec_bba4_046c59702343row18_col4,#T_bb99ff10_225c_11ec_bba4_046c59702343row18_col5,#T_bb99ff10_225c_11ec_bba4_046c59702343row19_col2,#T_bb99ff10_225c_11ec_bba4_046c59702343row19_col5,#T_bb99ff10_225c_11ec_bba4_046c59702343row23_col4,#T_bb99ff10_225c_11ec_bba4_046c59702343row23_col6,#T_bb99ff10_225c_11ec_bba4_046c59702343row24_col1,#T_bb99ff10_225c_11ec_bba4_046c59702343row24_col2,#T_bb99ff10_225c_11ec_bba4_046c59702343row24_col3,#T_bb99ff10_225c_11ec_bba4_046c59702343row27_col2,#T_bb99ff10_225c_11ec_bba4_046c59702343row27_col5,#T_bb99ff10_225c_11ec_bba4_046c59702343row28_col2,#T_bb99ff10_225c_11ec_bba4_046c59702343row28_col5,#T_bb99ff10_225c_11ec_bba4_046c59702343row29_col1,#T_bb99ff10_225c_11ec_bba4_046c59702343row29_col3,#T_bb99ff10_225c_11ec_bba4_046c59702343row29_col4,#T_bb99ff10_225c_11ec_bba4_046c59702343row32_col2,#T_bb99ff10_225c_11ec_bba4_046c59702343row33_col2,#T_bb99ff10_225c_11ec_bba4_046c59702343row33_col5,#T_bb99ff10_225c_11ec_bba4_046c59702343row34_col2,#T_bb99ff10_225c_11ec_bba4_046c59702343row34_col5{\n",
       "            background-color:  #fff5f0;\n",
       "            color:  #000000;\n",
       "        }#T_bb99ff10_225c_11ec_bba4_046c59702343row0_col5,#T_bb99ff10_225c_11ec_bba4_046c59702343row2_col1,#T_bb99ff10_225c_11ec_bba4_046c59702343row2_col3,#T_bb99ff10_225c_11ec_bba4_046c59702343row5_col4,#T_bb99ff10_225c_11ec_bba4_046c59702343row9_col2,#T_bb99ff10_225c_11ec_bba4_046c59702343row24_col4,#T_bb99ff10_225c_11ec_bba4_046c59702343row26_col2,#T_bb99ff10_225c_11ec_bba4_046c59702343row29_col2,#T_bb99ff10_225c_11ec_bba4_046c59702343row32_col4{\n",
       "            background-color:  #fff4ef;\n",
       "            color:  #000000;\n",
       "        }#T_bb99ff10_225c_11ec_bba4_046c59702343row0_col6,#T_bb99ff10_225c_11ec_bba4_046c59702343row8_col6,#T_bb99ff10_225c_11ec_bba4_046c59702343row13_col6{\n",
       "            background-color:  #960b13;\n",
       "            color:  #f1f1f1;\n",
       "        }#T_bb99ff10_225c_11ec_bba4_046c59702343row0_col7{\n",
       "            background-color:  #f0402f;\n",
       "            color:  #f1f1f1;\n",
       "        }#T_bb99ff10_225c_11ec_bba4_046c59702343row1_col1{\n",
       "            background-color:  #fca78b;\n",
       "            color:  #000000;\n",
       "        }#T_bb99ff10_225c_11ec_bba4_046c59702343row1_col2{\n",
       "            background-color:  #fee8dd;\n",
       "            color:  #000000;\n",
       "        }#T_bb99ff10_225c_11ec_bba4_046c59702343row1_col3{\n",
       "            background-color:  #fca588;\n",
       "            color:  #000000;\n",
       "        }#T_bb99ff10_225c_11ec_bba4_046c59702343row1_col4,#T_bb99ff10_225c_11ec_bba4_046c59702343row21_col5,#T_bb99ff10_225c_11ec_bba4_046c59702343row31_col3{\n",
       "            background-color:  #fee4d8;\n",
       "            color:  #000000;\n",
       "        }#T_bb99ff10_225c_11ec_bba4_046c59702343row1_col5,#T_bb99ff10_225c_11ec_bba4_046c59702343row12_col1,#T_bb99ff10_225c_11ec_bba4_046c59702343row12_col3,#T_bb99ff10_225c_11ec_bba4_046c59702343row13_col4,#T_bb99ff10_225c_11ec_bba4_046c59702343row20_col5,#T_bb99ff10_225c_11ec_bba4_046c59702343row31_col2{\n",
       "            background-color:  #fff0e8;\n",
       "            color:  #000000;\n",
       "        }#T_bb99ff10_225c_11ec_bba4_046c59702343row1_col6,#T_bb99ff10_225c_11ec_bba4_046c59702343row2_col6,#T_bb99ff10_225c_11ec_bba4_046c59702343row5_col6,#T_bb99ff10_225c_11ec_bba4_046c59702343row11_col6,#T_bb99ff10_225c_11ec_bba4_046c59702343row25_col6,#T_bb99ff10_225c_11ec_bba4_046c59702343row31_col6,#T_bb99ff10_225c_11ec_bba4_046c59702343row32_col6{\n",
       "            background-color:  #880811;\n",
       "            color:  #f1f1f1;\n",
       "        }#T_bb99ff10_225c_11ec_bba4_046c59702343row1_col7,#T_bb99ff10_225c_11ec_bba4_046c59702343row35_col1,#T_bb99ff10_225c_11ec_bba4_046c59702343row35_col3{\n",
       "            background-color:  #fcbea5;\n",
       "            color:  #000000;\n",
       "        }#T_bb99ff10_225c_11ec_bba4_046c59702343row2_col5,#T_bb99ff10_225c_11ec_bba4_046c59702343row12_col5{\n",
       "            background-color:  #ffeee6;\n",
       "            color:  #000000;\n",
       "        }#T_bb99ff10_225c_11ec_bba4_046c59702343row2_col7{\n",
       "            background-color:  #fdd2bf;\n",
       "            color:  #000000;\n",
       "        }#T_bb99ff10_225c_11ec_bba4_046c59702343row3_col1,#T_bb99ff10_225c_11ec_bba4_046c59702343row3_col3,#T_bb99ff10_225c_11ec_bba4_046c59702343row27_col1,#T_bb99ff10_225c_11ec_bba4_046c59702343row27_col3{\n",
       "            background-color:  #fee6da;\n",
       "            color:  #000000;\n",
       "        }#T_bb99ff10_225c_11ec_bba4_046c59702343row3_col2,#T_bb99ff10_225c_11ec_bba4_046c59702343row25_col5,#T_bb99ff10_225c_11ec_bba4_046c59702343row31_col4{\n",
       "            background-color:  #fff0e9;\n",
       "            color:  #000000;\n",
       "        }#T_bb99ff10_225c_11ec_bba4_046c59702343row3_col4,#T_bb99ff10_225c_11ec_bba4_046c59702343row3_col5{\n",
       "            background-color:  #ffeee7;\n",
       "            color:  #000000;\n",
       "        }#T_bb99ff10_225c_11ec_bba4_046c59702343row3_col6,#T_bb99ff10_225c_11ec_bba4_046c59702343row15_col6{\n",
       "            background-color:  #940b13;\n",
       "            color:  #f1f1f1;\n",
       "        }#T_bb99ff10_225c_11ec_bba4_046c59702343row3_col7{\n",
       "            background-color:  #fc9b7c;\n",
       "            color:  #000000;\n",
       "        }#T_bb99ff10_225c_11ec_bba4_046c59702343row4_col1,#T_bb99ff10_225c_11ec_bba4_046c59702343row4_col3{\n",
       "            background-color:  #fee3d6;\n",
       "            color:  #000000;\n",
       "        }#T_bb99ff10_225c_11ec_bba4_046c59702343row4_col4{\n",
       "            background-color:  #feeae0;\n",
       "            color:  #000000;\n",
       "        }#T_bb99ff10_225c_11ec_bba4_046c59702343row4_col6,#T_bb99ff10_225c_11ec_bba4_046c59702343row6_col6,#T_bb99ff10_225c_11ec_bba4_046c59702343row17_col6,#T_bb99ff10_225c_11ec_bba4_046c59702343row19_col6,#T_bb99ff10_225c_11ec_bba4_046c59702343row33_col6{\n",
       "            background-color:  #8a0812;\n",
       "            color:  #f1f1f1;\n",
       "        }#T_bb99ff10_225c_11ec_bba4_046c59702343row4_col7,#T_bb99ff10_225c_11ec_bba4_046c59702343row19_col7{\n",
       "            background-color:  #fb7151;\n",
       "            color:  #000000;\n",
       "        }#T_bb99ff10_225c_11ec_bba4_046c59702343row5_col1,#T_bb99ff10_225c_11ec_bba4_046c59702343row5_col3,#T_bb99ff10_225c_11ec_bba4_046c59702343row13_col2,#T_bb99ff10_225c_11ec_bba4_046c59702343row22_col1,#T_bb99ff10_225c_11ec_bba4_046c59702343row22_col3,#T_bb99ff10_225c_11ec_bba4_046c59702343row22_col4,#T_bb99ff10_225c_11ec_bba4_046c59702343row23_col3,#T_bb99ff10_225c_11ec_bba4_046c59702343row32_col1{\n",
       "            background-color:  #fff4ee;\n",
       "            color:  #000000;\n",
       "        }#T_bb99ff10_225c_11ec_bba4_046c59702343row5_col7{\n",
       "            background-color:  #fb7a5a;\n",
       "            color:  #000000;\n",
       "        }#T_bb99ff10_225c_11ec_bba4_046c59702343row6_col1,#T_bb99ff10_225c_11ec_bba4_046c59702343row6_col3,#T_bb99ff10_225c_11ec_bba4_046c59702343row25_col1{\n",
       "            background-color:  #fed8c7;\n",
       "            color:  #000000;\n",
       "        }#T_bb99ff10_225c_11ec_bba4_046c59702343row6_col4{\n",
       "            background-color:  #fee5d9;\n",
       "            color:  #000000;\n",
       "        }#T_bb99ff10_225c_11ec_bba4_046c59702343row6_col7{\n",
       "            background-color:  #fb6e4e;\n",
       "            color:  #000000;\n",
       "        }#T_bb99ff10_225c_11ec_bba4_046c59702343row7_col6,#T_bb99ff10_225c_11ec_bba4_046c59702343row16_col2,#T_bb99ff10_225c_11ec_bba4_046c59702343row20_col1,#T_bb99ff10_225c_11ec_bba4_046c59702343row20_col3,#T_bb99ff10_225c_11ec_bba4_046c59702343row20_col4,#T_bb99ff10_225c_11ec_bba4_046c59702343row23_col5,#T_bb99ff10_225c_11ec_bba4_046c59702343row27_col7{\n",
       "            background-color:  #67000d;\n",
       "            color:  #f1f1f1;\n",
       "        }#T_bb99ff10_225c_11ec_bba4_046c59702343row8_col1,#T_bb99ff10_225c_11ec_bba4_046c59702343row8_col3{\n",
       "            background-color:  #fcc4ad;\n",
       "            color:  #000000;\n",
       "        }#T_bb99ff10_225c_11ec_bba4_046c59702343row8_col4{\n",
       "            background-color:  #fdd0bc;\n",
       "            color:  #000000;\n",
       "        }#T_bb99ff10_225c_11ec_bba4_046c59702343row8_col7{\n",
       "            background-color:  #ed392b;\n",
       "            color:  #f1f1f1;\n",
       "        }#T_bb99ff10_225c_11ec_bba4_046c59702343row9_col1,#T_bb99ff10_225c_11ec_bba4_046c59702343row9_col3,#T_bb99ff10_225c_11ec_bba4_046c59702343row9_col4,#T_bb99ff10_225c_11ec_bba4_046c59702343row9_col5,#T_bb99ff10_225c_11ec_bba4_046c59702343row12_col4,#T_bb99ff10_225c_11ec_bba4_046c59702343row35_col5{\n",
       "            background-color:  #fff1ea;\n",
       "            color:  #000000;\n",
       "        }#T_bb99ff10_225c_11ec_bba4_046c59702343row9_col6{\n",
       "            background-color:  #a50f15;\n",
       "            color:  #f1f1f1;\n",
       "        }#T_bb99ff10_225c_11ec_bba4_046c59702343row9_col7{\n",
       "            background-color:  #de2b25;\n",
       "            color:  #f1f1f1;\n",
       "        }#T_bb99ff10_225c_11ec_bba4_046c59702343row10_col1,#T_bb99ff10_225c_11ec_bba4_046c59702343row10_col3{\n",
       "            background-color:  #fee0d2;\n",
       "            color:  #000000;\n",
       "        }#T_bb99ff10_225c_11ec_bba4_046c59702343row10_col4,#T_bb99ff10_225c_11ec_bba4_046c59702343row11_col4{\n",
       "            background-color:  #fee9df;\n",
       "            color:  #000000;\n",
       "        }#T_bb99ff10_225c_11ec_bba4_046c59702343row10_col6{\n",
       "            background-color:  #860811;\n",
       "            color:  #f1f1f1;\n",
       "        }#T_bb99ff10_225c_11ec_bba4_046c59702343row10_col7{\n",
       "            background-color:  #fc7f5f;\n",
       "            color:  #000000;\n",
       "        }#T_bb99ff10_225c_11ec_bba4_046c59702343row11_col1,#T_bb99ff10_225c_11ec_bba4_046c59702343row22_col5,#T_bb99ff10_225c_11ec_bba4_046c59702343row23_col2{\n",
       "            background-color:  #fee2d5;\n",
       "            color:  #000000;\n",
       "        }#T_bb99ff10_225c_11ec_bba4_046c59702343row11_col3,#T_bb99ff10_225c_11ec_bba4_046c59702343row19_col1,#T_bb99ff10_225c_11ec_bba4_046c59702343row27_col4,#T_bb99ff10_225c_11ec_bba4_046c59702343row30_col2{\n",
       "            background-color:  #fee1d4;\n",
       "            color:  #000000;\n",
       "        }#T_bb99ff10_225c_11ec_bba4_046c59702343row11_col7,#T_bb99ff10_225c_11ec_bba4_046c59702343row15_col3{\n",
       "            background-color:  #fb7757;\n",
       "            color:  #000000;\n",
       "        }#T_bb99ff10_225c_11ec_bba4_046c59702343row12_col2,#T_bb99ff10_225c_11ec_bba4_046c59702343row21_col2,#T_bb99ff10_225c_11ec_bba4_046c59702343row21_col4,#T_bb99ff10_225c_11ec_bba4_046c59702343row22_col2,#T_bb99ff10_225c_11ec_bba4_046c59702343row23_col1,#T_bb99ff10_225c_11ec_bba4_046c59702343row26_col4,#T_bb99ff10_225c_11ec_bba4_046c59702343row32_col3{\n",
       "            background-color:  #fff3ed;\n",
       "            color:  #000000;\n",
       "        }#T_bb99ff10_225c_11ec_bba4_046c59702343row12_col6{\n",
       "            background-color:  #a81016;\n",
       "            color:  #f1f1f1;\n",
       "        }#T_bb99ff10_225c_11ec_bba4_046c59702343row12_col7{\n",
       "            background-color:  #f14130;\n",
       "            color:  #f1f1f1;\n",
       "        }#T_bb99ff10_225c_11ec_bba4_046c59702343row13_col1,#T_bb99ff10_225c_11ec_bba4_046c59702343row13_col3{\n",
       "            background-color:  #ffede5;\n",
       "            color:  #000000;\n",
       "        }#T_bb99ff10_225c_11ec_bba4_046c59702343row13_col5,#T_bb99ff10_225c_11ec_bba4_046c59702343row15_col5{\n",
       "            background-color:  #fff2eb;\n",
       "            color:  #000000;\n",
       "        }#T_bb99ff10_225c_11ec_bba4_046c59702343row13_col7,#T_bb99ff10_225c_11ec_bba4_046c59702343row30_col7,#T_bb99ff10_225c_11ec_bba4_046c59702343row33_col7{\n",
       "            background-color:  #fb7050;\n",
       "            color:  #000000;\n",
       "        }#T_bb99ff10_225c_11ec_bba4_046c59702343row14_col1,#T_bb99ff10_225c_11ec_bba4_046c59702343row14_col3,#T_bb99ff10_225c_11ec_bba4_046c59702343row34_col1,#T_bb99ff10_225c_11ec_bba4_046c59702343row34_col3,#T_bb99ff10_225c_11ec_bba4_046c59702343row34_col4,#T_bb99ff10_225c_11ec_bba4_046c59702343row35_col2{\n",
       "            background-color:  #ffece4;\n",
       "            color:  #000000;\n",
       "        }#T_bb99ff10_225c_11ec_bba4_046c59702343row14_col4,#T_bb99ff10_225c_11ec_bba4_046c59702343row25_col2,#T_bb99ff10_225c_11ec_bba4_046c59702343row26_col5,#T_bb99ff10_225c_11ec_bba4_046c59702343row30_col5,#T_bb99ff10_225c_11ec_bba4_046c59702343row31_col5{\n",
       "            background-color:  #ffefe8;\n",
       "            color:  #000000;\n",
       "        }#T_bb99ff10_225c_11ec_bba4_046c59702343row14_col6{\n",
       "            background-color:  #8e0912;\n",
       "            color:  #f1f1f1;\n",
       "        }#T_bb99ff10_225c_11ec_bba4_046c59702343row14_col7{\n",
       "            background-color:  #f85f43;\n",
       "            color:  #000000;\n",
       "        }#T_bb99ff10_225c_11ec_bba4_046c59702343row15_col1,#T_bb99ff10_225c_11ec_bba4_046c59702343row15_col7{\n",
       "            background-color:  #fb7858;\n",
       "            color:  #000000;\n",
       "        }#T_bb99ff10_225c_11ec_bba4_046c59702343row15_col2{\n",
       "            background-color:  #fee7db;\n",
       "            color:  #000000;\n",
       "        }#T_bb99ff10_225c_11ec_bba4_046c59702343row15_col4{\n",
       "            background-color:  #fcb499;\n",
       "            color:  #000000;\n",
       "        }#T_bb99ff10_225c_11ec_bba4_046c59702343row16_col1{\n",
       "            background-color:  #d52221;\n",
       "            color:  #f1f1f1;\n",
       "        }#T_bb99ff10_225c_11ec_bba4_046c59702343row16_col3{\n",
       "            background-color:  #d82422;\n",
       "            color:  #f1f1f1;\n",
       "        }#T_bb99ff10_225c_11ec_bba4_046c59702343row16_col4{\n",
       "            background-color:  #fdd1be;\n",
       "            color:  #000000;\n",
       "        }#T_bb99ff10_225c_11ec_bba4_046c59702343row16_col5{\n",
       "            background-color:  #fdd3c1;\n",
       "            color:  #000000;\n",
       "        }#T_bb99ff10_225c_11ec_bba4_046c59702343row16_col6{\n",
       "            background-color:  #bb141a;\n",
       "            color:  #f1f1f1;\n",
       "        }#T_bb99ff10_225c_11ec_bba4_046c59702343row16_col7{\n",
       "            background-color:  #fdcebb;\n",
       "            color:  #000000;\n",
       "        }#T_bb99ff10_225c_11ec_bba4_046c59702343row17_col5,#T_bb99ff10_225c_11ec_bba4_046c59702343row21_col1,#T_bb99ff10_225c_11ec_bba4_046c59702343row21_col3,#T_bb99ff10_225c_11ec_bba4_046c59702343row26_col1,#T_bb99ff10_225c_11ec_bba4_046c59702343row26_col3,#T_bb99ff10_225c_11ec_bba4_046c59702343row32_col5{\n",
       "            background-color:  #fff2ec;\n",
       "            color:  #000000;\n",
       "        }#T_bb99ff10_225c_11ec_bba4_046c59702343row17_col7{\n",
       "            background-color:  #fc9879;\n",
       "            color:  #000000;\n",
       "        }#T_bb99ff10_225c_11ec_bba4_046c59702343row18_col6{\n",
       "            background-color:  #73030f;\n",
       "            color:  #f1f1f1;\n",
       "        }#T_bb99ff10_225c_11ec_bba4_046c59702343row18_col7,#T_bb99ff10_225c_11ec_bba4_046c59702343row33_col4{\n",
       "            background-color:  #fdd4c2;\n",
       "            color:  #000000;\n",
       "        }#T_bb99ff10_225c_11ec_bba4_046c59702343row19_col3{\n",
       "            background-color:  #fee1d3;\n",
       "            color:  #000000;\n",
       "        }#T_bb99ff10_225c_11ec_bba4_046c59702343row19_col4{\n",
       "            background-color:  #fee8de;\n",
       "            color:  #000000;\n",
       "        }#T_bb99ff10_225c_11ec_bba4_046c59702343row20_col2{\n",
       "            background-color:  #fcb296;\n",
       "            color:  #000000;\n",
       "        }#T_bb99ff10_225c_11ec_bba4_046c59702343row20_col6{\n",
       "            background-color:  #ab1016;\n",
       "            color:  #f1f1f1;\n",
       "        }#T_bb99ff10_225c_11ec_bba4_046c59702343row20_col7{\n",
       "            background-color:  #c4161c;\n",
       "            color:  #f1f1f1;\n",
       "        }#T_bb99ff10_225c_11ec_bba4_046c59702343row21_col6{\n",
       "            background-color:  #b61319;\n",
       "            color:  #f1f1f1;\n",
       "        }#T_bb99ff10_225c_11ec_bba4_046c59702343row21_col7{\n",
       "            background-color:  #f6553c;\n",
       "            color:  #000000;\n",
       "        }#T_bb99ff10_225c_11ec_bba4_046c59702343row22_col6{\n",
       "            background-color:  #bd151a;\n",
       "            color:  #f1f1f1;\n",
       "        }#T_bb99ff10_225c_11ec_bba4_046c59702343row22_col7{\n",
       "            background-color:  #ef3c2c;\n",
       "            color:  #f1f1f1;\n",
       "        }#T_bb99ff10_225c_11ec_bba4_046c59702343row23_col7,#T_bb99ff10_225c_11ec_bba4_046c59702343row29_col5{\n",
       "            background-color:  #fee3d7;\n",
       "            color:  #000000;\n",
       "        }#T_bb99ff10_225c_11ec_bba4_046c59702343row24_col5,#T_bb99ff10_225c_11ec_bba4_046c59702343row28_col4{\n",
       "            background-color:  #feeae1;\n",
       "            color:  #000000;\n",
       "        }#T_bb99ff10_225c_11ec_bba4_046c59702343row24_col6{\n",
       "            background-color:  #b51318;\n",
       "            color:  #f1f1f1;\n",
       "        }#T_bb99ff10_225c_11ec_bba4_046c59702343row24_col7{\n",
       "            background-color:  #c3161b;\n",
       "            color:  #f1f1f1;\n",
       "        }#T_bb99ff10_225c_11ec_bba4_046c59702343row25_col3{\n",
       "            background-color:  #fdd7c6;\n",
       "            color:  #000000;\n",
       "        }#T_bb99ff10_225c_11ec_bba4_046c59702343row25_col4{\n",
       "            background-color:  #ffebe2;\n",
       "            color:  #000000;\n",
       "        }#T_bb99ff10_225c_11ec_bba4_046c59702343row25_col7{\n",
       "            background-color:  #fcb095;\n",
       "            color:  #000000;\n",
       "        }#T_bb99ff10_225c_11ec_bba4_046c59702343row26_col6{\n",
       "            background-color:  #9f0e14;\n",
       "            color:  #f1f1f1;\n",
       "        }#T_bb99ff10_225c_11ec_bba4_046c59702343row26_col7{\n",
       "            background-color:  #f96044;\n",
       "            color:  #000000;\n",
       "        }#T_bb99ff10_225c_11ec_bba4_046c59702343row27_col6{\n",
       "            background-color:  #ac1117;\n",
       "            color:  #f1f1f1;\n",
       "        }#T_bb99ff10_225c_11ec_bba4_046c59702343row28_col1,#T_bb99ff10_225c_11ec_bba4_046c59702343row28_col3{\n",
       "            background-color:  #fedaca;\n",
       "            color:  #000000;\n",
       "        }#T_bb99ff10_225c_11ec_bba4_046c59702343row28_col6{\n",
       "            background-color:  #7e0610;\n",
       "            color:  #f1f1f1;\n",
       "        }#T_bb99ff10_225c_11ec_bba4_046c59702343row28_col7{\n",
       "            background-color:  #fca082;\n",
       "            color:  #000000;\n",
       "        }#T_bb99ff10_225c_11ec_bba4_046c59702343row29_col6{\n",
       "            background-color:  #b21218;\n",
       "            color:  #f1f1f1;\n",
       "        }#T_bb99ff10_225c_11ec_bba4_046c59702343row29_col7{\n",
       "            background-color:  #fb7d5d;\n",
       "            color:  #000000;\n",
       "        }#T_bb99ff10_225c_11ec_bba4_046c59702343row30_col1{\n",
       "            background-color:  #fc8969;\n",
       "            color:  #000000;\n",
       "        }#T_bb99ff10_225c_11ec_bba4_046c59702343row30_col3{\n",
       "            background-color:  #fc8767;\n",
       "            color:  #000000;\n",
       "        }#T_bb99ff10_225c_11ec_bba4_046c59702343row30_col4{\n",
       "            background-color:  #fcb99f;\n",
       "            color:  #000000;\n",
       "        }#T_bb99ff10_225c_11ec_bba4_046c59702343row30_col6{\n",
       "            background-color:  #9c0d14;\n",
       "            color:  #f1f1f1;\n",
       "        }#T_bb99ff10_225c_11ec_bba4_046c59702343row31_col1{\n",
       "            background-color:  #fee5d8;\n",
       "            color:  #000000;\n",
       "        }#T_bb99ff10_225c_11ec_bba4_046c59702343row31_col7{\n",
       "            background-color:  #fdc9b3;\n",
       "            color:  #000000;\n",
       "        }#T_bb99ff10_225c_11ec_bba4_046c59702343row32_col7{\n",
       "            background-color:  #fc9c7d;\n",
       "            color:  #000000;\n",
       "        }#T_bb99ff10_225c_11ec_bba4_046c59702343row33_col1{\n",
       "            background-color:  #fcb89e;\n",
       "            color:  #000000;\n",
       "        }#T_bb99ff10_225c_11ec_bba4_046c59702343row33_col3{\n",
       "            background-color:  #fcb79c;\n",
       "            color:  #000000;\n",
       "        }#T_bb99ff10_225c_11ec_bba4_046c59702343row34_col6{\n",
       "            background-color:  #a10e15;\n",
       "            color:  #f1f1f1;\n",
       "        }#T_bb99ff10_225c_11ec_bba4_046c59702343row34_col7{\n",
       "            background-color:  #c1161b;\n",
       "            color:  #f1f1f1;\n",
       "        }#T_bb99ff10_225c_11ec_bba4_046c59702343row35_col4{\n",
       "            background-color:  #fedecf;\n",
       "            color:  #000000;\n",
       "        }#T_bb99ff10_225c_11ec_bba4_046c59702343row35_col6{\n",
       "            background-color:  #920a13;\n",
       "            color:  #f1f1f1;\n",
       "        }#T_bb99ff10_225c_11ec_bba4_046c59702343row35_col7{\n",
       "            background-color:  #fc8161;\n",
       "            color:  #000000;\n",
       "        }</style><table id=\"T_bb99ff10_225c_11ec_bba4_046c59702343\" ><thead>    <tr>        <th class=\"blank level0\" ></th>        <th class=\"col_heading level0 col0\" >State/UTs</th>        <th class=\"col_heading level0 col1\" >Total Cases</th>        <th class=\"col_heading level0 col2\" >Active</th>        <th class=\"col_heading level0 col3\" >Discharged</th>        <th class=\"col_heading level0 col4\" >Deaths</th>        <th class=\"col_heading level0 col5\" >Active Ratio</th>        <th class=\"col_heading level0 col6\" >Discharge Ratio</th>        <th class=\"col_heading level0 col7\" >Death Ratio</th>    </tr></thead><tbody>\n",
       "                <tr>\n",
       "                        <th id=\"T_bb99ff10_225c_11ec_bba4_046c59702343level0_row0\" class=\"row_heading level0 row0\" >0</th>\n",
       "                        <td id=\"T_bb99ff10_225c_11ec_bba4_046c59702343row0_col0\" class=\"data row0 col0\" >Andaman and Nicobar</td>\n",
       "                        <td id=\"T_bb99ff10_225c_11ec_bba4_046c59702343row0_col1\" class=\"data row0 col1\" >7620</td>\n",
       "                        <td id=\"T_bb99ff10_225c_11ec_bba4_046c59702343row0_col2\" class=\"data row0 col2\" >9</td>\n",
       "                        <td id=\"T_bb99ff10_225c_11ec_bba4_046c59702343row0_col3\" class=\"data row0 col3\" >7482</td>\n",
       "                        <td id=\"T_bb99ff10_225c_11ec_bba4_046c59702343row0_col4\" class=\"data row0 col4\" >129</td>\n",
       "                        <td id=\"T_bb99ff10_225c_11ec_bba4_046c59702343row0_col5\" class=\"data row0 col5\" >0.120000</td>\n",
       "                        <td id=\"T_bb99ff10_225c_11ec_bba4_046c59702343row0_col6\" class=\"data row0 col6\" >98.190000</td>\n",
       "                        <td id=\"T_bb99ff10_225c_11ec_bba4_046c59702343row0_col7\" class=\"data row0 col7\" >1.690000</td>\n",
       "            </tr>\n",
       "            <tr>\n",
       "                        <th id=\"T_bb99ff10_225c_11ec_bba4_046c59702343level0_row1\" class=\"row_heading level0 row1\" >1</th>\n",
       "                        <td id=\"T_bb99ff10_225c_11ec_bba4_046c59702343row1_col0\" class=\"data row1 col0\" >Andhra Pradesh</td>\n",
       "                        <td id=\"T_bb99ff10_225c_11ec_bba4_046c59702343row1_col1\" class=\"data row1 col1\" >2049314</td>\n",
       "                        <td id=\"T_bb99ff10_225c_11ec_bba4_046c59702343row1_col2\" class=\"data row1 col2\" >11655</td>\n",
       "                        <td id=\"T_bb99ff10_225c_11ec_bba4_046c59702343row1_col3\" class=\"data row1 col3\" >2023496</td>\n",
       "                        <td id=\"T_bb99ff10_225c_11ec_bba4_046c59702343row1_col4\" class=\"data row1 col4\" >14163</td>\n",
       "                        <td id=\"T_bb99ff10_225c_11ec_bba4_046c59702343row1_col5\" class=\"data row1 col5\" >0.570000</td>\n",
       "                        <td id=\"T_bb99ff10_225c_11ec_bba4_046c59702343row1_col6\" class=\"data row1 col6\" >98.740000</td>\n",
       "                        <td id=\"T_bb99ff10_225c_11ec_bba4_046c59702343row1_col7\" class=\"data row1 col7\" >0.690000</td>\n",
       "            </tr>\n",
       "            <tr>\n",
       "                        <th id=\"T_bb99ff10_225c_11ec_bba4_046c59702343level0_row2\" class=\"row_heading level0 row2\" >2</th>\n",
       "                        <td id=\"T_bb99ff10_225c_11ec_bba4_046c59702343row2_col0\" class=\"data row2 col0\" >Arunachal Pradesh</td>\n",
       "                        <td id=\"T_bb99ff10_225c_11ec_bba4_046c59702343row2_col1\" class=\"data row2 col1\" >54572</td>\n",
       "                        <td id=\"T_bb99ff10_225c_11ec_bba4_046c59702343row2_col2\" class=\"data row2 col2\" >440</td>\n",
       "                        <td id=\"T_bb99ff10_225c_11ec_bba4_046c59702343row2_col3\" class=\"data row2 col3\" >53856</td>\n",
       "                        <td id=\"T_bb99ff10_225c_11ec_bba4_046c59702343row2_col4\" class=\"data row2 col4\" >276</td>\n",
       "                        <td id=\"T_bb99ff10_225c_11ec_bba4_046c59702343row2_col5\" class=\"data row2 col5\" >0.810000</td>\n",
       "                        <td id=\"T_bb99ff10_225c_11ec_bba4_046c59702343row2_col6\" class=\"data row2 col6\" >98.690000</td>\n",
       "                        <td id=\"T_bb99ff10_225c_11ec_bba4_046c59702343row2_col7\" class=\"data row2 col7\" >0.510000</td>\n",
       "            </tr>\n",
       "            <tr>\n",
       "                        <th id=\"T_bb99ff10_225c_11ec_bba4_046c59702343level0_row3\" class=\"row_heading level0 row3\" >3</th>\n",
       "                        <td id=\"T_bb99ff10_225c_11ec_bba4_046c59702343row3_col0\" class=\"data row3 col0\" >Assam</td>\n",
       "                        <td id=\"T_bb99ff10_225c_11ec_bba4_046c59702343row3_col1\" class=\"data row3 col1\" >601787</td>\n",
       "                        <td id=\"T_bb99ff10_225c_11ec_bba4_046c59702343row3_col2\" class=\"data row3 col2\" >4487</td>\n",
       "                        <td id=\"T_bb99ff10_225c_11ec_bba4_046c59702343row3_col3\" class=\"data row3 col3\" >591432</td>\n",
       "                        <td id=\"T_bb99ff10_225c_11ec_bba4_046c59702343row3_col4\" class=\"data row3 col4\" >5868</td>\n",
       "                        <td id=\"T_bb99ff10_225c_11ec_bba4_046c59702343row3_col5\" class=\"data row3 col5\" >0.750000</td>\n",
       "                        <td id=\"T_bb99ff10_225c_11ec_bba4_046c59702343row3_col6\" class=\"data row3 col6\" >98.280000</td>\n",
       "                        <td id=\"T_bb99ff10_225c_11ec_bba4_046c59702343row3_col7\" class=\"data row3 col7\" >0.980000</td>\n",
       "            </tr>\n",
       "            <tr>\n",
       "                        <th id=\"T_bb99ff10_225c_11ec_bba4_046c59702343level0_row4\" class=\"row_heading level0 row4\" >4</th>\n",
       "                        <td id=\"T_bb99ff10_225c_11ec_bba4_046c59702343row4_col0\" class=\"data row4 col0\" >Bihar</td>\n",
       "                        <td id=\"T_bb99ff10_225c_11ec_bba4_046c59702343row4_col1\" class=\"data row4 col1\" >725952</td>\n",
       "                        <td id=\"T_bb99ff10_225c_11ec_bba4_046c59702343row4_col2\" class=\"data row4 col2\" >55</td>\n",
       "                        <td id=\"T_bb99ff10_225c_11ec_bba4_046c59702343row4_col3\" class=\"data row4 col3\" >716237</td>\n",
       "                        <td id=\"T_bb99ff10_225c_11ec_bba4_046c59702343row4_col4\" class=\"data row4 col4\" >9660</td>\n",
       "                        <td id=\"T_bb99ff10_225c_11ec_bba4_046c59702343row4_col5\" class=\"data row4 col5\" >0.010000</td>\n",
       "                        <td id=\"T_bb99ff10_225c_11ec_bba4_046c59702343row4_col6\" class=\"data row4 col6\" >98.660000</td>\n",
       "                        <td id=\"T_bb99ff10_225c_11ec_bba4_046c59702343row4_col7\" class=\"data row4 col7\" >1.330000</td>\n",
       "            </tr>\n",
       "            <tr>\n",
       "                        <th id=\"T_bb99ff10_225c_11ec_bba4_046c59702343level0_row5\" class=\"row_heading level0 row5\" >5</th>\n",
       "                        <td id=\"T_bb99ff10_225c_11ec_bba4_046c59702343row5_col0\" class=\"data row5 col0\" >Chandigarh</td>\n",
       "                        <td id=\"T_bb99ff10_225c_11ec_bba4_046c59702343row5_col1\" class=\"data row5 col1\" >65224</td>\n",
       "                        <td id=\"T_bb99ff10_225c_11ec_bba4_046c59702343row5_col2\" class=\"data row5 col2\" >42</td>\n",
       "                        <td id=\"T_bb99ff10_225c_11ec_bba4_046c59702343row5_col3\" class=\"data row5 col3\" >64363</td>\n",
       "                        <td id=\"T_bb99ff10_225c_11ec_bba4_046c59702343row5_col4\" class=\"data row5 col4\" >819</td>\n",
       "                        <td id=\"T_bb99ff10_225c_11ec_bba4_046c59702343row5_col5\" class=\"data row5 col5\" >0.060000</td>\n",
       "                        <td id=\"T_bb99ff10_225c_11ec_bba4_046c59702343row5_col6\" class=\"data row5 col6\" >98.680000</td>\n",
       "                        <td id=\"T_bb99ff10_225c_11ec_bba4_046c59702343row5_col7\" class=\"data row5 col7\" >1.260000</td>\n",
       "            </tr>\n",
       "            <tr>\n",
       "                        <th id=\"T_bb99ff10_225c_11ec_bba4_046c59702343level0_row6\" class=\"row_heading level0 row6\" >6</th>\n",
       "                        <td id=\"T_bb99ff10_225c_11ec_bba4_046c59702343row6_col0\" class=\"data row6 col0\" >Chhattisgarh</td>\n",
       "                        <td id=\"T_bb99ff10_225c_11ec_bba4_046c59702343row6_col1\" class=\"data row6 col1\" >1005325</td>\n",
       "                        <td id=\"T_bb99ff10_225c_11ec_bba4_046c59702343row6_col2\" class=\"data row6 col2\" >285</td>\n",
       "                        <td id=\"T_bb99ff10_225c_11ec_bba4_046c59702343row6_col3\" class=\"data row6 col3\" >991475</td>\n",
       "                        <td id=\"T_bb99ff10_225c_11ec_bba4_046c59702343row6_col4\" class=\"data row6 col4\" >13565</td>\n",
       "                        <td id=\"T_bb99ff10_225c_11ec_bba4_046c59702343row6_col5\" class=\"data row6 col5\" >0.030000</td>\n",
       "                        <td id=\"T_bb99ff10_225c_11ec_bba4_046c59702343row6_col6\" class=\"data row6 col6\" >98.620000</td>\n",
       "                        <td id=\"T_bb99ff10_225c_11ec_bba4_046c59702343row6_col7\" class=\"data row6 col7\" >1.350000</td>\n",
       "            </tr>\n",
       "            <tr>\n",
       "                        <th id=\"T_bb99ff10_225c_11ec_bba4_046c59702343level0_row7\" class=\"row_heading level0 row7\" >7</th>\n",
       "                        <td id=\"T_bb99ff10_225c_11ec_bba4_046c59702343row7_col0\" class=\"data row7 col0\" >Dadra and Nagar Haveli and Daman and Diu</td>\n",
       "                        <td id=\"T_bb99ff10_225c_11ec_bba4_046c59702343row7_col1\" class=\"data row7 col1\" >10670</td>\n",
       "                        <td id=\"T_bb99ff10_225c_11ec_bba4_046c59702343row7_col2\" class=\"data row7 col2\" >0</td>\n",
       "                        <td id=\"T_bb99ff10_225c_11ec_bba4_046c59702343row7_col3\" class=\"data row7 col3\" >10666</td>\n",
       "                        <td id=\"T_bb99ff10_225c_11ec_bba4_046c59702343row7_col4\" class=\"data row7 col4\" >4</td>\n",
       "                        <td id=\"T_bb99ff10_225c_11ec_bba4_046c59702343row7_col5\" class=\"data row7 col5\" >0.000000</td>\n",
       "                        <td id=\"T_bb99ff10_225c_11ec_bba4_046c59702343row7_col6\" class=\"data row7 col6\" >99.960000</td>\n",
       "                        <td id=\"T_bb99ff10_225c_11ec_bba4_046c59702343row7_col7\" class=\"data row7 col7\" >0.040000</td>\n",
       "            </tr>\n",
       "            <tr>\n",
       "                        <th id=\"T_bb99ff10_225c_11ec_bba4_046c59702343level0_row8\" class=\"row_heading level0 row8\" >8</th>\n",
       "                        <td id=\"T_bb99ff10_225c_11ec_bba4_046c59702343row8_col0\" class=\"data row8 col0\" >Delhi</td>\n",
       "                        <td id=\"T_bb99ff10_225c_11ec_bba4_046c59702343row8_col1\" class=\"data row8 col1\" >1438821</td>\n",
       "                        <td id=\"T_bb99ff10_225c_11ec_bba4_046c59702343row8_col2\" class=\"data row8 col2\" >392</td>\n",
       "                        <td id=\"T_bb99ff10_225c_11ec_bba4_046c59702343row8_col3\" class=\"data row8 col3\" >1413342</td>\n",
       "                        <td id=\"T_bb99ff10_225c_11ec_bba4_046c59702343row8_col4\" class=\"data row8 col4\" >25087</td>\n",
       "                        <td id=\"T_bb99ff10_225c_11ec_bba4_046c59702343row8_col5\" class=\"data row8 col5\" >0.030000</td>\n",
       "                        <td id=\"T_bb99ff10_225c_11ec_bba4_046c59702343row8_col6\" class=\"data row8 col6\" >98.230000</td>\n",
       "                        <td id=\"T_bb99ff10_225c_11ec_bba4_046c59702343row8_col7\" class=\"data row8 col7\" >1.740000</td>\n",
       "            </tr>\n",
       "            <tr>\n",
       "                        <th id=\"T_bb99ff10_225c_11ec_bba4_046c59702343level0_row9\" class=\"row_heading level0 row9\" >9</th>\n",
       "                        <td id=\"T_bb99ff10_225c_11ec_bba4_046c59702343row9_col0\" class=\"data row9 col0\" >Goa</td>\n",
       "                        <td id=\"T_bb99ff10_225c_11ec_bba4_046c59702343row9_col1\" class=\"data row9 col1\" >176318</td>\n",
       "                        <td id=\"T_bb99ff10_225c_11ec_bba4_046c59702343row9_col2\" class=\"data row9 col2\" >830</td>\n",
       "                        <td id=\"T_bb99ff10_225c_11ec_bba4_046c59702343row9_col3\" class=\"data row9 col3\" >172176</td>\n",
       "                        <td id=\"T_bb99ff10_225c_11ec_bba4_046c59702343row9_col4\" class=\"data row9 col4\" >3312</td>\n",
       "                        <td id=\"T_bb99ff10_225c_11ec_bba4_046c59702343row9_col5\" class=\"data row9 col5\" >0.470000</td>\n",
       "                        <td id=\"T_bb99ff10_225c_11ec_bba4_046c59702343row9_col6\" class=\"data row9 col6\" >97.650000</td>\n",
       "                        <td id=\"T_bb99ff10_225c_11ec_bba4_046c59702343row9_col7\" class=\"data row9 col7\" >1.880000</td>\n",
       "            </tr>\n",
       "            <tr>\n",
       "                        <th id=\"T_bb99ff10_225c_11ec_bba4_046c59702343level0_row10\" class=\"row_heading level0 row10\" >10</th>\n",
       "                        <td id=\"T_bb99ff10_225c_11ec_bba4_046c59702343row10_col0\" class=\"data row10 col0\" >Gujarat</td>\n",
       "                        <td id=\"T_bb99ff10_225c_11ec_bba4_046c59702343row10_col1\" class=\"data row10 col1\" >825916</td>\n",
       "                        <td id=\"T_bb99ff10_225c_11ec_bba4_046c59702343row10_col2\" class=\"data row10 col2\" >156</td>\n",
       "                        <td id=\"T_bb99ff10_225c_11ec_bba4_046c59702343row10_col3\" class=\"data row10 col3\" >815678</td>\n",
       "                        <td id=\"T_bb99ff10_225c_11ec_bba4_046c59702343row10_col4\" class=\"data row10 col4\" >10082</td>\n",
       "                        <td id=\"T_bb99ff10_225c_11ec_bba4_046c59702343row10_col5\" class=\"data row10 col5\" >0.020000</td>\n",
       "                        <td id=\"T_bb99ff10_225c_11ec_bba4_046c59702343row10_col6\" class=\"data row10 col6\" >98.760000</td>\n",
       "                        <td id=\"T_bb99ff10_225c_11ec_bba4_046c59702343row10_col7\" class=\"data row10 col7\" >1.220000</td>\n",
       "            </tr>\n",
       "            <tr>\n",
       "                        <th id=\"T_bb99ff10_225c_11ec_bba4_046c59702343level0_row11\" class=\"row_heading level0 row11\" >11</th>\n",
       "                        <td id=\"T_bb99ff10_225c_11ec_bba4_046c59702343row11_col0\" class=\"data row11 col0\" >Haryana</td>\n",
       "                        <td id=\"T_bb99ff10_225c_11ec_bba4_046c59702343row11_col1\" class=\"data row11 col1\" >770863</td>\n",
       "                        <td id=\"T_bb99ff10_225c_11ec_bba4_046c59702343row11_col2\" class=\"data row11 col2\" >278</td>\n",
       "                        <td id=\"T_bb99ff10_225c_11ec_bba4_046c59702343row11_col3\" class=\"data row11 col3\" >760711</td>\n",
       "                        <td id=\"T_bb99ff10_225c_11ec_bba4_046c59702343row11_col4\" class=\"data row11 col4\" >9874</td>\n",
       "                        <td id=\"T_bb99ff10_225c_11ec_bba4_046c59702343row11_col5\" class=\"data row11 col5\" >0.040000</td>\n",
       "                        <td id=\"T_bb99ff10_225c_11ec_bba4_046c59702343row11_col6\" class=\"data row11 col6\" >98.680000</td>\n",
       "                        <td id=\"T_bb99ff10_225c_11ec_bba4_046c59702343row11_col7\" class=\"data row11 col7\" >1.280000</td>\n",
       "            </tr>\n",
       "            <tr>\n",
       "                        <th id=\"T_bb99ff10_225c_11ec_bba4_046c59702343level0_row12\" class=\"row_heading level0 row12\" >12</th>\n",
       "                        <td id=\"T_bb99ff10_225c_11ec_bba4_046c59702343row12_col0\" class=\"data row12 col0\" >Himachal Pradesh</td>\n",
       "                        <td id=\"T_bb99ff10_225c_11ec_bba4_046c59702343row12_col1\" class=\"data row12 col1\" >218898</td>\n",
       "                        <td id=\"T_bb99ff10_225c_11ec_bba4_046c59702343row12_col2\" class=\"data row12 col2\" >1793</td>\n",
       "                        <td id=\"T_bb99ff10_225c_11ec_bba4_046c59702343row12_col3\" class=\"data row12 col3\" >213430</td>\n",
       "                        <td id=\"T_bb99ff10_225c_11ec_bba4_046c59702343row12_col4\" class=\"data row12 col4\" >3675</td>\n",
       "                        <td id=\"T_bb99ff10_225c_11ec_bba4_046c59702343row12_col5\" class=\"data row12 col5\" >0.820000</td>\n",
       "                        <td id=\"T_bb99ff10_225c_11ec_bba4_046c59702343row12_col6\" class=\"data row12 col6\" >97.500000</td>\n",
       "                        <td id=\"T_bb99ff10_225c_11ec_bba4_046c59702343row12_col7\" class=\"data row12 col7\" >1.680000</td>\n",
       "            </tr>\n",
       "            <tr>\n",
       "                        <th id=\"T_bb99ff10_225c_11ec_bba4_046c59702343level0_row13\" class=\"row_heading level0 row13\" >13</th>\n",
       "                        <td id=\"T_bb99ff10_225c_11ec_bba4_046c59702343row13_col0\" class=\"data row13 col0\" >Jammu and Kashmir</td>\n",
       "                        <td id=\"T_bb99ff10_225c_11ec_bba4_046c59702343row13_col1\" class=\"data row13 col1\" >329320</td>\n",
       "                        <td id=\"T_bb99ff10_225c_11ec_bba4_046c59702343row13_col2\" class=\"data row13 col2\" >1388</td>\n",
       "                        <td id=\"T_bb99ff10_225c_11ec_bba4_046c59702343row13_col3\" class=\"data row13 col3\" >323510</td>\n",
       "                        <td id=\"T_bb99ff10_225c_11ec_bba4_046c59702343row13_col4\" class=\"data row13 col4\" >4422</td>\n",
       "                        <td id=\"T_bb99ff10_225c_11ec_bba4_046c59702343row13_col5\" class=\"data row13 col5\" >0.420000</td>\n",
       "                        <td id=\"T_bb99ff10_225c_11ec_bba4_046c59702343row13_col6\" class=\"data row13 col6\" >98.240000</td>\n",
       "                        <td id=\"T_bb99ff10_225c_11ec_bba4_046c59702343row13_col7\" class=\"data row13 col7\" >1.340000</td>\n",
       "            </tr>\n",
       "            <tr>\n",
       "                        <th id=\"T_bb99ff10_225c_11ec_bba4_046c59702343level0_row14\" class=\"row_heading level0 row14\" >14</th>\n",
       "                        <td id=\"T_bb99ff10_225c_11ec_bba4_046c59702343row14_col0\" class=\"data row14 col0\" >Jharkhand</td>\n",
       "                        <td id=\"T_bb99ff10_225c_11ec_bba4_046c59702343row14_col1\" class=\"data row14 col1\" >348215</td>\n",
       "                        <td id=\"T_bb99ff10_225c_11ec_bba4_046c59702343row14_col2\" class=\"data row14 col2\" >78</td>\n",
       "                        <td id=\"T_bb99ff10_225c_11ec_bba4_046c59702343row14_col3\" class=\"data row14 col3\" >343002</td>\n",
       "                        <td id=\"T_bb99ff10_225c_11ec_bba4_046c59702343row14_col4\" class=\"data row14 col4\" >5135</td>\n",
       "                        <td id=\"T_bb99ff10_225c_11ec_bba4_046c59702343row14_col5\" class=\"data row14 col5\" >0.020000</td>\n",
       "                        <td id=\"T_bb99ff10_225c_11ec_bba4_046c59702343row14_col6\" class=\"data row14 col6\" >98.500000</td>\n",
       "                        <td id=\"T_bb99ff10_225c_11ec_bba4_046c59702343row14_col7\" class=\"data row14 col7\" >1.470000</td>\n",
       "            </tr>\n",
       "            <tr>\n",
       "                        <th id=\"T_bb99ff10_225c_11ec_bba4_046c59702343level0_row15\" class=\"row_heading level0 row15\" >15</th>\n",
       "                        <td id=\"T_bb99ff10_225c_11ec_bba4_046c59702343row15_col0\" class=\"data row15 col0\" >Karnataka</td>\n",
       "                        <td id=\"T_bb99ff10_225c_11ec_bba4_046c59702343row15_col1\" class=\"data row15 col1\" >2975067</td>\n",
       "                        <td id=\"T_bb99ff10_225c_11ec_bba4_046c59702343row15_col2\" class=\"data row15 col2\" >12594</td>\n",
       "                        <td id=\"T_bb99ff10_225c_11ec_bba4_046c59702343row15_col3\" class=\"data row15 col3\" >2924693</td>\n",
       "                        <td id=\"T_bb99ff10_225c_11ec_bba4_046c59702343row15_col4\" class=\"data row15 col4\" >37780</td>\n",
       "                        <td id=\"T_bb99ff10_225c_11ec_bba4_046c59702343row15_col5\" class=\"data row15 col5\" >0.420000</td>\n",
       "                        <td id=\"T_bb99ff10_225c_11ec_bba4_046c59702343row15_col6\" class=\"data row15 col6\" >98.310000</td>\n",
       "                        <td id=\"T_bb99ff10_225c_11ec_bba4_046c59702343row15_col7\" class=\"data row15 col7\" >1.270000</td>\n",
       "            </tr>\n",
       "            <tr>\n",
       "                        <th id=\"T_bb99ff10_225c_11ec_bba4_046c59702343level0_row16\" class=\"row_heading level0 row16\" >16</th>\n",
       "                        <td id=\"T_bb99ff10_225c_11ec_bba4_046c59702343row16_col0\" class=\"data row16 col0\" >Kerala</td>\n",
       "                        <td id=\"T_bb99ff10_225c_11ec_bba4_046c59702343row16_col1\" class=\"data row16 col1\" >4664944</td>\n",
       "                        <td id=\"T_bb99ff10_225c_11ec_bba4_046c59702343row16_col2\" class=\"data row16 col2\" >144075</td>\n",
       "                        <td id=\"T_bb99ff10_225c_11ec_bba4_046c59702343row16_col3\" class=\"data row16 col3\" >4495904</td>\n",
       "                        <td id=\"T_bb99ff10_225c_11ec_bba4_046c59702343row16_col4\" class=\"data row16 col4\" >24965</td>\n",
       "                        <td id=\"T_bb99ff10_225c_11ec_bba4_046c59702343row16_col5\" class=\"data row16 col5\" >3.090000</td>\n",
       "                        <td id=\"T_bb99ff10_225c_11ec_bba4_046c59702343row16_col6\" class=\"data row16 col6\" >96.380000</td>\n",
       "                        <td id=\"T_bb99ff10_225c_11ec_bba4_046c59702343row16_col7\" class=\"data row16 col7\" >0.540000</td>\n",
       "            </tr>\n",
       "            <tr>\n",
       "                        <th id=\"T_bb99ff10_225c_11ec_bba4_046c59702343level0_row17\" class=\"row_heading level0 row17\" >17</th>\n",
       "                        <td id=\"T_bb99ff10_225c_11ec_bba4_046c59702343row17_col0\" class=\"data row17 col0\" >Ladakh</td>\n",
       "                        <td id=\"T_bb99ff10_225c_11ec_bba4_046c59702343row17_col1\" class=\"data row17 col1\" >20795</td>\n",
       "                        <td id=\"T_bb99ff10_225c_11ec_bba4_046c59702343row17_col2\" class=\"data row17 col2\" >73</td>\n",
       "                        <td id=\"T_bb99ff10_225c_11ec_bba4_046c59702343row17_col3\" class=\"data row17 col3\" >20515</td>\n",
       "                        <td id=\"T_bb99ff10_225c_11ec_bba4_046c59702343row17_col4\" class=\"data row17 col4\" >207</td>\n",
       "                        <td id=\"T_bb99ff10_225c_11ec_bba4_046c59702343row17_col5\" class=\"data row17 col5\" >0.350000</td>\n",
       "                        <td id=\"T_bb99ff10_225c_11ec_bba4_046c59702343row17_col6\" class=\"data row17 col6\" >98.650000</td>\n",
       "                        <td id=\"T_bb99ff10_225c_11ec_bba4_046c59702343row17_col7\" class=\"data row17 col7\" >1.000000</td>\n",
       "            </tr>\n",
       "            <tr>\n",
       "                        <th id=\"T_bb99ff10_225c_11ec_bba4_046c59702343level0_row18\" class=\"row_heading level0 row18\" >18</th>\n",
       "                        <td id=\"T_bb99ff10_225c_11ec_bba4_046c59702343row18_col0\" class=\"data row18 col0\" >Lakshadweep</td>\n",
       "                        <td id=\"T_bb99ff10_225c_11ec_bba4_046c59702343row18_col1\" class=\"data row18 col1\" >10361</td>\n",
       "                        <td id=\"T_bb99ff10_225c_11ec_bba4_046c59702343row18_col2\" class=\"data row18 col2\" >4</td>\n",
       "                        <td id=\"T_bb99ff10_225c_11ec_bba4_046c59702343row18_col3\" class=\"data row18 col3\" >10306</td>\n",
       "                        <td id=\"T_bb99ff10_225c_11ec_bba4_046c59702343row18_col4\" class=\"data row18 col4\" >51</td>\n",
       "                        <td id=\"T_bb99ff10_225c_11ec_bba4_046c59702343row18_col5\" class=\"data row18 col5\" >0.040000</td>\n",
       "                        <td id=\"T_bb99ff10_225c_11ec_bba4_046c59702343row18_col6\" class=\"data row18 col6\" >99.470000</td>\n",
       "                        <td id=\"T_bb99ff10_225c_11ec_bba4_046c59702343row18_col7\" class=\"data row18 col7\" >0.490000</td>\n",
       "            </tr>\n",
       "            <tr>\n",
       "                        <th id=\"T_bb99ff10_225c_11ec_bba4_046c59702343level0_row19\" class=\"row_heading level0 row19\" >19</th>\n",
       "                        <td id=\"T_bb99ff10_225c_11ec_bba4_046c59702343row19_col0\" class=\"data row19 col0\" >Madhya Pradesh</td>\n",
       "                        <td id=\"T_bb99ff10_225c_11ec_bba4_046c59702343row19_col1\" class=\"data row19 col1\" >792519</td>\n",
       "                        <td id=\"T_bb99ff10_225c_11ec_bba4_046c59702343row19_col2\" class=\"data row19 col2\" >115</td>\n",
       "                        <td id=\"T_bb99ff10_225c_11ec_bba4_046c59702343row19_col3\" class=\"data row19 col3\" >781882</td>\n",
       "                        <td id=\"T_bb99ff10_225c_11ec_bba4_046c59702343row19_col4\" class=\"data row19 col4\" >10522</td>\n",
       "                        <td id=\"T_bb99ff10_225c_11ec_bba4_046c59702343row19_col5\" class=\"data row19 col5\" >0.010000</td>\n",
       "                        <td id=\"T_bb99ff10_225c_11ec_bba4_046c59702343row19_col6\" class=\"data row19 col6\" >98.660000</td>\n",
       "                        <td id=\"T_bb99ff10_225c_11ec_bba4_046c59702343row19_col7\" class=\"data row19 col7\" >1.330000</td>\n",
       "            </tr>\n",
       "            <tr>\n",
       "                        <th id=\"T_bb99ff10_225c_11ec_bba4_046c59702343level0_row20\" class=\"row_heading level0 row20\" >20</th>\n",
       "                        <td id=\"T_bb99ff10_225c_11ec_bba4_046c59702343row20_col0\" class=\"data row20 col0\" >Maharashtra</td>\n",
       "                        <td id=\"T_bb99ff10_225c_11ec_bba4_046c59702343row20_col1\" class=\"data row20 col1\" >6547793</td>\n",
       "                        <td id=\"T_bb99ff10_225c_11ec_bba4_046c59702343row20_col2\" class=\"data row20 col2\" >40252</td>\n",
       "                        <td id=\"T_bb99ff10_225c_11ec_bba4_046c59702343row20_col3\" class=\"data row20 col3\" >6368530</td>\n",
       "                        <td id=\"T_bb99ff10_225c_11ec_bba4_046c59702343row20_col4\" class=\"data row20 col4\" >139011</td>\n",
       "                        <td id=\"T_bb99ff10_225c_11ec_bba4_046c59702343row20_col5\" class=\"data row20 col5\" >0.610000</td>\n",
       "                        <td id=\"T_bb99ff10_225c_11ec_bba4_046c59702343row20_col6\" class=\"data row20 col6\" >97.260000</td>\n",
       "                        <td id=\"T_bb99ff10_225c_11ec_bba4_046c59702343row20_col7\" class=\"data row20 col7\" >2.120000</td>\n",
       "            </tr>\n",
       "            <tr>\n",
       "                        <th id=\"T_bb99ff10_225c_11ec_bba4_046c59702343level0_row21\" class=\"row_heading level0 row21\" >21</th>\n",
       "                        <td id=\"T_bb99ff10_225c_11ec_bba4_046c59702343row21_col0\" class=\"data row21 col0\" >Manipur</td>\n",
       "                        <td id=\"T_bb99ff10_225c_11ec_bba4_046c59702343row21_col1\" class=\"data row21 col1\" >120426</td>\n",
       "                        <td id=\"T_bb99ff10_225c_11ec_bba4_046c59702343row21_col2\" class=\"data row21 col2\" >2207</td>\n",
       "                        <td id=\"T_bb99ff10_225c_11ec_bba4_046c59702343row21_col3\" class=\"data row21 col3\" >116365</td>\n",
       "                        <td id=\"T_bb99ff10_225c_11ec_bba4_046c59702343row21_col4\" class=\"data row21 col4\" >1854</td>\n",
       "                        <td id=\"T_bb99ff10_225c_11ec_bba4_046c59702343row21_col5\" class=\"data row21 col5\" >1.830000</td>\n",
       "                        <td id=\"T_bb99ff10_225c_11ec_bba4_046c59702343row21_col6\" class=\"data row21 col6\" >96.630000</td>\n",
       "                        <td id=\"T_bb99ff10_225c_11ec_bba4_046c59702343row21_col7\" class=\"data row21 col7\" >1.540000</td>\n",
       "            </tr>\n",
       "            <tr>\n",
       "                        <th id=\"T_bb99ff10_225c_11ec_bba4_046c59702343level0_row22\" class=\"row_heading level0 row22\" >22</th>\n",
       "                        <td id=\"T_bb99ff10_225c_11ec_bba4_046c59702343row22_col0\" class=\"data row22 col0\" >Meghalaya</td>\n",
       "                        <td id=\"T_bb99ff10_225c_11ec_bba4_046c59702343row22_col1\" class=\"data row22 col1\" >81161</td>\n",
       "                        <td id=\"T_bb99ff10_225c_11ec_bba4_046c59702343row22_col2\" class=\"data row22 col2\" >1693</td>\n",
       "                        <td id=\"T_bb99ff10_225c_11ec_bba4_046c59702343row22_col3\" class=\"data row22 col3\" >78068</td>\n",
       "                        <td id=\"T_bb99ff10_225c_11ec_bba4_046c59702343row22_col4\" class=\"data row22 col4\" >1400</td>\n",
       "                        <td id=\"T_bb99ff10_225c_11ec_bba4_046c59702343row22_col5\" class=\"data row22 col5\" >2.090000</td>\n",
       "                        <td id=\"T_bb99ff10_225c_11ec_bba4_046c59702343row22_col6\" class=\"data row22 col6\" >96.190000</td>\n",
       "                        <td id=\"T_bb99ff10_225c_11ec_bba4_046c59702343row22_col7\" class=\"data row22 col7\" >1.720000</td>\n",
       "            </tr>\n",
       "            <tr>\n",
       "                        <th id=\"T_bb99ff10_225c_11ec_bba4_046c59702343level0_row23\" class=\"row_heading level0 row23\" >23</th>\n",
       "                        <td id=\"T_bb99ff10_225c_11ec_bba4_046c59702343row23_col0\" class=\"data row23 col0\" >Mizoram</td>\n",
       "                        <td id=\"T_bb99ff10_225c_11ec_bba4_046c59702343row23_col1\" class=\"data row23 col1\" >93660</td>\n",
       "                        <td id=\"T_bb99ff10_225c_11ec_bba4_046c59702343row23_col2\" class=\"data row23 col2\" >16841</td>\n",
       "                        <td id=\"T_bb99ff10_225c_11ec_bba4_046c59702343row23_col3\" class=\"data row23 col3\" >76512</td>\n",
       "                        <td id=\"T_bb99ff10_225c_11ec_bba4_046c59702343row23_col4\" class=\"data row23 col4\" >307</td>\n",
       "                        <td id=\"T_bb99ff10_225c_11ec_bba4_046c59702343row23_col5\" class=\"data row23 col5\" >17.980000</td>\n",
       "                        <td id=\"T_bb99ff10_225c_11ec_bba4_046c59702343row23_col6\" class=\"data row23 col6\" >81.690000</td>\n",
       "                        <td id=\"T_bb99ff10_225c_11ec_bba4_046c59702343row23_col7\" class=\"data row23 col7\" >0.330000</td>\n",
       "            </tr>\n",
       "            <tr>\n",
       "                        <th id=\"T_bb99ff10_225c_11ec_bba4_046c59702343level0_row24\" class=\"row_heading level0 row24\" >24</th>\n",
       "                        <td id=\"T_bb99ff10_225c_11ec_bba4_046c59702343row24_col0\" class=\"data row24 col0\" >Nagaland</td>\n",
       "                        <td id=\"T_bb99ff10_225c_11ec_bba4_046c59702343row24_col1\" class=\"data row24 col1\" >31219</td>\n",
       "                        <td id=\"T_bb99ff10_225c_11ec_bba4_046c59702343row24_col2\" class=\"data row24 col2\" >365</td>\n",
       "                        <td id=\"T_bb99ff10_225c_11ec_bba4_046c59702343row24_col3\" class=\"data row24 col3\" >30189</td>\n",
       "                        <td id=\"T_bb99ff10_225c_11ec_bba4_046c59702343row24_col4\" class=\"data row24 col4\" >665</td>\n",
       "                        <td id=\"T_bb99ff10_225c_11ec_bba4_046c59702343row24_col5\" class=\"data row24 col5\" >1.170000</td>\n",
       "                        <td id=\"T_bb99ff10_225c_11ec_bba4_046c59702343row24_col6\" class=\"data row24 col6\" >96.700000</td>\n",
       "                        <td id=\"T_bb99ff10_225c_11ec_bba4_046c59702343row24_col7\" class=\"data row24 col7\" >2.130000</td>\n",
       "            </tr>\n",
       "            <tr>\n",
       "                        <th id=\"T_bb99ff10_225c_11ec_bba4_046c59702343level0_row25\" class=\"row_heading level0 row25\" >25</th>\n",
       "                        <td id=\"T_bb99ff10_225c_11ec_bba4_046c59702343row25_col0\" class=\"data row25 col0\" >Odisha</td>\n",
       "                        <td id=\"T_bb99ff10_225c_11ec_bba4_046c59702343row25_col1\" class=\"data row25 col1\" >1025874</td>\n",
       "                        <td id=\"T_bb99ff10_225c_11ec_bba4_046c59702343row25_col2\" class=\"data row25 col2\" >5099</td>\n",
       "                        <td id=\"T_bb99ff10_225c_11ec_bba4_046c59702343row25_col3\" class=\"data row25 col3\" >1012583</td>\n",
       "                        <td id=\"T_bb99ff10_225c_11ec_bba4_046c59702343row25_col4\" class=\"data row25 col4\" >8192</td>\n",
       "                        <td id=\"T_bb99ff10_225c_11ec_bba4_046c59702343row25_col5\" class=\"data row25 col5\" >0.500000</td>\n",
       "                        <td id=\"T_bb99ff10_225c_11ec_bba4_046c59702343row25_col6\" class=\"data row25 col6\" >98.700000</td>\n",
       "                        <td id=\"T_bb99ff10_225c_11ec_bba4_046c59702343row25_col7\" class=\"data row25 col7\" >0.800000</td>\n",
       "            </tr>\n",
       "            <tr>\n",
       "                        <th id=\"T_bb99ff10_225c_11ec_bba4_046c59702343level0_row26\" class=\"row_heading level0 row26\" >26</th>\n",
       "                        <td id=\"T_bb99ff10_225c_11ec_bba4_046c59702343row26_col0\" class=\"data row26 col0\" >Puducherry</td>\n",
       "                        <td id=\"T_bb99ff10_225c_11ec_bba4_046c59702343row26_col1\" class=\"data row26 col1\" >126308</td>\n",
       "                        <td id=\"T_bb99ff10_225c_11ec_bba4_046c59702343row26_col2\" class=\"data row26 col2\" >828</td>\n",
       "                        <td id=\"T_bb99ff10_225c_11ec_bba4_046c59702343row26_col3\" class=\"data row26 col3\" >123640</td>\n",
       "                        <td id=\"T_bb99ff10_225c_11ec_bba4_046c59702343row26_col4\" class=\"data row26 col4\" >1840</td>\n",
       "                        <td id=\"T_bb99ff10_225c_11ec_bba4_046c59702343row26_col5\" class=\"data row26 col5\" >0.660000</td>\n",
       "                        <td id=\"T_bb99ff10_225c_11ec_bba4_046c59702343row26_col6\" class=\"data row26 col6\" >97.890000</td>\n",
       "                        <td id=\"T_bb99ff10_225c_11ec_bba4_046c59702343row26_col7\" class=\"data row26 col7\" >1.460000</td>\n",
       "            </tr>\n",
       "            <tr>\n",
       "                        <th id=\"T_bb99ff10_225c_11ec_bba4_046c59702343level0_row27\" class=\"row_heading level0 row27\" >27</th>\n",
       "                        <td id=\"T_bb99ff10_225c_11ec_bba4_046c59702343row27_col0\" class=\"data row27 col0\" >Punjab</td>\n",
       "                        <td id=\"T_bb99ff10_225c_11ec_bba4_046c59702343row27_col1\" class=\"data row27 col1\" >601600</td>\n",
       "                        <td id=\"T_bb99ff10_225c_11ec_bba4_046c59702343row27_col2\" class=\"data row27 col2\" >290</td>\n",
       "                        <td id=\"T_bb99ff10_225c_11ec_bba4_046c59702343row27_col3\" class=\"data row27 col3\" >584797</td>\n",
       "                        <td id=\"T_bb99ff10_225c_11ec_bba4_046c59702343row27_col4\" class=\"data row27 col4\" >16513</td>\n",
       "                        <td id=\"T_bb99ff10_225c_11ec_bba4_046c59702343row27_col5\" class=\"data row27 col5\" >0.050000</td>\n",
       "                        <td id=\"T_bb99ff10_225c_11ec_bba4_046c59702343row27_col6\" class=\"data row27 col6\" >97.210000</td>\n",
       "                        <td id=\"T_bb99ff10_225c_11ec_bba4_046c59702343row27_col7\" class=\"data row27 col7\" >2.740000</td>\n",
       "            </tr>\n",
       "            <tr>\n",
       "                        <th id=\"T_bb99ff10_225c_11ec_bba4_046c59702343level0_row28\" class=\"row_heading level0 row28\" >28</th>\n",
       "                        <td id=\"T_bb99ff10_225c_11ec_bba4_046c59702343row28_col0\" class=\"data row28 col0\" >Rajasthan</td>\n",
       "                        <td id=\"T_bb99ff10_225c_11ec_bba4_046c59702343row28_col1\" class=\"data row28 col1\" >954322</td>\n",
       "                        <td id=\"T_bb99ff10_225c_11ec_bba4_046c59702343row28_col2\" class=\"data row28 col2\" >76</td>\n",
       "                        <td id=\"T_bb99ff10_225c_11ec_bba4_046c59702343row28_col3\" class=\"data row28 col3\" >945292</td>\n",
       "                        <td id=\"T_bb99ff10_225c_11ec_bba4_046c59702343row28_col4\" class=\"data row28 col4\" >8954</td>\n",
       "                        <td id=\"T_bb99ff10_225c_11ec_bba4_046c59702343row28_col5\" class=\"data row28 col5\" >0.010000</td>\n",
       "                        <td id=\"T_bb99ff10_225c_11ec_bba4_046c59702343row28_col6\" class=\"data row28 col6\" >99.050000</td>\n",
       "                        <td id=\"T_bb99ff10_225c_11ec_bba4_046c59702343row28_col7\" class=\"data row28 col7\" >0.940000</td>\n",
       "            </tr>\n",
       "            <tr>\n",
       "                        <th id=\"T_bb99ff10_225c_11ec_bba4_046c59702343level0_row29\" class=\"row_heading level0 row29\" >29</th>\n",
       "                        <td id=\"T_bb99ff10_225c_11ec_bba4_046c59702343row29_col0\" class=\"data row29 col0\" >Sikkim</td>\n",
       "                        <td id=\"T_bb99ff10_225c_11ec_bba4_046c59702343row29_col1\" class=\"data row29 col1\" >31412</td>\n",
       "                        <td id=\"T_bb99ff10_225c_11ec_bba4_046c59702343row29_col2\" class=\"data row29 col2\" >600</td>\n",
       "                        <td id=\"T_bb99ff10_225c_11ec_bba4_046c59702343row29_col3\" class=\"data row29 col3\" >30425</td>\n",
       "                        <td id=\"T_bb99ff10_225c_11ec_bba4_046c59702343row29_col4\" class=\"data row29 col4\" >387</td>\n",
       "                        <td id=\"T_bb99ff10_225c_11ec_bba4_046c59702343row29_col5\" class=\"data row29 col5\" >1.910000</td>\n",
       "                        <td id=\"T_bb99ff10_225c_11ec_bba4_046c59702343row29_col6\" class=\"data row29 col6\" >96.860000</td>\n",
       "                        <td id=\"T_bb99ff10_225c_11ec_bba4_046c59702343row29_col7\" class=\"data row29 col7\" >1.230000</td>\n",
       "            </tr>\n",
       "            <tr>\n",
       "                        <th id=\"T_bb99ff10_225c_11ec_bba4_046c59702343level0_row30\" class=\"row_heading level0 row30\" >30</th>\n",
       "                        <td id=\"T_bb99ff10_225c_11ec_bba4_046c59702343row30_col0\" class=\"data row30 col0\" >Tamil Nadu</td>\n",
       "                        <td id=\"T_bb99ff10_225c_11ec_bba4_046c59702343row30_col1\" class=\"data row30 col1\" >2662177</td>\n",
       "                        <td id=\"T_bb99ff10_225c_11ec_bba4_046c59702343row30_col2\" class=\"data row30 col2\" >17192</td>\n",
       "                        <td id=\"T_bb99ff10_225c_11ec_bba4_046c59702343row30_col3\" class=\"data row30 col3\" >2609435</td>\n",
       "                        <td id=\"T_bb99ff10_225c_11ec_bba4_046c59702343row30_col4\" class=\"data row30 col4\" >35550</td>\n",
       "                        <td id=\"T_bb99ff10_225c_11ec_bba4_046c59702343row30_col5\" class=\"data row30 col5\" >0.650000</td>\n",
       "                        <td id=\"T_bb99ff10_225c_11ec_bba4_046c59702343row30_col6\" class=\"data row30 col6\" >98.020000</td>\n",
       "                        <td id=\"T_bb99ff10_225c_11ec_bba4_046c59702343row30_col7\" class=\"data row30 col7\" >1.340000</td>\n",
       "            </tr>\n",
       "            <tr>\n",
       "                        <th id=\"T_bb99ff10_225c_11ec_bba4_046c59702343level0_row31\" class=\"row_heading level0 row31\" >31</th>\n",
       "                        <td id=\"T_bb99ff10_225c_11ec_bba4_046c59702343row31_col0\" class=\"data row31 col0\" >Telengana</td>\n",
       "                        <td id=\"T_bb99ff10_225c_11ec_bba4_046c59702343row31_col1\" class=\"data row31 col1\" >665749</td>\n",
       "                        <td id=\"T_bb99ff10_225c_11ec_bba4_046c59702343row31_col2\" class=\"data row31 col2\" >4620</td>\n",
       "                        <td id=\"T_bb99ff10_225c_11ec_bba4_046c59702343row31_col3\" class=\"data row31 col3\" >657213</td>\n",
       "                        <td id=\"T_bb99ff10_225c_11ec_bba4_046c59702343row31_col4\" class=\"data row31 col4\" >3916</td>\n",
       "                        <td id=\"T_bb99ff10_225c_11ec_bba4_046c59702343row31_col5\" class=\"data row31 col5\" >0.690000</td>\n",
       "                        <td id=\"T_bb99ff10_225c_11ec_bba4_046c59702343row31_col6\" class=\"data row31 col6\" >98.720000</td>\n",
       "                        <td id=\"T_bb99ff10_225c_11ec_bba4_046c59702343row31_col7\" class=\"data row31 col7\" >0.590000</td>\n",
       "            </tr>\n",
       "            <tr>\n",
       "                        <th id=\"T_bb99ff10_225c_11ec_bba4_046c59702343level0_row32\" class=\"row_heading level0 row32\" >32</th>\n",
       "                        <td id=\"T_bb99ff10_225c_11ec_bba4_046c59702343row32_col0\" class=\"data row32 col0\" >Tripura</td>\n",
       "                        <td id=\"T_bb99ff10_225c_11ec_bba4_046c59702343row32_col1\" class=\"data row32 col1\" >84127</td>\n",
       "                        <td id=\"T_bb99ff10_225c_11ec_bba4_046c59702343row32_col2\" class=\"data row32 col2\" >260</td>\n",
       "                        <td id=\"T_bb99ff10_225c_11ec_bba4_046c59702343row32_col3\" class=\"data row32 col3\" >83054</td>\n",
       "                        <td id=\"T_bb99ff10_225c_11ec_bba4_046c59702343row32_col4\" class=\"data row32 col4\" >813</td>\n",
       "                        <td id=\"T_bb99ff10_225c_11ec_bba4_046c59702343row32_col5\" class=\"data row32 col5\" >0.310000</td>\n",
       "                        <td id=\"T_bb99ff10_225c_11ec_bba4_046c59702343row32_col6\" class=\"data row32 col6\" >98.720000</td>\n",
       "                        <td id=\"T_bb99ff10_225c_11ec_bba4_046c59702343row32_col7\" class=\"data row32 col7\" >0.970000</td>\n",
       "            </tr>\n",
       "            <tr>\n",
       "                        <th id=\"T_bb99ff10_225c_11ec_bba4_046c59702343level0_row33\" class=\"row_heading level0 row33\" >33</th>\n",
       "                        <td id=\"T_bb99ff10_225c_11ec_bba4_046c59702343row33_col0\" class=\"data row33 col0\" >Uttar Pradesh</td>\n",
       "                        <td id=\"T_bb99ff10_225c_11ec_bba4_046c59702343row33_col1\" class=\"data row33 col1\" >1709800</td>\n",
       "                        <td id=\"T_bb99ff10_225c_11ec_bba4_046c59702343row33_col2\" class=\"data row33 col2\" >159</td>\n",
       "                        <td id=\"T_bb99ff10_225c_11ec_bba4_046c59702343row33_col3\" class=\"data row33 col3\" >1686749</td>\n",
       "                        <td id=\"T_bb99ff10_225c_11ec_bba4_046c59702343row33_col4\" class=\"data row33 col4\" >22892</td>\n",
       "                        <td id=\"T_bb99ff10_225c_11ec_bba4_046c59702343row33_col5\" class=\"data row33 col5\" >0.010000</td>\n",
       "                        <td id=\"T_bb99ff10_225c_11ec_bba4_046c59702343row33_col6\" class=\"data row33 col6\" >98.650000</td>\n",
       "                        <td id=\"T_bb99ff10_225c_11ec_bba4_046c59702343row33_col7\" class=\"data row33 col7\" >1.340000</td>\n",
       "            </tr>\n",
       "            <tr>\n",
       "                        <th id=\"T_bb99ff10_225c_11ec_bba4_046c59702343level0_row34\" class=\"row_heading level0 row34\" >34</th>\n",
       "                        <td id=\"T_bb99ff10_225c_11ec_bba4_046c59702343row34_col0\" class=\"data row34 col0\" >Uttarakhand</td>\n",
       "                        <td id=\"T_bb99ff10_225c_11ec_bba4_046c59702343row34_col1\" class=\"data row34 col1\" >343530</td>\n",
       "                        <td id=\"T_bb99ff10_225c_11ec_bba4_046c59702343row34_col2\" class=\"data row34 col2\" >209</td>\n",
       "                        <td id=\"T_bb99ff10_225c_11ec_bba4_046c59702343row34_col3\" class=\"data row34 col3\" >335927</td>\n",
       "                        <td id=\"T_bb99ff10_225c_11ec_bba4_046c59702343row34_col4\" class=\"data row34 col4\" >7394</td>\n",
       "                        <td id=\"T_bb99ff10_225c_11ec_bba4_046c59702343row34_col5\" class=\"data row34 col5\" >0.060000</td>\n",
       "                        <td id=\"T_bb99ff10_225c_11ec_bba4_046c59702343row34_col6\" class=\"data row34 col6\" >97.790000</td>\n",
       "                        <td id=\"T_bb99ff10_225c_11ec_bba4_046c59702343row34_col7\" class=\"data row34 col7\" >2.150000</td>\n",
       "            </tr>\n",
       "            <tr>\n",
       "                        <th id=\"T_bb99ff10_225c_11ec_bba4_046c59702343level0_row35\" class=\"row_heading level0 row35\" >35</th>\n",
       "                        <td id=\"T_bb99ff10_225c_11ec_bba4_046c59702343row35_col0\" class=\"data row35 col0\" >West Bengal</td>\n",
       "                        <td id=\"T_bb99ff10_225c_11ec_bba4_046c59702343row35_col1\" class=\"data row35 col1\" >1568321</td>\n",
       "                        <td id=\"T_bb99ff10_225c_11ec_bba4_046c59702343row35_col2\" class=\"data row35 col2\" >7580</td>\n",
       "                        <td id=\"T_bb99ff10_225c_11ec_bba4_046c59702343row35_col3\" class=\"data row35 col3\" >1541963</td>\n",
       "                        <td id=\"T_bb99ff10_225c_11ec_bba4_046c59702343row35_col4\" class=\"data row35 col4\" >18778</td>\n",
       "                        <td id=\"T_bb99ff10_225c_11ec_bba4_046c59702343row35_col5\" class=\"data row35 col5\" >0.480000</td>\n",
       "                        <td id=\"T_bb99ff10_225c_11ec_bba4_046c59702343row35_col6\" class=\"data row35 col6\" >98.320000</td>\n",
       "                        <td id=\"T_bb99ff10_225c_11ec_bba4_046c59702343row35_col7\" class=\"data row35 col7\" >1.200000</td>\n",
       "            </tr>\n",
       "    </tbody></table>"
      ],
      "text/plain": [
       "<pandas.io.formats.style.Styler at 0x1f51e5b7d00>"
      ]
     },
     "execution_count": 24,
     "metadata": {},
     "output_type": "execute_result"
    }
   ],
   "source": [
    "#styling the data by background color help as to find the cases diffrence(j.pujitha)\n",
    "dataframe.style.background_gradient(cmap='Reds')\n",
    "\n"
   ]
  },
  {
   "cell_type": "code",
   "execution_count": 33,
   "metadata": {},
   "outputs": [],
   "source": [
    "actives=dataframe.groupby('State/UTs')['Active'].sum().sort_values(ascending=False).to_frame()"
   ]
  },
  {
   "cell_type": "code",
   "execution_count": 34,
   "metadata": {},
   "outputs": [
    {
     "data": {
      "text/html": [
       "<style  type=\"text/css\" >\n",
       "#T_c08550d6_225d_11ec_899a_046c59702343row0_col0{\n",
       "            background-color:  #67000d;\n",
       "            color:  #f1f1f1;\n",
       "        }#T_c08550d6_225d_11ec_899a_046c59702343row1_col0{\n",
       "            background-color:  #fcb296;\n",
       "            color:  #000000;\n",
       "        }#T_c08550d6_225d_11ec_899a_046c59702343row2_col0{\n",
       "            background-color:  #fee1d4;\n",
       "            color:  #000000;\n",
       "        }#T_c08550d6_225d_11ec_899a_046c59702343row3_col0{\n",
       "            background-color:  #fee2d5;\n",
       "            color:  #000000;\n",
       "        }#T_c08550d6_225d_11ec_899a_046c59702343row4_col0{\n",
       "            background-color:  #fee7db;\n",
       "            color:  #000000;\n",
       "        }#T_c08550d6_225d_11ec_899a_046c59702343row5_col0{\n",
       "            background-color:  #fee8dd;\n",
       "            color:  #000000;\n",
       "        }#T_c08550d6_225d_11ec_899a_046c59702343row6_col0{\n",
       "            background-color:  #ffece4;\n",
       "            color:  #000000;\n",
       "        }#T_c08550d6_225d_11ec_899a_046c59702343row7_col0{\n",
       "            background-color:  #ffefe8;\n",
       "            color:  #000000;\n",
       "        }#T_c08550d6_225d_11ec_899a_046c59702343row8_col0{\n",
       "            background-color:  #fff0e8;\n",
       "            color:  #000000;\n",
       "        }#T_c08550d6_225d_11ec_899a_046c59702343row9_col0{\n",
       "            background-color:  #fff0e9;\n",
       "            color:  #000000;\n",
       "        }#T_c08550d6_225d_11ec_899a_046c59702343row10_col0,#T_c08550d6_225d_11ec_899a_046c59702343row11_col0,#T_c08550d6_225d_11ec_899a_046c59702343row12_col0{\n",
       "            background-color:  #fff3ed;\n",
       "            color:  #000000;\n",
       "        }#T_c08550d6_225d_11ec_899a_046c59702343row13_col0{\n",
       "            background-color:  #fff4ee;\n",
       "            color:  #000000;\n",
       "        }#T_c08550d6_225d_11ec_899a_046c59702343row14_col0,#T_c08550d6_225d_11ec_899a_046c59702343row15_col0,#T_c08550d6_225d_11ec_899a_046c59702343row16_col0{\n",
       "            background-color:  #fff4ef;\n",
       "            color:  #000000;\n",
       "        }#T_c08550d6_225d_11ec_899a_046c59702343row17_col0,#T_c08550d6_225d_11ec_899a_046c59702343row18_col0,#T_c08550d6_225d_11ec_899a_046c59702343row19_col0,#T_c08550d6_225d_11ec_899a_046c59702343row20_col0,#T_c08550d6_225d_11ec_899a_046c59702343row21_col0,#T_c08550d6_225d_11ec_899a_046c59702343row22_col0,#T_c08550d6_225d_11ec_899a_046c59702343row23_col0,#T_c08550d6_225d_11ec_899a_046c59702343row24_col0,#T_c08550d6_225d_11ec_899a_046c59702343row25_col0,#T_c08550d6_225d_11ec_899a_046c59702343row26_col0,#T_c08550d6_225d_11ec_899a_046c59702343row27_col0,#T_c08550d6_225d_11ec_899a_046c59702343row28_col0,#T_c08550d6_225d_11ec_899a_046c59702343row29_col0,#T_c08550d6_225d_11ec_899a_046c59702343row30_col0,#T_c08550d6_225d_11ec_899a_046c59702343row31_col0,#T_c08550d6_225d_11ec_899a_046c59702343row32_col0,#T_c08550d6_225d_11ec_899a_046c59702343row33_col0,#T_c08550d6_225d_11ec_899a_046c59702343row34_col0,#T_c08550d6_225d_11ec_899a_046c59702343row35_col0{\n",
       "            background-color:  #fff5f0;\n",
       "            color:  #000000;\n",
       "        }</style><table id=\"T_c08550d6_225d_11ec_899a_046c59702343\" ><thead>    <tr>        <th class=\"blank level0\" ></th>        <th class=\"col_heading level0 col0\" >Active</th>    </tr>    <tr>        <th class=\"index_name level0\" >State/UTs</th>        <th class=\"blank\" ></th>    </tr></thead><tbody>\n",
       "                <tr>\n",
       "                        <th id=\"T_c08550d6_225d_11ec_899a_046c59702343level0_row0\" class=\"row_heading level0 row0\" >Kerala</th>\n",
       "                        <td id=\"T_c08550d6_225d_11ec_899a_046c59702343row0_col0\" class=\"data row0 col0\" >144075</td>\n",
       "            </tr>\n",
       "            <tr>\n",
       "                        <th id=\"T_c08550d6_225d_11ec_899a_046c59702343level0_row1\" class=\"row_heading level0 row1\" >Maharashtra</th>\n",
       "                        <td id=\"T_c08550d6_225d_11ec_899a_046c59702343row1_col0\" class=\"data row1 col0\" >40252</td>\n",
       "            </tr>\n",
       "            <tr>\n",
       "                        <th id=\"T_c08550d6_225d_11ec_899a_046c59702343level0_row2\" class=\"row_heading level0 row2\" >Tamil Nadu</th>\n",
       "                        <td id=\"T_c08550d6_225d_11ec_899a_046c59702343row2_col0\" class=\"data row2 col0\" >17192</td>\n",
       "            </tr>\n",
       "            <tr>\n",
       "                        <th id=\"T_c08550d6_225d_11ec_899a_046c59702343level0_row3\" class=\"row_heading level0 row3\" >Mizoram</th>\n",
       "                        <td id=\"T_c08550d6_225d_11ec_899a_046c59702343row3_col0\" class=\"data row3 col0\" >16841</td>\n",
       "            </tr>\n",
       "            <tr>\n",
       "                        <th id=\"T_c08550d6_225d_11ec_899a_046c59702343level0_row4\" class=\"row_heading level0 row4\" >Karnataka</th>\n",
       "                        <td id=\"T_c08550d6_225d_11ec_899a_046c59702343row4_col0\" class=\"data row4 col0\" >12594</td>\n",
       "            </tr>\n",
       "            <tr>\n",
       "                        <th id=\"T_c08550d6_225d_11ec_899a_046c59702343level0_row5\" class=\"row_heading level0 row5\" >Andhra Pradesh</th>\n",
       "                        <td id=\"T_c08550d6_225d_11ec_899a_046c59702343row5_col0\" class=\"data row5 col0\" >11655</td>\n",
       "            </tr>\n",
       "            <tr>\n",
       "                        <th id=\"T_c08550d6_225d_11ec_899a_046c59702343level0_row6\" class=\"row_heading level0 row6\" >West Bengal</th>\n",
       "                        <td id=\"T_c08550d6_225d_11ec_899a_046c59702343row6_col0\" class=\"data row6 col0\" >7580</td>\n",
       "            </tr>\n",
       "            <tr>\n",
       "                        <th id=\"T_c08550d6_225d_11ec_899a_046c59702343level0_row7\" class=\"row_heading level0 row7\" >Odisha</th>\n",
       "                        <td id=\"T_c08550d6_225d_11ec_899a_046c59702343row7_col0\" class=\"data row7 col0\" >5099</td>\n",
       "            </tr>\n",
       "            <tr>\n",
       "                        <th id=\"T_c08550d6_225d_11ec_899a_046c59702343level0_row8\" class=\"row_heading level0 row8\" >Telengana</th>\n",
       "                        <td id=\"T_c08550d6_225d_11ec_899a_046c59702343row8_col0\" class=\"data row8 col0\" >4620</td>\n",
       "            </tr>\n",
       "            <tr>\n",
       "                        <th id=\"T_c08550d6_225d_11ec_899a_046c59702343level0_row9\" class=\"row_heading level0 row9\" >Assam</th>\n",
       "                        <td id=\"T_c08550d6_225d_11ec_899a_046c59702343row9_col0\" class=\"data row9 col0\" >4487</td>\n",
       "            </tr>\n",
       "            <tr>\n",
       "                        <th id=\"T_c08550d6_225d_11ec_899a_046c59702343level0_row10\" class=\"row_heading level0 row10\" >Manipur</th>\n",
       "                        <td id=\"T_c08550d6_225d_11ec_899a_046c59702343row10_col0\" class=\"data row10 col0\" >2207</td>\n",
       "            </tr>\n",
       "            <tr>\n",
       "                        <th id=\"T_c08550d6_225d_11ec_899a_046c59702343level0_row11\" class=\"row_heading level0 row11\" >Himachal Pradesh</th>\n",
       "                        <td id=\"T_c08550d6_225d_11ec_899a_046c59702343row11_col0\" class=\"data row11 col0\" >1793</td>\n",
       "            </tr>\n",
       "            <tr>\n",
       "                        <th id=\"T_c08550d6_225d_11ec_899a_046c59702343level0_row12\" class=\"row_heading level0 row12\" >Meghalaya</th>\n",
       "                        <td id=\"T_c08550d6_225d_11ec_899a_046c59702343row12_col0\" class=\"data row12 col0\" >1693</td>\n",
       "            </tr>\n",
       "            <tr>\n",
       "                        <th id=\"T_c08550d6_225d_11ec_899a_046c59702343level0_row13\" class=\"row_heading level0 row13\" >Jammu and Kashmir</th>\n",
       "                        <td id=\"T_c08550d6_225d_11ec_899a_046c59702343row13_col0\" class=\"data row13 col0\" >1388</td>\n",
       "            </tr>\n",
       "            <tr>\n",
       "                        <th id=\"T_c08550d6_225d_11ec_899a_046c59702343level0_row14\" class=\"row_heading level0 row14\" >Goa</th>\n",
       "                        <td id=\"T_c08550d6_225d_11ec_899a_046c59702343row14_col0\" class=\"data row14 col0\" >830</td>\n",
       "            </tr>\n",
       "            <tr>\n",
       "                        <th id=\"T_c08550d6_225d_11ec_899a_046c59702343level0_row15\" class=\"row_heading level0 row15\" >Puducherry</th>\n",
       "                        <td id=\"T_c08550d6_225d_11ec_899a_046c59702343row15_col0\" class=\"data row15 col0\" >828</td>\n",
       "            </tr>\n",
       "            <tr>\n",
       "                        <th id=\"T_c08550d6_225d_11ec_899a_046c59702343level0_row16\" class=\"row_heading level0 row16\" >Sikkim</th>\n",
       "                        <td id=\"T_c08550d6_225d_11ec_899a_046c59702343row16_col0\" class=\"data row16 col0\" >600</td>\n",
       "            </tr>\n",
       "            <tr>\n",
       "                        <th id=\"T_c08550d6_225d_11ec_899a_046c59702343level0_row17\" class=\"row_heading level0 row17\" >Arunachal Pradesh</th>\n",
       "                        <td id=\"T_c08550d6_225d_11ec_899a_046c59702343row17_col0\" class=\"data row17 col0\" >440</td>\n",
       "            </tr>\n",
       "            <tr>\n",
       "                        <th id=\"T_c08550d6_225d_11ec_899a_046c59702343level0_row18\" class=\"row_heading level0 row18\" >Delhi</th>\n",
       "                        <td id=\"T_c08550d6_225d_11ec_899a_046c59702343row18_col0\" class=\"data row18 col0\" >392</td>\n",
       "            </tr>\n",
       "            <tr>\n",
       "                        <th id=\"T_c08550d6_225d_11ec_899a_046c59702343level0_row19\" class=\"row_heading level0 row19\" >Nagaland</th>\n",
       "                        <td id=\"T_c08550d6_225d_11ec_899a_046c59702343row19_col0\" class=\"data row19 col0\" >365</td>\n",
       "            </tr>\n",
       "            <tr>\n",
       "                        <th id=\"T_c08550d6_225d_11ec_899a_046c59702343level0_row20\" class=\"row_heading level0 row20\" >Punjab</th>\n",
       "                        <td id=\"T_c08550d6_225d_11ec_899a_046c59702343row20_col0\" class=\"data row20 col0\" >290</td>\n",
       "            </tr>\n",
       "            <tr>\n",
       "                        <th id=\"T_c08550d6_225d_11ec_899a_046c59702343level0_row21\" class=\"row_heading level0 row21\" >Chhattisgarh</th>\n",
       "                        <td id=\"T_c08550d6_225d_11ec_899a_046c59702343row21_col0\" class=\"data row21 col0\" >285</td>\n",
       "            </tr>\n",
       "            <tr>\n",
       "                        <th id=\"T_c08550d6_225d_11ec_899a_046c59702343level0_row22\" class=\"row_heading level0 row22\" >Haryana</th>\n",
       "                        <td id=\"T_c08550d6_225d_11ec_899a_046c59702343row22_col0\" class=\"data row22 col0\" >278</td>\n",
       "            </tr>\n",
       "            <tr>\n",
       "                        <th id=\"T_c08550d6_225d_11ec_899a_046c59702343level0_row23\" class=\"row_heading level0 row23\" >Tripura</th>\n",
       "                        <td id=\"T_c08550d6_225d_11ec_899a_046c59702343row23_col0\" class=\"data row23 col0\" >260</td>\n",
       "            </tr>\n",
       "            <tr>\n",
       "                        <th id=\"T_c08550d6_225d_11ec_899a_046c59702343level0_row24\" class=\"row_heading level0 row24\" >Uttarakhand</th>\n",
       "                        <td id=\"T_c08550d6_225d_11ec_899a_046c59702343row24_col0\" class=\"data row24 col0\" >209</td>\n",
       "            </tr>\n",
       "            <tr>\n",
       "                        <th id=\"T_c08550d6_225d_11ec_899a_046c59702343level0_row25\" class=\"row_heading level0 row25\" >Uttar Pradesh</th>\n",
       "                        <td id=\"T_c08550d6_225d_11ec_899a_046c59702343row25_col0\" class=\"data row25 col0\" >159</td>\n",
       "            </tr>\n",
       "            <tr>\n",
       "                        <th id=\"T_c08550d6_225d_11ec_899a_046c59702343level0_row26\" class=\"row_heading level0 row26\" >Gujarat</th>\n",
       "                        <td id=\"T_c08550d6_225d_11ec_899a_046c59702343row26_col0\" class=\"data row26 col0\" >156</td>\n",
       "            </tr>\n",
       "            <tr>\n",
       "                        <th id=\"T_c08550d6_225d_11ec_899a_046c59702343level0_row27\" class=\"row_heading level0 row27\" >Madhya Pradesh</th>\n",
       "                        <td id=\"T_c08550d6_225d_11ec_899a_046c59702343row27_col0\" class=\"data row27 col0\" >115</td>\n",
       "            </tr>\n",
       "            <tr>\n",
       "                        <th id=\"T_c08550d6_225d_11ec_899a_046c59702343level0_row28\" class=\"row_heading level0 row28\" >Jharkhand</th>\n",
       "                        <td id=\"T_c08550d6_225d_11ec_899a_046c59702343row28_col0\" class=\"data row28 col0\" >78</td>\n",
       "            </tr>\n",
       "            <tr>\n",
       "                        <th id=\"T_c08550d6_225d_11ec_899a_046c59702343level0_row29\" class=\"row_heading level0 row29\" >Rajasthan</th>\n",
       "                        <td id=\"T_c08550d6_225d_11ec_899a_046c59702343row29_col0\" class=\"data row29 col0\" >76</td>\n",
       "            </tr>\n",
       "            <tr>\n",
       "                        <th id=\"T_c08550d6_225d_11ec_899a_046c59702343level0_row30\" class=\"row_heading level0 row30\" >Ladakh</th>\n",
       "                        <td id=\"T_c08550d6_225d_11ec_899a_046c59702343row30_col0\" class=\"data row30 col0\" >73</td>\n",
       "            </tr>\n",
       "            <tr>\n",
       "                        <th id=\"T_c08550d6_225d_11ec_899a_046c59702343level0_row31\" class=\"row_heading level0 row31\" >Bihar</th>\n",
       "                        <td id=\"T_c08550d6_225d_11ec_899a_046c59702343row31_col0\" class=\"data row31 col0\" >55</td>\n",
       "            </tr>\n",
       "            <tr>\n",
       "                        <th id=\"T_c08550d6_225d_11ec_899a_046c59702343level0_row32\" class=\"row_heading level0 row32\" >Chandigarh</th>\n",
       "                        <td id=\"T_c08550d6_225d_11ec_899a_046c59702343row32_col0\" class=\"data row32 col0\" >42</td>\n",
       "            </tr>\n",
       "            <tr>\n",
       "                        <th id=\"T_c08550d6_225d_11ec_899a_046c59702343level0_row33\" class=\"row_heading level0 row33\" >Andaman and Nicobar</th>\n",
       "                        <td id=\"T_c08550d6_225d_11ec_899a_046c59702343row33_col0\" class=\"data row33 col0\" >9</td>\n",
       "            </tr>\n",
       "            <tr>\n",
       "                        <th id=\"T_c08550d6_225d_11ec_899a_046c59702343level0_row34\" class=\"row_heading level0 row34\" >Lakshadweep</th>\n",
       "                        <td id=\"T_c08550d6_225d_11ec_899a_046c59702343row34_col0\" class=\"data row34 col0\" >4</td>\n",
       "            </tr>\n",
       "            <tr>\n",
       "                        <th id=\"T_c08550d6_225d_11ec_899a_046c59702343level0_row35\" class=\"row_heading level0 row35\" >Dadra and Nagar Haveli and Daman and Diu</th>\n",
       "                        <td id=\"T_c08550d6_225d_11ec_899a_046c59702343row35_col0\" class=\"data row35 col0\" >0</td>\n",
       "            </tr>\n",
       "    </tbody></table>"
      ],
      "text/plain": [
       "<pandas.io.formats.style.Styler at 0x1f51e782f10>"
      ]
     },
     "execution_count": 34,
     "metadata": {},
     "output_type": "execute_result"
    }
   ],
   "source": [
    "# total active cases state wise\n",
    "actives.style.background_gradient(cmap='Reds')"
   ]
  },
  {
   "cell_type": "code",
   "execution_count": 39,
   "metadata": {},
   "outputs": [
    {
     "data": {
      "text/plain": [
       "<AxesSubplot:xlabel='State/UTs'>"
      ]
     },
     "execution_count": 39,
     "metadata": {},
     "output_type": "execute_result"
    },
    {
     "data": {
      "image/png": "[encoded data removed]",
      "text/plain": [
       "<Figure size 1440x864 with 1 Axes>"
      ]
     },
     "metadata": {
      "needs_background": "light"
     },
     "output_type": "display_data"
    }
   ],
   "source": [
    " dataframe.plot(kind='bar',x='State/UTs',y='Active')"
   ]
  },
  {
   "cell_type": "code",
   "execution_count": 46,
   "metadata": {},
   "outputs": [
    {
     "data": {
      "application/vnd.plotly.v1+json": {
       "config": {
        "linkText": "Export to plot.ly",
        "plotlyServerURL": "https://plot.ly",
        "showLink": true
       },
       "data": [
        {
         "marker": {
          "color": "rgba(255, 153, 51, 0.6)",
          "line": {
           "color": "rgba(255, 153, 51, 1.0)",
           "width": 1
          }
         },
         "name": "Total Cases",
         "orientation": "v",
         "text": "",
         "type": "bar",
         "x": [
          "Andaman and Nicobar",
          "Andhra Pradesh",
          "Arunachal Pradesh",
          "Assam",
          "Bihar",
          "Chandigarh",
          "Chhattisgarh",
          "Dadra and Nagar Haveli and Daman and Diu",
          "Delhi",
          "Goa",
          "Gujarat",
          "Haryana",
          "Himachal Pradesh",
          "Jammu and Kashmir",
          "Jharkhand",
          "Karnataka",
          "Kerala",
          "Ladakh",
          "Lakshadweep",
          "Madhya Pradesh",
          "Maharashtra",
          "Manipur",
          "Meghalaya",
          "Mizoram",
          "Nagaland",
          "Odisha",
          "Puducherry",
          "Punjab",
          "Rajasthan",
          "Sikkim",
          "Tamil Nadu",
          "Telengana",
          "Tripura",
          "Uttar Pradesh",
          "Uttarakhand",
          "West Bengal"
         ],
         "y": [
          7620,
          2049314,
          54572,
          601787,
          725952,
          65224,
          1005325,
          10670,
          1438821,
          176318,
          825916,
          770863,
          218898,
          329320,
          348215,
          2975067,
          4664944,
          20795,
          10361,
          792519,
          6547793,
          120426,
          81161,
          93660,
          31219,
          1025874,
          126308,
          601600,
          954322,
          31412,
          2662177,
          665749,
          84127,
          1709800,
          343530,
          1568321
         ]
        }
       ],
       "layout": {
        "legend": {
         "bgcolor": "#F5F6F9",
         "font": {
          "color": "#4D5663"
         }
        },
        "paper_bgcolor": "#F5F6F9",
        "plot_bgcolor": "#F5F6F9",
        "template": {
         "data": {
          "bar": [
           {
            "error_x": {
             "color": "#2a3f5f"
            },
            "error_y": {
             "color": "#2a3f5f"
            },
            "marker": {
             "line": {
              "color": "#E5ECF6",
              "width": 0.5
             },
             "pattern": {
              "fillmode": "overlay",
              "size": 10,
              "solidity": 0.2
             }
            },
            "type": "bar"
           }
          ],
          "barpolar": [
           {
            "marker": {
             "line": {
              "color": "#E5ECF6",
              "width": 0.5
             },
             "pattern": {
              "fillmode": "overlay",
              "size": 10,
              "solidity": 0.2
             }
            },
            "type": "barpolar"
           }
          ],
          "carpet": [
           {
            "aaxis": {
             "endlinecolor": "#2a3f5f",
             "gridcolor": "white",
             "linecolor": "white",
             "minorgridcolor": "white",
             "startlinecolor": "#2a3f5f"
            },
            "baxis": {
             "endlinecolor": "#2a3f5f",
             "gridcolor": "white",
             "linecolor": "white",
             "minorgridcolor": "white",
             "startlinecolor": "#2a3f5f"
            },
            "type": "carpet"
           }
          ],
          "choropleth": [
           {
            "colorbar": {
             "outlinewidth": 0,
             "ticks": ""
            },
            "type": "choropleth"
           }
          ],
          "contour": [
           {
            "colorbar": {
             "outlinewidth": 0,
             "ticks": ""
            },
            "colorscale": [
             [
              0,
              "#0d0887"
             ],
             [
              0.1111111111111111,
              "#46039f"
             ],
             [
              0.2222222222222222,
              "#7201a8"
             ],
             [
              0.3333333333333333,
              "#9c179e"
             ],
             [
              0.4444444444444444,
              "#bd3786"
             ],
             [
              0.5555555555555556,
              "#d8576b"
             ],
             [
              0.6666666666666666,
              "#ed7953"
             ],
             [
              0.7777777777777778,
              "#fb9f3a"
             ],
             [
              0.8888888888888888,
              "#fdca26"
             ],
             [
              1,
              "#f0f921"
             ]
            ],
            "type": "contour"
           }
          ],
          "contourcarpet": [
           {
            "colorbar": {
             "outlinewidth": 0,
             "ticks": ""
            },
            "type": "contourcarpet"
           }
          ],
          "heatmap": [
           {
            "colorbar": {
             "outlinewidth": 0,
             "ticks": ""
            },
            "colorscale": [
             [
              0,
              "#0d0887"
             ],
             [
              0.1111111111111111,
              "#46039f"
             ],
             [
              0.2222222222222222,
              "#7201a8"
             ],
             [
              0.3333333333333333,
              "#9c179e"
             ],
             [
              0.4444444444444444,
              "#bd3786"
             ],
             [
              0.5555555555555556,
              "#d8576b"
             ],
             [
              0.6666666666666666,
              "#ed7953"
             ],
             [
              0.7777777777777778,
              "#fb9f3a"
             ],
             [
              0.8888888888888888,
              "#fdca26"
             ],
             [
              1,
              "#f0f921"
             ]
            ],
            "type": "heatmap"
           }
          ],
          "heatmapgl": [
           {
            "colorbar": {
             "outlinewidth": 0,
             "ticks": ""
            },
            "colorscale": [
             [
              0,
              "#0d0887"
             ],
             [
              0.1111111111111111,
              "#46039f"
             ],
             [
              0.2222222222222222,
              "#7201a8"
             ],
             [
              0.3333333333333333,
              "#9c179e"
             ],
             [
              0.4444444444444444,
              "#bd3786"
             ],
             [
              0.5555555555555556,
              "#d8576b"
             ],
             [
              0.6666666666666666,
              "#ed7953"
             ],
             [
              0.7777777777777778,
              "#fb9f3a"
             ],
             [
              0.8888888888888888,
              "#fdca26"
             ],
             [
              1,
              "#f0f921"
             ]
            ],
            "type": "heatmapgl"
           }
          ],
          "histogram": [
           {
            "marker": {
             "pattern": {
              "fillmode": "overlay",
              "size": 10,
              "solidity": 0.2
             }
            },
            "type": "histogram"
           }
          ],
          "histogram2d": [
           {
            "colorbar": {
             "outlinewidth": 0,
             "ticks": ""
            },
            "colorscale": [
             [
              0,
              "#0d0887"
             ],
             [
              0.1111111111111111,
              "#46039f"
             ],
             [
              0.2222222222222222,
              "#7201a8"
             ],
             [
              0.3333333333333333,
              "#9c179e"
             ],
             [
              0.4444444444444444,
              "#bd3786"
             ],
             [
              0.5555555555555556,
              "#d8576b"
             ],
             [
              0.6666666666666666,
              "#ed7953"
             ],
             [
              0.7777777777777778,
              "#fb9f3a"
             ],
             [
              0.8888888888888888,
              "#fdca26"
             ],
             [
              1,
              "#f0f921"
             ]
            ],
            "type": "histogram2d"
           }
          ],
          "histogram2dcontour": [
           {
            "colorbar": {
             "outlinewidth": 0,
             "ticks": ""
            },
            "colorscale": [
             [
              0,
              "#0d0887"
             ],
             [
              0.1111111111111111,
              "#46039f"
             ],
             [
              0.2222222222222222,
              "#7201a8"
             ],
             [
              0.3333333333333333,
              "#9c179e"
             ],
             [
              0.4444444444444444,
              "#bd3786"
             ],
             [
              0.5555555555555556,
              "#d8576b"
             ],
             [
              0.6666666666666666,
              "#ed7953"
             ],
             [
              0.7777777777777778,
              "#fb9f3a"
             ],
             [
              0.8888888888888888,
              "#fdca26"
             ],
             [
              1,
              "#f0f921"
             ]
            ],
            "type": "histogram2dcontour"
           }
          ],
          "mesh3d": [
           {
            "colorbar": {
             "outlinewidth": 0,
             "ticks": ""
            },
            "type": "mesh3d"
           }
          ],
          "parcoords": [
           {
            "line": {
             "colorbar": {
              "outlinewidth": 0,
              "ticks": ""
             }
            },
            "type": "parcoords"
           }
          ],
          "pie": [
           {
            "automargin": true,
            "type": "pie"
           }
          ],
          "scatter": [
           {
            "marker": {
             "colorbar": {
              "outlinewidth": 0,
              "ticks": ""
             }
            },
            "type": "scatter"
           }
          ],
          "scatter3d": [
           {
            "line": {
             "colorbar": {
              "outlinewidth": 0,
              "ticks": ""
             }
            },
            "marker": {
             "colorbar": {
              "outlinewidth": 0,
              "ticks": ""
             }
            },
            "type": "scatter3d"
           }
          ],
          "scattercarpet": [
           {
            "marker": {
             "colorbar": {
              "outlinewidth": 0,
              "ticks": ""
             }
            },
            "type": "scattercarpet"
           }
          ],
          "scattergeo": [
           {
            "marker": {
             "colorbar": {
              "outlinewidth": 0,
              "ticks": ""
             }
            },
            "type": "scattergeo"
           }
          ],
          "scattergl": [
           {
            "marker": {
             "colorbar": {
              "outlinewidth": 0,
              "ticks": ""
             }
            },
            "type": "scattergl"
           }
          ],
          "scattermapbox": [
           {
            "marker": {
             "colorbar": {
              "outlinewidth": 0,
              "ticks": ""
             }
            },
            "type": "scattermapbox"
           }
          ],
          "scatterpolar": [
           {
            "marker": {
             "colorbar": {
              "outlinewidth": 0,
              "ticks": ""
             }
            },
            "type": "scatterpolar"
           }
          ],
          "scatterpolargl": [
           {
            "marker": {
             "colorbar": {
              "outlinewidth": 0,
              "ticks": ""
             }
            },
            "type": "scatterpolargl"
           }
          ],
          "scatterternary": [
           {
            "marker": {
             "colorbar": {
              "outlinewidth": 0,
              "ticks": ""
             }
            },
            "type": "scatterternary"
           }
          ],
          "surface": [
           {
            "colorbar": {
             "outlinewidth": 0,
             "ticks": ""
            },
            "colorscale": [
             [
              0,
              "#0d0887"
             ],
             [
              0.1111111111111111,
              "#46039f"
             ],
             [
              0.2222222222222222,
              "#7201a8"
             ],
             [
              0.3333333333333333,
              "#9c179e"
             ],
             [
              0.4444444444444444,
              "#bd3786"
             ],
             [
              0.5555555555555556,
              "#d8576b"
             ],
             [
              0.6666666666666666,
              "#ed7953"
             ],
             [
              0.7777777777777778,
              "#fb9f3a"
             ],
             [
              0.8888888888888888,
              "#fdca26"
             ],
             [
              1,
              "#f0f921"
             ]
            ],
            "type": "surface"
           }
          ],
          "table": [
           {
            "cells": {
             "fill": {
              "color": "#EBF0F8"
             },
             "line": {
              "color": "white"
             }
            },
            "header": {
             "fill": {
              "color": "#C8D4E3"
             },
             "line": {
              "color": "white"
             }
            },
            "type": "table"
           }
          ]
         },
         "layout": {
          "annotationdefaults": {
           "arrowcolor": "#2a3f5f",
           "arrowhead": 0,
           "arrowwidth": 1
          },
          "autotypenumbers": "strict",
          "coloraxis": {
           "colorbar": {
            "outlinewidth": 0,
            "ticks": ""
           }
          },
          "colorscale": {
           "diverging": [
            [
             0,
             "#8e0152"
            ],
            [
             0.1,
             "#c51b7d"
            ],
            [
             0.2,
             "#de77ae"
            ],
            [
             0.3,
             "#f1b6da"
            ],
            [
             0.4,
             "#fde0ef"
            ],
            [
             0.5,
             "#f7f7f7"
            ],
            [
             0.6,
             "#e6f5d0"
            ],
            [
             0.7,
             "#b8e186"
            ],
            [
             0.8,
             "#7fbc41"
            ],
            [
             0.9,
             "#4d9221"
            ],
            [
             1,
             "#276419"
            ]
           ],
           "sequential": [
            [
             0,
             "#0d0887"
            ],
            [
             0.1111111111111111,
             "#46039f"
            ],
            [
             0.2222222222222222,
             "#7201a8"
            ],
            [
             0.3333333333333333,
             "#9c179e"
            ],
            [
             0.4444444444444444,
             "#bd3786"
            ],
            [
             0.5555555555555556,
             "#d8576b"
            ],
            [
             0.6666666666666666,
             "#ed7953"
            ],
            [
             0.7777777777777778,
             "#fb9f3a"
            ],
            [
             0.8888888888888888,
             "#fdca26"
            ],
            [
             1,
             "#f0f921"
            ]
           ],
           "sequentialminus": [
            [
             0,
             "#0d0887"
            ],
            [
             0.1111111111111111,
             "#46039f"
            ],
            [
             0.2222222222222222,
             "#7201a8"
            ],
            [
             0.3333333333333333,
             "#9c179e"
            ],
            [
             0.4444444444444444,
             "#bd3786"
            ],
            [
             0.5555555555555556,
             "#d8576b"
            ],
            [
             0.6666666666666666,
             "#ed7953"
            ],
            [
             0.7777777777777778,
             "#fb9f3a"
            ],
            [
             0.8888888888888888,
             "#fdca26"
            ],
            [
             1,
             "#f0f921"
            ]
           ]
          },
          "colorway": [
           "#636efa",
           "#EF553B",
           "#00cc96",
           "#ab63fa",
           "#FFA15A",
           "#19d3f3",
           "#FF6692",
           "#B6E880",
           "#FF97FF",
           "#FECB52"
          ],
          "font": {
           "color": "#2a3f5f"
          },
          "geo": {
           "bgcolor": "white",
           "lakecolor": "white",
           "landcolor": "#E5ECF6",
           "showlakes": true,
           "showland": true,
           "subunitcolor": "white"
          },
          "hoverlabel": {
           "align": "left"
          },
          "hovermode": "closest",
          "mapbox": {
           "style": "light"
          },
          "paper_bgcolor": "white",
          "plot_bgcolor": "#E5ECF6",
          "polar": {
           "angularaxis": {
            "gridcolor": "white",
            "linecolor": "white",
            "ticks": ""
           },
           "bgcolor": "#E5ECF6",
           "radialaxis": {
            "gridcolor": "white",
            "linecolor": "white",
            "ticks": ""
           }
          },
          "scene": {
           "xaxis": {
            "backgroundcolor": "#E5ECF6",
            "gridcolor": "white",
            "gridwidth": 2,
            "linecolor": "white",
            "showbackground": true,
            "ticks": "",
            "zerolinecolor": "white"
           },
           "yaxis": {
            "backgroundcolor": "#E5ECF6",
            "gridcolor": "white",
            "gridwidth": 2,
            "linecolor": "white",
            "showbackground": true,
            "ticks": "",
            "zerolinecolor": "white"
           },
           "zaxis": {
            "backgroundcolor": "#E5ECF6",
            "gridcolor": "white",
            "gridwidth": 2,
            "linecolor": "white",
            "showbackground": true,
            "ticks": "",
            "zerolinecolor": "white"
           }
          },
          "shapedefaults": {
           "line": {
            "color": "#2a3f5f"
           }
          },
          "ternary": {
           "aaxis": {
            "gridcolor": "white",
            "linecolor": "white",
            "ticks": ""
           },
           "baxis": {
            "gridcolor": "white",
            "linecolor": "white",
            "ticks": ""
           },
           "bgcolor": "#E5ECF6",
           "caxis": {
            "gridcolor": "white",
            "linecolor": "white",
            "ticks": ""
           }
          },
          "title": {
           "x": 0.05
          },
          "xaxis": {
           "automargin": true,
           "gridcolor": "white",
           "linecolor": "white",
           "ticks": "",
           "title": {
            "standoff": 15
           },
           "zerolinecolor": "white",
           "zerolinewidth": 2
          },
          "yaxis": {
           "automargin": true,
           "gridcolor": "white",
           "linecolor": "white",
           "ticks": "",
           "title": {
            "standoff": 15
           },
           "zerolinecolor": "white",
           "zerolinewidth": 2
          }
         }
        },
        "title": {
         "font": {
          "color": "#4D5663"
         }
        },
        "xaxis": {
         "gridcolor": "#E1E5ED",
         "showgrid": true,
         "tickfont": {
          "color": "#4D5663"
         },
         "title": {
          "font": {
           "color": "#4D5663"
          },
          "text": ""
         },
         "zerolinecolor": "#E1E5ED"
        },
        "yaxis": {
         "gridcolor": "#E1E5ED",
         "showgrid": true,
         "tickfont": {
          "color": "#4D5663"
         },
         "title": {
          "font": {
           "color": "#4D5663"
          },
          "text": ""
         },
         "zerolinecolor": "#E1E5ED"
        }
       }
      },
      "text/html": [
       "<div>                            <div id=\"b1e6cc05-4c1e-49f1-a2c1-decdb70e3215\" class=\"plotly-graph-div\" style=\"height:525px; width:100%;\"></div>            <script type=\"text/javascript\">                require([\"plotly\"], function(Plotly) {                    window.PLOTLYENV=window.PLOTLYENV || {};\n",
       "                    window.PLOTLYENV.BASE_URL='https://plot.ly';                                    if (document.getElementById(\"b1e6cc05-4c1e-49f1-a2c1-decdb70e3215\")) {                    Plotly.newPlot(                        \"b1e6cc05-4c1e-49f1-a2c1-decdb70e3215\",                        [{\"marker\":{\"color\":\"rgba(255, 153, 51, 0.6)\",\"line\":{\"color\":\"rgba(255, 153, 51, 1.0)\",\"width\":1}},\"name\":\"Total Cases\",\"orientation\":\"v\",\"text\":\"\",\"type\":\"bar\",\"x\":[\"Andaman and Nicobar\",\"Andhra Pradesh\",\"Arunachal Pradesh\",\"Assam\",\"Bihar\",\"Chandigarh\",\"Chhattisgarh\",\"Dadra and Nagar Haveli and Daman and Diu\",\"Delhi\",\"Goa\",\"Gujarat\",\"Haryana\",\"Himachal Pradesh\",\"Jammu and Kashmir\",\"Jharkhand\",\"Karnataka\",\"Kerala\",\"Ladakh\",\"Lakshadweep\",\"Madhya Pradesh\",\"Maharashtra\",\"Manipur\",\"Meghalaya\",\"Mizoram\",\"Nagaland\",\"Odisha\",\"Puducherry\",\"Punjab\",\"Rajasthan\",\"Sikkim\",\"Tamil Nadu\",\"Telengana\",\"Tripura\",\"Uttar Pradesh\",\"Uttarakhand\",\"West Bengal\"],\"y\":[7620,2049314,54572,601787,725952,65224,1005325,10670,1438821,176318,825916,770863,218898,329320,348215,2975067,4664944,20795,10361,792519,6547793,120426,81161,93660,31219,1025874,126308,601600,954322,31412,2662177,665749,84127,1709800,343530,1568321]}],                        {\"legend\":{\"bgcolor\":\"#F5F6F9\",\"font\":{\"color\":\"#4D5663\"}},\"paper_bgcolor\":\"#F5F6F9\",\"plot_bgcolor\":\"#F5F6F9\",\"template\":{\"data\":{\"bar\":[{\"error_x\":{\"color\":\"#2a3f5f\"},\"error_y\":{\"color\":\"#2a3f5f\"},\"marker\":{\"line\":{\"color\":\"#E5ECF6\",\"width\":0.5},\"pattern\":{\"fillmode\":\"overlay\",\"size\":10,\"solidity\":0.2}},\"type\":\"bar\"}],\"barpolar\":[{\"marker\":{\"line\":{\"color\":\"#E5ECF6\",\"width\":0.5},\"pattern\":{\"fillmode\":\"overlay\",\"size\":10,\"solidity\":0.2}},\"type\":\"barpolar\"}],\"carpet\":[{\"aaxis\":{\"endlinecolor\":\"#2a3f5f\",\"gridcolor\":\"white\",\"linecolor\":\"white\",\"minorgridcolor\":\"white\",\"startlinecolor\":\"#2a3f5f\"},\"baxis\":{\"endlinecolor\":\"#2a3f5f\",\"gridcolor\":\"white\",\"linecolor\":\"white\",\"minorgridcolor\":\"white\",\"startlinecolor\":\"#2a3f5f\"},\"type\":\"carpet\"}],\"choropleth\":[{\"colorbar\":{\"outlinewidth\":0,\"ticks\":\"\"},\"type\":\"choropleth\"}],\"contour\":[{\"colorbar\":{\"outlinewidth\":0,\"ticks\":\"\"},\"colorscale\":[[0.0,\"#0d0887\"],[0.1111111111111111,\"#46039f\"],[0.2222222222222222,\"#7201a8\"],[0.3333333333333333,\"#9c179e\"],[0.4444444444444444,\"#bd3786\"],[0.5555555555555556,\"#d8576b\"],[0.6666666666666666,\"#ed7953\"],[0.7777777777777778,\"#fb9f3a\"],[0.8888888888888888,\"#fdca26\"],[1.0,\"#f0f921\"]],\"type\":\"contour\"}],\"contourcarpet\":[{\"colorbar\":{\"outlinewidth\":0,\"ticks\":\"\"},\"type\":\"contourcarpet\"}],\"heatmap\":[{\"colorbar\":{\"outlinewidth\":0,\"ticks\":\"\"},\"colorscale\":[[0.0,\"#0d0887\"],[0.1111111111111111,\"#46039f\"],[0.2222222222222222,\"#7201a8\"],[0.3333333333333333,\"#9c179e\"],[0.4444444444444444,\"#bd3786\"],[0.5555555555555556,\"#d8576b\"],[0.6666666666666666,\"#ed7953\"],[0.7777777777777778,\"#fb9f3a\"],[0.8888888888888888,\"#fdca26\"],[1.0,\"#f0f921\"]],\"type\":\"heatmap\"}],\"heatmapgl\":[{\"colorbar\":{\"outlinewidth\":0,\"ticks\":\"\"},\"colorscale\":[[0.0,\"#0d0887\"],[0.1111111111111111,\"#46039f\"],[0.2222222222222222,\"#7201a8\"],[0.3333333333333333,\"#9c179e\"],[0.4444444444444444,\"#bd3786\"],[0.5555555555555556,\"#d8576b\"],[0.6666666666666666,\"#ed7953\"],[0.7777777777777778,\"#fb9f3a\"],[0.8888888888888888,\"#fdca26\"],[1.0,\"#f0f921\"]],\"type\":\"heatmapgl\"}],\"histogram\":[{\"marker\":{\"pattern\":{\"fillmode\":\"overlay\",\"size\":10,\"solidity\":0.2}},\"type\":\"histogram\"}],\"histogram2d\":[{\"colorbar\":{\"outlinewidth\":0,\"ticks\":\"\"},\"colorscale\":[[0.0,\"#0d0887\"],[0.1111111111111111,\"#46039f\"],[0.2222222222222222,\"#7201a8\"],[0.3333333333333333,\"#9c179e\"],[0.4444444444444444,\"#bd3786\"],[0.5555555555555556,\"#d8576b\"],[0.6666666666666666,\"#ed7953\"],[0.7777777777777778,\"#fb9f3a\"],[0.8888888888888888,\"#fdca26\"],[1.0,\"#f0f921\"]],\"type\":\"histogram2d\"}],\"histogram2dcontour\":[{\"colorbar\":{\"outlinewidth\":0,\"ticks\":\"\"},\"colorscale\":[[0.0,\"#0d0887\"],[0.1111111111111111,\"#46039f\"],[0.2222222222222222,\"#7201a8\"],[0.3333333333333333,\"#9c179e\"],[0.4444444444444444,\"#bd3786\"],[0.5555555555555556,\"#d8576b\"],[0.6666666666666666,\"#ed7953\"],[0.7777777777777778,\"#fb9f3a\"],[0.8888888888888888,\"#fdca26\"],[1.0,\"#f0f921\"]],\"type\":\"histogram2dcontour\"}],\"mesh3d\":[{\"colorbar\":{\"outlinewidth\":0,\"ticks\":\"\"},\"type\":\"mesh3d\"}],\"parcoords\":[{\"line\":{\"colorbar\":{\"outlinewidth\":0,\"ticks\":\"\"}},\"type\":\"parcoords\"}],\"pie\":[{\"automargin\":true,\"type\":\"pie\"}],\"scatter\":[{\"marker\":{\"colorbar\":{\"outlinewidth\":0,\"ticks\":\"\"}},\"type\":\"scatter\"}],\"scatter3d\":[{\"line\":{\"colorbar\":{\"outlinewidth\":0,\"ticks\":\"\"}},\"marker\":{\"colorbar\":{\"outlinewidth\":0,\"ticks\":\"\"}},\"type\":\"scatter3d\"}],\"scattercarpet\":[{\"marker\":{\"colorbar\":{\"outlinewidth\":0,\"ticks\":\"\"}},\"type\":\"scattercarpet\"}],\"scattergeo\":[{\"marker\":{\"colorbar\":{\"outlinewidth\":0,\"ticks\":\"\"}},\"type\":\"scattergeo\"}],\"scattergl\":[{\"marker\":{\"colorbar\":{\"outlinewidth\":0,\"ticks\":\"\"}},\"type\":\"scattergl\"}],\"scattermapbox\":[{\"marker\":{\"colorbar\":{\"outlinewidth\":0,\"ticks\":\"\"}},\"type\":\"scattermapbox\"}],\"scatterpolar\":[{\"marker\":{\"colorbar\":{\"outlinewidth\":0,\"ticks\":\"\"}},\"type\":\"scatterpolar\"}],\"scatterpolargl\":[{\"marker\":{\"colorbar\":{\"outlinewidth\":0,\"ticks\":\"\"}},\"type\":\"scatterpolargl\"}],\"scatterternary\":[{\"marker\":{\"colorbar\":{\"outlinewidth\":0,\"ticks\":\"\"}},\"type\":\"scatterternary\"}],\"surface\":[{\"colorbar\":{\"outlinewidth\":0,\"ticks\":\"\"},\"colorscale\":[[0.0,\"#0d0887\"],[0.1111111111111111,\"#46039f\"],[0.2222222222222222,\"#7201a8\"],[0.3333333333333333,\"#9c179e\"],[0.4444444444444444,\"#bd3786\"],[0.5555555555555556,\"#d8576b\"],[0.6666666666666666,\"#ed7953\"],[0.7777777777777778,\"#fb9f3a\"],[0.8888888888888888,\"#fdca26\"],[1.0,\"#f0f921\"]],\"type\":\"surface\"}],\"table\":[{\"cells\":{\"fill\":{\"color\":\"#EBF0F8\"},\"line\":{\"color\":\"white\"}},\"header\":{\"fill\":{\"color\":\"#C8D4E3\"},\"line\":{\"color\":\"white\"}},\"type\":\"table\"}]},\"layout\":{\"annotationdefaults\":{\"arrowcolor\":\"#2a3f5f\",\"arrowhead\":0,\"arrowwidth\":1},\"autotypenumbers\":\"strict\",\"coloraxis\":{\"colorbar\":{\"outlinewidth\":0,\"ticks\":\"\"}},\"colorscale\":{\"diverging\":[[0,\"#8e0152\"],[0.1,\"#c51b7d\"],[0.2,\"#de77ae\"],[0.3,\"#f1b6da\"],[0.4,\"#fde0ef\"],[0.5,\"#f7f7f7\"],[0.6,\"#e6f5d0\"],[0.7,\"#b8e186\"],[0.8,\"#7fbc41\"],[0.9,\"#4d9221\"],[1,\"#276419\"]],\"sequential\":[[0.0,\"#0d0887\"],[0.1111111111111111,\"#46039f\"],[0.2222222222222222,\"#7201a8\"],[0.3333333333333333,\"#9c179e\"],[0.4444444444444444,\"#bd3786\"],[0.5555555555555556,\"#d8576b\"],[0.6666666666666666,\"#ed7953\"],[0.7777777777777778,\"#fb9f3a\"],[0.8888888888888888,\"#fdca26\"],[1.0,\"#f0f921\"]],\"sequentialminus\":[[0.0,\"#0d0887\"],[0.1111111111111111,\"#46039f\"],[0.2222222222222222,\"#7201a8\"],[0.3333333333333333,\"#9c179e\"],[0.4444444444444444,\"#bd3786\"],[0.5555555555555556,\"#d8576b\"],[0.6666666666666666,\"#ed7953\"],[0.7777777777777778,\"#fb9f3a\"],[0.8888888888888888,\"#fdca26\"],[1.0,\"#f0f921\"]]},\"colorway\":[\"#636efa\",\"#EF553B\",\"#00cc96\",\"#ab63fa\",\"#FFA15A\",\"#19d3f3\",\"#FF6692\",\"#B6E880\",\"#FF97FF\",\"#FECB52\"],\"font\":{\"color\":\"#2a3f5f\"},\"geo\":{\"bgcolor\":\"white\",\"lakecolor\":\"white\",\"landcolor\":\"#E5ECF6\",\"showlakes\":true,\"showland\":true,\"subunitcolor\":\"white\"},\"hoverlabel\":{\"align\":\"left\"},\"hovermode\":\"closest\",\"mapbox\":{\"style\":\"light\"},\"paper_bgcolor\":\"white\",\"plot_bgcolor\":\"#E5ECF6\",\"polar\":{\"angularaxis\":{\"gridcolor\":\"white\",\"linecolor\":\"white\",\"ticks\":\"\"},\"bgcolor\":\"#E5ECF6\",\"radialaxis\":{\"gridcolor\":\"white\",\"linecolor\":\"white\",\"ticks\":\"\"}},\"scene\":{\"xaxis\":{\"backgroundcolor\":\"#E5ECF6\",\"gridcolor\":\"white\",\"gridwidth\":2,\"linecolor\":\"white\",\"showbackground\":true,\"ticks\":\"\",\"zerolinecolor\":\"white\"},\"yaxis\":{\"backgroundcolor\":\"#E5ECF6\",\"gridcolor\":\"white\",\"gridwidth\":2,\"linecolor\":\"white\",\"showbackground\":true,\"ticks\":\"\",\"zerolinecolor\":\"white\"},\"zaxis\":{\"backgroundcolor\":\"#E5ECF6\",\"gridcolor\":\"white\",\"gridwidth\":2,\"linecolor\":\"white\",\"showbackground\":true,\"ticks\":\"\",\"zerolinecolor\":\"white\"}},\"shapedefaults\":{\"line\":{\"color\":\"#2a3f5f\"}},\"ternary\":{\"aaxis\":{\"gridcolor\":\"white\",\"linecolor\":\"white\",\"ticks\":\"\"},\"baxis\":{\"gridcolor\":\"white\",\"linecolor\":\"white\",\"ticks\":\"\"},\"bgcolor\":\"#E5ECF6\",\"caxis\":{\"gridcolor\":\"white\",\"linecolor\":\"white\",\"ticks\":\"\"}},\"title\":{\"x\":0.05},\"xaxis\":{\"automargin\":true,\"gridcolor\":\"white\",\"linecolor\":\"white\",\"ticks\":\"\",\"title\":{\"standoff\":15},\"zerolinecolor\":\"white\",\"zerolinewidth\":2},\"yaxis\":{\"automargin\":true,\"gridcolor\":\"white\",\"linecolor\":\"white\",\"ticks\":\"\",\"title\":{\"standoff\":15},\"zerolinecolor\":\"white\",\"zerolinewidth\":2}}},\"title\":{\"font\":{\"color\":\"#4D5663\"}},\"xaxis\":{\"gridcolor\":\"#E1E5ED\",\"showgrid\":true,\"tickfont\":{\"color\":\"#4D5663\"},\"title\":{\"font\":{\"color\":\"#4D5663\"},\"text\":\"\"},\"zerolinecolor\":\"#E1E5ED\"},\"yaxis\":{\"gridcolor\":\"#E1E5ED\",\"showgrid\":true,\"tickfont\":{\"color\":\"#4D5663\"},\"title\":{\"font\":{\"color\":\"#4D5663\"},\"text\":\"\"},\"zerolinecolor\":\"#E1E5ED\"}},                        {\"showLink\": true, \"linkText\": \"Export to plot.ly\", \"plotlyServerURL\": \"https://plot.ly\", \"responsive\": true}                    ).then(function(){\n",
       "                            \n",
       "var gd = document.getElementById('b1e6cc05-4c1e-49f1-a2c1-decdb70e3215');\n",
       "var x = new MutationObserver(function (mutations, observer) {{\n",
       "        var display = window.getComputedStyle(gd).display;\n",
       "        if (!display || display === 'none') {{\n",
       "            console.log([gd, 'removed!']);\n",
       "            Plotly.purge(gd);\n",
       "            observer.disconnect();\n",
       "        }}\n",
       "}});\n",
       "\n",
       "// Listen for the removal of the full notebook cells\n",
       "var notebookContainer = gd.closest('#notebook-container');\n",
       "if (notebookContainer) {{\n",
       "    x.observe(notebookContainer, {childList: true});\n",
       "}}\n",
       "\n",
       "// Listen for the clearing of the current output cell\n",
       "var outputEl = gd.closest('.output');\n",
       "if (outputEl) {{\n",
       "    x.observe(outputEl, {childList: true});\n",
       "}}\n",
       "\n",
       "                        })                };                });            </script>        </div>"
      ]
     },
     "metadata": {},
     "output_type": "display_data"
    }
   ],
   "source": [
    " #iplot\n",
    "    dataframe.iplot(kind='bar',x='State/UTs',y='Total Cases')"
   ]
  },
  {
   "cell_type": "code",
   "execution_count": 44,
   "metadata": {
    "scrolled": false
   },
   "outputs": [
    {
     "data": {
      "text/plain": [
       "<BarContainer object of 36 artists>"
      ]
     },
     "execution_count": 44,
     "metadata": {},
     "output_type": "execute_result"
    },
    {
     "data": {
      "image/png": "[encoded data removed]",
      "text/plain": [
       "<Figure size 1440x864 with 1 Axes>"
      ]
     },
     "metadata": {
      "needs_background": "light"
     },
     "output_type": "display_data"
    }
   ],
   "source": [
    "#matplolib\n",
    "plt.bar(dataframe['State/UTs'],dataframe['Total Cases'])"
   ]
  },
  {
   "cell_type": "code",
   "execution_count": 49,
   "metadata": {},
   "outputs": [
    {
     "data": {
      "application/vnd.plotly.v1+json": {
       "config": {
        "plotlyServerURL": "https://plot.ly"
       },
       "data": [
        {
         "alignmentgroup": "True",
         "hovertemplate": "State/UTs=%{x}<br>Total Cases=%{y}<extra></extra>",
         "legendgroup": "",
         "marker": {
          "color": "#636efa",
          "pattern": {
           "shape": ""
          }
         },
         "name": "",
         "offsetgroup": "",
         "orientation": "v",
         "showlegend": false,
         "textposition": "auto",
         "type": "bar",
         "x": [
          "Andaman and Nicobar",
          "Andhra Pradesh",
          "Arunachal Pradesh",
          "Assam",
          "Bihar",
          "Chandigarh",
          "Chhattisgarh",
          "Dadra and Nagar Haveli and Daman and Diu",
          "Delhi",
          "Goa",
          "Gujarat",
          "Haryana",
          "Himachal Pradesh",
          "Jammu and Kashmir",
          "Jharkhand",
          "Karnataka",
          "Kerala",
          "Ladakh",
          "Lakshadweep",
          "Madhya Pradesh",
          "Maharashtra",
          "Manipur",
          "Meghalaya",
          "Mizoram",
          "Nagaland",
          "Odisha",
          "Puducherry",
          "Punjab",
          "Rajasthan",
          "Sikkim",
          "Tamil Nadu",
          "Telengana",
          "Tripura",
          "Uttar Pradesh",
          "Uttarakhand",
          "West Bengal"
         ],
         "xaxis": "x",
         "y": [
          7620,
          2049314,
          54572,
          601787,
          725952,
          65224,
          1005325,
          10670,
          1438821,
          176318,
          825916,
          770863,
          218898,
          329320,
          348215,
          2975067,
          4664944,
          20795,
          10361,
          792519,
          6547793,
          120426,
          81161,
          93660,
          31219,
          1025874,
          126308,
          601600,
          954322,
          31412,
          2662177,
          665749,
          84127,
          1709800,
          343530,
          1568321
         ],
         "yaxis": "y"
        }
       ],
       "layout": {
        "barmode": "relative",
        "legend": {
         "tracegroupgap": 0
        },
        "margin": {
         "t": 60
        },
        "template": {
         "data": {
          "bar": [
           {
            "error_x": {
             "color": "#2a3f5f"
            },
            "error_y": {
             "color": "#2a3f5f"
            },
            "marker": {
             "line": {
              "color": "#E5ECF6",
              "width": 0.5
             },
             "pattern": {
              "fillmode": "overlay",
              "size": 10,
              "solidity": 0.2
             }
            },
            "type": "bar"
           }
          ],
          "barpolar": [
           {
            "marker": {
             "line": {
              "color": "#E5ECF6",
              "width": 0.5
             },
             "pattern": {
              "fillmode": "overlay",
              "size": 10,
              "solidity": 0.2
             }
            },
            "type": "barpolar"
           }
          ],
          "carpet": [
           {
            "aaxis": {
             "endlinecolor": "#2a3f5f",
             "gridcolor": "white",
             "linecolor": "white",
             "minorgridcolor": "white",
             "startlinecolor": "#2a3f5f"
            },
            "baxis": {
             "endlinecolor": "#2a3f5f",
             "gridcolor": "white",
             "linecolor": "white",
             "minorgridcolor": "white",
             "startlinecolor": "#2a3f5f"
            },
            "type": "carpet"
           }
          ],
          "choropleth": [
           {
            "colorbar": {
             "outlinewidth": 0,
             "ticks": ""
            },
            "type": "choropleth"
           }
          ],
          "contour": [
           {
            "colorbar": {
             "outlinewidth": 0,
             "ticks": ""
            },
            "colorscale": [
             [
              0,
              "#0d0887"
             ],
             [
              0.1111111111111111,
              "#46039f"
             ],
             [
              0.2222222222222222,
              "#7201a8"
             ],
             [
              0.3333333333333333,
              "#9c179e"
             ],
             [
              0.4444444444444444,
              "#bd3786"
             ],
             [
              0.5555555555555556,
              "#d8576b"
             ],
             [
              0.6666666666666666,
              "#ed7953"
             ],
             [
              0.7777777777777778,
              "#fb9f3a"
             ],
             [
              0.8888888888888888,
              "#fdca26"
             ],
             [
              1,
              "#f0f921"
             ]
            ],
            "type": "contour"
           }
          ],
          "contourcarpet": [
           {
            "colorbar": {
             "outlinewidth": 0,
             "ticks": ""
            },
            "type": "contourcarpet"
           }
          ],
          "heatmap": [
           {
            "colorbar": {
             "outlinewidth": 0,
             "ticks": ""
            },
            "colorscale": [
             [
              0,
              "#0d0887"
             ],
             [
              0.1111111111111111,
              "#46039f"
             ],
             [
              0.2222222222222222,
              "#7201a8"
             ],
             [
              0.3333333333333333,
              "#9c179e"
             ],
             [
              0.4444444444444444,
              "#bd3786"
             ],
             [
              0.5555555555555556,
              "#d8576b"
             ],
             [
              0.6666666666666666,
              "#ed7953"
             ],
             [
              0.7777777777777778,
              "#fb9f3a"
             ],
             [
              0.8888888888888888,
              "#fdca26"
             ],
             [
              1,
              "#f0f921"
             ]
            ],
            "type": "heatmap"
           }
          ],
          "heatmapgl": [
           {
            "colorbar": {
             "outlinewidth": 0,
             "ticks": ""
            },
            "colorscale": [
             [
              0,
              "#0d0887"
             ],
             [
              0.1111111111111111,
              "#46039f"
             ],
             [
              0.2222222222222222,
              "#7201a8"
             ],
             [
              0.3333333333333333,
              "#9c179e"
             ],
             [
              0.4444444444444444,
              "#bd3786"
             ],
             [
              0.5555555555555556,
              "#d8576b"
             ],
             [
              0.6666666666666666,
              "#ed7953"
             ],
             [
              0.7777777777777778,
              "#fb9f3a"
             ],
             [
              0.8888888888888888,
              "#fdca26"
             ],
             [
              1,
              "#f0f921"
             ]
            ],
            "type": "heatmapgl"
           }
          ],
          "histogram": [
           {
            "marker": {
             "pattern": {
              "fillmode": "overlay",
              "size": 10,
              "solidity": 0.2
             }
            },
            "type": "histogram"
           }
          ],
          "histogram2d": [
           {
            "colorbar": {
             "outlinewidth": 0,
             "ticks": ""
            },
            "colorscale": [
             [
              0,
              "#0d0887"
             ],
             [
              0.1111111111111111,
              "#46039f"
             ],
             [
              0.2222222222222222,
              "#7201a8"
             ],
             [
              0.3333333333333333,
              "#9c179e"
             ],
             [
              0.4444444444444444,
              "#bd3786"
             ],
             [
              0.5555555555555556,
              "#d8576b"
             ],
             [
              0.6666666666666666,
              "#ed7953"
             ],
             [
              0.7777777777777778,
              "#fb9f3a"
             ],
             [
              0.8888888888888888,
              "#fdca26"
             ],
             [
              1,
              "#f0f921"
             ]
            ],
            "type": "histogram2d"
           }
          ],
          "histogram2dcontour": [
           {
            "colorbar": {
             "outlinewidth": 0,
             "ticks": ""
            },
            "colorscale": [
             [
              0,
              "#0d0887"
             ],
             [
              0.1111111111111111,
              "#46039f"
             ],
             [
              0.2222222222222222,
              "#7201a8"
             ],
             [
              0.3333333333333333,
              "#9c179e"
             ],
             [
              0.4444444444444444,
              "#bd3786"
             ],
             [
              0.5555555555555556,
              "#d8576b"
             ],
             [
              0.6666666666666666,
              "#ed7953"
             ],
             [
              0.7777777777777778,
              "#fb9f3a"
             ],
             [
              0.8888888888888888,
              "#fdca26"
             ],
             [
              1,
              "#f0f921"
             ]
            ],
            "type": "histogram2dcontour"
           }
          ],
          "mesh3d": [
           {
            "colorbar": {
             "outlinewidth": 0,
             "ticks": ""
            },
            "type": "mesh3d"
           }
          ],
          "parcoords": [
           {
            "line": {
             "colorbar": {
              "outlinewidth": 0,
              "ticks": ""
             }
            },
            "type": "parcoords"
           }
          ],
          "pie": [
           {
            "automargin": true,
            "type": "pie"
           }
          ],
          "scatter": [
           {
            "marker": {
             "colorbar": {
              "outlinewidth": 0,
              "ticks": ""
             }
            },
            "type": "scatter"
           }
          ],
          "scatter3d": [
           {
            "line": {
             "colorbar": {
              "outlinewidth": 0,
              "ticks": ""
             }
            },
            "marker": {
             "colorbar": {
              "outlinewidth": 0,
              "ticks": ""
             }
            },
            "type": "scatter3d"
           }
          ],
          "scattercarpet": [
           {
            "marker": {
             "colorbar": {
              "outlinewidth": 0,
              "ticks": ""
             }
            },
            "type": "scattercarpet"
           }
          ],
          "scattergeo": [
           {
            "marker": {
             "colorbar": {
              "outlinewidth": 0,
              "ticks": ""
             }
            },
            "type": "scattergeo"
           }
          ],
          "scattergl": [
           {
            "marker": {
             "colorbar": {
              "outlinewidth": 0,
              "ticks": ""
             }
            },
            "type": "scattergl"
           }
          ],
          "scattermapbox": [
           {
            "marker": {
             "colorbar": {
              "outlinewidth": 0,
              "ticks": ""
             }
            },
            "type": "scattermapbox"
           }
          ],
          "scatterpolar": [
           {
            "marker": {
             "colorbar": {
              "outlinewidth": 0,
              "ticks": ""
             }
            },
            "type": "scatterpolar"
           }
          ],
          "scatterpolargl": [
           {
            "marker": {
             "colorbar": {
              "outlinewidth": 0,
              "ticks": ""
             }
            },
            "type": "scatterpolargl"
           }
          ],
          "scatterternary": [
           {
            "marker": {
             "colorbar": {
              "outlinewidth": 0,
              "ticks": ""
             }
            },
            "type": "scatterternary"
           }
          ],
          "surface": [
           {
            "colorbar": {
             "outlinewidth": 0,
             "ticks": ""
            },
            "colorscale": [
             [
              0,
              "#0d0887"
             ],
             [
              0.1111111111111111,
              "#46039f"
             ],
             [
              0.2222222222222222,
              "#7201a8"
             ],
             [
              0.3333333333333333,
              "#9c179e"
             ],
             [
              0.4444444444444444,
              "#bd3786"
             ],
             [
              0.5555555555555556,
              "#d8576b"
             ],
             [
              0.6666666666666666,
              "#ed7953"
             ],
             [
              0.7777777777777778,
              "#fb9f3a"
             ],
             [
              0.8888888888888888,
              "#fdca26"
             ],
             [
              1,
              "#f0f921"
             ]
            ],
            "type": "surface"
           }
          ],
          "table": [
           {
            "cells": {
             "fill": {
              "color": "#EBF0F8"
             },
             "line": {
              "color": "white"
             }
            },
            "header": {
             "fill": {
              "color": "#C8D4E3"
             },
             "line": {
              "color": "white"
             }
            },
            "type": "table"
           }
          ]
         },
         "layout": {
          "annotationdefaults": {
           "arrowcolor": "#2a3f5f",
           "arrowhead": 0,
           "arrowwidth": 1
          },
          "autotypenumbers": "strict",
          "coloraxis": {
           "colorbar": {
            "outlinewidth": 0,
            "ticks": ""
           }
          },
          "colorscale": {
           "diverging": [
            [
             0,
             "#8e0152"
            ],
            [
             0.1,
             "#c51b7d"
            ],
            [
             0.2,
             "#de77ae"
            ],
            [
             0.3,
             "#f1b6da"
            ],
            [
             0.4,
             "#fde0ef"
            ],
            [
             0.5,
             "#f7f7f7"
            ],
            [
             0.6,
             "#e6f5d0"
            ],
            [
             0.7,
             "#b8e186"
            ],
            [
             0.8,
             "#7fbc41"
            ],
            [
             0.9,
             "#4d9221"
            ],
            [
             1,
             "#276419"
            ]
           ],
           "sequential": [
            [
             0,
             "#0d0887"
            ],
            [
             0.1111111111111111,
             "#46039f"
            ],
            [
             0.2222222222222222,
             "#7201a8"
            ],
            [
             0.3333333333333333,
             "#9c179e"
            ],
            [
             0.4444444444444444,
             "#bd3786"
            ],
            [
             0.5555555555555556,
             "#d8576b"
            ],
            [
             0.6666666666666666,
             "#ed7953"
            ],
            [
             0.7777777777777778,
             "#fb9f3a"
            ],
            [
             0.8888888888888888,
             "#fdca26"
            ],
            [
             1,
             "#f0f921"
            ]
           ],
           "sequentialminus": [
            [
             0,
             "#0d0887"
            ],
            [
             0.1111111111111111,
             "#46039f"
            ],
            [
             0.2222222222222222,
             "#7201a8"
            ],
            [
             0.3333333333333333,
             "#9c179e"
            ],
            [
             0.4444444444444444,
             "#bd3786"
            ],
            [
             0.5555555555555556,
             "#d8576b"
            ],
            [
             0.6666666666666666,
             "#ed7953"
            ],
            [
             0.7777777777777778,
             "#fb9f3a"
            ],
            [
             0.8888888888888888,
             "#fdca26"
            ],
            [
             1,
             "#f0f921"
            ]
           ]
          },
          "colorway": [
           "#636efa",
           "#EF553B",
           "#00cc96",
           "#ab63fa",
           "#FFA15A",
           "#19d3f3",
           "#FF6692",
           "#B6E880",
           "#FF97FF",
           "#FECB52"
          ],
          "font": {
           "color": "#2a3f5f"
          },
          "geo": {
           "bgcolor": "white",
           "lakecolor": "white",
           "landcolor": "#E5ECF6",
           "showlakes": true,
           "showland": true,
           "subunitcolor": "white"
          },
          "hoverlabel": {
           "align": "left"
          },
          "hovermode": "closest",
          "mapbox": {
           "style": "light"
          },
          "paper_bgcolor": "white",
          "plot_bgcolor": "#E5ECF6",
          "polar": {
           "angularaxis": {
            "gridcolor": "white",
            "linecolor": "white",
            "ticks": ""
           },
           "bgcolor": "#E5ECF6",
           "radialaxis": {
            "gridcolor": "white",
            "linecolor": "white",
            "ticks": ""
           }
          },
          "scene": {
           "xaxis": {
            "backgroundcolor": "#E5ECF6",
            "gridcolor": "white",
            "gridwidth": 2,
            "linecolor": "white",
            "showbackground": true,
            "ticks": "",
            "zerolinecolor": "white"
           },
           "yaxis": {
            "backgroundcolor": "#E5ECF6",
            "gridcolor": "white",
            "gridwidth": 2,
            "linecolor": "white",
            "showbackground": true,
            "ticks": "",
            "zerolinecolor": "white"
           },
           "zaxis": {
            "backgroundcolor": "#E5ECF6",
            "gridcolor": "white",
            "gridwidth": 2,
            "linecolor": "white",
            "showbackground": true,
            "ticks": "",
            "zerolinecolor": "white"
           }
          },
          "shapedefaults": {
           "line": {
            "color": "#2a3f5f"
           }
          },
          "ternary": {
           "aaxis": {
            "gridcolor": "white",
            "linecolor": "white",
            "ticks": ""
           },
           "baxis": {
            "gridcolor": "white",
            "linecolor": "white",
            "ticks": ""
           },
           "bgcolor": "#E5ECF6",
           "caxis": {
            "gridcolor": "white",
            "linecolor": "white",
            "ticks": ""
           }
          },
          "title": {
           "x": 0.05
          },
          "xaxis": {
           "automargin": true,
           "gridcolor": "white",
           "linecolor": "white",
           "ticks": "",
           "title": {
            "standoff": 15
           },
           "zerolinecolor": "white",
           "zerolinewidth": 2
          },
          "yaxis": {
           "automargin": true,
           "gridcolor": "white",
           "linecolor": "white",
           "ticks": "",
           "title": {
            "standoff": 15
           },
           "zerolinecolor": "white",
           "zerolinewidth": 2
          }
         }
        },
        "xaxis": {
         "anchor": "y",
         "domain": [
          0,
          1
         ],
         "title": {
          "text": "State/UTs"
         }
        },
        "yaxis": {
         "anchor": "x",
         "domain": [
          0,
          1
         ],
         "title": {
          "text": "Total Cases"
         }
        }
       }
      },
      "text/html": [
       "<div>                            <div id=\"2c71e456-690c-40c8-9add-f9ea9c132435\" class=\"plotly-graph-div\" style=\"height:525px; width:100%;\"></div>            <script type=\"text/javascript\">                require([\"plotly\"], function(Plotly) {                    window.PLOTLYENV=window.PLOTLYENV || {};                                    if (document.getElementById(\"2c71e456-690c-40c8-9add-f9ea9c132435\")) {                    Plotly.newPlot(                        \"2c71e456-690c-40c8-9add-f9ea9c132435\",                        [{\"alignmentgroup\":\"True\",\"hovertemplate\":\"State/UTs=%{x}<br>Total Cases=%{y}<extra></extra>\",\"legendgroup\":\"\",\"marker\":{\"color\":\"#636efa\",\"pattern\":{\"shape\":\"\"}},\"name\":\"\",\"offsetgroup\":\"\",\"orientation\":\"v\",\"showlegend\":false,\"textposition\":\"auto\",\"type\":\"bar\",\"x\":[\"Andaman and Nicobar\",\"Andhra Pradesh\",\"Arunachal Pradesh\",\"Assam\",\"Bihar\",\"Chandigarh\",\"Chhattisgarh\",\"Dadra and Nagar Haveli and Daman and Diu\",\"Delhi\",\"Goa\",\"Gujarat\",\"Haryana\",\"Himachal Pradesh\",\"Jammu and Kashmir\",\"Jharkhand\",\"Karnataka\",\"Kerala\",\"Ladakh\",\"Lakshadweep\",\"Madhya Pradesh\",\"Maharashtra\",\"Manipur\",\"Meghalaya\",\"Mizoram\",\"Nagaland\",\"Odisha\",\"Puducherry\",\"Punjab\",\"Rajasthan\",\"Sikkim\",\"Tamil Nadu\",\"Telengana\",\"Tripura\",\"Uttar Pradesh\",\"Uttarakhand\",\"West Bengal\"],\"xaxis\":\"x\",\"y\":[7620,2049314,54572,601787,725952,65224,1005325,10670,1438821,176318,825916,770863,218898,329320,348215,2975067,4664944,20795,10361,792519,6547793,120426,81161,93660,31219,1025874,126308,601600,954322,31412,2662177,665749,84127,1709800,343530,1568321],\"yaxis\":\"y\"}],                        {\"barmode\":\"relative\",\"legend\":{\"tracegroupgap\":0},\"margin\":{\"t\":60},\"template\":{\"data\":{\"bar\":[{\"error_x\":{\"color\":\"#2a3f5f\"},\"error_y\":{\"color\":\"#2a3f5f\"},\"marker\":{\"line\":{\"color\":\"#E5ECF6\",\"width\":0.5},\"pattern\":{\"fillmode\":\"overlay\",\"size\":10,\"solidity\":0.2}},\"type\":\"bar\"}],\"barpolar\":[{\"marker\":{\"line\":{\"color\":\"#E5ECF6\",\"width\":0.5},\"pattern\":{\"fillmode\":\"overlay\",\"size\":10,\"solidity\":0.2}},\"type\":\"barpolar\"}],\"carpet\":[{\"aaxis\":{\"endlinecolor\":\"#2a3f5f\",\"gridcolor\":\"white\",\"linecolor\":\"white\",\"minorgridcolor\":\"white\",\"startlinecolor\":\"#2a3f5f\"},\"baxis\":{\"endlinecolor\":\"#2a3f5f\",\"gridcolor\":\"white\",\"linecolor\":\"white\",\"minorgridcolor\":\"white\",\"startlinecolor\":\"#2a3f5f\"},\"type\":\"carpet\"}],\"choropleth\":[{\"colorbar\":{\"outlinewidth\":0,\"ticks\":\"\"},\"type\":\"choropleth\"}],\"contour\":[{\"colorbar\":{\"outlinewidth\":0,\"ticks\":\"\"},\"colorscale\":[[0.0,\"#0d0887\"],[0.1111111111111111,\"#46039f\"],[0.2222222222222222,\"#7201a8\"],[0.3333333333333333,\"#9c179e\"],[0.4444444444444444,\"#bd3786\"],[0.5555555555555556,\"#d8576b\"],[0.6666666666666666,\"#ed7953\"],[0.7777777777777778,\"#fb9f3a\"],[0.8888888888888888,\"#fdca26\"],[1.0,\"#f0f921\"]],\"type\":\"contour\"}],\"contourcarpet\":[{\"colorbar\":{\"outlinewidth\":0,\"ticks\":\"\"},\"type\":\"contourcarpet\"}],\"heatmap\":[{\"colorbar\":{\"outlinewidth\":0,\"ticks\":\"\"},\"colorscale\":[[0.0,\"#0d0887\"],[0.1111111111111111,\"#46039f\"],[0.2222222222222222,\"#7201a8\"],[0.3333333333333333,\"#9c179e\"],[0.4444444444444444,\"#bd3786\"],[0.5555555555555556,\"#d8576b\"],[0.6666666666666666,\"#ed7953\"],[0.7777777777777778,\"#fb9f3a\"],[0.8888888888888888,\"#fdca26\"],[1.0,\"#f0f921\"]],\"type\":\"heatmap\"}],\"heatmapgl\":[{\"colorbar\":{\"outlinewidth\":0,\"ticks\":\"\"},\"colorscale\":[[0.0,\"#0d0887\"],[0.1111111111111111,\"#46039f\"],[0.2222222222222222,\"#7201a8\"],[0.3333333333333333,\"#9c179e\"],[0.4444444444444444,\"#bd3786\"],[0.5555555555555556,\"#d8576b\"],[0.6666666666666666,\"#ed7953\"],[0.7777777777777778,\"#fb9f3a\"],[0.8888888888888888,\"#fdca26\"],[1.0,\"#f0f921\"]],\"type\":\"heatmapgl\"}],\"histogram\":[{\"marker\":{\"pattern\":{\"fillmode\":\"overlay\",\"size\":10,\"solidity\":0.2}},\"type\":\"histogram\"}],\"histogram2d\":[{\"colorbar\":{\"outlinewidth\":0,\"ticks\":\"\"},\"colorscale\":[[0.0,\"#0d0887\"],[0.1111111111111111,\"#46039f\"],[0.2222222222222222,\"#7201a8\"],[0.3333333333333333,\"#9c179e\"],[0.4444444444444444,\"#bd3786\"],[0.5555555555555556,\"#d8576b\"],[0.6666666666666666,\"#ed7953\"],[0.7777777777777778,\"#fb9f3a\"],[0.8888888888888888,\"#fdca26\"],[1.0,\"#f0f921\"]],\"type\":\"histogram2d\"}],\"histogram2dcontour\":[{\"colorbar\":{\"outlinewidth\":0,\"ticks\":\"\"},\"colorscale\":[[0.0,\"#0d0887\"],[0.1111111111111111,\"#46039f\"],[0.2222222222222222,\"#7201a8\"],[0.3333333333333333,\"#9c179e\"],[0.4444444444444444,\"#bd3786\"],[0.5555555555555556,\"#d8576b\"],[0.6666666666666666,\"#ed7953\"],[0.7777777777777778,\"#fb9f3a\"],[0.8888888888888888,\"#fdca26\"],[1.0,\"#f0f921\"]],\"type\":\"histogram2dcontour\"}],\"mesh3d\":[{\"colorbar\":{\"outlinewidth\":0,\"ticks\":\"\"},\"type\":\"mesh3d\"}],\"parcoords\":[{\"line\":{\"colorbar\":{\"outlinewidth\":0,\"ticks\":\"\"}},\"type\":\"parcoords\"}],\"pie\":[{\"automargin\":true,\"type\":\"pie\"}],\"scatter\":[{\"marker\":{\"colorbar\":{\"outlinewidth\":0,\"ticks\":\"\"}},\"type\":\"scatter\"}],\"scatter3d\":[{\"line\":{\"colorbar\":{\"outlinewidth\":0,\"ticks\":\"\"}},\"marker\":{\"colorbar\":{\"outlinewidth\":0,\"ticks\":\"\"}},\"type\":\"scatter3d\"}],\"scattercarpet\":[{\"marker\":{\"colorbar\":{\"outlinewidth\":0,\"ticks\":\"\"}},\"type\":\"scattercarpet\"}],\"scattergeo\":[{\"marker\":{\"colorbar\":{\"outlinewidth\":0,\"ticks\":\"\"}},\"type\":\"scattergeo\"}],\"scattergl\":[{\"marker\":{\"colorbar\":{\"outlinewidth\":0,\"ticks\":\"\"}},\"type\":\"scattergl\"}],\"scattermapbox\":[{\"marker\":{\"colorbar\":{\"outlinewidth\":0,\"ticks\":\"\"}},\"type\":\"scattermapbox\"}],\"scatterpolar\":[{\"marker\":{\"colorbar\":{\"outlinewidth\":0,\"ticks\":\"\"}},\"type\":\"scatterpolar\"}],\"scatterpolargl\":[{\"marker\":{\"colorbar\":{\"outlinewidth\":0,\"ticks\":\"\"}},\"type\":\"scatterpolargl\"}],\"scatterternary\":[{\"marker\":{\"colorbar\":{\"outlinewidth\":0,\"ticks\":\"\"}},\"type\":\"scatterternary\"}],\"surface\":[{\"colorbar\":{\"outlinewidth\":0,\"ticks\":\"\"},\"colorscale\":[[0.0,\"#0d0887\"],[0.1111111111111111,\"#46039f\"],[0.2222222222222222,\"#7201a8\"],[0.3333333333333333,\"#9c179e\"],[0.4444444444444444,\"#bd3786\"],[0.5555555555555556,\"#d8576b\"],[0.6666666666666666,\"#ed7953\"],[0.7777777777777778,\"#fb9f3a\"],[0.8888888888888888,\"#fdca26\"],[1.0,\"#f0f921\"]],\"type\":\"surface\"}],\"table\":[{\"cells\":{\"fill\":{\"color\":\"#EBF0F8\"},\"line\":{\"color\":\"white\"}},\"header\":{\"fill\":{\"color\":\"#C8D4E3\"},\"line\":{\"color\":\"white\"}},\"type\":\"table\"}]},\"layout\":{\"annotationdefaults\":{\"arrowcolor\":\"#2a3f5f\",\"arrowhead\":0,\"arrowwidth\":1},\"autotypenumbers\":\"strict\",\"coloraxis\":{\"colorbar\":{\"outlinewidth\":0,\"ticks\":\"\"}},\"colorscale\":{\"diverging\":[[0,\"#8e0152\"],[0.1,\"#c51b7d\"],[0.2,\"#de77ae\"],[0.3,\"#f1b6da\"],[0.4,\"#fde0ef\"],[0.5,\"#f7f7f7\"],[0.6,\"#e6f5d0\"],[0.7,\"#b8e186\"],[0.8,\"#7fbc41\"],[0.9,\"#4d9221\"],[1,\"#276419\"]],\"sequential\":[[0.0,\"#0d0887\"],[0.1111111111111111,\"#46039f\"],[0.2222222222222222,\"#7201a8\"],[0.3333333333333333,\"#9c179e\"],[0.4444444444444444,\"#bd3786\"],[0.5555555555555556,\"#d8576b\"],[0.6666666666666666,\"#ed7953\"],[0.7777777777777778,\"#fb9f3a\"],[0.8888888888888888,\"#fdca26\"],[1.0,\"#f0f921\"]],\"sequentialminus\":[[0.0,\"#0d0887\"],[0.1111111111111111,\"#46039f\"],[0.2222222222222222,\"#7201a8\"],[0.3333333333333333,\"#9c179e\"],[0.4444444444444444,\"#bd3786\"],[0.5555555555555556,\"#d8576b\"],[0.6666666666666666,\"#ed7953\"],[0.7777777777777778,\"#fb9f3a\"],[0.8888888888888888,\"#fdca26\"],[1.0,\"#f0f921\"]]},\"colorway\":[\"#636efa\",\"#EF553B\",\"#00cc96\",\"#ab63fa\",\"#FFA15A\",\"#19d3f3\",\"#FF6692\",\"#B6E880\",\"#FF97FF\",\"#FECB52\"],\"font\":{\"color\":\"#2a3f5f\"},\"geo\":{\"bgcolor\":\"white\",\"lakecolor\":\"white\",\"landcolor\":\"#E5ECF6\",\"showlakes\":true,\"showland\":true,\"subunitcolor\":\"white\"},\"hoverlabel\":{\"align\":\"left\"},\"hovermode\":\"closest\",\"mapbox\":{\"style\":\"light\"},\"paper_bgcolor\":\"white\",\"plot_bgcolor\":\"#E5ECF6\",\"polar\":{\"angularaxis\":{\"gridcolor\":\"white\",\"linecolor\":\"white\",\"ticks\":\"\"},\"bgcolor\":\"#E5ECF6\",\"radialaxis\":{\"gridcolor\":\"white\",\"linecolor\":\"white\",\"ticks\":\"\"}},\"scene\":{\"xaxis\":{\"backgroundcolor\":\"#E5ECF6\",\"gridcolor\":\"white\",\"gridwidth\":2,\"linecolor\":\"white\",\"showbackground\":true,\"ticks\":\"\",\"zerolinecolor\":\"white\"},\"yaxis\":{\"backgroundcolor\":\"#E5ECF6\",\"gridcolor\":\"white\",\"gridwidth\":2,\"linecolor\":\"white\",\"showbackground\":true,\"ticks\":\"\",\"zerolinecolor\":\"white\"},\"zaxis\":{\"backgroundcolor\":\"#E5ECF6\",\"gridcolor\":\"white\",\"gridwidth\":2,\"linecolor\":\"white\",\"showbackground\":true,\"ticks\":\"\",\"zerolinecolor\":\"white\"}},\"shapedefaults\":{\"line\":{\"color\":\"#2a3f5f\"}},\"ternary\":{\"aaxis\":{\"gridcolor\":\"white\",\"linecolor\":\"white\",\"ticks\":\"\"},\"baxis\":{\"gridcolor\":\"white\",\"linecolor\":\"white\",\"ticks\":\"\"},\"bgcolor\":\"#E5ECF6\",\"caxis\":{\"gridcolor\":\"white\",\"linecolor\":\"white\",\"ticks\":\"\"}},\"title\":{\"x\":0.05},\"xaxis\":{\"automargin\":true,\"gridcolor\":\"white\",\"linecolor\":\"white\",\"ticks\":\"\",\"title\":{\"standoff\":15},\"zerolinecolor\":\"white\",\"zerolinewidth\":2},\"yaxis\":{\"automargin\":true,\"gridcolor\":\"white\",\"linecolor\":\"white\",\"ticks\":\"\",\"title\":{\"standoff\":15},\"zerolinecolor\":\"white\",\"zerolinewidth\":2}}},\"xaxis\":{\"anchor\":\"y\",\"domain\":[0.0,1.0],\"title\":{\"text\":\"State/UTs\"}},\"yaxis\":{\"anchor\":\"x\",\"domain\":[0.0,1.0],\"title\":{\"text\":\"Total Cases\"}}},                        {\"responsive\": true}                    ).then(function(){\n",
       "                            \n",
       "var gd = document.getElementById('2c71e456-690c-40c8-9add-f9ea9c132435');\n",
       "var x = new MutationObserver(function (mutations, observer) {{\n",
       "        var display = window.getComputedStyle(gd).display;\n",
       "        if (!display || display === 'none') {{\n",
       "            console.log([gd, 'removed!']);\n",
       "            Plotly.purge(gd);\n",
       "            observer.disconnect();\n",
       "        }}\n",
       "}});\n",
       "\n",
       "// Listen for the removal of the full notebook cells\n",
       "var notebookContainer = gd.closest('#notebook-container');\n",
       "if (notebookContainer) {{\n",
       "    x.observe(notebookContainer, {childList: true});\n",
       "}}\n",
       "\n",
       "// Listen for the clearing of the current output cell\n",
       "var outputEl = gd.closest('.output');\n",
       "if (outputEl) {{\n",
       "    x.observe(outputEl, {childList: true});\n",
       "}}\n",
       "\n",
       "                        })                };                });            </script>        </div>"
      ]
     },
     "metadata": {},
     "output_type": "display_data"
    }
   ],
   "source": [
    "#express\n",
    "px.bar(dataframe,x='State/UTs',y='Total Cases')"
   ]
  },
  {
   "cell_type": "markdown",
   "metadata": {},
   "source": [
    "## significance of plotly (J.PUJITHA)\n",
    "plotly graphs are so PRESENTABLE THAN other ploting techniques\n",
    " plotly graph objects are a high-level interface to plotly which are easy to use. It can plot various types of graphs and charts like scatter plots, line charts, bar charts, box plots, histograms, pie charts, etc. "
   ]
  },
  {
   "cell_type": "code",
   "execution_count": 51,
   "metadata": {},
   "outputs": [
    {
     "data": {
      "text/plain": [
       "<AxesSubplot:xlabel='State/UTs', ylabel='Total Cases'>"
      ]
     },
     "execution_count": 51,
     "metadata": {},
     "output_type": "execute_result"
    },
    {
     "data": {
      "image/png": "[encoded data removed]",
      "text/plain": [
       "<Figure size 1440x864 with 1 Axes>"
      ]
     },
     "metadata": {
      "needs_background": "light"
     },
     "output_type": "display_data"
    }
   ],
   "source": [
    "dataframe.plot(kind='scatter',x='State/UTs',y='Total Cases')"
   ]
  },
  {
   "cell_type": "code",
   "execution_count": 57,
   "metadata": {},
   "outputs": [
    {
     "data": {
      "application/vnd.plotly.v1+json": {
       "config": {
        "linkText": "Export to plot.ly",
        "plotlyServerURL": "https://plot.ly",
        "showLink": true
       },
       "data": [
        {
         "line": {
          "color": "rgba(219, 64, 82, 1.0)",
          "dash": "solid",
          "shape": "linear",
          "width": 1.3
         },
         "marker": {
          "size": 5,
          "symbol": "circle"
         },
         "mode": "markers+lines",
         "name": "Total Cases",
         "text": "",
         "type": "scatter",
         "x": [
          "Andaman and Nicobar",
          "Andhra Pradesh",
          "Arunachal Pradesh",
          "Assam",
          "Bihar",
          "Chandigarh",
          "Chhattisgarh",
          "Dadra and Nagar Haveli and Daman and Diu",
          "Delhi",
          "Goa",
          "Gujarat",
          "Haryana",
          "Himachal Pradesh",
          "Jammu and Kashmir",
          "Jharkhand",
          "Karnataka",
          "Kerala",
          "Ladakh",
          "Lakshadweep",
          "Madhya Pradesh",
          "Maharashtra",
          "Manipur",
          "Meghalaya",
          "Mizoram",
          "Nagaland",
          "Odisha",
          "Puducherry",
          "Punjab",
          "Rajasthan",
          "Sikkim",
          "Tamil Nadu",
          "Telengana",
          "Tripura",
          "Uttar Pradesh",
          "Uttarakhand",
          "West Bengal"
         ],
         "y": [
          7620,
          2049314,
          54572,
          601787,
          725952,
          65224,
          1005325,
          10670,
          1438821,
          176318,
          825916,
          770863,
          218898,
          329320,
          348215,
          2975067,
          4664944,
          20795,
          10361,
          792519,
          6547793,
          120426,
          81161,
          93660,
          31219,
          1025874,
          126308,
          601600,
          954322,
          31412,
          2662177,
          665749,
          84127,
          1709800,
          343530,
          1568321
         ]
        }
       ],
       "layout": {
        "legend": {
         "bgcolor": "#F5F6F9",
         "font": {
          "color": "#4D5663"
         }
        },
        "paper_bgcolor": "#F5F6F9",
        "plot_bgcolor": "#F5F6F9",
        "template": {
         "data": {
          "bar": [
           {
            "error_x": {
             "color": "#2a3f5f"
            },
            "error_y": {
             "color": "#2a3f5f"
            },
            "marker": {
             "line": {
              "color": "#E5ECF6",
              "width": 0.5
             },
             "pattern": {
              "fillmode": "overlay",
              "size": 10,
              "solidity": 0.2
             }
            },
            "type": "bar"
           }
          ],
          "barpolar": [
           {
            "marker": {
             "line": {
              "color": "#E5ECF6",
              "width": 0.5
             },
             "pattern": {
              "fillmode": "overlay",
              "size": 10,
              "solidity": 0.2
             }
            },
            "type": "barpolar"
           }
          ],
          "carpet": [
           {
            "aaxis": {
             "endlinecolor": "#2a3f5f",
             "gridcolor": "white",
             "linecolor": "white",
             "minorgridcolor": "white",
             "startlinecolor": "#2a3f5f"
            },
            "baxis": {
             "endlinecolor": "#2a3f5f",
             "gridcolor": "white",
             "linecolor": "white",
             "minorgridcolor": "white",
             "startlinecolor": "#2a3f5f"
            },
            "type": "carpet"
           }
          ],
          "choropleth": [
           {
            "colorbar": {
             "outlinewidth": 0,
             "ticks": ""
            },
            "type": "choropleth"
           }
          ],
          "contour": [
           {
            "colorbar": {
             "outlinewidth": 0,
             "ticks": ""
            },
            "colorscale": [
             [
              0,
              "#0d0887"
             ],
             [
              0.1111111111111111,
              "#46039f"
             ],
             [
              0.2222222222222222,
              "#7201a8"
             ],
             [
              0.3333333333333333,
              "#9c179e"
             ],
             [
              0.4444444444444444,
              "#bd3786"
             ],
             [
              0.5555555555555556,
              "#d8576b"
             ],
             [
              0.6666666666666666,
              "#ed7953"
             ],
             [
              0.7777777777777778,
              "#fb9f3a"
             ],
             [
              0.8888888888888888,
              "#fdca26"
             ],
             [
              1,
              "#f0f921"
             ]
            ],
            "type": "contour"
           }
          ],
          "contourcarpet": [
           {
            "colorbar": {
             "outlinewidth": 0,
             "ticks": ""
            },
            "type": "contourcarpet"
           }
          ],
          "heatmap": [
           {
            "colorbar": {
             "outlinewidth": 0,
             "ticks": ""
            },
            "colorscale": [
             [
              0,
              "#0d0887"
             ],
             [
              0.1111111111111111,
              "#46039f"
             ],
             [
              0.2222222222222222,
              "#7201a8"
             ],
             [
              0.3333333333333333,
              "#9c179e"
             ],
             [
              0.4444444444444444,
              "#bd3786"
             ],
             [
              0.5555555555555556,
              "#d8576b"
             ],
             [
              0.6666666666666666,
              "#ed7953"
             ],
             [
              0.7777777777777778,
              "#fb9f3a"
             ],
             [
              0.8888888888888888,
              "#fdca26"
             ],
             [
              1,
              "#f0f921"
             ]
            ],
            "type": "heatmap"
           }
          ],
          "heatmapgl": [
           {
            "colorbar": {
             "outlinewidth": 0,
             "ticks": ""
            },
            "colorscale": [
             [
              0,
              "#0d0887"
             ],
             [
              0.1111111111111111,
              "#46039f"
             ],
             [
              0.2222222222222222,
              "#7201a8"
             ],
             [
              0.3333333333333333,
              "#9c179e"
             ],
             [
              0.4444444444444444,
              "#bd3786"
             ],
             [
              0.5555555555555556,
              "#d8576b"
             ],
             [
              0.6666666666666666,
              "#ed7953"
             ],
             [
              0.7777777777777778,
              "#fb9f3a"
             ],
             [
              0.8888888888888888,
              "#fdca26"
             ],
             [
              1,
              "#f0f921"
             ]
            ],
            "type": "heatmapgl"
           }
          ],
          "histogram": [
           {
            "marker": {
             "pattern": {
              "fillmode": "overlay",
              "size": 10,
              "solidity": 0.2
             }
            },
            "type": "histogram"
           }
          ],
          "histogram2d": [
           {
            "colorbar": {
             "outlinewidth": 0,
             "ticks": ""
            },
            "colorscale": [
             [
              0,
              "#0d0887"
             ],
             [
              0.1111111111111111,
              "#46039f"
             ],
             [
              0.2222222222222222,
              "#7201a8"
             ],
             [
              0.3333333333333333,
              "#9c179e"
             ],
             [
              0.4444444444444444,
              "#bd3786"
             ],
             [
              0.5555555555555556,
              "#d8576b"
             ],
             [
              0.6666666666666666,
              "#ed7953"
             ],
             [
              0.7777777777777778,
              "#fb9f3a"
             ],
             [
              0.8888888888888888,
              "#fdca26"
             ],
             [
              1,
              "#f0f921"
             ]
            ],
            "type": "histogram2d"
           }
          ],
          "histogram2dcontour": [
           {
            "colorbar": {
             "outlinewidth": 0,
             "ticks": ""
            },
            "colorscale": [
             [
              0,
              "#0d0887"
             ],
             [
              0.1111111111111111,
              "#46039f"
             ],
             [
              0.2222222222222222,
              "#7201a8"
             ],
             [
              0.3333333333333333,
              "#9c179e"
             ],
             [
              0.4444444444444444,
              "#bd3786"
             ],
             [
              0.5555555555555556,
              "#d8576b"
             ],
             [
              0.6666666666666666,
              "#ed7953"
             ],
             [
              0.7777777777777778,
              "#fb9f3a"
             ],
             [
              0.8888888888888888,
              "#fdca26"
             ],
             [
              1,
              "#f0f921"
             ]
            ],
            "type": "histogram2dcontour"
           }
          ],
          "mesh3d": [
           {
            "colorbar": {
             "outlinewidth": 0,
             "ticks": ""
            },
            "type": "mesh3d"
           }
          ],
          "parcoords": [
           {
            "line": {
             "colorbar": {
              "outlinewidth": 0,
              "ticks": ""
             }
            },
            "type": "parcoords"
           }
          ],
          "pie": [
           {
            "automargin": true,
            "type": "pie"
           }
          ],
          "scatter": [
           {
            "marker": {
             "colorbar": {
              "outlinewidth": 0,
              "ticks": ""
             }
            },
            "type": "scatter"
           }
          ],
          "scatter3d": [
           {
            "line": {
             "colorbar": {
              "outlinewidth": 0,
              "ticks": ""
             }
            },
            "marker": {
             "colorbar": {
              "outlinewidth": 0,
              "ticks": ""
             }
            },
            "type": "scatter3d"
           }
          ],
          "scattercarpet": [
           {
            "marker": {
             "colorbar": {
              "outlinewidth": 0,
              "ticks": ""
             }
            },
            "type": "scattercarpet"
           }
          ],
          "scattergeo": [
           {
            "marker": {
             "colorbar": {
              "outlinewidth": 0,
              "ticks": ""
             }
            },
            "type": "scattergeo"
           }
          ],
          "scattergl": [
           {
            "marker": {
             "colorbar": {
              "outlinewidth": 0,
              "ticks": ""
             }
            },
            "type": "scattergl"
           }
          ],
          "scattermapbox": [
           {
            "marker": {
             "colorbar": {
              "outlinewidth": 0,
              "ticks": ""
             }
            },
            "type": "scattermapbox"
           }
          ],
          "scatterpolar": [
           {
            "marker": {
             "colorbar": {
              "outlinewidth": 0,
              "ticks": ""
             }
            },
            "type": "scatterpolar"
           }
          ],
          "scatterpolargl": [
           {
            "marker": {
             "colorbar": {
              "outlinewidth": 0,
              "ticks": ""
             }
            },
            "type": "scatterpolargl"
           }
          ],
          "scatterternary": [
           {
            "marker": {
             "colorbar": {
              "outlinewidth": 0,
              "ticks": ""
             }
            },
            "type": "scatterternary"
           }
          ],
          "surface": [
           {
            "colorbar": {
             "outlinewidth": 0,
             "ticks": ""
            },
            "colorscale": [
             [
              0,
              "#0d0887"
             ],
             [
              0.1111111111111111,
              "#46039f"
             ],
             [
              0.2222222222222222,
              "#7201a8"
             ],
             [
              0.3333333333333333,
              "#9c179e"
             ],
             [
              0.4444444444444444,
              "#bd3786"
             ],
             [
              0.5555555555555556,
              "#d8576b"
             ],
             [
              0.6666666666666666,
              "#ed7953"
             ],
             [
              0.7777777777777778,
              "#fb9f3a"
             ],
             [
              0.8888888888888888,
              "#fdca26"
             ],
             [
              1,
              "#f0f921"
             ]
            ],
            "type": "surface"
           }
          ],
          "table": [
           {
            "cells": {
             "fill": {
              "color": "#EBF0F8"
             },
             "line": {
              "color": "white"
             }
            },
            "header": {
             "fill": {
              "color": "#C8D4E3"
             },
             "line": {
              "color": "white"
             }
            },
            "type": "table"
           }
          ]
         },
         "layout": {
          "annotationdefaults": {
           "arrowcolor": "#2a3f5f",
           "arrowhead": 0,
           "arrowwidth": 1
          },
          "autotypenumbers": "strict",
          "coloraxis": {
           "colorbar": {
            "outlinewidth": 0,
            "ticks": ""
           }
          },
          "colorscale": {
           "diverging": [
            [
             0,
             "#8e0152"
            ],
            [
             0.1,
             "#c51b7d"
            ],
            [
             0.2,
             "#de77ae"
            ],
            [
             0.3,
             "#f1b6da"
            ],
            [
             0.4,
             "#fde0ef"
            ],
            [
             0.5,
             "#f7f7f7"
            ],
            [
             0.6,
             "#e6f5d0"
            ],
            [
             0.7,
             "#b8e186"
            ],
            [
             0.8,
             "#7fbc41"
            ],
            [
             0.9,
             "#4d9221"
            ],
            [
             1,
             "#276419"
            ]
           ],
           "sequential": [
            [
             0,
             "#0d0887"
            ],
            [
             0.1111111111111111,
             "#46039f"
            ],
            [
             0.2222222222222222,
             "#7201a8"
            ],
            [
             0.3333333333333333,
             "#9c179e"
            ],
            [
             0.4444444444444444,
             "#bd3786"
            ],
            [
             0.5555555555555556,
             "#d8576b"
            ],
            [
             0.6666666666666666,
             "#ed7953"
            ],
            [
             0.7777777777777778,
             "#fb9f3a"
            ],
            [
             0.8888888888888888,
             "#fdca26"
            ],
            [
             1,
             "#f0f921"
            ]
           ],
           "sequentialminus": [
            [
             0,
             "#0d0887"
            ],
            [
             0.1111111111111111,
             "#46039f"
            ],
            [
             0.2222222222222222,
             "#7201a8"
            ],
            [
             0.3333333333333333,
             "#9c179e"
            ],
            [
             0.4444444444444444,
             "#bd3786"
            ],
            [
             0.5555555555555556,
             "#d8576b"
            ],
            [
             0.6666666666666666,
             "#ed7953"
            ],
            [
             0.7777777777777778,
             "#fb9f3a"
            ],
            [
             0.8888888888888888,
             "#fdca26"
            ],
            [
             1,
             "#f0f921"
            ]
           ]
          },
          "colorway": [
           "#636efa",
           "#EF553B",
           "#00cc96",
           "#ab63fa",
           "#FFA15A",
           "#19d3f3",
           "#FF6692",
           "#B6E880",
           "#FF97FF",
           "#FECB52"
          ],
          "font": {
           "color": "#2a3f5f"
          },
          "geo": {
           "bgcolor": "white",
           "lakecolor": "white",
           "landcolor": "#E5ECF6",
           "showlakes": true,
           "showland": true,
           "subunitcolor": "white"
          },
          "hoverlabel": {
           "align": "left"
          },
          "hovermode": "closest",
          "mapbox": {
           "style": "light"
          },
          "paper_bgcolor": "white",
          "plot_bgcolor": "#E5ECF6",
          "polar": {
           "angularaxis": {
            "gridcolor": "white",
            "linecolor": "white",
            "ticks": ""
           },
           "bgcolor": "#E5ECF6",
           "radialaxis": {
            "gridcolor": "white",
            "linecolor": "white",
            "ticks": ""
           }
          },
          "scene": {
           "xaxis": {
            "backgroundcolor": "#E5ECF6",
            "gridcolor": "white",
            "gridwidth": 2,
            "linecolor": "white",
            "showbackground": true,
            "ticks": "",
            "zerolinecolor": "white"
           },
           "yaxis": {
            "backgroundcolor": "#E5ECF6",
            "gridcolor": "white",
            "gridwidth": 2,
            "linecolor": "white",
            "showbackground": true,
            "ticks": "",
            "zerolinecolor": "white"
           },
           "zaxis": {
            "backgroundcolor": "#E5ECF6",
            "gridcolor": "white",
            "gridwidth": 2,
            "linecolor": "white",
            "showbackground": true,
            "ticks": "",
            "zerolinecolor": "white"
           }
          },
          "shapedefaults": {
           "line": {
            "color": "#2a3f5f"
           }
          },
          "ternary": {
           "aaxis": {
            "gridcolor": "white",
            "linecolor": "white",
            "ticks": ""
           },
           "baxis": {
            "gridcolor": "white",
            "linecolor": "white",
            "ticks": ""
           },
           "bgcolor": "#E5ECF6",
           "caxis": {
            "gridcolor": "white",
            "linecolor": "white",
            "ticks": ""
           }
          },
          "title": {
           "x": 0.05
          },
          "xaxis": {
           "automargin": true,
           "gridcolor": "white",
           "linecolor": "white",
           "ticks": "",
           "title": {
            "standoff": 15
           },
           "zerolinecolor": "white",
           "zerolinewidth": 2
          },
          "yaxis": {
           "automargin": true,
           "gridcolor": "white",
           "linecolor": "white",
           "ticks": "",
           "title": {
            "standoff": 15
           },
           "zerolinecolor": "white",
           "zerolinewidth": 2
          }
         }
        },
        "title": {
         "font": {
          "color": "#4D5663"
         }
        },
        "xaxis": {
         "gridcolor": "#E1E5ED",
         "showgrid": true,
         "tickfont": {
          "color": "#4D5663"
         },
         "title": {
          "font": {
           "color": "#4D5663"
          },
          "text": ""
         },
         "zerolinecolor": "#E1E5ED"
        },
        "yaxis": {
         "gridcolor": "#E1E5ED",
         "showgrid": true,
         "tickfont": {
          "color": "#4D5663"
         },
         "title": {
          "font": {
           "color": "#4D5663"
          },
          "text": ""
         },
         "zerolinecolor": "#E1E5ED"
        }
       }
      },
      "text/html": [
       "<div>                            <div id=\"298d7235-425e-4de0-be7c-e4313f57205e\" class=\"plotly-graph-div\" style=\"height:525px; width:100%;\"></div>            <script type=\"text/javascript\">                require([\"plotly\"], function(Plotly) {                    window.PLOTLYENV=window.PLOTLYENV || {};\n",
       "                    window.PLOTLYENV.BASE_URL='https://plot.ly';                                    if (document.getElementById(\"298d7235-425e-4de0-be7c-e4313f57205e\")) {                    Plotly.newPlot(                        \"298d7235-425e-4de0-be7c-e4313f57205e\",                        [{\"line\":{\"color\":\"rgba(219, 64, 82, 1.0)\",\"dash\":\"solid\",\"shape\":\"linear\",\"width\":1.3},\"marker\":{\"size\":5,\"symbol\":\"circle\"},\"mode\":\"markers+lines\",\"name\":\"Total Cases\",\"text\":\"\",\"type\":\"scatter\",\"x\":[\"Andaman and Nicobar\",\"Andhra Pradesh\",\"Arunachal Pradesh\",\"Assam\",\"Bihar\",\"Chandigarh\",\"Chhattisgarh\",\"Dadra and Nagar Haveli and Daman and Diu\",\"Delhi\",\"Goa\",\"Gujarat\",\"Haryana\",\"Himachal Pradesh\",\"Jammu and Kashmir\",\"Jharkhand\",\"Karnataka\",\"Kerala\",\"Ladakh\",\"Lakshadweep\",\"Madhya Pradesh\",\"Maharashtra\",\"Manipur\",\"Meghalaya\",\"Mizoram\",\"Nagaland\",\"Odisha\",\"Puducherry\",\"Punjab\",\"Rajasthan\",\"Sikkim\",\"Tamil Nadu\",\"Telengana\",\"Tripura\",\"Uttar Pradesh\",\"Uttarakhand\",\"West Bengal\"],\"y\":[7620,2049314,54572,601787,725952,65224,1005325,10670,1438821,176318,825916,770863,218898,329320,348215,2975067,4664944,20795,10361,792519,6547793,120426,81161,93660,31219,1025874,126308,601600,954322,31412,2662177,665749,84127,1709800,343530,1568321]}],                        {\"legend\":{\"bgcolor\":\"#F5F6F9\",\"font\":{\"color\":\"#4D5663\"}},\"paper_bgcolor\":\"#F5F6F9\",\"plot_bgcolor\":\"#F5F6F9\",\"template\":{\"data\":{\"bar\":[{\"error_x\":{\"color\":\"#2a3f5f\"},\"error_y\":{\"color\":\"#2a3f5f\"},\"marker\":{\"line\":{\"color\":\"#E5ECF6\",\"width\":0.5},\"pattern\":{\"fillmode\":\"overlay\",\"size\":10,\"solidity\":0.2}},\"type\":\"bar\"}],\"barpolar\":[{\"marker\":{\"line\":{\"color\":\"#E5ECF6\",\"width\":0.5},\"pattern\":{\"fillmode\":\"overlay\",\"size\":10,\"solidity\":0.2}},\"type\":\"barpolar\"}],\"carpet\":[{\"aaxis\":{\"endlinecolor\":\"#2a3f5f\",\"gridcolor\":\"white\",\"linecolor\":\"white\",\"minorgridcolor\":\"white\",\"startlinecolor\":\"#2a3f5f\"},\"baxis\":{\"endlinecolor\":\"#2a3f5f\",\"gridcolor\":\"white\",\"linecolor\":\"white\",\"minorgridcolor\":\"white\",\"startlinecolor\":\"#2a3f5f\"},\"type\":\"carpet\"}],\"choropleth\":[{\"colorbar\":{\"outlinewidth\":0,\"ticks\":\"\"},\"type\":\"choropleth\"}],\"contour\":[{\"colorbar\":{\"outlinewidth\":0,\"ticks\":\"\"},\"colorscale\":[[0.0,\"#0d0887\"],[0.1111111111111111,\"#46039f\"],[0.2222222222222222,\"#7201a8\"],[0.3333333333333333,\"#9c179e\"],[0.4444444444444444,\"#bd3786\"],[0.5555555555555556,\"#d8576b\"],[0.6666666666666666,\"#ed7953\"],[0.7777777777777778,\"#fb9f3a\"],[0.8888888888888888,\"#fdca26\"],[1.0,\"#f0f921\"]],\"type\":\"contour\"}],\"contourcarpet\":[{\"colorbar\":{\"outlinewidth\":0,\"ticks\":\"\"},\"type\":\"contourcarpet\"}],\"heatmap\":[{\"colorbar\":{\"outlinewidth\":0,\"ticks\":\"\"},\"colorscale\":[[0.0,\"#0d0887\"],[0.1111111111111111,\"#46039f\"],[0.2222222222222222,\"#7201a8\"],[0.3333333333333333,\"#9c179e\"],[0.4444444444444444,\"#bd3786\"],[0.5555555555555556,\"#d8576b\"],[0.6666666666666666,\"#ed7953\"],[0.7777777777777778,\"#fb9f3a\"],[0.8888888888888888,\"#fdca26\"],[1.0,\"#f0f921\"]],\"type\":\"heatmap\"}],\"heatmapgl\":[{\"colorbar\":{\"outlinewidth\":0,\"ticks\":\"\"},\"colorscale\":[[0.0,\"#0d0887\"],[0.1111111111111111,\"#46039f\"],[0.2222222222222222,\"#7201a8\"],[0.3333333333333333,\"#9c179e\"],[0.4444444444444444,\"#bd3786\"],[0.5555555555555556,\"#d8576b\"],[0.6666666666666666,\"#ed7953\"],[0.7777777777777778,\"#fb9f3a\"],[0.8888888888888888,\"#fdca26\"],[1.0,\"#f0f921\"]],\"type\":\"heatmapgl\"}],\"histogram\":[{\"marker\":{\"pattern\":{\"fillmode\":\"overlay\",\"size\":10,\"solidity\":0.2}},\"type\":\"histogram\"}],\"histogram2d\":[{\"colorbar\":{\"outlinewidth\":0,\"ticks\":\"\"},\"colorscale\":[[0.0,\"#0d0887\"],[0.1111111111111111,\"#46039f\"],[0.2222222222222222,\"#7201a8\"],[0.3333333333333333,\"#9c179e\"],[0.4444444444444444,\"#bd3786\"],[0.5555555555555556,\"#d8576b\"],[0.6666666666666666,\"#ed7953\"],[0.7777777777777778,\"#fb9f3a\"],[0.8888888888888888,\"#fdca26\"],[1.0,\"#f0f921\"]],\"type\":\"histogram2d\"}],\"histogram2dcontour\":[{\"colorbar\":{\"outlinewidth\":0,\"ticks\":\"\"},\"colorscale\":[[0.0,\"#0d0887\"],[0.1111111111111111,\"#46039f\"],[0.2222222222222222,\"#7201a8\"],[0.3333333333333333,\"#9c179e\"],[0.4444444444444444,\"#bd3786\"],[0.5555555555555556,\"#d8576b\"],[0.6666666666666666,\"#ed7953\"],[0.7777777777777778,\"#fb9f3a\"],[0.8888888888888888,\"#fdca26\"],[1.0,\"#f0f921\"]],\"type\":\"histogram2dcontour\"}],\"mesh3d\":[{\"colorbar\":{\"outlinewidth\":0,\"ticks\":\"\"},\"type\":\"mesh3d\"}],\"parcoords\":[{\"line\":{\"colorbar\":{\"outlinewidth\":0,\"ticks\":\"\"}},\"type\":\"parcoords\"}],\"pie\":[{\"automargin\":true,\"type\":\"pie\"}],\"scatter\":[{\"marker\":{\"colorbar\":{\"outlinewidth\":0,\"ticks\":\"\"}},\"type\":\"scatter\"}],\"scatter3d\":[{\"line\":{\"colorbar\":{\"outlinewidth\":0,\"ticks\":\"\"}},\"marker\":{\"colorbar\":{\"outlinewidth\":0,\"ticks\":\"\"}},\"type\":\"scatter3d\"}],\"scattercarpet\":[{\"marker\":{\"colorbar\":{\"outlinewidth\":0,\"ticks\":\"\"}},\"type\":\"scattercarpet\"}],\"scattergeo\":[{\"marker\":{\"colorbar\":{\"outlinewidth\":0,\"ticks\":\"\"}},\"type\":\"scattergeo\"}],\"scattergl\":[{\"marker\":{\"colorbar\":{\"outlinewidth\":0,\"ticks\":\"\"}},\"type\":\"scattergl\"}],\"scattermapbox\":[{\"marker\":{\"colorbar\":{\"outlinewidth\":0,\"ticks\":\"\"}},\"type\":\"scattermapbox\"}],\"scatterpolar\":[{\"marker\":{\"colorbar\":{\"outlinewidth\":0,\"ticks\":\"\"}},\"type\":\"scatterpolar\"}],\"scatterpolargl\":[{\"marker\":{\"colorbar\":{\"outlinewidth\":0,\"ticks\":\"\"}},\"type\":\"scatterpolargl\"}],\"scatterternary\":[{\"marker\":{\"colorbar\":{\"outlinewidth\":0,\"ticks\":\"\"}},\"type\":\"scatterternary\"}],\"surface\":[{\"colorbar\":{\"outlinewidth\":0,\"ticks\":\"\"},\"colorscale\":[[0.0,\"#0d0887\"],[0.1111111111111111,\"#46039f\"],[0.2222222222222222,\"#7201a8\"],[0.3333333333333333,\"#9c179e\"],[0.4444444444444444,\"#bd3786\"],[0.5555555555555556,\"#d8576b\"],[0.6666666666666666,\"#ed7953\"],[0.7777777777777778,\"#fb9f3a\"],[0.8888888888888888,\"#fdca26\"],[1.0,\"#f0f921\"]],\"type\":\"surface\"}],\"table\":[{\"cells\":{\"fill\":{\"color\":\"#EBF0F8\"},\"line\":{\"color\":\"white\"}},\"header\":{\"fill\":{\"color\":\"#C8D4E3\"},\"line\":{\"color\":\"white\"}},\"type\":\"table\"}]},\"layout\":{\"annotationdefaults\":{\"arrowcolor\":\"#2a3f5f\",\"arrowhead\":0,\"arrowwidth\":1},\"autotypenumbers\":\"strict\",\"coloraxis\":{\"colorbar\":{\"outlinewidth\":0,\"ticks\":\"\"}},\"colorscale\":{\"diverging\":[[0,\"#8e0152\"],[0.1,\"#c51b7d\"],[0.2,\"#de77ae\"],[0.3,\"#f1b6da\"],[0.4,\"#fde0ef\"],[0.5,\"#f7f7f7\"],[0.6,\"#e6f5d0\"],[0.7,\"#b8e186\"],[0.8,\"#7fbc41\"],[0.9,\"#4d9221\"],[1,\"#276419\"]],\"sequential\":[[0.0,\"#0d0887\"],[0.1111111111111111,\"#46039f\"],[0.2222222222222222,\"#7201a8\"],[0.3333333333333333,\"#9c179e\"],[0.4444444444444444,\"#bd3786\"],[0.5555555555555556,\"#d8576b\"],[0.6666666666666666,\"#ed7953\"],[0.7777777777777778,\"#fb9f3a\"],[0.8888888888888888,\"#fdca26\"],[1.0,\"#f0f921\"]],\"sequentialminus\":[[0.0,\"#0d0887\"],[0.1111111111111111,\"#46039f\"],[0.2222222222222222,\"#7201a8\"],[0.3333333333333333,\"#9c179e\"],[0.4444444444444444,\"#bd3786\"],[0.5555555555555556,\"#d8576b\"],[0.6666666666666666,\"#ed7953\"],[0.7777777777777778,\"#fb9f3a\"],[0.8888888888888888,\"#fdca26\"],[1.0,\"#f0f921\"]]},\"colorway\":[\"#636efa\",\"#EF553B\",\"#00cc96\",\"#ab63fa\",\"#FFA15A\",\"#19d3f3\",\"#FF6692\",\"#B6E880\",\"#FF97FF\",\"#FECB52\"],\"font\":{\"color\":\"#2a3f5f\"},\"geo\":{\"bgcolor\":\"white\",\"lakecolor\":\"white\",\"landcolor\":\"#E5ECF6\",\"showlakes\":true,\"showland\":true,\"subunitcolor\":\"white\"},\"hoverlabel\":{\"align\":\"left\"},\"hovermode\":\"closest\",\"mapbox\":{\"style\":\"light\"},\"paper_bgcolor\":\"white\",\"plot_bgcolor\":\"#E5ECF6\",\"polar\":{\"angularaxis\":{\"gridcolor\":\"white\",\"linecolor\":\"white\",\"ticks\":\"\"},\"bgcolor\":\"#E5ECF6\",\"radialaxis\":{\"gridcolor\":\"white\",\"linecolor\":\"white\",\"ticks\":\"\"}},\"scene\":{\"xaxis\":{\"backgroundcolor\":\"#E5ECF6\",\"gridcolor\":\"white\",\"gridwidth\":2,\"linecolor\":\"white\",\"showbackground\":true,\"ticks\":\"\",\"zerolinecolor\":\"white\"},\"yaxis\":{\"backgroundcolor\":\"#E5ECF6\",\"gridcolor\":\"white\",\"gridwidth\":2,\"linecolor\":\"white\",\"showbackground\":true,\"ticks\":\"\",\"zerolinecolor\":\"white\"},\"zaxis\":{\"backgroundcolor\":\"#E5ECF6\",\"gridcolor\":\"white\",\"gridwidth\":2,\"linecolor\":\"white\",\"showbackground\":true,\"ticks\":\"\",\"zerolinecolor\":\"white\"}},\"shapedefaults\":{\"line\":{\"color\":\"#2a3f5f\"}},\"ternary\":{\"aaxis\":{\"gridcolor\":\"white\",\"linecolor\":\"white\",\"ticks\":\"\"},\"baxis\":{\"gridcolor\":\"white\",\"linecolor\":\"white\",\"ticks\":\"\"},\"bgcolor\":\"#E5ECF6\",\"caxis\":{\"gridcolor\":\"white\",\"linecolor\":\"white\",\"ticks\":\"\"}},\"title\":{\"x\":0.05},\"xaxis\":{\"automargin\":true,\"gridcolor\":\"white\",\"linecolor\":\"white\",\"ticks\":\"\",\"title\":{\"standoff\":15},\"zerolinecolor\":\"white\",\"zerolinewidth\":2},\"yaxis\":{\"automargin\":true,\"gridcolor\":\"white\",\"linecolor\":\"white\",\"ticks\":\"\",\"title\":{\"standoff\":15},\"zerolinecolor\":\"white\",\"zerolinewidth\":2}}},\"title\":{\"font\":{\"color\":\"#4D5663\"}},\"xaxis\":{\"gridcolor\":\"#E1E5ED\",\"showgrid\":true,\"tickfont\":{\"color\":\"#4D5663\"},\"title\":{\"font\":{\"color\":\"#4D5663\"},\"text\":\"\"},\"zerolinecolor\":\"#E1E5ED\"},\"yaxis\":{\"gridcolor\":\"#E1E5ED\",\"showgrid\":true,\"tickfont\":{\"color\":\"#4D5663\"},\"title\":{\"font\":{\"color\":\"#4D5663\"},\"text\":\"\"},\"zerolinecolor\":\"#E1E5ED\"}},                        {\"showLink\": true, \"linkText\": \"Export to plot.ly\", \"plotlyServerURL\": \"https://plot.ly\", \"responsive\": true}                    ).then(function(){\n",
       "                            \n",
       "var gd = document.getElementById('298d7235-425e-4de0-be7c-e4313f57205e');\n",
       "var x = new MutationObserver(function (mutations, observer) {{\n",
       "        var display = window.getComputedStyle(gd).display;\n",
       "        if (!display || display === 'none') {{\n",
       "            console.log([gd, 'removed!']);\n",
       "            Plotly.purge(gd);\n",
       "            observer.disconnect();\n",
       "        }}\n",
       "}});\n",
       "\n",
       "// Listen for the removal of the full notebook cells\n",
       "var notebookContainer = gd.closest('#notebook-container');\n",
       "if (notebookContainer) {{\n",
       "    x.observe(notebookContainer, {childList: true});\n",
       "}}\n",
       "\n",
       "// Listen for the clearing of the current output cell\n",
       "var outputEl = gd.closest('.output');\n",
       "if (outputEl) {{\n",
       "    x.observe(outputEl, {childList: true});\n",
       "}}\n",
       "\n",
       "                        })                };                });            </script>        </div>"
      ]
     },
     "metadata": {},
     "output_type": "display_data"
    }
   ],
   "source": [
    "dataframe.iplot(kind='scatter',x='State/UTs',y='Total Cases',mode='markers+lines',size=5,vcolor)"
   ]
  },
  {
   "cell_type": "markdown",
   "metadata": {},
   "source": [
    "clear diffrence between between plotly's scatter and bar to pandas or matplotlib is seen now \n",
    "plotly is very comforatble to use as well as presentable\n",
    "                           --j.pujitha"
   ]
  },
  {
   "cell_type": "code",
   "execution_count": 60,
   "metadata": {},
   "outputs": [
    {
     "data": {
      "application/vnd.plotly.v1+json": {
       "config": {
        "plotlyServerURL": "https://plot.ly"
       },
       "data": [
        {
         "hovertemplate": "State/UTs=%{x}<br>Total Cases=%{y}<extra></extra>",
         "legendgroup": "",
         "marker": {
          "color": "#636efa",
          "symbol": "circle"
         },
         "mode": "markers",
         "name": "",
         "orientation": "v",
         "showlegend": false,
         "type": "scatter",
         "x": [
          "Andaman and Nicobar",
          "Andhra Pradesh",
          "Arunachal Pradesh",
          "Assam",
          "Bihar",
          "Chandigarh",
          "Chhattisgarh",
          "Dadra and Nagar Haveli and Daman and Diu",
          "Delhi",
          "Goa",
          "Gujarat",
          "Haryana",
          "Himachal Pradesh",
          "Jammu and Kashmir",
          "Jharkhand",
          "Karnataka",
          "Kerala",
          "Ladakh",
          "Lakshadweep",
          "Madhya Pradesh",
          "Maharashtra",
          "Manipur",
          "Meghalaya",
          "Mizoram",
          "Nagaland",
          "Odisha",
          "Puducherry",
          "Punjab",
          "Rajasthan",
          "Sikkim",
          "Tamil Nadu",
          "Telengana",
          "Tripura",
          "Uttar Pradesh",
          "Uttarakhand",
          "West Bengal"
         ],
         "xaxis": "x",
         "y": [
          7620,
          2049314,
          54572,
          601787,
          725952,
          65224,
          1005325,
          10670,
          1438821,
          176318,
          825916,
          770863,
          218898,
          329320,
          348215,
          2975067,
          4664944,
          20795,
          10361,
          792519,
          6547793,
          120426,
          81161,
          93660,
          31219,
          1025874,
          126308,
          601600,
          954322,
          31412,
          2662177,
          665749,
          84127,
          1709800,
          343530,
          1568321
         ],
         "yaxis": "y"
        }
       ],
       "layout": {
        "legend": {
         "tracegroupgap": 0
        },
        "margin": {
         "t": 60
        },
        "template": {
         "data": {
          "bar": [
           {
            "error_x": {
             "color": "#2a3f5f"
            },
            "error_y": {
             "color": "#2a3f5f"
            },
            "marker": {
             "line": {
              "color": "#E5ECF6",
              "width": 0.5
             },
             "pattern": {
              "fillmode": "overlay",
              "size": 10,
              "solidity": 0.2
             }
            },
            "type": "bar"
           }
          ],
          "barpolar": [
           {
            "marker": {
             "line": {
              "color": "#E5ECF6",
              "width": 0.5
             },
             "pattern": {
              "fillmode": "overlay",
              "size": 10,
              "solidity": 0.2
             }
            },
            "type": "barpolar"
           }
          ],
          "carpet": [
           {
            "aaxis": {
             "endlinecolor": "#2a3f5f",
             "gridcolor": "white",
             "linecolor": "white",
             "minorgridcolor": "white",
             "startlinecolor": "#2a3f5f"
            },
            "baxis": {
             "endlinecolor": "#2a3f5f",
             "gridcolor": "white",
             "linecolor": "white",
             "minorgridcolor": "white",
             "startlinecolor": "#2a3f5f"
            },
            "type": "carpet"
           }
          ],
          "choropleth": [
           {
            "colorbar": {
             "outlinewidth": 0,
             "ticks": ""
            },
            "type": "choropleth"
           }
          ],
          "contour": [
           {
            "colorbar": {
             "outlinewidth": 0,
             "ticks": ""
            },
            "colorscale": [
             [
              0,
              "#0d0887"
             ],
             [
              0.1111111111111111,
              "#46039f"
             ],
             [
              0.2222222222222222,
              "#7201a8"
             ],
             [
              0.3333333333333333,
              "#9c179e"
             ],
             [
              0.4444444444444444,
              "#bd3786"
             ],
             [
              0.5555555555555556,
              "#d8576b"
             ],
             [
              0.6666666666666666,
              "#ed7953"
             ],
             [
              0.7777777777777778,
              "#fb9f3a"
             ],
             [
              0.8888888888888888,
              "#fdca26"
             ],
             [
              1,
              "#f0f921"
             ]
            ],
            "type": "contour"
           }
          ],
          "contourcarpet": [
           {
            "colorbar": {
             "outlinewidth": 0,
             "ticks": ""
            },
            "type": "contourcarpet"
           }
          ],
          "heatmap": [
           {
            "colorbar": {
             "outlinewidth": 0,
             "ticks": ""
            },
            "colorscale": [
             [
              0,
              "#0d0887"
             ],
             [
              0.1111111111111111,
              "#46039f"
             ],
             [
              0.2222222222222222,
              "#7201a8"
             ],
             [
              0.3333333333333333,
              "#9c179e"
             ],
             [
              0.4444444444444444,
              "#bd3786"
             ],
             [
              0.5555555555555556,
              "#d8576b"
             ],
             [
              0.6666666666666666,
              "#ed7953"
             ],
             [
              0.7777777777777778,
              "#fb9f3a"
             ],
             [
              0.8888888888888888,
              "#fdca26"
             ],
             [
              1,
              "#f0f921"
             ]
            ],
            "type": "heatmap"
           }
          ],
          "heatmapgl": [
           {
            "colorbar": {
             "outlinewidth": 0,
             "ticks": ""
            },
            "colorscale": [
             [
              0,
              "#0d0887"
             ],
             [
              0.1111111111111111,
              "#46039f"
             ],
             [
              0.2222222222222222,
              "#7201a8"
             ],
             [
              0.3333333333333333,
              "#9c179e"
             ],
             [
              0.4444444444444444,
              "#bd3786"
             ],
             [
              0.5555555555555556,
              "#d8576b"
             ],
             [
              0.6666666666666666,
              "#ed7953"
             ],
             [
              0.7777777777777778,
              "#fb9f3a"
             ],
             [
              0.8888888888888888,
              "#fdca26"
             ],
             [
              1,
              "#f0f921"
             ]
            ],
            "type": "heatmapgl"
           }
          ],
          "histogram": [
           {
            "marker": {
             "pattern": {
              "fillmode": "overlay",
              "size": 10,
              "solidity": 0.2
             }
            },
            "type": "histogram"
           }
          ],
          "histogram2d": [
           {
            "colorbar": {
             "outlinewidth": 0,
             "ticks": ""
            },
            "colorscale": [
             [
              0,
              "#0d0887"
             ],
             [
              0.1111111111111111,
              "#46039f"
             ],
             [
              0.2222222222222222,
              "#7201a8"
             ],
             [
              0.3333333333333333,
              "#9c179e"
             ],
             [
              0.4444444444444444,
              "#bd3786"
             ],
             [
              0.5555555555555556,
              "#d8576b"
             ],
             [
              0.6666666666666666,
              "#ed7953"
             ],
             [
              0.7777777777777778,
              "#fb9f3a"
             ],
             [
              0.8888888888888888,
              "#fdca26"
             ],
             [
              1,
              "#f0f921"
             ]
            ],
            "type": "histogram2d"
           }
          ],
          "histogram2dcontour": [
           {
            "colorbar": {
             "outlinewidth": 0,
             "ticks": ""
            },
            "colorscale": [
             [
              0,
              "#0d0887"
             ],
             [
              0.1111111111111111,
              "#46039f"
             ],
             [
              0.2222222222222222,
              "#7201a8"
             ],
             [
              0.3333333333333333,
              "#9c179e"
             ],
             [
              0.4444444444444444,
              "#bd3786"
             ],
             [
              0.5555555555555556,
              "#d8576b"
             ],
             [
              0.6666666666666666,
              "#ed7953"
             ],
             [
              0.7777777777777778,
              "#fb9f3a"
             ],
             [
              0.8888888888888888,
              "#fdca26"
             ],
             [
              1,
              "#f0f921"
             ]
            ],
            "type": "histogram2dcontour"
           }
          ],
          "mesh3d": [
           {
            "colorbar": {
             "outlinewidth": 0,
             "ticks": ""
            },
            "type": "mesh3d"
           }
          ],
          "parcoords": [
           {
            "line": {
             "colorbar": {
              "outlinewidth": 0,
              "ticks": ""
             }
            },
            "type": "parcoords"
           }
          ],
          "pie": [
           {
            "automargin": true,
            "type": "pie"
           }
          ],
          "scatter": [
           {
            "marker": {
             "colorbar": {
              "outlinewidth": 0,
              "ticks": ""
             }
            },
            "type": "scatter"
           }
          ],
          "scatter3d": [
           {
            "line": {
             "colorbar": {
              "outlinewidth": 0,
              "ticks": ""
             }
            },
            "marker": {
             "colorbar": {
              "outlinewidth": 0,
              "ticks": ""
             }
            },
            "type": "scatter3d"
           }
          ],
          "scattercarpet": [
           {
            "marker": {
             "colorbar": {
              "outlinewidth": 0,
              "ticks": ""
             }
            },
            "type": "scattercarpet"
           }
          ],
          "scattergeo": [
           {
            "marker": {
             "colorbar": {
              "outlinewidth": 0,
              "ticks": ""
             }
            },
            "type": "scattergeo"
           }
          ],
          "scattergl": [
           {
            "marker": {
             "colorbar": {
              "outlinewidth": 0,
              "ticks": ""
             }
            },
            "type": "scattergl"
           }
          ],
          "scattermapbox": [
           {
            "marker": {
             "colorbar": {
              "outlinewidth": 0,
              "ticks": ""
             }
            },
            "type": "scattermapbox"
           }
          ],
          "scatterpolar": [
           {
            "marker": {
             "colorbar": {
              "outlinewidth": 0,
              "ticks": ""
             }
            },
            "type": "scatterpolar"
           }
          ],
          "scatterpolargl": [
           {
            "marker": {
             "colorbar": {
              "outlinewidth": 0,
              "ticks": ""
             }
            },
            "type": "scatterpolargl"
           }
          ],
          "scatterternary": [
           {
            "marker": {
             "colorbar": {
              "outlinewidth": 0,
              "ticks": ""
             }
            },
            "type": "scatterternary"
           }
          ],
          "surface": [
           {
            "colorbar": {
             "outlinewidth": 0,
             "ticks": ""
            },
            "colorscale": [
             [
              0,
              "#0d0887"
             ],
             [
              0.1111111111111111,
              "#46039f"
             ],
             [
              0.2222222222222222,
              "#7201a8"
             ],
             [
              0.3333333333333333,
              "#9c179e"
             ],
             [
              0.4444444444444444,
              "#bd3786"
             ],
             [
              0.5555555555555556,
              "#d8576b"
             ],
             [
              0.6666666666666666,
              "#ed7953"
             ],
             [
              0.7777777777777778,
              "#fb9f3a"
             ],
             [
              0.8888888888888888,
              "#fdca26"
             ],
             [
              1,
              "#f0f921"
             ]
            ],
            "type": "surface"
           }
          ],
          "table": [
           {
            "cells": {
             "fill": {
              "color": "#EBF0F8"
             },
             "line": {
              "color": "white"
             }
            },
            "header": {
             "fill": {
              "color": "#C8D4E3"
             },
             "line": {
              "color": "white"
             }
            },
            "type": "table"
           }
          ]
         },
         "layout": {
          "annotationdefaults": {
           "arrowcolor": "#2a3f5f",
           "arrowhead": 0,
           "arrowwidth": 1
          },
          "autotypenumbers": "strict",
          "coloraxis": {
           "colorbar": {
            "outlinewidth": 0,
            "ticks": ""
           }
          },
          "colorscale": {
           "diverging": [
            [
             0,
             "#8e0152"
            ],
            [
             0.1,
             "#c51b7d"
            ],
            [
             0.2,
             "#de77ae"
            ],
            [
             0.3,
             "#f1b6da"
            ],
            [
             0.4,
             "#fde0ef"
            ],
            [
             0.5,
             "#f7f7f7"
            ],
            [
             0.6,
             "#e6f5d0"
            ],
            [
             0.7,
             "#b8e186"
            ],
            [
             0.8,
             "#7fbc41"
            ],
            [
             0.9,
             "#4d9221"
            ],
            [
             1,
             "#276419"
            ]
           ],
           "sequential": [
            [
             0,
             "#0d0887"
            ],
            [
             0.1111111111111111,
             "#46039f"
            ],
            [
             0.2222222222222222,
             "#7201a8"
            ],
            [
             0.3333333333333333,
             "#9c179e"
            ],
            [
             0.4444444444444444,
             "#bd3786"
            ],
            [
             0.5555555555555556,
             "#d8576b"
            ],
            [
             0.6666666666666666,
             "#ed7953"
            ],
            [
             0.7777777777777778,
             "#fb9f3a"
            ],
            [
             0.8888888888888888,
             "#fdca26"
            ],
            [
             1,
             "#f0f921"
            ]
           ],
           "sequentialminus": [
            [
             0,
             "#0d0887"
            ],
            [
             0.1111111111111111,
             "#46039f"
            ],
            [
             0.2222222222222222,
             "#7201a8"
            ],
            [
             0.3333333333333333,
             "#9c179e"
            ],
            [
             0.4444444444444444,
             "#bd3786"
            ],
            [
             0.5555555555555556,
             "#d8576b"
            ],
            [
             0.6666666666666666,
             "#ed7953"
            ],
            [
             0.7777777777777778,
             "#fb9f3a"
            ],
            [
             0.8888888888888888,
             "#fdca26"
            ],
            [
             1,
             "#f0f921"
            ]
           ]
          },
          "colorway": [
           "#636efa",
           "#EF553B",
           "#00cc96",
           "#ab63fa",
           "#FFA15A",
           "#19d3f3",
           "#FF6692",
           "#B6E880",
           "#FF97FF",
           "#FECB52"
          ],
          "font": {
           "color": "#2a3f5f"
          },
          "geo": {
           "bgcolor": "white",
           "lakecolor": "white",
           "landcolor": "#E5ECF6",
           "showlakes": true,
           "showland": true,
           "subunitcolor": "white"
          },
          "hoverlabel": {
           "align": "left"
          },
          "hovermode": "closest",
          "mapbox": {
           "style": "light"
          },
          "paper_bgcolor": "white",
          "plot_bgcolor": "#E5ECF6",
          "polar": {
           "angularaxis": {
            "gridcolor": "white",
            "linecolor": "white",
            "ticks": ""
           },
           "bgcolor": "#E5ECF6",
           "radialaxis": {
            "gridcolor": "white",
            "linecolor": "white",
            "ticks": ""
           }
          },
          "scene": {
           "xaxis": {
            "backgroundcolor": "#E5ECF6",
            "gridcolor": "white",
            "gridwidth": 2,
            "linecolor": "white",
            "showbackground": true,
            "ticks": "",
            "zerolinecolor": "white"
           },
           "yaxis": {
            "backgroundcolor": "#E5ECF6",
            "gridcolor": "white",
            "gridwidth": 2,
            "linecolor": "white",
            "showbackground": true,
            "ticks": "",
            "zerolinecolor": "white"
           },
           "zaxis": {
            "backgroundcolor": "#E5ECF6",
            "gridcolor": "white",
            "gridwidth": 2,
            "linecolor": "white",
            "showbackground": true,
            "ticks": "",
            "zerolinecolor": "white"
           }
          },
          "shapedefaults": {
           "line": {
            "color": "#2a3f5f"
           }
          },
          "ternary": {
           "aaxis": {
            "gridcolor": "white",
            "linecolor": "white",
            "ticks": ""
           },
           "baxis": {
            "gridcolor": "white",
            "linecolor": "white",
            "ticks": ""
           },
           "bgcolor": "#E5ECF6",
           "caxis": {
            "gridcolor": "white",
            "linecolor": "white",
            "ticks": ""
           }
          },
          "title": {
           "x": 0.05
          },
          "xaxis": {
           "automargin": true,
           "gridcolor": "white",
           "linecolor": "white",
           "ticks": "",
           "title": {
            "standoff": 15
           },
           "zerolinecolor": "white",
           "zerolinewidth": 2
          },
          "yaxis": {
           "automargin": true,
           "gridcolor": "white",
           "linecolor": "white",
           "ticks": "",
           "title": {
            "standoff": 15
           },
           "zerolinecolor": "white",
           "zerolinewidth": 2
          }
         }
        },
        "xaxis": {
         "anchor": "y",
         "domain": [
          0,
          1
         ],
         "title": {
          "text": "State/UTs"
         }
        },
        "yaxis": {
         "anchor": "x",
         "domain": [
          0,
          1
         ],
         "title": {
          "text": "Total Cases"
         }
        }
       }
      },
      "text/html": [
       "<div>                            <div id=\"182396c5-0d6c-4d17-be3b-8a7acb811986\" class=\"plotly-graph-div\" style=\"height:525px; width:100%;\"></div>            <script type=\"text/javascript\">                require([\"plotly\"], function(Plotly) {                    window.PLOTLYENV=window.PLOTLYENV || {};                                    if (document.getElementById(\"182396c5-0d6c-4d17-be3b-8a7acb811986\")) {                    Plotly.newPlot(                        \"182396c5-0d6c-4d17-be3b-8a7acb811986\",                        [{\"hovertemplate\":\"State/UTs=%{x}<br>Total Cases=%{y}<extra></extra>\",\"legendgroup\":\"\",\"marker\":{\"color\":\"#636efa\",\"symbol\":\"circle\"},\"mode\":\"markers\",\"name\":\"\",\"orientation\":\"v\",\"showlegend\":false,\"type\":\"scatter\",\"x\":[\"Andaman and Nicobar\",\"Andhra Pradesh\",\"Arunachal Pradesh\",\"Assam\",\"Bihar\",\"Chandigarh\",\"Chhattisgarh\",\"Dadra and Nagar Haveli and Daman and Diu\",\"Delhi\",\"Goa\",\"Gujarat\",\"Haryana\",\"Himachal Pradesh\",\"Jammu and Kashmir\",\"Jharkhand\",\"Karnataka\",\"Kerala\",\"Ladakh\",\"Lakshadweep\",\"Madhya Pradesh\",\"Maharashtra\",\"Manipur\",\"Meghalaya\",\"Mizoram\",\"Nagaland\",\"Odisha\",\"Puducherry\",\"Punjab\",\"Rajasthan\",\"Sikkim\",\"Tamil Nadu\",\"Telengana\",\"Tripura\",\"Uttar Pradesh\",\"Uttarakhand\",\"West Bengal\"],\"xaxis\":\"x\",\"y\":[7620,2049314,54572,601787,725952,65224,1005325,10670,1438821,176318,825916,770863,218898,329320,348215,2975067,4664944,20795,10361,792519,6547793,120426,81161,93660,31219,1025874,126308,601600,954322,31412,2662177,665749,84127,1709800,343530,1568321],\"yaxis\":\"y\"}],                        {\"legend\":{\"tracegroupgap\":0},\"margin\":{\"t\":60},\"template\":{\"data\":{\"bar\":[{\"error_x\":{\"color\":\"#2a3f5f\"},\"error_y\":{\"color\":\"#2a3f5f\"},\"marker\":{\"line\":{\"color\":\"#E5ECF6\",\"width\":0.5},\"pattern\":{\"fillmode\":\"overlay\",\"size\":10,\"solidity\":0.2}},\"type\":\"bar\"}],\"barpolar\":[{\"marker\":{\"line\":{\"color\":\"#E5ECF6\",\"width\":0.5},\"pattern\":{\"fillmode\":\"overlay\",\"size\":10,\"solidity\":0.2}},\"type\":\"barpolar\"}],\"carpet\":[{\"aaxis\":{\"endlinecolor\":\"#2a3f5f\",\"gridcolor\":\"white\",\"linecolor\":\"white\",\"minorgridcolor\":\"white\",\"startlinecolor\":\"#2a3f5f\"},\"baxis\":{\"endlinecolor\":\"#2a3f5f\",\"gridcolor\":\"white\",\"linecolor\":\"white\",\"minorgridcolor\":\"white\",\"startlinecolor\":\"#2a3f5f\"},\"type\":\"carpet\"}],\"choropleth\":[{\"colorbar\":{\"outlinewidth\":0,\"ticks\":\"\"},\"type\":\"choropleth\"}],\"contour\":[{\"colorbar\":{\"outlinewidth\":0,\"ticks\":\"\"},\"colorscale\":[[0.0,\"#0d0887\"],[0.1111111111111111,\"#46039f\"],[0.2222222222222222,\"#7201a8\"],[0.3333333333333333,\"#9c179e\"],[0.4444444444444444,\"#bd3786\"],[0.5555555555555556,\"#d8576b\"],[0.6666666666666666,\"#ed7953\"],[0.7777777777777778,\"#fb9f3a\"],[0.8888888888888888,\"#fdca26\"],[1.0,\"#f0f921\"]],\"type\":\"contour\"}],\"contourcarpet\":[{\"colorbar\":{\"outlinewidth\":0,\"ticks\":\"\"},\"type\":\"contourcarpet\"}],\"heatmap\":[{\"colorbar\":{\"outlinewidth\":0,\"ticks\":\"\"},\"colorscale\":[[0.0,\"#0d0887\"],[0.1111111111111111,\"#46039f\"],[0.2222222222222222,\"#7201a8\"],[0.3333333333333333,\"#9c179e\"],[0.4444444444444444,\"#bd3786\"],[0.5555555555555556,\"#d8576b\"],[0.6666666666666666,\"#ed7953\"],[0.7777777777777778,\"#fb9f3a\"],[0.8888888888888888,\"#fdca26\"],[1.0,\"#f0f921\"]],\"type\":\"heatmap\"}],\"heatmapgl\":[{\"colorbar\":{\"outlinewidth\":0,\"ticks\":\"\"},\"colorscale\":[[0.0,\"#0d0887\"],[0.1111111111111111,\"#46039f\"],[0.2222222222222222,\"#7201a8\"],[0.3333333333333333,\"#9c179e\"],[0.4444444444444444,\"#bd3786\"],[0.5555555555555556,\"#d8576b\"],[0.6666666666666666,\"#ed7953\"],[0.7777777777777778,\"#fb9f3a\"],[0.8888888888888888,\"#fdca26\"],[1.0,\"#f0f921\"]],\"type\":\"heatmapgl\"}],\"histogram\":[{\"marker\":{\"pattern\":{\"fillmode\":\"overlay\",\"size\":10,\"solidity\":0.2}},\"type\":\"histogram\"}],\"histogram2d\":[{\"colorbar\":{\"outlinewidth\":0,\"ticks\":\"\"},\"colorscale\":[[0.0,\"#0d0887\"],[0.1111111111111111,\"#46039f\"],[0.2222222222222222,\"#7201a8\"],[0.3333333333333333,\"#9c179e\"],[0.4444444444444444,\"#bd3786\"],[0.5555555555555556,\"#d8576b\"],[0.6666666666666666,\"#ed7953\"],[0.7777777777777778,\"#fb9f3a\"],[0.8888888888888888,\"#fdca26\"],[1.0,\"#f0f921\"]],\"type\":\"histogram2d\"}],\"histogram2dcontour\":[{\"colorbar\":{\"outlinewidth\":0,\"ticks\":\"\"},\"colorscale\":[[0.0,\"#0d0887\"],[0.1111111111111111,\"#46039f\"],[0.2222222222222222,\"#7201a8\"],[0.3333333333333333,\"#9c179e\"],[0.4444444444444444,\"#bd3786\"],[0.5555555555555556,\"#d8576b\"],[0.6666666666666666,\"#ed7953\"],[0.7777777777777778,\"#fb9f3a\"],[0.8888888888888888,\"#fdca26\"],[1.0,\"#f0f921\"]],\"type\":\"histogram2dcontour\"}],\"mesh3d\":[{\"colorbar\":{\"outlinewidth\":0,\"ticks\":\"\"},\"type\":\"mesh3d\"}],\"parcoords\":[{\"line\":{\"colorbar\":{\"outlinewidth\":0,\"ticks\":\"\"}},\"type\":\"parcoords\"}],\"pie\":[{\"automargin\":true,\"type\":\"pie\"}],\"scatter\":[{\"marker\":{\"colorbar\":{\"outlinewidth\":0,\"ticks\":\"\"}},\"type\":\"scatter\"}],\"scatter3d\":[{\"line\":{\"colorbar\":{\"outlinewidth\":0,\"ticks\":\"\"}},\"marker\":{\"colorbar\":{\"outlinewidth\":0,\"ticks\":\"\"}},\"type\":\"scatter3d\"}],\"scattercarpet\":[{\"marker\":{\"colorbar\":{\"outlinewidth\":0,\"ticks\":\"\"}},\"type\":\"scattercarpet\"}],\"scattergeo\":[{\"marker\":{\"colorbar\":{\"outlinewidth\":0,\"ticks\":\"\"}},\"type\":\"scattergeo\"}],\"scattergl\":[{\"marker\":{\"colorbar\":{\"outlinewidth\":0,\"ticks\":\"\"}},\"type\":\"scattergl\"}],\"scattermapbox\":[{\"marker\":{\"colorbar\":{\"outlinewidth\":0,\"ticks\":\"\"}},\"type\":\"scattermapbox\"}],\"scatterpolar\":[{\"marker\":{\"colorbar\":{\"outlinewidth\":0,\"ticks\":\"\"}},\"type\":\"scatterpolar\"}],\"scatterpolargl\":[{\"marker\":{\"colorbar\":{\"outlinewidth\":0,\"ticks\":\"\"}},\"type\":\"scatterpolargl\"}],\"scatterternary\":[{\"marker\":{\"colorbar\":{\"outlinewidth\":0,\"ticks\":\"\"}},\"type\":\"scatterternary\"}],\"surface\":[{\"colorbar\":{\"outlinewidth\":0,\"ticks\":\"\"},\"colorscale\":[[0.0,\"#0d0887\"],[0.1111111111111111,\"#46039f\"],[0.2222222222222222,\"#7201a8\"],[0.3333333333333333,\"#9c179e\"],[0.4444444444444444,\"#bd3786\"],[0.5555555555555556,\"#d8576b\"],[0.6666666666666666,\"#ed7953\"],[0.7777777777777778,\"#fb9f3a\"],[0.8888888888888888,\"#fdca26\"],[1.0,\"#f0f921\"]],\"type\":\"surface\"}],\"table\":[{\"cells\":{\"fill\":{\"color\":\"#EBF0F8\"},\"line\":{\"color\":\"white\"}},\"header\":{\"fill\":{\"color\":\"#C8D4E3\"},\"line\":{\"color\":\"white\"}},\"type\":\"table\"}]},\"layout\":{\"annotationdefaults\":{\"arrowcolor\":\"#2a3f5f\",\"arrowhead\":0,\"arrowwidth\":1},\"autotypenumbers\":\"strict\",\"coloraxis\":{\"colorbar\":{\"outlinewidth\":0,\"ticks\":\"\"}},\"colorscale\":{\"diverging\":[[0,\"#8e0152\"],[0.1,\"#c51b7d\"],[0.2,\"#de77ae\"],[0.3,\"#f1b6da\"],[0.4,\"#fde0ef\"],[0.5,\"#f7f7f7\"],[0.6,\"#e6f5d0\"],[0.7,\"#b8e186\"],[0.8,\"#7fbc41\"],[0.9,\"#4d9221\"],[1,\"#276419\"]],\"sequential\":[[0.0,\"#0d0887\"],[0.1111111111111111,\"#46039f\"],[0.2222222222222222,\"#7201a8\"],[0.3333333333333333,\"#9c179e\"],[0.4444444444444444,\"#bd3786\"],[0.5555555555555556,\"#d8576b\"],[0.6666666666666666,\"#ed7953\"],[0.7777777777777778,\"#fb9f3a\"],[0.8888888888888888,\"#fdca26\"],[1.0,\"#f0f921\"]],\"sequentialminus\":[[0.0,\"#0d0887\"],[0.1111111111111111,\"#46039f\"],[0.2222222222222222,\"#7201a8\"],[0.3333333333333333,\"#9c179e\"],[0.4444444444444444,\"#bd3786\"],[0.5555555555555556,\"#d8576b\"],[0.6666666666666666,\"#ed7953\"],[0.7777777777777778,\"#fb9f3a\"],[0.8888888888888888,\"#fdca26\"],[1.0,\"#f0f921\"]]},\"colorway\":[\"#636efa\",\"#EF553B\",\"#00cc96\",\"#ab63fa\",\"#FFA15A\",\"#19d3f3\",\"#FF6692\",\"#B6E880\",\"#FF97FF\",\"#FECB52\"],\"font\":{\"color\":\"#2a3f5f\"},\"geo\":{\"bgcolor\":\"white\",\"lakecolor\":\"white\",\"landcolor\":\"#E5ECF6\",\"showlakes\":true,\"showland\":true,\"subunitcolor\":\"white\"},\"hoverlabel\":{\"align\":\"left\"},\"hovermode\":\"closest\",\"mapbox\":{\"style\":\"light\"},\"paper_bgcolor\":\"white\",\"plot_bgcolor\":\"#E5ECF6\",\"polar\":{\"angularaxis\":{\"gridcolor\":\"white\",\"linecolor\":\"white\",\"ticks\":\"\"},\"bgcolor\":\"#E5ECF6\",\"radialaxis\":{\"gridcolor\":\"white\",\"linecolor\":\"white\",\"ticks\":\"\"}},\"scene\":{\"xaxis\":{\"backgroundcolor\":\"#E5ECF6\",\"gridcolor\":\"white\",\"gridwidth\":2,\"linecolor\":\"white\",\"showbackground\":true,\"ticks\":\"\",\"zerolinecolor\":\"white\"},\"yaxis\":{\"backgroundcolor\":\"#E5ECF6\",\"gridcolor\":\"white\",\"gridwidth\":2,\"linecolor\":\"white\",\"showbackground\":true,\"ticks\":\"\",\"zerolinecolor\":\"white\"},\"zaxis\":{\"backgroundcolor\":\"#E5ECF6\",\"gridcolor\":\"white\",\"gridwidth\":2,\"linecolor\":\"white\",\"showbackground\":true,\"ticks\":\"\",\"zerolinecolor\":\"white\"}},\"shapedefaults\":{\"line\":{\"color\":\"#2a3f5f\"}},\"ternary\":{\"aaxis\":{\"gridcolor\":\"white\",\"linecolor\":\"white\",\"ticks\":\"\"},\"baxis\":{\"gridcolor\":\"white\",\"linecolor\":\"white\",\"ticks\":\"\"},\"bgcolor\":\"#E5ECF6\",\"caxis\":{\"gridcolor\":\"white\",\"linecolor\":\"white\",\"ticks\":\"\"}},\"title\":{\"x\":0.05},\"xaxis\":{\"automargin\":true,\"gridcolor\":\"white\",\"linecolor\":\"white\",\"ticks\":\"\",\"title\":{\"standoff\":15},\"zerolinecolor\":\"white\",\"zerolinewidth\":2},\"yaxis\":{\"automargin\":true,\"gridcolor\":\"white\",\"linecolor\":\"white\",\"ticks\":\"\",\"title\":{\"standoff\":15},\"zerolinecolor\":\"white\",\"zerolinewidth\":2}}},\"xaxis\":{\"anchor\":\"y\",\"domain\":[0.0,1.0],\"title\":{\"text\":\"State/UTs\"}},\"yaxis\":{\"anchor\":\"x\",\"domain\":[0.0,1.0],\"title\":{\"text\":\"Total Cases\"}}},                        {\"responsive\": true}                    ).then(function(){\n",
       "                            \n",
       "var gd = document.getElementById('182396c5-0d6c-4d17-be3b-8a7acb811986');\n",
       "var x = new MutationObserver(function (mutations, observer) {{\n",
       "        var display = window.getComputedStyle(gd).display;\n",
       "        if (!display || display === 'none') {{\n",
       "            console.log([gd, 'removed!']);\n",
       "            Plotly.purge(gd);\n",
       "            observer.disconnect();\n",
       "        }}\n",
       "}});\n",
       "\n",
       "// Listen for the removal of the full notebook cells\n",
       "var notebookContainer = gd.closest('#notebook-container');\n",
       "if (notebookContainer) {{\n",
       "    x.observe(notebookContainer, {childList: true});\n",
       "}}\n",
       "\n",
       "// Listen for the clearing of the current output cell\n",
       "var outputEl = gd.closest('.output');\n",
       "if (outputEl) {{\n",
       "    x.observe(outputEl, {childList: true});\n",
       "}}\n",
       "\n",
       "                        })                };                });            </script>        </div>"
      ]
     },
     "metadata": {},
     "output_type": "display_data"
    }
   ],
   "source": [
    "px.scatter(dataframe,x='State/UTs',y='Total Cases')"
   ]
  },
  {
   "cell_type": "code",
   "execution_count": 63,
   "metadata": {},
   "outputs": [
    {
     "data": {
      "text/plain": [
       "<BarContainer object of 36 artists>"
      ]
     },
     "execution_count": 63,
     "metadata": {},
     "output_type": "execute_result"
    },
    {
     "data": {
      "image/png": "[encoded data removed]",
      "text/plain": [
       "<Figure size 1440x864 with 1 Axes>"
      ]
     },
     "metadata": {
      "needs_background": "light"
     },
     "output_type": "display_data"
    }
   ],
   "source": [
    "#object oriented method for controlling matplotlib we can controll size of figure\n",
    "fig=plt.figure()\n",
    "img=fig.add_axes([0,0,1,1])\n",
    "img.bar(dataframe['State/UTs'],dataframe['Total Cases'])"
   ]
  },
  {
   "cell_type": "markdown",
   "metadata": {},
   "source": [
    "# DEATHS COMPARSION\n"
   ]
  },
  {
   "cell_type": "code",
   "execution_count": 65,
   "metadata": {},
   "outputs": [
    {
     "data": {
      "application/vnd.plotly.v1+json": {
       "config": {
        "linkText": "Export to plot.ly",
        "plotlyServerURL": "https://plot.ly",
        "showLink": true
       },
       "data": [
        {
         "marker": {
          "color": "rgba(255, 153, 51, 0.6)",
          "line": {
           "color": "rgba(255, 153, 51, 1.0)",
           "width": 1
          }
         },
         "name": "Deaths",
         "orientation": "v",
         "text": "",
         "type": "bar",
         "x": [
          "Andaman and Nicobar",
          "Andhra Pradesh",
          "Arunachal Pradesh",
          "Assam",
          "Bihar",
          "Chandigarh",
          "Chhattisgarh",
          "Dadra and Nagar Haveli and Daman and Diu",
          "Delhi",
          "Goa",
          "Gujarat",
          "Haryana",
          "Himachal Pradesh",
          "Jammu and Kashmir",
          "Jharkhand",
          "Karnataka",
          "Kerala",
          "Ladakh",
          "Lakshadweep",
          "Madhya Pradesh",
          "Maharashtra",
          "Manipur",
          "Meghalaya",
          "Mizoram",
          "Nagaland",
          "Odisha",
          "Puducherry",
          "Punjab",
          "Rajasthan",
          "Sikkim",
          "Tamil Nadu",
          "Telengana",
          "Tripura",
          "Uttar Pradesh",
          "Uttarakhand",
          "West Bengal"
         ],
         "y": [
          129,
          14163,
          276,
          5868,
          9660,
          819,
          13565,
          4,
          25087,
          3312,
          10082,
          9874,
          3675,
          4422,
          5135,
          37780,
          24965,
          207,
          51,
          10522,
          139011,
          1854,
          1400,
          307,
          665,
          8192,
          1840,
          16513,
          8954,
          387,
          35550,
          3916,
          813,
          22892,
          7394,
          18778
         ]
        }
       ],
       "layout": {
        "legend": {
         "bgcolor": "#F5F6F9",
         "font": {
          "color": "#4D5663"
         }
        },
        "paper_bgcolor": "#F5F6F9",
        "plot_bgcolor": "#F5F6F9",
        "template": {
         "data": {
          "bar": [
           {
            "error_x": {
             "color": "#2a3f5f"
            },
            "error_y": {
             "color": "#2a3f5f"
            },
            "marker": {
             "line": {
              "color": "#E5ECF6",
              "width": 0.5
             },
             "pattern": {
              "fillmode": "overlay",
              "size": 10,
              "solidity": 0.2
             }
            },
            "type": "bar"
           }
          ],
          "barpolar": [
           {
            "marker": {
             "line": {
              "color": "#E5ECF6",
              "width": 0.5
             },
             "pattern": {
              "fillmode": "overlay",
              "size": 10,
              "solidity": 0.2
             }
            },
            "type": "barpolar"
           }
          ],
          "carpet": [
           {
            "aaxis": {
             "endlinecolor": "#2a3f5f",
             "gridcolor": "white",
             "linecolor": "white",
             "minorgridcolor": "white",
             "startlinecolor": "#2a3f5f"
            },
            "baxis": {
             "endlinecolor": "#2a3f5f",
             "gridcolor": "white",
             "linecolor": "white",
             "minorgridcolor": "white",
             "startlinecolor": "#2a3f5f"
            },
            "type": "carpet"
           }
          ],
          "choropleth": [
           {
            "colorbar": {
             "outlinewidth": 0,
             "ticks": ""
            },
            "type": "choropleth"
           }
          ],
          "contour": [
           {
            "colorbar": {
             "outlinewidth": 0,
             "ticks": ""
            },
            "colorscale": [
             [
              0,
              "#0d0887"
             ],
             [
              0.1111111111111111,
              "#46039f"
             ],
             [
              0.2222222222222222,
              "#7201a8"
             ],
             [
              0.3333333333333333,
              "#9c179e"
             ],
             [
              0.4444444444444444,
              "#bd3786"
             ],
             [
              0.5555555555555556,
              "#d8576b"
             ],
             [
              0.6666666666666666,
              "#ed7953"
             ],
             [
              0.7777777777777778,
              "#fb9f3a"
             ],
             [
              0.8888888888888888,
              "#fdca26"
             ],
             [
              1,
              "#f0f921"
             ]
            ],
            "type": "contour"
           }
          ],
          "contourcarpet": [
           {
            "colorbar": {
             "outlinewidth": 0,
             "ticks": ""
            },
            "type": "contourcarpet"
           }
          ],
          "heatmap": [
           {
            "colorbar": {
             "outlinewidth": 0,
             "ticks": ""
            },
            "colorscale": [
             [
              0,
              "#0d0887"
             ],
             [
              0.1111111111111111,
              "#46039f"
             ],
             [
              0.2222222222222222,
              "#7201a8"
             ],
             [
              0.3333333333333333,
              "#9c179e"
             ],
             [
              0.4444444444444444,
              "#bd3786"
             ],
             [
              0.5555555555555556,
              "#d8576b"
             ],
             [
              0.6666666666666666,
              "#ed7953"
             ],
             [
              0.7777777777777778,
              "#fb9f3a"
             ],
             [
              0.8888888888888888,
              "#fdca26"
             ],
             [
              1,
              "#f0f921"
             ]
            ],
            "type": "heatmap"
           }
          ],
          "heatmapgl": [
           {
            "colorbar": {
             "outlinewidth": 0,
             "ticks": ""
            },
            "colorscale": [
             [
              0,
              "#0d0887"
             ],
             [
              0.1111111111111111,
              "#46039f"
             ],
             [
              0.2222222222222222,
              "#7201a8"
             ],
             [
              0.3333333333333333,
              "#9c179e"
             ],
             [
              0.4444444444444444,
              "#bd3786"
             ],
             [
              0.5555555555555556,
              "#d8576b"
             ],
             [
              0.6666666666666666,
              "#ed7953"
             ],
             [
              0.7777777777777778,
              "#fb9f3a"
             ],
             [
              0.8888888888888888,
              "#fdca26"
             ],
             [
              1,
              "#f0f921"
             ]
            ],
            "type": "heatmapgl"
           }
          ],
          "histogram": [
           {
            "marker": {
             "pattern": {
              "fillmode": "overlay",
              "size": 10,
              "solidity": 0.2
             }
            },
            "type": "histogram"
           }
          ],
          "histogram2d": [
           {
            "colorbar": {
             "outlinewidth": 0,
             "ticks": ""
            },
            "colorscale": [
             [
              0,
              "#0d0887"
             ],
             [
              0.1111111111111111,
              "#46039f"
             ],
             [
              0.2222222222222222,
              "#7201a8"
             ],
             [
              0.3333333333333333,
              "#9c179e"
             ],
             [
              0.4444444444444444,
              "#bd3786"
             ],
             [
              0.5555555555555556,
              "#d8576b"
             ],
             [
              0.6666666666666666,
              "#ed7953"
             ],
             [
              0.7777777777777778,
              "#fb9f3a"
             ],
             [
              0.8888888888888888,
              "#fdca26"
             ],
             [
              1,
              "#f0f921"
             ]
            ],
            "type": "histogram2d"
           }
          ],
          "histogram2dcontour": [
           {
            "colorbar": {
             "outlinewidth": 0,
             "ticks": ""
            },
            "colorscale": [
             [
              0,
              "#0d0887"
             ],
             [
              0.1111111111111111,
              "#46039f"
             ],
             [
              0.2222222222222222,
              "#7201a8"
             ],
             [
              0.3333333333333333,
              "#9c179e"
             ],
             [
              0.4444444444444444,
              "#bd3786"
             ],
             [
              0.5555555555555556,
              "#d8576b"
             ],
             [
              0.6666666666666666,
              "#ed7953"
             ],
             [
              0.7777777777777778,
              "#fb9f3a"
             ],
             [
              0.8888888888888888,
              "#fdca26"
             ],
             [
              1,
              "#f0f921"
             ]
            ],
            "type": "histogram2dcontour"
           }
          ],
          "mesh3d": [
           {
            "colorbar": {
             "outlinewidth": 0,
             "ticks": ""
            },
            "type": "mesh3d"
           }
          ],
          "parcoords": [
           {
            "line": {
             "colorbar": {
              "outlinewidth": 0,
              "ticks": ""
             }
            },
            "type": "parcoords"
           }
          ],
          "pie": [
           {
            "automargin": true,
            "type": "pie"
           }
          ],
          "scatter": [
           {
            "marker": {
             "colorbar": {
              "outlinewidth": 0,
              "ticks": ""
             }
            },
            "type": "scatter"
           }
          ],
          "scatter3d": [
           {
            "line": {
             "colorbar": {
              "outlinewidth": 0,
              "ticks": ""
             }
            },
            "marker": {
             "colorbar": {
              "outlinewidth": 0,
              "ticks": ""
             }
            },
            "type": "scatter3d"
           }
          ],
          "scattercarpet": [
           {
            "marker": {
             "colorbar": {
              "outlinewidth": 0,
              "ticks": ""
             }
            },
            "type": "scattercarpet"
           }
          ],
          "scattergeo": [
           {
            "marker": {
             "colorbar": {
              "outlinewidth": 0,
              "ticks": ""
             }
            },
            "type": "scattergeo"
           }
          ],
          "scattergl": [
           {
            "marker": {
             "colorbar": {
              "outlinewidth": 0,
              "ticks": ""
             }
            },
            "type": "scattergl"
           }
          ],
          "scattermapbox": [
           {
            "marker": {
             "colorbar": {
              "outlinewidth": 0,
              "ticks": ""
             }
            },
            "type": "scattermapbox"
           }
          ],
          "scatterpolar": [
           {
            "marker": {
             "colorbar": {
              "outlinewidth": 0,
              "ticks": ""
             }
            },
            "type": "scatterpolar"
           }
          ],
          "scatterpolargl": [
           {
            "marker": {
             "colorbar": {
              "outlinewidth": 0,
              "ticks": ""
             }
            },
            "type": "scatterpolargl"
           }
          ],
          "scatterternary": [
           {
            "marker": {
             "colorbar": {
              "outlinewidth": 0,
              "ticks": ""
             }
            },
            "type": "scatterternary"
           }
          ],
          "surface": [
           {
            "colorbar": {
             "outlinewidth": 0,
             "ticks": ""
            },
            "colorscale": [
             [
              0,
              "#0d0887"
             ],
             [
              0.1111111111111111,
              "#46039f"
             ],
             [
              0.2222222222222222,
              "#7201a8"
             ],
             [
              0.3333333333333333,
              "#9c179e"
             ],
             [
              0.4444444444444444,
              "#bd3786"
             ],
             [
              0.5555555555555556,
              "#d8576b"
             ],
             [
              0.6666666666666666,
              "#ed7953"
             ],
             [
              0.7777777777777778,
              "#fb9f3a"
             ],
             [
              0.8888888888888888,
              "#fdca26"
             ],
             [
              1,
              "#f0f921"
             ]
            ],
            "type": "surface"
           }
          ],
          "table": [
           {
            "cells": {
             "fill": {
              "color": "#EBF0F8"
             },
             "line": {
              "color": "white"
             }
            },
            "header": {
             "fill": {
              "color": "#C8D4E3"
             },
             "line": {
              "color": "white"
             }
            },
            "type": "table"
           }
          ]
         },
         "layout": {
          "annotationdefaults": {
           "arrowcolor": "#2a3f5f",
           "arrowhead": 0,
           "arrowwidth": 1
          },
          "autotypenumbers": "strict",
          "coloraxis": {
           "colorbar": {
            "outlinewidth": 0,
            "ticks": ""
           }
          },
          "colorscale": {
           "diverging": [
            [
             0,
             "#8e0152"
            ],
            [
             0.1,
             "#c51b7d"
            ],
            [
             0.2,
             "#de77ae"
            ],
            [
             0.3,
             "#f1b6da"
            ],
            [
             0.4,
             "#fde0ef"
            ],
            [
             0.5,
             "#f7f7f7"
            ],
            [
             0.6,
             "#e6f5d0"
            ],
            [
             0.7,
             "#b8e186"
            ],
            [
             0.8,
             "#7fbc41"
            ],
            [
             0.9,
             "#4d9221"
            ],
            [
             1,
             "#276419"
            ]
           ],
           "sequential": [
            [
             0,
             "#0d0887"
            ],
            [
             0.1111111111111111,
             "#46039f"
            ],
            [
             0.2222222222222222,
             "#7201a8"
            ],
            [
             0.3333333333333333,
             "#9c179e"
            ],
            [
             0.4444444444444444,
             "#bd3786"
            ],
            [
             0.5555555555555556,
             "#d8576b"
            ],
            [
             0.6666666666666666,
             "#ed7953"
            ],
            [
             0.7777777777777778,
             "#fb9f3a"
            ],
            [
             0.8888888888888888,
             "#fdca26"
            ],
            [
             1,
             "#f0f921"
            ]
           ],
           "sequentialminus": [
            [
             0,
             "#0d0887"
            ],
            [
             0.1111111111111111,
             "#46039f"
            ],
            [
             0.2222222222222222,
             "#7201a8"
            ],
            [
             0.3333333333333333,
             "#9c179e"
            ],
            [
             0.4444444444444444,
             "#bd3786"
            ],
            [
             0.5555555555555556,
             "#d8576b"
            ],
            [
             0.6666666666666666,
             "#ed7953"
            ],
            [
             0.7777777777777778,
             "#fb9f3a"
            ],
            [
             0.8888888888888888,
             "#fdca26"
            ],
            [
             1,
             "#f0f921"
            ]
           ]
          },
          "colorway": [
           "#636efa",
           "#EF553B",
           "#00cc96",
           "#ab63fa",
           "#FFA15A",
           "#19d3f3",
           "#FF6692",
           "#B6E880",
           "#FF97FF",
           "#FECB52"
          ],
          "font": {
           "color": "#2a3f5f"
          },
          "geo": {
           "bgcolor": "white",
           "lakecolor": "white",
           "landcolor": "#E5ECF6",
           "showlakes": true,
           "showland": true,
           "subunitcolor": "white"
          },
          "hoverlabel": {
           "align": "left"
          },
          "hovermode": "closest",
          "mapbox": {
           "style": "light"
          },
          "paper_bgcolor": "white",
          "plot_bgcolor": "#E5ECF6",
          "polar": {
           "angularaxis": {
            "gridcolor": "white",
            "linecolor": "white",
            "ticks": ""
           },
           "bgcolor": "#E5ECF6",
           "radialaxis": {
            "gridcolor": "white",
            "linecolor": "white",
            "ticks": ""
           }
          },
          "scene": {
           "xaxis": {
            "backgroundcolor": "#E5ECF6",
            "gridcolor": "white",
            "gridwidth": 2,
            "linecolor": "white",
            "showbackground": true,
            "ticks": "",
            "zerolinecolor": "white"
           },
           "yaxis": {
            "backgroundcolor": "#E5ECF6",
            "gridcolor": "white",
            "gridwidth": 2,
            "linecolor": "white",
            "showbackground": true,
            "ticks": "",
            "zerolinecolor": "white"
           },
           "zaxis": {
            "backgroundcolor": "#E5ECF6",
            "gridcolor": "white",
            "gridwidth": 2,
            "linecolor": "white",
            "showbackground": true,
            "ticks": "",
            "zerolinecolor": "white"
           }
          },
          "shapedefaults": {
           "line": {
            "color": "#2a3f5f"
           }
          },
          "ternary": {
           "aaxis": {
            "gridcolor": "white",
            "linecolor": "white",
            "ticks": ""
           },
           "baxis": {
            "gridcolor": "white",
            "linecolor": "white",
            "ticks": ""
           },
           "bgcolor": "#E5ECF6",
           "caxis": {
            "gridcolor": "white",
            "linecolor": "white",
            "ticks": ""
           }
          },
          "title": {
           "x": 0.05
          },
          "xaxis": {
           "automargin": true,
           "gridcolor": "white",
           "linecolor": "white",
           "ticks": "",
           "title": {
            "standoff": 15
           },
           "zerolinecolor": "white",
           "zerolinewidth": 2
          },
          "yaxis": {
           "automargin": true,
           "gridcolor": "white",
           "linecolor": "white",
           "ticks": "",
           "title": {
            "standoff": 15
           },
           "zerolinecolor": "white",
           "zerolinewidth": 2
          }
         }
        },
        "title": {
         "font": {
          "color": "#4D5663"
         }
        },
        "xaxis": {
         "gridcolor": "#E1E5ED",
         "showgrid": true,
         "tickfont": {
          "color": "#4D5663"
         },
         "title": {
          "font": {
           "color": "#4D5663"
          },
          "text": ""
         },
         "zerolinecolor": "#E1E5ED"
        },
        "yaxis": {
         "gridcolor": "#E1E5ED",
         "showgrid": true,
         "tickfont": {
          "color": "#4D5663"
         },
         "title": {
          "font": {
           "color": "#4D5663"
          },
          "text": ""
         },
         "zerolinecolor": "#E1E5ED"
        }
       }
      },
      "text/html": [
       "<div>                            <div id=\"efba0f30-d50d-48e2-9e5e-44819bdb0429\" class=\"plotly-graph-div\" style=\"height:525px; width:100%;\"></div>            <script type=\"text/javascript\">                require([\"plotly\"], function(Plotly) {                    window.PLOTLYENV=window.PLOTLYENV || {};\n",
       "                    window.PLOTLYENV.BASE_URL='https://plot.ly';                                    if (document.getElementById(\"efba0f30-d50d-48e2-9e5e-44819bdb0429\")) {                    Plotly.newPlot(                        \"efba0f30-d50d-48e2-9e5e-44819bdb0429\",                        [{\"marker\":{\"color\":\"rgba(255, 153, 51, 0.6)\",\"line\":{\"color\":\"rgba(255, 153, 51, 1.0)\",\"width\":1}},\"name\":\"Deaths\",\"orientation\":\"v\",\"text\":\"\",\"type\":\"bar\",\"x\":[\"Andaman and Nicobar\",\"Andhra Pradesh\",\"Arunachal Pradesh\",\"Assam\",\"Bihar\",\"Chandigarh\",\"Chhattisgarh\",\"Dadra and Nagar Haveli and Daman and Diu\",\"Delhi\",\"Goa\",\"Gujarat\",\"Haryana\",\"Himachal Pradesh\",\"Jammu and Kashmir\",\"Jharkhand\",\"Karnataka\",\"Kerala\",\"Ladakh\",\"Lakshadweep\",\"Madhya Pradesh\",\"Maharashtra\",\"Manipur\",\"Meghalaya\",\"Mizoram\",\"Nagaland\",\"Odisha\",\"Puducherry\",\"Punjab\",\"Rajasthan\",\"Sikkim\",\"Tamil Nadu\",\"Telengana\",\"Tripura\",\"Uttar Pradesh\",\"Uttarakhand\",\"West Bengal\"],\"y\":[129,14163,276,5868,9660,819,13565,4,25087,3312,10082,9874,3675,4422,5135,37780,24965,207,51,10522,139011,1854,1400,307,665,8192,1840,16513,8954,387,35550,3916,813,22892,7394,18778]}],                        {\"legend\":{\"bgcolor\":\"#F5F6F9\",\"font\":{\"color\":\"#4D5663\"}},\"paper_bgcolor\":\"#F5F6F9\",\"plot_bgcolor\":\"#F5F6F9\",\"template\":{\"data\":{\"bar\":[{\"error_x\":{\"color\":\"#2a3f5f\"},\"error_y\":{\"color\":\"#2a3f5f\"},\"marker\":{\"line\":{\"color\":\"#E5ECF6\",\"width\":0.5},\"pattern\":{\"fillmode\":\"overlay\",\"size\":10,\"solidity\":0.2}},\"type\":\"bar\"}],\"barpolar\":[{\"marker\":{\"line\":{\"color\":\"#E5ECF6\",\"width\":0.5},\"pattern\":{\"fillmode\":\"overlay\",\"size\":10,\"solidity\":0.2}},\"type\":\"barpolar\"}],\"carpet\":[{\"aaxis\":{\"endlinecolor\":\"#2a3f5f\",\"gridcolor\":\"white\",\"linecolor\":\"white\",\"minorgridcolor\":\"white\",\"startlinecolor\":\"#2a3f5f\"},\"baxis\":{\"endlinecolor\":\"#2a3f5f\",\"gridcolor\":\"white\",\"linecolor\":\"white\",\"minorgridcolor\":\"white\",\"startlinecolor\":\"#2a3f5f\"},\"type\":\"carpet\"}],\"choropleth\":[{\"colorbar\":{\"outlinewidth\":0,\"ticks\":\"\"},\"type\":\"choropleth\"}],\"contour\":[{\"colorbar\":{\"outlinewidth\":0,\"ticks\":\"\"},\"colorscale\":[[0.0,\"#0d0887\"],[0.1111111111111111,\"#46039f\"],[0.2222222222222222,\"#7201a8\"],[0.3333333333333333,\"#9c179e\"],[0.4444444444444444,\"#bd3786\"],[0.5555555555555556,\"#d8576b\"],[0.6666666666666666,\"#ed7953\"],[0.7777777777777778,\"#fb9f3a\"],[0.8888888888888888,\"#fdca26\"],[1.0,\"#f0f921\"]],\"type\":\"contour\"}],\"contourcarpet\":[{\"colorbar\":{\"outlinewidth\":0,\"ticks\":\"\"},\"type\":\"contourcarpet\"}],\"heatmap\":[{\"colorbar\":{\"outlinewidth\":0,\"ticks\":\"\"},\"colorscale\":[[0.0,\"#0d0887\"],[0.1111111111111111,\"#46039f\"],[0.2222222222222222,\"#7201a8\"],[0.3333333333333333,\"#9c179e\"],[0.4444444444444444,\"#bd3786\"],[0.5555555555555556,\"#d8576b\"],[0.6666666666666666,\"#ed7953\"],[0.7777777777777778,\"#fb9f3a\"],[0.8888888888888888,\"#fdca26\"],[1.0,\"#f0f921\"]],\"type\":\"heatmap\"}],\"heatmapgl\":[{\"colorbar\":{\"outlinewidth\":0,\"ticks\":\"\"},\"colorscale\":[[0.0,\"#0d0887\"],[0.1111111111111111,\"#46039f\"],[0.2222222222222222,\"#7201a8\"],[0.3333333333333333,\"#9c179e\"],[0.4444444444444444,\"#bd3786\"],[0.5555555555555556,\"#d8576b\"],[0.6666666666666666,\"#ed7953\"],[0.7777777777777778,\"#fb9f3a\"],[0.8888888888888888,\"#fdca26\"],[1.0,\"#f0f921\"]],\"type\":\"heatmapgl\"}],\"histogram\":[{\"marker\":{\"pattern\":{\"fillmode\":\"overlay\",\"size\":10,\"solidity\":0.2}},\"type\":\"histogram\"}],\"histogram2d\":[{\"colorbar\":{\"outlinewidth\":0,\"ticks\":\"\"},\"colorscale\":[[0.0,\"#0d0887\"],[0.1111111111111111,\"#46039f\"],[0.2222222222222222,\"#7201a8\"],[0.3333333333333333,\"#9c179e\"],[0.4444444444444444,\"#bd3786\"],[0.5555555555555556,\"#d8576b\"],[0.6666666666666666,\"#ed7953\"],[0.7777777777777778,\"#fb9f3a\"],[0.8888888888888888,\"#fdca26\"],[1.0,\"#f0f921\"]],\"type\":\"histogram2d\"}],\"histogram2dcontour\":[{\"colorbar\":{\"outlinewidth\":0,\"ticks\":\"\"},\"colorscale\":[[0.0,\"#0d0887\"],[0.1111111111111111,\"#46039f\"],[0.2222222222222222,\"#7201a8\"],[0.3333333333333333,\"#9c179e\"],[0.4444444444444444,\"#bd3786\"],[0.5555555555555556,\"#d8576b\"],[0.6666666666666666,\"#ed7953\"],[0.7777777777777778,\"#fb9f3a\"],[0.8888888888888888,\"#fdca26\"],[1.0,\"#f0f921\"]],\"type\":\"histogram2dcontour\"}],\"mesh3d\":[{\"colorbar\":{\"outlinewidth\":0,\"ticks\":\"\"},\"type\":\"mesh3d\"}],\"parcoords\":[{\"line\":{\"colorbar\":{\"outlinewidth\":0,\"ticks\":\"\"}},\"type\":\"parcoords\"}],\"pie\":[{\"automargin\":true,\"type\":\"pie\"}],\"scatter\":[{\"marker\":{\"colorbar\":{\"outlinewidth\":0,\"ticks\":\"\"}},\"type\":\"scatter\"}],\"scatter3d\":[{\"line\":{\"colorbar\":{\"outlinewidth\":0,\"ticks\":\"\"}},\"marker\":{\"colorbar\":{\"outlinewidth\":0,\"ticks\":\"\"}},\"type\":\"scatter3d\"}],\"scattercarpet\":[{\"marker\":{\"colorbar\":{\"outlinewidth\":0,\"ticks\":\"\"}},\"type\":\"scattercarpet\"}],\"scattergeo\":[{\"marker\":{\"colorbar\":{\"outlinewidth\":0,\"ticks\":\"\"}},\"type\":\"scattergeo\"}],\"scattergl\":[{\"marker\":{\"colorbar\":{\"outlinewidth\":0,\"ticks\":\"\"}},\"type\":\"scattergl\"}],\"scattermapbox\":[{\"marker\":{\"colorbar\":{\"outlinewidth\":0,\"ticks\":\"\"}},\"type\":\"scattermapbox\"}],\"scatterpolar\":[{\"marker\":{\"colorbar\":{\"outlinewidth\":0,\"ticks\":\"\"}},\"type\":\"scatterpolar\"}],\"scatterpolargl\":[{\"marker\":{\"colorbar\":{\"outlinewidth\":0,\"ticks\":\"\"}},\"type\":\"scatterpolargl\"}],\"scatterternary\":[{\"marker\":{\"colorbar\":{\"outlinewidth\":0,\"ticks\":\"\"}},\"type\":\"scatterternary\"}],\"surface\":[{\"colorbar\":{\"outlinewidth\":0,\"ticks\":\"\"},\"colorscale\":[[0.0,\"#0d0887\"],[0.1111111111111111,\"#46039f\"],[0.2222222222222222,\"#7201a8\"],[0.3333333333333333,\"#9c179e\"],[0.4444444444444444,\"#bd3786\"],[0.5555555555555556,\"#d8576b\"],[0.6666666666666666,\"#ed7953\"],[0.7777777777777778,\"#fb9f3a\"],[0.8888888888888888,\"#fdca26\"],[1.0,\"#f0f921\"]],\"type\":\"surface\"}],\"table\":[{\"cells\":{\"fill\":{\"color\":\"#EBF0F8\"},\"line\":{\"color\":\"white\"}},\"header\":{\"fill\":{\"color\":\"#C8D4E3\"},\"line\":{\"color\":\"white\"}},\"type\":\"table\"}]},\"layout\":{\"annotationdefaults\":{\"arrowcolor\":\"#2a3f5f\",\"arrowhead\":0,\"arrowwidth\":1},\"autotypenumbers\":\"strict\",\"coloraxis\":{\"colorbar\":{\"outlinewidth\":0,\"ticks\":\"\"}},\"colorscale\":{\"diverging\":[[0,\"#8e0152\"],[0.1,\"#c51b7d\"],[0.2,\"#de77ae\"],[0.3,\"#f1b6da\"],[0.4,\"#fde0ef\"],[0.5,\"#f7f7f7\"],[0.6,\"#e6f5d0\"],[0.7,\"#b8e186\"],[0.8,\"#7fbc41\"],[0.9,\"#4d9221\"],[1,\"#276419\"]],\"sequential\":[[0.0,\"#0d0887\"],[0.1111111111111111,\"#46039f\"],[0.2222222222222222,\"#7201a8\"],[0.3333333333333333,\"#9c179e\"],[0.4444444444444444,\"#bd3786\"],[0.5555555555555556,\"#d8576b\"],[0.6666666666666666,\"#ed7953\"],[0.7777777777777778,\"#fb9f3a\"],[0.8888888888888888,\"#fdca26\"],[1.0,\"#f0f921\"]],\"sequentialminus\":[[0.0,\"#0d0887\"],[0.1111111111111111,\"#46039f\"],[0.2222222222222222,\"#7201a8\"],[0.3333333333333333,\"#9c179e\"],[0.4444444444444444,\"#bd3786\"],[0.5555555555555556,\"#d8576b\"],[0.6666666666666666,\"#ed7953\"],[0.7777777777777778,\"#fb9f3a\"],[0.8888888888888888,\"#fdca26\"],[1.0,\"#f0f921\"]]},\"colorway\":[\"#636efa\",\"#EF553B\",\"#00cc96\",\"#ab63fa\",\"#FFA15A\",\"#19d3f3\",\"#FF6692\",\"#B6E880\",\"#FF97FF\",\"#FECB52\"],\"font\":{\"color\":\"#2a3f5f\"},\"geo\":{\"bgcolor\":\"white\",\"lakecolor\":\"white\",\"landcolor\":\"#E5ECF6\",\"showlakes\":true,\"showland\":true,\"subunitcolor\":\"white\"},\"hoverlabel\":{\"align\":\"left\"},\"hovermode\":\"closest\",\"mapbox\":{\"style\":\"light\"},\"paper_bgcolor\":\"white\",\"plot_bgcolor\":\"#E5ECF6\",\"polar\":{\"angularaxis\":{\"gridcolor\":\"white\",\"linecolor\":\"white\",\"ticks\":\"\"},\"bgcolor\":\"#E5ECF6\",\"radialaxis\":{\"gridcolor\":\"white\",\"linecolor\":\"white\",\"ticks\":\"\"}},\"scene\":{\"xaxis\":{\"backgroundcolor\":\"#E5ECF6\",\"gridcolor\":\"white\",\"gridwidth\":2,\"linecolor\":\"white\",\"showbackground\":true,\"ticks\":\"\",\"zerolinecolor\":\"white\"},\"yaxis\":{\"backgroundcolor\":\"#E5ECF6\",\"gridcolor\":\"white\",\"gridwidth\":2,\"linecolor\":\"white\",\"showbackground\":true,\"ticks\":\"\",\"zerolinecolor\":\"white\"},\"zaxis\":{\"backgroundcolor\":\"#E5ECF6\",\"gridcolor\":\"white\",\"gridwidth\":2,\"linecolor\":\"white\",\"showbackground\":true,\"ticks\":\"\",\"zerolinecolor\":\"white\"}},\"shapedefaults\":{\"line\":{\"color\":\"#2a3f5f\"}},\"ternary\":{\"aaxis\":{\"gridcolor\":\"white\",\"linecolor\":\"white\",\"ticks\":\"\"},\"baxis\":{\"gridcolor\":\"white\",\"linecolor\":\"white\",\"ticks\":\"\"},\"bgcolor\":\"#E5ECF6\",\"caxis\":{\"gridcolor\":\"white\",\"linecolor\":\"white\",\"ticks\":\"\"}},\"title\":{\"x\":0.05},\"xaxis\":{\"automargin\":true,\"gridcolor\":\"white\",\"linecolor\":\"white\",\"ticks\":\"\",\"title\":{\"standoff\":15},\"zerolinecolor\":\"white\",\"zerolinewidth\":2},\"yaxis\":{\"automargin\":true,\"gridcolor\":\"white\",\"linecolor\":\"white\",\"ticks\":\"\",\"title\":{\"standoff\":15},\"zerolinecolor\":\"white\",\"zerolinewidth\":2}}},\"title\":{\"font\":{\"color\":\"#4D5663\"}},\"xaxis\":{\"gridcolor\":\"#E1E5ED\",\"showgrid\":true,\"tickfont\":{\"color\":\"#4D5663\"},\"title\":{\"font\":{\"color\":\"#4D5663\"},\"text\":\"\"},\"zerolinecolor\":\"#E1E5ED\"},\"yaxis\":{\"gridcolor\":\"#E1E5ED\",\"showgrid\":true,\"tickfont\":{\"color\":\"#4D5663\"},\"title\":{\"font\":{\"color\":\"#4D5663\"},\"text\":\"\"},\"zerolinecolor\":\"#E1E5ED\"}},                        {\"showLink\": true, \"linkText\": \"Export to plot.ly\", \"plotlyServerURL\": \"https://plot.ly\", \"responsive\": true}                    ).then(function(){\n",
       "                            \n",
       "var gd = document.getElementById('efba0f30-d50d-48e2-9e5e-44819bdb0429');\n",
       "var x = new MutationObserver(function (mutations, observer) {{\n",
       "        var display = window.getComputedStyle(gd).display;\n",
       "        if (!display || display === 'none') {{\n",
       "            console.log([gd, 'removed!']);\n",
       "            Plotly.purge(gd);\n",
       "            observer.disconnect();\n",
       "        }}\n",
       "}});\n",
       "\n",
       "// Listen for the removal of the full notebook cells\n",
       "var notebookContainer = gd.closest('#notebook-container');\n",
       "if (notebookContainer) {{\n",
       "    x.observe(notebookContainer, {childList: true});\n",
       "}}\n",
       "\n",
       "// Listen for the clearing of the current output cell\n",
       "var outputEl = gd.closest('.output');\n",
       "if (outputEl) {{\n",
       "    x.observe(outputEl, {childList: true});\n",
       "}}\n",
       "\n",
       "                        })                };                });            </script>        </div>"
      ]
     },
     "metadata": {},
     "output_type": "display_data"
    }
   ],
   "source": [
    " #iplot\n",
    "dataframe.iplot(kind='bar',x='State/UTs',y='Deaths')"
   ]
  },
  {
   "cell_type": "code",
   "execution_count": 67,
   "metadata": {},
   "outputs": [
    {
     "data": {
      "application/vnd.plotly.v1+json": {
       "config": {
        "linkText": "Export to plot.ly",
        "plotlyServerURL": "https://plot.ly",
        "showLink": true
       },
       "data": [
        {
         "marker": {
          "color": "rgba(255, 153, 51, 0.6)",
          "line": {
           "color": "rgba(255, 153, 51, 1.0)",
           "width": 1
          }
         },
         "name": "Death Ratio",
         "orientation": "v",
         "text": "",
         "type": "bar",
         "x": [
          "Andaman and Nicobar",
          "Andhra Pradesh",
          "Arunachal Pradesh",
          "Assam",
          "Bihar",
          "Chandigarh",
          "Chhattisgarh",
          "Dadra and Nagar Haveli and Daman and Diu",
          "Delhi",
          "Goa",
          "Gujarat",
          "Haryana",
          "Himachal Pradesh",
          "Jammu and Kashmir",
          "Jharkhand",
          "Karnataka",
          "Kerala",
          "Ladakh",
          "Lakshadweep",
          "Madhya Pradesh",
          "Maharashtra",
          "Manipur",
          "Meghalaya",
          "Mizoram",
          "Nagaland",
          "Odisha",
          "Puducherry",
          "Punjab",
          "Rajasthan",
          "Sikkim",
          "Tamil Nadu",
          "Telengana",
          "Tripura",
          "Uttar Pradesh",
          "Uttarakhand",
          "West Bengal"
         ],
         "y": [
          1.69,
          0.69,
          0.51,
          0.98,
          1.33,
          1.26,
          1.35,
          0.04,
          1.74,
          1.88,
          1.22,
          1.28,
          1.68,
          1.34,
          1.47,
          1.27,
          0.54,
          1,
          0.49,
          1.33,
          2.12,
          1.54,
          1.72,
          0.33,
          2.13,
          0.8,
          1.46,
          2.74,
          0.94,
          1.23,
          1.34,
          0.59,
          0.97,
          1.34,
          2.15,
          1.2
         ]
        }
       ],
       "layout": {
        "legend": {
         "bgcolor": "#F5F6F9",
         "font": {
          "color": "#4D5663"
         }
        },
        "paper_bgcolor": "#F5F6F9",
        "plot_bgcolor": "#F5F6F9",
        "template": {
         "data": {
          "bar": [
           {
            "error_x": {
             "color": "#2a3f5f"
            },
            "error_y": {
             "color": "#2a3f5f"
            },
            "marker": {
             "line": {
              "color": "#E5ECF6",
              "width": 0.5
             },
             "pattern": {
              "fillmode": "overlay",
              "size": 10,
              "solidity": 0.2
             }
            },
            "type": "bar"
           }
          ],
          "barpolar": [
           {
            "marker": {
             "line": {
              "color": "#E5ECF6",
              "width": 0.5
             },
             "pattern": {
              "fillmode": "overlay",
              "size": 10,
              "solidity": 0.2
             }
            },
            "type": "barpolar"
           }
          ],
          "carpet": [
           {
            "aaxis": {
             "endlinecolor": "#2a3f5f",
             "gridcolor": "white",
             "linecolor": "white",
             "minorgridcolor": "white",
             "startlinecolor": "#2a3f5f"
            },
            "baxis": {
             "endlinecolor": "#2a3f5f",
             "gridcolor": "white",
             "linecolor": "white",
             "minorgridcolor": "white",
             "startlinecolor": "#2a3f5f"
            },
            "type": "carpet"
           }
          ],
          "choropleth": [
           {
            "colorbar": {
             "outlinewidth": 0,
             "ticks": ""
            },
            "type": "choropleth"
           }
          ],
          "contour": [
           {
            "colorbar": {
             "outlinewidth": 0,
             "ticks": ""
            },
            "colorscale": [
             [
              0,
              "#0d0887"
             ],
             [
              0.1111111111111111,
              "#46039f"
             ],
             [
              0.2222222222222222,
              "#7201a8"
             ],
             [
              0.3333333333333333,
              "#9c179e"
             ],
             [
              0.4444444444444444,
              "#bd3786"
             ],
             [
              0.5555555555555556,
              "#d8576b"
             ],
             [
              0.6666666666666666,
              "#ed7953"
             ],
             [
              0.7777777777777778,
              "#fb9f3a"
             ],
             [
              0.8888888888888888,
              "#fdca26"
             ],
             [
              1,
              "#f0f921"
             ]
            ],
            "type": "contour"
           }
          ],
          "contourcarpet": [
           {
            "colorbar": {
             "outlinewidth": 0,
             "ticks": ""
            },
            "type": "contourcarpet"
           }
          ],
          "heatmap": [
           {
            "colorbar": {
             "outlinewidth": 0,
             "ticks": ""
            },
            "colorscale": [
             [
              0,
              "#0d0887"
             ],
             [
              0.1111111111111111,
              "#46039f"
             ],
             [
              0.2222222222222222,
              "#7201a8"
             ],
             [
              0.3333333333333333,
              "#9c179e"
             ],
             [
              0.4444444444444444,
              "#bd3786"
             ],
             [
              0.5555555555555556,
              "#d8576b"
             ],
             [
              0.6666666666666666,
              "#ed7953"
             ],
             [
              0.7777777777777778,
              "#fb9f3a"
             ],
             [
              0.8888888888888888,
              "#fdca26"
             ],
             [
              1,
              "#f0f921"
             ]
            ],
            "type": "heatmap"
           }
          ],
          "heatmapgl": [
           {
            "colorbar": {
             "outlinewidth": 0,
             "ticks": ""
            },
            "colorscale": [
             [
              0,
              "#0d0887"
             ],
             [
              0.1111111111111111,
              "#46039f"
             ],
             [
              0.2222222222222222,
              "#7201a8"
             ],
             [
              0.3333333333333333,
              "#9c179e"
             ],
             [
              0.4444444444444444,
              "#bd3786"
             ],
             [
              0.5555555555555556,
              "#d8576b"
             ],
             [
              0.6666666666666666,
              "#ed7953"
             ],
             [
              0.7777777777777778,
              "#fb9f3a"
             ],
             [
              0.8888888888888888,
              "#fdca26"
             ],
             [
              1,
              "#f0f921"
             ]
            ],
            "type": "heatmapgl"
           }
          ],
          "histogram": [
           {
            "marker": {
             "pattern": {
              "fillmode": "overlay",
              "size": 10,
              "solidity": 0.2
             }
            },
            "type": "histogram"
           }
          ],
          "histogram2d": [
           {
            "colorbar": {
             "outlinewidth": 0,
             "ticks": ""
            },
            "colorscale": [
             [
              0,
              "#0d0887"
             ],
             [
              0.1111111111111111,
              "#46039f"
             ],
             [
              0.2222222222222222,
              "#7201a8"
             ],
             [
              0.3333333333333333,
              "#9c179e"
             ],
             [
              0.4444444444444444,
              "#bd3786"
             ],
             [
              0.5555555555555556,
              "#d8576b"
             ],
             [
              0.6666666666666666,
              "#ed7953"
             ],
             [
              0.7777777777777778,
              "#fb9f3a"
             ],
             [
              0.8888888888888888,
              "#fdca26"
             ],
             [
              1,
              "#f0f921"
             ]
            ],
            "type": "histogram2d"
           }
          ],
          "histogram2dcontour": [
           {
            "colorbar": {
             "outlinewidth": 0,
             "ticks": ""
            },
            "colorscale": [
             [
              0,
              "#0d0887"
             ],
             [
              0.1111111111111111,
              "#46039f"
             ],
             [
              0.2222222222222222,
              "#7201a8"
             ],
             [
              0.3333333333333333,
              "#9c179e"
             ],
             [
              0.4444444444444444,
              "#bd3786"
             ],
             [
              0.5555555555555556,
              "#d8576b"
             ],
             [
              0.6666666666666666,
              "#ed7953"
             ],
             [
              0.7777777777777778,
              "#fb9f3a"
             ],
             [
              0.8888888888888888,
              "#fdca26"
             ],
             [
              1,
              "#f0f921"
             ]
            ],
            "type": "histogram2dcontour"
           }
          ],
          "mesh3d": [
           {
            "colorbar": {
             "outlinewidth": 0,
             "ticks": ""
            },
            "type": "mesh3d"
           }
          ],
          "parcoords": [
           {
            "line": {
             "colorbar": {
              "outlinewidth": 0,
              "ticks": ""
             }
            },
            "type": "parcoords"
           }
          ],
          "pie": [
           {
            "automargin": true,
            "type": "pie"
           }
          ],
          "scatter": [
           {
            "marker": {
             "colorbar": {
              "outlinewidth": 0,
              "ticks": ""
             }
            },
            "type": "scatter"
           }
          ],
          "scatter3d": [
           {
            "line": {
             "colorbar": {
              "outlinewidth": 0,
              "ticks": ""
             }
            },
            "marker": {
             "colorbar": {
              "outlinewidth": 0,
              "ticks": ""
             }
            },
            "type": "scatter3d"
           }
          ],
          "scattercarpet": [
           {
            "marker": {
             "colorbar": {
              "outlinewidth": 0,
              "ticks": ""
             }
            },
            "type": "scattercarpet"
           }
          ],
          "scattergeo": [
           {
            "marker": {
             "colorbar": {
              "outlinewidth": 0,
              "ticks": ""
             }
            },
            "type": "scattergeo"
           }
          ],
          "scattergl": [
           {
            "marker": {
             "colorbar": {
              "outlinewidth": 0,
              "ticks": ""
             }
            },
            "type": "scattergl"
           }
          ],
          "scattermapbox": [
           {
            "marker": {
             "colorbar": {
              "outlinewidth": 0,
              "ticks": ""
             }
            },
            "type": "scattermapbox"
           }
          ],
          "scatterpolar": [
           {
            "marker": {
             "colorbar": {
              "outlinewidth": 0,
              "ticks": ""
             }
            },
            "type": "scatterpolar"
           }
          ],
          "scatterpolargl": [
           {
            "marker": {
             "colorbar": {
              "outlinewidth": 0,
              "ticks": ""
             }
            },
            "type": "scatterpolargl"
           }
          ],
          "scatterternary": [
           {
            "marker": {
             "colorbar": {
              "outlinewidth": 0,
              "ticks": ""
             }
            },
            "type": "scatterternary"
           }
          ],
          "surface": [
           {
            "colorbar": {
             "outlinewidth": 0,
             "ticks": ""
            },
            "colorscale": [
             [
              0,
              "#0d0887"
             ],
             [
              0.1111111111111111,
              "#46039f"
             ],
             [
              0.2222222222222222,
              "#7201a8"
             ],
             [
              0.3333333333333333,
              "#9c179e"
             ],
             [
              0.4444444444444444,
              "#bd3786"
             ],
             [
              0.5555555555555556,
              "#d8576b"
             ],
             [
              0.6666666666666666,
              "#ed7953"
             ],
             [
              0.7777777777777778,
              "#fb9f3a"
             ],
             [
              0.8888888888888888,
              "#fdca26"
             ],
             [
              1,
              "#f0f921"
             ]
            ],
            "type": "surface"
           }
          ],
          "table": [
           {
            "cells": {
             "fill": {
              "color": "#EBF0F8"
             },
             "line": {
              "color": "white"
             }
            },
            "header": {
             "fill": {
              "color": "#C8D4E3"
             },
             "line": {
              "color": "white"
             }
            },
            "type": "table"
           }
          ]
         },
         "layout": {
          "annotationdefaults": {
           "arrowcolor": "#2a3f5f",
           "arrowhead": 0,
           "arrowwidth": 1
          },
          "autotypenumbers": "strict",
          "coloraxis": {
           "colorbar": {
            "outlinewidth": 0,
            "ticks": ""
           }
          },
          "colorscale": {
           "diverging": [
            [
             0,
             "#8e0152"
            ],
            [
             0.1,
             "#c51b7d"
            ],
            [
             0.2,
             "#de77ae"
            ],
            [
             0.3,
             "#f1b6da"
            ],
            [
             0.4,
             "#fde0ef"
            ],
            [
             0.5,
             "#f7f7f7"
            ],
            [
             0.6,
             "#e6f5d0"
            ],
            [
             0.7,
             "#b8e186"
            ],
            [
             0.8,
             "#7fbc41"
            ],
            [
             0.9,
             "#4d9221"
            ],
            [
             1,
             "#276419"
            ]
           ],
           "sequential": [
            [
             0,
             "#0d0887"
            ],
            [
             0.1111111111111111,
             "#46039f"
            ],
            [
             0.2222222222222222,
             "#7201a8"
            ],
            [
             0.3333333333333333,
             "#9c179e"
            ],
            [
             0.4444444444444444,
             "#bd3786"
            ],
            [
             0.5555555555555556,
             "#d8576b"
            ],
            [
             0.6666666666666666,
             "#ed7953"
            ],
            [
             0.7777777777777778,
             "#fb9f3a"
            ],
            [
             0.8888888888888888,
             "#fdca26"
            ],
            [
             1,
             "#f0f921"
            ]
           ],
           "sequentialminus": [
            [
             0,
             "#0d0887"
            ],
            [
             0.1111111111111111,
             "#46039f"
            ],
            [
             0.2222222222222222,
             "#7201a8"
            ],
            [
             0.3333333333333333,
             "#9c179e"
            ],
            [
             0.4444444444444444,
             "#bd3786"
            ],
            [
             0.5555555555555556,
             "#d8576b"
            ],
            [
             0.6666666666666666,
             "#ed7953"
            ],
            [
             0.7777777777777778,
             "#fb9f3a"
            ],
            [
             0.8888888888888888,
             "#fdca26"
            ],
            [
             1,
             "#f0f921"
            ]
           ]
          },
          "colorway": [
           "#636efa",
           "#EF553B",
           "#00cc96",
           "#ab63fa",
           "#FFA15A",
           "#19d3f3",
           "#FF6692",
           "#B6E880",
           "#FF97FF",
           "#FECB52"
          ],
          "font": {
           "color": "#2a3f5f"
          },
          "geo": {
           "bgcolor": "white",
           "lakecolor": "white",
           "landcolor": "#E5ECF6",
           "showlakes": true,
           "showland": true,
           "subunitcolor": "white"
          },
          "hoverlabel": {
           "align": "left"
          },
          "hovermode": "closest",
          "mapbox": {
           "style": "light"
          },
          "paper_bgcolor": "white",
          "plot_bgcolor": "#E5ECF6",
          "polar": {
           "angularaxis": {
            "gridcolor": "white",
            "linecolor": "white",
            "ticks": ""
           },
           "bgcolor": "#E5ECF6",
           "radialaxis": {
            "gridcolor": "white",
            "linecolor": "white",
            "ticks": ""
           }
          },
          "scene": {
           "xaxis": {
            "backgroundcolor": "#E5ECF6",
            "gridcolor": "white",
            "gridwidth": 2,
            "linecolor": "white",
            "showbackground": true,
            "ticks": "",
            "zerolinecolor": "white"
           },
           "yaxis": {
            "backgroundcolor": "#E5ECF6",
            "gridcolor": "white",
            "gridwidth": 2,
            "linecolor": "white",
            "showbackground": true,
            "ticks": "",
            "zerolinecolor": "white"
           },
           "zaxis": {
            "backgroundcolor": "#E5ECF6",
            "gridcolor": "white",
            "gridwidth": 2,
            "linecolor": "white",
            "showbackground": true,
            "ticks": "",
            "zerolinecolor": "white"
           }
          },
          "shapedefaults": {
           "line": {
            "color": "#2a3f5f"
           }
          },
          "ternary": {
           "aaxis": {
            "gridcolor": "white",
            "linecolor": "white",
            "ticks": ""
           },
           "baxis": {
            "gridcolor": "white",
            "linecolor": "white",
            "ticks": ""
           },
           "bgcolor": "#E5ECF6",
           "caxis": {
            "gridcolor": "white",
            "linecolor": "white",
            "ticks": ""
           }
          },
          "title": {
           "x": 0.05
          },
          "xaxis": {
           "automargin": true,
           "gridcolor": "white",
           "linecolor": "white",
           "ticks": "",
           "title": {
            "standoff": 15
           },
           "zerolinecolor": "white",
           "zerolinewidth": 2
          },
          "yaxis": {
           "automargin": true,
           "gridcolor": "white",
           "linecolor": "white",
           "ticks": "",
           "title": {
            "standoff": 15
           },
           "zerolinecolor": "white",
           "zerolinewidth": 2
          }
         }
        },
        "title": {
         "font": {
          "color": "#4D5663"
         }
        },
        "xaxis": {
         "gridcolor": "#E1E5ED",
         "showgrid": true,
         "tickfont": {
          "color": "#4D5663"
         },
         "title": {
          "font": {
           "color": "#4D5663"
          },
          "text": ""
         },
         "zerolinecolor": "#E1E5ED"
        },
        "yaxis": {
         "gridcolor": "#E1E5ED",
         "showgrid": true,
         "tickfont": {
          "color": "#4D5663"
         },
         "title": {
          "font": {
           "color": "#4D5663"
          },
          "text": ""
         },
         "zerolinecolor": "#E1E5ED"
        }
       }
      },
      "text/html": [
       "<div>                            <div id=\"0a60e5e9-8e40-4bd2-9db1-1722bb441009\" class=\"plotly-graph-div\" style=\"height:525px; width:100%;\"></div>            <script type=\"text/javascript\">                require([\"plotly\"], function(Plotly) {                    window.PLOTLYENV=window.PLOTLYENV || {};\n",
       "                    window.PLOTLYENV.BASE_URL='https://plot.ly';                                    if (document.getElementById(\"0a60e5e9-8e40-4bd2-9db1-1722bb441009\")) {                    Plotly.newPlot(                        \"0a60e5e9-8e40-4bd2-9db1-1722bb441009\",                        [{\"marker\":{\"color\":\"rgba(255, 153, 51, 0.6)\",\"line\":{\"color\":\"rgba(255, 153, 51, 1.0)\",\"width\":1}},\"name\":\"Death Ratio\",\"orientation\":\"v\",\"text\":\"\",\"type\":\"bar\",\"x\":[\"Andaman and Nicobar\",\"Andhra Pradesh\",\"Arunachal Pradesh\",\"Assam\",\"Bihar\",\"Chandigarh\",\"Chhattisgarh\",\"Dadra and Nagar Haveli and Daman and Diu\",\"Delhi\",\"Goa\",\"Gujarat\",\"Haryana\",\"Himachal Pradesh\",\"Jammu and Kashmir\",\"Jharkhand\",\"Karnataka\",\"Kerala\",\"Ladakh\",\"Lakshadweep\",\"Madhya Pradesh\",\"Maharashtra\",\"Manipur\",\"Meghalaya\",\"Mizoram\",\"Nagaland\",\"Odisha\",\"Puducherry\",\"Punjab\",\"Rajasthan\",\"Sikkim\",\"Tamil Nadu\",\"Telengana\",\"Tripura\",\"Uttar Pradesh\",\"Uttarakhand\",\"West Bengal\"],\"y\":[1.69,0.69,0.51,0.98,1.33,1.26,1.35,0.04,1.74,1.88,1.22,1.28,1.68,1.34,1.47,1.27,0.54,1.0,0.49,1.33,2.12,1.54,1.72,0.33,2.13,0.8,1.46,2.74,0.94,1.23,1.34,0.59,0.97,1.34,2.15,1.2]}],                        {\"legend\":{\"bgcolor\":\"#F5F6F9\",\"font\":{\"color\":\"#4D5663\"}},\"paper_bgcolor\":\"#F5F6F9\",\"plot_bgcolor\":\"#F5F6F9\",\"template\":{\"data\":{\"bar\":[{\"error_x\":{\"color\":\"#2a3f5f\"},\"error_y\":{\"color\":\"#2a3f5f\"},\"marker\":{\"line\":{\"color\":\"#E5ECF6\",\"width\":0.5},\"pattern\":{\"fillmode\":\"overlay\",\"size\":10,\"solidity\":0.2}},\"type\":\"bar\"}],\"barpolar\":[{\"marker\":{\"line\":{\"color\":\"#E5ECF6\",\"width\":0.5},\"pattern\":{\"fillmode\":\"overlay\",\"size\":10,\"solidity\":0.2}},\"type\":\"barpolar\"}],\"carpet\":[{\"aaxis\":{\"endlinecolor\":\"#2a3f5f\",\"gridcolor\":\"white\",\"linecolor\":\"white\",\"minorgridcolor\":\"white\",\"startlinecolor\":\"#2a3f5f\"},\"baxis\":{\"endlinecolor\":\"#2a3f5f\",\"gridcolor\":\"white\",\"linecolor\":\"white\",\"minorgridcolor\":\"white\",\"startlinecolor\":\"#2a3f5f\"},\"type\":\"carpet\"}],\"choropleth\":[{\"colorbar\":{\"outlinewidth\":0,\"ticks\":\"\"},\"type\":\"choropleth\"}],\"contour\":[{\"colorbar\":{\"outlinewidth\":0,\"ticks\":\"\"},\"colorscale\":[[0.0,\"#0d0887\"],[0.1111111111111111,\"#46039f\"],[0.2222222222222222,\"#7201a8\"],[0.3333333333333333,\"#9c179e\"],[0.4444444444444444,\"#bd3786\"],[0.5555555555555556,\"#d8576b\"],[0.6666666666666666,\"#ed7953\"],[0.7777777777777778,\"#fb9f3a\"],[0.8888888888888888,\"#fdca26\"],[1.0,\"#f0f921\"]],\"type\":\"contour\"}],\"contourcarpet\":[{\"colorbar\":{\"outlinewidth\":0,\"ticks\":\"\"},\"type\":\"contourcarpet\"}],\"heatmap\":[{\"colorbar\":{\"outlinewidth\":0,\"ticks\":\"\"},\"colorscale\":[[0.0,\"#0d0887\"],[0.1111111111111111,\"#46039f\"],[0.2222222222222222,\"#7201a8\"],[0.3333333333333333,\"#9c179e\"],[0.4444444444444444,\"#bd3786\"],[0.5555555555555556,\"#d8576b\"],[0.6666666666666666,\"#ed7953\"],[0.7777777777777778,\"#fb9f3a\"],[0.8888888888888888,\"#fdca26\"],[1.0,\"#f0f921\"]],\"type\":\"heatmap\"}],\"heatmapgl\":[{\"colorbar\":{\"outlinewidth\":0,\"ticks\":\"\"},\"colorscale\":[[0.0,\"#0d0887\"],[0.1111111111111111,\"#46039f\"],[0.2222222222222222,\"#7201a8\"],[0.3333333333333333,\"#9c179e\"],[0.4444444444444444,\"#bd3786\"],[0.5555555555555556,\"#d8576b\"],[0.6666666666666666,\"#ed7953\"],[0.7777777777777778,\"#fb9f3a\"],[0.8888888888888888,\"#fdca26\"],[1.0,\"#f0f921\"]],\"type\":\"heatmapgl\"}],\"histogram\":[{\"marker\":{\"pattern\":{\"fillmode\":\"overlay\",\"size\":10,\"solidity\":0.2}},\"type\":\"histogram\"}],\"histogram2d\":[{\"colorbar\":{\"outlinewidth\":0,\"ticks\":\"\"},\"colorscale\":[[0.0,\"#0d0887\"],[0.1111111111111111,\"#46039f\"],[0.2222222222222222,\"#7201a8\"],[0.3333333333333333,\"#9c179e\"],[0.4444444444444444,\"#bd3786\"],[0.5555555555555556,\"#d8576b\"],[0.6666666666666666,\"#ed7953\"],[0.7777777777777778,\"#fb9f3a\"],[0.8888888888888888,\"#fdca26\"],[1.0,\"#f0f921\"]],\"type\":\"histogram2d\"}],\"histogram2dcontour\":[{\"colorbar\":{\"outlinewidth\":0,\"ticks\":\"\"},\"colorscale\":[[0.0,\"#0d0887\"],[0.1111111111111111,\"#46039f\"],[0.2222222222222222,\"#7201a8\"],[0.3333333333333333,\"#9c179e\"],[0.4444444444444444,\"#bd3786\"],[0.5555555555555556,\"#d8576b\"],[0.6666666666666666,\"#ed7953\"],[0.7777777777777778,\"#fb9f3a\"],[0.8888888888888888,\"#fdca26\"],[1.0,\"#f0f921\"]],\"type\":\"histogram2dcontour\"}],\"mesh3d\":[{\"colorbar\":{\"outlinewidth\":0,\"ticks\":\"\"},\"type\":\"mesh3d\"}],\"parcoords\":[{\"line\":{\"colorbar\":{\"outlinewidth\":0,\"ticks\":\"\"}},\"type\":\"parcoords\"}],\"pie\":[{\"automargin\":true,\"type\":\"pie\"}],\"scatter\":[{\"marker\":{\"colorbar\":{\"outlinewidth\":0,\"ticks\":\"\"}},\"type\":\"scatter\"}],\"scatter3d\":[{\"line\":{\"colorbar\":{\"outlinewidth\":0,\"ticks\":\"\"}},\"marker\":{\"colorbar\":{\"outlinewidth\":0,\"ticks\":\"\"}},\"type\":\"scatter3d\"}],\"scattercarpet\":[{\"marker\":{\"colorbar\":{\"outlinewidth\":0,\"ticks\":\"\"}},\"type\":\"scattercarpet\"}],\"scattergeo\":[{\"marker\":{\"colorbar\":{\"outlinewidth\":0,\"ticks\":\"\"}},\"type\":\"scattergeo\"}],\"scattergl\":[{\"marker\":{\"colorbar\":{\"outlinewidth\":0,\"ticks\":\"\"}},\"type\":\"scattergl\"}],\"scattermapbox\":[{\"marker\":{\"colorbar\":{\"outlinewidth\":0,\"ticks\":\"\"}},\"type\":\"scattermapbox\"}],\"scatterpolar\":[{\"marker\":{\"colorbar\":{\"outlinewidth\":0,\"ticks\":\"\"}},\"type\":\"scatterpolar\"}],\"scatterpolargl\":[{\"marker\":{\"colorbar\":{\"outlinewidth\":0,\"ticks\":\"\"}},\"type\":\"scatterpolargl\"}],\"scatterternary\":[{\"marker\":{\"colorbar\":{\"outlinewidth\":0,\"ticks\":\"\"}},\"type\":\"scatterternary\"}],\"surface\":[{\"colorbar\":{\"outlinewidth\":0,\"ticks\":\"\"},\"colorscale\":[[0.0,\"#0d0887\"],[0.1111111111111111,\"#46039f\"],[0.2222222222222222,\"#7201a8\"],[0.3333333333333333,\"#9c179e\"],[0.4444444444444444,\"#bd3786\"],[0.5555555555555556,\"#d8576b\"],[0.6666666666666666,\"#ed7953\"],[0.7777777777777778,\"#fb9f3a\"],[0.8888888888888888,\"#fdca26\"],[1.0,\"#f0f921\"]],\"type\":\"surface\"}],\"table\":[{\"cells\":{\"fill\":{\"color\":\"#EBF0F8\"},\"line\":{\"color\":\"white\"}},\"header\":{\"fill\":{\"color\":\"#C8D4E3\"},\"line\":{\"color\":\"white\"}},\"type\":\"table\"}]},\"layout\":{\"annotationdefaults\":{\"arrowcolor\":\"#2a3f5f\",\"arrowhead\":0,\"arrowwidth\":1},\"autotypenumbers\":\"strict\",\"coloraxis\":{\"colorbar\":{\"outlinewidth\":0,\"ticks\":\"\"}},\"colorscale\":{\"diverging\":[[0,\"#8e0152\"],[0.1,\"#c51b7d\"],[0.2,\"#de77ae\"],[0.3,\"#f1b6da\"],[0.4,\"#fde0ef\"],[0.5,\"#f7f7f7\"],[0.6,\"#e6f5d0\"],[0.7,\"#b8e186\"],[0.8,\"#7fbc41\"],[0.9,\"#4d9221\"],[1,\"#276419\"]],\"sequential\":[[0.0,\"#0d0887\"],[0.1111111111111111,\"#46039f\"],[0.2222222222222222,\"#7201a8\"],[0.3333333333333333,\"#9c179e\"],[0.4444444444444444,\"#bd3786\"],[0.5555555555555556,\"#d8576b\"],[0.6666666666666666,\"#ed7953\"],[0.7777777777777778,\"#fb9f3a\"],[0.8888888888888888,\"#fdca26\"],[1.0,\"#f0f921\"]],\"sequentialminus\":[[0.0,\"#0d0887\"],[0.1111111111111111,\"#46039f\"],[0.2222222222222222,\"#7201a8\"],[0.3333333333333333,\"#9c179e\"],[0.4444444444444444,\"#bd3786\"],[0.5555555555555556,\"#d8576b\"],[0.6666666666666666,\"#ed7953\"],[0.7777777777777778,\"#fb9f3a\"],[0.8888888888888888,\"#fdca26\"],[1.0,\"#f0f921\"]]},\"colorway\":[\"#636efa\",\"#EF553B\",\"#00cc96\",\"#ab63fa\",\"#FFA15A\",\"#19d3f3\",\"#FF6692\",\"#B6E880\",\"#FF97FF\",\"#FECB52\"],\"font\":{\"color\":\"#2a3f5f\"},\"geo\":{\"bgcolor\":\"white\",\"lakecolor\":\"white\",\"landcolor\":\"#E5ECF6\",\"showlakes\":true,\"showland\":true,\"subunitcolor\":\"white\"},\"hoverlabel\":{\"align\":\"left\"},\"hovermode\":\"closest\",\"mapbox\":{\"style\":\"light\"},\"paper_bgcolor\":\"white\",\"plot_bgcolor\":\"#E5ECF6\",\"polar\":{\"angularaxis\":{\"gridcolor\":\"white\",\"linecolor\":\"white\",\"ticks\":\"\"},\"bgcolor\":\"#E5ECF6\",\"radialaxis\":{\"gridcolor\":\"white\",\"linecolor\":\"white\",\"ticks\":\"\"}},\"scene\":{\"xaxis\":{\"backgroundcolor\":\"#E5ECF6\",\"gridcolor\":\"white\",\"gridwidth\":2,\"linecolor\":\"white\",\"showbackground\":true,\"ticks\":\"\",\"zerolinecolor\":\"white\"},\"yaxis\":{\"backgroundcolor\":\"#E5ECF6\",\"gridcolor\":\"white\",\"gridwidth\":2,\"linecolor\":\"white\",\"showbackground\":true,\"ticks\":\"\",\"zerolinecolor\":\"white\"},\"zaxis\":{\"backgroundcolor\":\"#E5ECF6\",\"gridcolor\":\"white\",\"gridwidth\":2,\"linecolor\":\"white\",\"showbackground\":true,\"ticks\":\"\",\"zerolinecolor\":\"white\"}},\"shapedefaults\":{\"line\":{\"color\":\"#2a3f5f\"}},\"ternary\":{\"aaxis\":{\"gridcolor\":\"white\",\"linecolor\":\"white\",\"ticks\":\"\"},\"baxis\":{\"gridcolor\":\"white\",\"linecolor\":\"white\",\"ticks\":\"\"},\"bgcolor\":\"#E5ECF6\",\"caxis\":{\"gridcolor\":\"white\",\"linecolor\":\"white\",\"ticks\":\"\"}},\"title\":{\"x\":0.05},\"xaxis\":{\"automargin\":true,\"gridcolor\":\"white\",\"linecolor\":\"white\",\"ticks\":\"\",\"title\":{\"standoff\":15},\"zerolinecolor\":\"white\",\"zerolinewidth\":2},\"yaxis\":{\"automargin\":true,\"gridcolor\":\"white\",\"linecolor\":\"white\",\"ticks\":\"\",\"title\":{\"standoff\":15},\"zerolinecolor\":\"white\",\"zerolinewidth\":2}}},\"title\":{\"font\":{\"color\":\"#4D5663\"}},\"xaxis\":{\"gridcolor\":\"#E1E5ED\",\"showgrid\":true,\"tickfont\":{\"color\":\"#4D5663\"},\"title\":{\"font\":{\"color\":\"#4D5663\"},\"text\":\"\"},\"zerolinecolor\":\"#E1E5ED\"},\"yaxis\":{\"gridcolor\":\"#E1E5ED\",\"showgrid\":true,\"tickfont\":{\"color\":\"#4D5663\"},\"title\":{\"font\":{\"color\":\"#4D5663\"},\"text\":\"\"},\"zerolinecolor\":\"#E1E5ED\"}},                        {\"showLink\": true, \"linkText\": \"Export to plot.ly\", \"plotlyServerURL\": \"https://plot.ly\", \"responsive\": true}                    ).then(function(){\n",
       "                            \n",
       "var gd = document.getElementById('0a60e5e9-8e40-4bd2-9db1-1722bb441009');\n",
       "var x = new MutationObserver(function (mutations, observer) {{\n",
       "        var display = window.getComputedStyle(gd).display;\n",
       "        if (!display || display === 'none') {{\n",
       "            console.log([gd, 'removed!']);\n",
       "            Plotly.purge(gd);\n",
       "            observer.disconnect();\n",
       "        }}\n",
       "}});\n",
       "\n",
       "// Listen for the removal of the full notebook cells\n",
       "var notebookContainer = gd.closest('#notebook-container');\n",
       "if (notebookContainer) {{\n",
       "    x.observe(notebookContainer, {childList: true});\n",
       "}}\n",
       "\n",
       "// Listen for the clearing of the current output cell\n",
       "var outputEl = gd.closest('.output');\n",
       "if (outputEl) {{\n",
       "    x.observe(outputEl, {childList: true});\n",
       "}}\n",
       "\n",
       "                        })                };                });            </script>        </div>"
      ]
     },
     "metadata": {},
     "output_type": "display_data"
    }
   ],
   "source": [
    " #iplot\n",
    "dataframe.iplot(kind='bar',x='State/UTs',y='Death Ratio')"
   ]
  },
  {
   "cell_type": "markdown",
   "metadata": {},
   "source": [
    "## knowing the covid hotspots by map"
   ]
  },
  {
   "cell_type": "code",
   "execution_count": 70,
   "metadata": {},
   "outputs": [],
   "source": [
    "Indian_map=pd.read_excel(r\"Indian Coordinates.xlsx\")"
   ]
  },
  {
   "cell_type": "code",
   "execution_count": 79,
   "metadata": {},
   "outputs": [],
   "source": [
    "Indian_map.rename(columns={'Name of State / UT':'State/UTs'},inplace=True)"
   ]
  },
  {
   "cell_type": "code",
   "execution_count": 80,
   "metadata": {},
   "outputs": [
    {
     "data": {
      "text/html": [
       "<div>\n",
       "<style scoped>\n",
       "    .dataframe tbody tr th:only-of-type {\n",
       "        vertical-align: middle;\n",
       "    }\n",
       "\n",
       "    .dataframe tbody tr th {\n",
       "        vertical-align: top;\n",
       "    }\n",
       "\n",
       "    .dataframe thead th {\n",
       "        text-align: right;\n",
       "    }\n",
       "</style>\n",
       "<table border=\"1\" class=\"dataframe\">\n",
       "  <thead>\n",
       "    <tr style=\"text-align: right;\">\n",
       "      <th></th>\n",
       "      <th>State/UTs</th>\n",
       "      <th>Latitude</th>\n",
       "      <th>Longitude</th>\n",
       "    </tr>\n",
       "  </thead>\n",
       "  <tbody>\n",
       "    <tr>\n",
       "      <th>0</th>\n",
       "      <td>Andaman And Nicobar</td>\n",
       "      <td>11.667026</td>\n",
       "      <td>92.735983</td>\n",
       "    </tr>\n",
       "    <tr>\n",
       "      <th>1</th>\n",
       "      <td>Andhra Pradesh</td>\n",
       "      <td>14.750429</td>\n",
       "      <td>78.570026</td>\n",
       "    </tr>\n",
       "    <tr>\n",
       "      <th>2</th>\n",
       "      <td>Arunachal Pradesh</td>\n",
       "      <td>27.100399</td>\n",
       "      <td>93.616601</td>\n",
       "    </tr>\n",
       "    <tr>\n",
       "      <th>3</th>\n",
       "      <td>Assam</td>\n",
       "      <td>26.749981</td>\n",
       "      <td>94.216667</td>\n",
       "    </tr>\n",
       "    <tr>\n",
       "      <th>4</th>\n",
       "      <td>Bihar</td>\n",
       "      <td>25.785414</td>\n",
       "      <td>87.479973</td>\n",
       "    </tr>\n",
       "    <tr>\n",
       "      <th>5</th>\n",
       "      <td>Chandigarh</td>\n",
       "      <td>30.719997</td>\n",
       "      <td>76.780006</td>\n",
       "    </tr>\n",
       "    <tr>\n",
       "      <th>6</th>\n",
       "      <td>Chhattisgarh</td>\n",
       "      <td>22.090420</td>\n",
       "      <td>82.159987</td>\n",
       "    </tr>\n",
       "    <tr>\n",
       "      <th>7</th>\n",
       "      <td>Dadra And Nagar Haveli</td>\n",
       "      <td>20.266578</td>\n",
       "      <td>73.016618</td>\n",
       "    </tr>\n",
       "    <tr>\n",
       "      <th>8</th>\n",
       "      <td>Delhi</td>\n",
       "      <td>28.669993</td>\n",
       "      <td>77.230004</td>\n",
       "    </tr>\n",
       "    <tr>\n",
       "      <th>9</th>\n",
       "      <td>Goa</td>\n",
       "      <td>15.491997</td>\n",
       "      <td>73.818001</td>\n",
       "    </tr>\n",
       "    <tr>\n",
       "      <th>10</th>\n",
       "      <td>Haryana</td>\n",
       "      <td>28.450006</td>\n",
       "      <td>77.019991</td>\n",
       "    </tr>\n",
       "    <tr>\n",
       "      <th>11</th>\n",
       "      <td>Himachal Pradesh</td>\n",
       "      <td>31.100025</td>\n",
       "      <td>77.166597</td>\n",
       "    </tr>\n",
       "    <tr>\n",
       "      <th>12</th>\n",
       "      <td>Union Territory of Jammu and Kashmir</td>\n",
       "      <td>33.450000</td>\n",
       "      <td>76.240000</td>\n",
       "    </tr>\n",
       "    <tr>\n",
       "      <th>13</th>\n",
       "      <td>Jharkhand</td>\n",
       "      <td>23.800393</td>\n",
       "      <td>86.419986</td>\n",
       "    </tr>\n",
       "    <tr>\n",
       "      <th>14</th>\n",
       "      <td>Karnataka</td>\n",
       "      <td>12.570381</td>\n",
       "      <td>76.919997</td>\n",
       "    </tr>\n",
       "    <tr>\n",
       "      <th>15</th>\n",
       "      <td>Kerala</td>\n",
       "      <td>8.900373</td>\n",
       "      <td>76.569993</td>\n",
       "    </tr>\n",
       "    <tr>\n",
       "      <th>16</th>\n",
       "      <td>Lakshadweep</td>\n",
       "      <td>10.562573</td>\n",
       "      <td>72.636867</td>\n",
       "    </tr>\n",
       "    <tr>\n",
       "      <th>17</th>\n",
       "      <td>Madhya Pradesh</td>\n",
       "      <td>21.300391</td>\n",
       "      <td>76.130019</td>\n",
       "    </tr>\n",
       "    <tr>\n",
       "      <th>18</th>\n",
       "      <td>Maharashtra</td>\n",
       "      <td>19.250232</td>\n",
       "      <td>73.160175</td>\n",
       "    </tr>\n",
       "    <tr>\n",
       "      <th>19</th>\n",
       "      <td>Manipur</td>\n",
       "      <td>24.799971</td>\n",
       "      <td>93.950017</td>\n",
       "    </tr>\n",
       "    <tr>\n",
       "      <th>20</th>\n",
       "      <td>Meghalaya</td>\n",
       "      <td>25.570492</td>\n",
       "      <td>91.880014</td>\n",
       "    </tr>\n",
       "    <tr>\n",
       "      <th>21</th>\n",
       "      <td>Mizoram</td>\n",
       "      <td>23.710399</td>\n",
       "      <td>92.720015</td>\n",
       "    </tr>\n",
       "    <tr>\n",
       "      <th>22</th>\n",
       "      <td>Nagaland</td>\n",
       "      <td>25.666998</td>\n",
       "      <td>94.116570</td>\n",
       "    </tr>\n",
       "    <tr>\n",
       "      <th>23</th>\n",
       "      <td>Orissa</td>\n",
       "      <td>19.820430</td>\n",
       "      <td>85.900017</td>\n",
       "    </tr>\n",
       "    <tr>\n",
       "      <th>24</th>\n",
       "      <td>Puducherry</td>\n",
       "      <td>11.934994</td>\n",
       "      <td>79.830000</td>\n",
       "    </tr>\n",
       "    <tr>\n",
       "      <th>25</th>\n",
       "      <td>Punjab</td>\n",
       "      <td>31.519974</td>\n",
       "      <td>75.980003</td>\n",
       "    </tr>\n",
       "    <tr>\n",
       "      <th>26</th>\n",
       "      <td>Rajasthan</td>\n",
       "      <td>26.449999</td>\n",
       "      <td>74.639981</td>\n",
       "    </tr>\n",
       "    <tr>\n",
       "      <th>27</th>\n",
       "      <td>Sikkim</td>\n",
       "      <td>27.333330</td>\n",
       "      <td>88.616647</td>\n",
       "    </tr>\n",
       "    <tr>\n",
       "      <th>28</th>\n",
       "      <td>Telengana</td>\n",
       "      <td>18.112400</td>\n",
       "      <td>79.019300</td>\n",
       "    </tr>\n",
       "    <tr>\n",
       "      <th>29</th>\n",
       "      <td>Tamil Nadu</td>\n",
       "      <td>12.920386</td>\n",
       "      <td>79.150042</td>\n",
       "    </tr>\n",
       "    <tr>\n",
       "      <th>30</th>\n",
       "      <td>Tripura</td>\n",
       "      <td>23.835404</td>\n",
       "      <td>91.279999</td>\n",
       "    </tr>\n",
       "    <tr>\n",
       "      <th>31</th>\n",
       "      <td>Uttar Pradesh</td>\n",
       "      <td>27.599981</td>\n",
       "      <td>78.050006</td>\n",
       "    </tr>\n",
       "    <tr>\n",
       "      <th>32</th>\n",
       "      <td>Uttarakhand</td>\n",
       "      <td>30.320409</td>\n",
       "      <td>78.050006</td>\n",
       "    </tr>\n",
       "    <tr>\n",
       "      <th>33</th>\n",
       "      <td>West Bengal</td>\n",
       "      <td>22.580390</td>\n",
       "      <td>88.329947</td>\n",
       "    </tr>\n",
       "    <tr>\n",
       "      <th>34</th>\n",
       "      <td>Union Territory of Ladakh</td>\n",
       "      <td>34.100000</td>\n",
       "      <td>77.340000</td>\n",
       "    </tr>\n",
       "  </tbody>\n",
       "</table>\n",
       "</div>"
      ],
      "text/plain": [
       "                               State/UTs   Latitude  Longitude\n",
       "0                   Andaman And Nicobar   11.667026  92.735983\n",
       "1                         Andhra Pradesh  14.750429  78.570026\n",
       "2                     Arunachal Pradesh   27.100399  93.616601\n",
       "3                                 Assam   26.749981  94.216667\n",
       "4                                 Bihar   25.785414  87.479973\n",
       "5                            Chandigarh   30.719997  76.780006\n",
       "6                          Chhattisgarh   22.090420  82.159987\n",
       "7                Dadra And Nagar Haveli   20.266578  73.016618\n",
       "8                                  Delhi  28.669993  77.230004\n",
       "9                                   Goa   15.491997  73.818001\n",
       "10                               Haryana  28.450006  77.019991\n",
       "11                     Himachal Pradesh   31.100025  77.166597\n",
       "12  Union Territory of Jammu and Kashmir  33.450000  76.240000\n",
       "13                            Jharkhand   23.800393  86.419986\n",
       "14                             Karnataka  12.570381  76.919997\n",
       "15                                Kerala   8.900373  76.569993\n",
       "16                          Lakshadweep   10.562573  72.636867\n",
       "17                       Madhya Pradesh   21.300391  76.130019\n",
       "18                           Maharashtra  19.250232  73.160175\n",
       "19                              Manipur   24.799971  93.950017\n",
       "20                            Meghalaya   25.570492  91.880014\n",
       "21                              Mizoram   23.710399  92.720015\n",
       "22                             Nagaland   25.666998  94.116570\n",
       "23                               Orissa   19.820430  85.900017\n",
       "24                           Puducherry   11.934994  79.830000\n",
       "25                                Punjab  31.519974  75.980003\n",
       "26                             Rajasthan  26.449999  74.639981\n",
       "27                               Sikkim   27.333330  88.616647\n",
       "28                             Telengana  18.112400  79.019300\n",
       "29                            Tamil Nadu  12.920386  79.150042\n",
       "30                              Tripura   23.835404  91.279999\n",
       "31                         Uttar Pradesh  27.599981  78.050006\n",
       "32                           Uttarakhand  30.320409  78.050006\n",
       "33                          West Bengal   22.580390  88.329947\n",
       "34             Union Territory of Ladakh  34.100000  77.340000"
      ]
     },
     "execution_count": 80,
     "metadata": {},
     "output_type": "execute_result"
    }
   ],
   "source": [
    "Indian_map"
   ]
  },
  {
   "cell_type": "code",
   "execution_count": 82,
   "metadata": {},
   "outputs": [],
   "source": [
    "dataframe_f=pd.merge(Indian_map,dataframe,on='State/UTs')"
   ]
  },
  {
   "cell_type": "code",
   "execution_count": 83,
   "metadata": {},
   "outputs": [
    {
     "data": {
      "text/html": [
       "<div>\n",
       "<style scoped>\n",
       "    .dataframe tbody tr th:only-of-type {\n",
       "        vertical-align: middle;\n",
       "    }\n",
       "\n",
       "    .dataframe tbody tr th {\n",
       "        vertical-align: top;\n",
       "    }\n",
       "\n",
       "    .dataframe thead th {\n",
       "        text-align: right;\n",
       "    }\n",
       "</style>\n",
       "<table border=\"1\" class=\"dataframe\">\n",
       "  <thead>\n",
       "    <tr style=\"text-align: right;\">\n",
       "      <th></th>\n",
       "      <th>State/UTs</th>\n",
       "      <th>Latitude</th>\n",
       "      <th>Longitude</th>\n",
       "      <th>Total Cases</th>\n",
       "      <th>Active</th>\n",
       "      <th>Discharged</th>\n",
       "      <th>Deaths</th>\n",
       "      <th>Active Ratio</th>\n",
       "      <th>Discharge Ratio</th>\n",
       "      <th>Death Ratio</th>\n",
       "    </tr>\n",
       "  </thead>\n",
       "  <tbody>\n",
       "    <tr>\n",
       "      <th>0</th>\n",
       "      <td>Andhra Pradesh</td>\n",
       "      <td>14.750429</td>\n",
       "      <td>78.570026</td>\n",
       "      <td>2049314</td>\n",
       "      <td>11655</td>\n",
       "      <td>2023496</td>\n",
       "      <td>14163</td>\n",
       "      <td>0.57</td>\n",
       "      <td>98.74</td>\n",
       "      <td>0.69</td>\n",
       "    </tr>\n",
       "    <tr>\n",
       "      <th>1</th>\n",
       "      <td>Delhi</td>\n",
       "      <td>28.669993</td>\n",
       "      <td>77.230004</td>\n",
       "      <td>1438821</td>\n",
       "      <td>392</td>\n",
       "      <td>1413342</td>\n",
       "      <td>25087</td>\n",
       "      <td>0.03</td>\n",
       "      <td>98.23</td>\n",
       "      <td>1.74</td>\n",
       "    </tr>\n",
       "    <tr>\n",
       "      <th>2</th>\n",
       "      <td>Haryana</td>\n",
       "      <td>28.450006</td>\n",
       "      <td>77.019991</td>\n",
       "      <td>770863</td>\n",
       "      <td>278</td>\n",
       "      <td>760711</td>\n",
       "      <td>9874</td>\n",
       "      <td>0.04</td>\n",
       "      <td>98.68</td>\n",
       "      <td>1.28</td>\n",
       "    </tr>\n",
       "    <tr>\n",
       "      <th>3</th>\n",
       "      <td>Karnataka</td>\n",
       "      <td>12.570381</td>\n",
       "      <td>76.919997</td>\n",
       "      <td>2975067</td>\n",
       "      <td>12594</td>\n",
       "      <td>2924693</td>\n",
       "      <td>37780</td>\n",
       "      <td>0.42</td>\n",
       "      <td>98.31</td>\n",
       "      <td>1.27</td>\n",
       "    </tr>\n",
       "    <tr>\n",
       "      <th>4</th>\n",
       "      <td>Kerala</td>\n",
       "      <td>8.900373</td>\n",
       "      <td>76.569993</td>\n",
       "      <td>4664944</td>\n",
       "      <td>144075</td>\n",
       "      <td>4495904</td>\n",
       "      <td>24965</td>\n",
       "      <td>3.09</td>\n",
       "      <td>96.38</td>\n",
       "      <td>0.54</td>\n",
       "    </tr>\n",
       "    <tr>\n",
       "      <th>5</th>\n",
       "      <td>Maharashtra</td>\n",
       "      <td>19.250232</td>\n",
       "      <td>73.160175</td>\n",
       "      <td>6547793</td>\n",
       "      <td>40252</td>\n",
       "      <td>6368530</td>\n",
       "      <td>139011</td>\n",
       "      <td>0.61</td>\n",
       "      <td>97.26</td>\n",
       "      <td>2.12</td>\n",
       "    </tr>\n",
       "    <tr>\n",
       "      <th>6</th>\n",
       "      <td>Punjab</td>\n",
       "      <td>31.519974</td>\n",
       "      <td>75.980003</td>\n",
       "      <td>601600</td>\n",
       "      <td>290</td>\n",
       "      <td>584797</td>\n",
       "      <td>16513</td>\n",
       "      <td>0.05</td>\n",
       "      <td>97.21</td>\n",
       "      <td>2.74</td>\n",
       "    </tr>\n",
       "    <tr>\n",
       "      <th>7</th>\n",
       "      <td>Rajasthan</td>\n",
       "      <td>26.449999</td>\n",
       "      <td>74.639981</td>\n",
       "      <td>954322</td>\n",
       "      <td>76</td>\n",
       "      <td>945292</td>\n",
       "      <td>8954</td>\n",
       "      <td>0.01</td>\n",
       "      <td>99.05</td>\n",
       "      <td>0.94</td>\n",
       "    </tr>\n",
       "    <tr>\n",
       "      <th>8</th>\n",
       "      <td>Telengana</td>\n",
       "      <td>18.112400</td>\n",
       "      <td>79.019300</td>\n",
       "      <td>665749</td>\n",
       "      <td>4620</td>\n",
       "      <td>657213</td>\n",
       "      <td>3916</td>\n",
       "      <td>0.69</td>\n",
       "      <td>98.72</td>\n",
       "      <td>0.59</td>\n",
       "    </tr>\n",
       "    <tr>\n",
       "      <th>9</th>\n",
       "      <td>Tamil Nadu</td>\n",
       "      <td>12.920386</td>\n",
       "      <td>79.150042</td>\n",
       "      <td>2662177</td>\n",
       "      <td>17192</td>\n",
       "      <td>2609435</td>\n",
       "      <td>35550</td>\n",
       "      <td>0.65</td>\n",
       "      <td>98.02</td>\n",
       "      <td>1.34</td>\n",
       "    </tr>\n",
       "    <tr>\n",
       "      <th>10</th>\n",
       "      <td>Uttar Pradesh</td>\n",
       "      <td>27.599981</td>\n",
       "      <td>78.050006</td>\n",
       "      <td>1709800</td>\n",
       "      <td>159</td>\n",
       "      <td>1686749</td>\n",
       "      <td>22892</td>\n",
       "      <td>0.01</td>\n",
       "      <td>98.65</td>\n",
       "      <td>1.34</td>\n",
       "    </tr>\n",
       "    <tr>\n",
       "      <th>11</th>\n",
       "      <td>Uttarakhand</td>\n",
       "      <td>30.320409</td>\n",
       "      <td>78.050006</td>\n",
       "      <td>343530</td>\n",
       "      <td>209</td>\n",
       "      <td>335927</td>\n",
       "      <td>7394</td>\n",
       "      <td>0.06</td>\n",
       "      <td>97.79</td>\n",
       "      <td>2.15</td>\n",
       "    </tr>\n",
       "  </tbody>\n",
       "</table>\n",
       "</div>"
      ],
      "text/plain": [
       "         State/UTs   Latitude  Longitude  Total Cases  Active  Discharged  \\\n",
       "0   Andhra Pradesh  14.750429  78.570026      2049314   11655     2023496   \n",
       "1            Delhi  28.669993  77.230004      1438821     392     1413342   \n",
       "2          Haryana  28.450006  77.019991       770863     278      760711   \n",
       "3        Karnataka  12.570381  76.919997      2975067   12594     2924693   \n",
       "4           Kerala   8.900373  76.569993      4664944  144075     4495904   \n",
       "5      Maharashtra  19.250232  73.160175      6547793   40252     6368530   \n",
       "6           Punjab  31.519974  75.980003       601600     290      584797   \n",
       "7        Rajasthan  26.449999  74.639981       954322      76      945292   \n",
       "8        Telengana  18.112400  79.019300       665749    4620      657213   \n",
       "9       Tamil Nadu  12.920386  79.150042      2662177   17192     2609435   \n",
       "10   Uttar Pradesh  27.599981  78.050006      1709800     159     1686749   \n",
       "11     Uttarakhand  30.320409  78.050006       343530     209      335927   \n",
       "\n",
       "    Deaths  Active Ratio  Discharge Ratio  Death Ratio  \n",
       "0    14163          0.57            98.74         0.69  \n",
       "1    25087          0.03            98.23         1.74  \n",
       "2     9874          0.04            98.68         1.28  \n",
       "3    37780          0.42            98.31         1.27  \n",
       "4    24965          3.09            96.38         0.54  \n",
       "5   139011          0.61            97.26         2.12  \n",
       "6    16513          0.05            97.21         2.74  \n",
       "7     8954          0.01            99.05         0.94  \n",
       "8     3916          0.69            98.72         0.59  \n",
       "9    35550          0.65            98.02         1.34  \n",
       "10   22892          0.01            98.65         1.34  \n",
       "11    7394          0.06            97.79         2.15  "
      ]
     },
     "execution_count": 83,
     "metadata": {},
     "output_type": "execute_result"
    }
   ],
   "source": [
    "dataframe_f"
   ]
  },
  {
   "cell_type": "code",
   "execution_count": 129,
   "metadata": {},
   "outputs": [],
   "source": [
    "map=folium.Map(loaction=[20,70],zoom_start=4,tiles='Stamenterrain')\n",
    "for lat, long ,value , name in zip(dataframe_f['Latitude'],dataframe_f['Longitude'],dataframe_f['Total Cases'],dataframe_f['State/UTs']):\n",
    "    folium.CircleMarker([lat,long],radius=value*0.000002,popup=('<strong>State/UTs</strong>: ' +str(name).capitalize()+'<br>' '<strong> Total Cases</strong>: '+str(value)+ '<br>'),color='red',fill_color='red',fill_opacity=0.4).add_to(map)"
   ]
  },
  {
   "cell_type": "code",
   "execution_count": 130,
   "metadata": {},
   "outputs": [
    {
     "data": {
      "text/html": [
       "<div style=\"width:100%;\"><div style=\"position:relative;width:100%;height:0;padding-bottom:60%;\"><span style=\"color:#565656\">Make this Notebook Trusted to load map: File -> Trust Notebook</span><iframe src=\"about:blank\" style=\"position:absolute;width:100%;height:100%;left:0;top:0;border:none !important;\" data-html=%3C%21DOCTYPE%20html%3E%0A%3Chead%3E%20%20%20%20%0A%20%20%20%20%3Cmeta%20http-equiv%3D%22content-type%22%20content%3D%22text/html%3B%20charset%3DUTF-8%22%20/%3E%0A%20%20%20%20%0A%20%20%20%20%20%20%20%20%3Cscript%3E%0A%20%20%20%20%20%20%20%20%20%20%20%20L_NO_TOUCH%20%3D%20false%3B%0A%20%20%20%20%20%20%20%20%20%20%20%20L_DISABLE_3D%20%3D%20false%3B%0A%20%20%20%20%20%20%20%20%3C/script%3E%0A%20%20%20%20%0A%20%20%20%20%3Cstyle%3Ehtml%2C%20body%20%7Bwidth%3A%20100%25%3Bheight%3A%20100%25%3Bmargin%3A%200%3Bpadding%3A%200%3B%7D%3C/style%3E%0A%20%20%20%20%3Cstyle%3E%23map%20%7Bposition%3Aabsolute%3Btop%3A0%3Bbottom%3A0%3Bright%3A0%3Bleft%3A0%3B%7D%3C/style%3E%0A%20%20%20%20%3Cscript%20src%3D%22https%3A//cdn.jsdelivr.net/npm/leaflet%401.6.0/dist/leaflet.js%22%3E%3C/script%3E%0A%20%20%20%20%3Cscript%20src%3D%22https%3A//code.jquery.com/jquery-1.12.4.min.js%22%3E%3C/script%3E%0A%20%20%20%20%3Cscript%20src%3D%22https%3A//maxcdn.bootstrapcdn.com/bootstrap/3.2.0/js/bootstrap.min.js%22%3E%3C/script%3E%0A%20%20%20%20%3Cscript%20src%3D%22https%3A//cdnjs.cloudflare.com/ajax/libs/Leaflet.awesome-markers/2.0.2/leaflet.awesome-markers.js%22%3E%3C/script%3E%0A%20%20%20%20%3Clink%20rel%3D%22stylesheet%22%20href%3D%22https%3A//cdn.jsdelivr.net/npm/leaflet%401.6.0/dist/leaflet.css%22/%3E%0A%20%20%20%20%3Clink%20rel%3D%22stylesheet%22%20href%3D%22https%3A//maxcdn.bootstrapcdn.com/bootstrap/3.2.0/css/bootstrap.min.css%22/%3E%0A%20%20%20%20%3Clink%20rel%3D%22stylesheet%22%20href%3D%22https%3A//maxcdn.bootstrapcdn.com/bootstrap/3.2.0/css/bootstrap-theme.min.css%22/%3E%0A%20%20%20%20%3Clink%20rel%3D%22stylesheet%22%20href%3D%22https%3A//maxcdn.bootstrapcdn.com/font-awesome/4.6.3/css/font-awesome.min.css%22/%3E%0A%20%20%20%20%3Clink%20rel%3D%22stylesheet%22%20href%3D%22https%3A//cdnjs.cloudflare.com/ajax/libs/Leaflet.awesome-markers/2.0.2/leaflet.awesome-markers.css%22/%3E%0A%20%20%20%20%3Clink%20rel%3D%22stylesheet%22%20href%3D%22https%3A//cdn.jsdelivr.net/gh/python-visualization/folium/folium/templates/leaflet.awesome.rotate.min.css%22/%3E%0A%20%20%20%20%0A%20%20%20%20%20%20%20%20%20%20%20%20%3Cmeta%20name%3D%22viewport%22%20content%3D%22width%3Ddevice-width%2C%0A%20%20%20%20%20%20%20%20%20%20%20%20%20%20%20%20initial-scale%3D1.0%2C%20maximum-scale%3D1.0%2C%20user-scalable%3Dno%22%20/%3E%0A%20%20%20%20%20%20%20%20%20%20%20%20%3Cstyle%3E%0A%20%20%20%20%20%20%20%20%20%20%20%20%20%20%20%20%23map_a6f061f22a544363b3484d2862c11689%20%7B%0A%20%20%20%20%20%20%20%20%20%20%20%20%20%20%20%20%20%20%20%20position%3A%20relative%3B%0A%20%20%20%20%20%20%20%20%20%20%20%20%20%20%20%20%20%20%20%20width%3A%20100.0%25%3B%0A%20%20%20%20%20%20%20%20%20%20%20%20%20%20%20%20%20%20%20%20height%3A%20100.0%25%3B%0A%20%20%20%20%20%20%20%20%20%20%20%20%20%20%20%20%20%20%20%20left%3A%200.0%25%3B%0A%20%20%20%20%20%20%20%20%20%20%20%20%20%20%20%20%20%20%20%20top%3A%200.0%25%3B%0A%20%20%20%20%20%20%20%20%20%20%20%20%20%20%20%20%7D%0A%20%20%20%20%20%20%20%20%20%20%20%20%3C/style%3E%0A%20%20%20%20%20%20%20%20%0A%3C/head%3E%0A%3Cbody%3E%20%20%20%20%0A%20%20%20%20%0A%20%20%20%20%20%20%20%20%20%20%20%20%3Cdiv%20class%3D%22folium-map%22%20id%3D%22map_a6f061f22a544363b3484d2862c11689%22%20%3E%3C/div%3E%0A%20%20%20%20%20%20%20%20%0A%3C/body%3E%0A%3Cscript%3E%20%20%20%20%0A%20%20%20%20%0A%20%20%20%20%20%20%20%20%20%20%20%20var%20map_a6f061f22a544363b3484d2862c11689%20%3D%20L.map%28%0A%20%20%20%20%20%20%20%20%20%20%20%20%20%20%20%20%22map_a6f061f22a544363b3484d2862c11689%22%2C%0A%20%20%20%20%20%20%20%20%20%20%20%20%20%20%20%20%7B%0A%20%20%20%20%20%20%20%20%20%20%20%20%20%20%20%20%20%20%20%20center%3A%20%5B0%2C%200%5D%2C%0A%20%20%20%20%20%20%20%20%20%20%20%20%20%20%20%20%20%20%20%20crs%3A%20L.CRS.EPSG3857%2C%0A%20%20%20%20%20%20%20%20%20%20%20%20%20%20%20%20%20%20%20%20zoom%3A%201%2C%0A%20%20%20%20%20%20%20%20%20%20%20%20%20%20%20%20%20%20%20%20zoomControl%3A%20true%2C%0A%20%20%20%20%20%20%20%20%20%20%20%20%20%20%20%20%20%20%20%20preferCanvas%3A%20false%2C%0A%20%20%20%20%20%20%20%20%20%20%20%20%20%20%20%20%20%20%20%20loaction%3A%20%5B20%2C%2070%5D%2C%0A%20%20%20%20%20%20%20%20%20%20%20%20%20%20%20%20%7D%0A%20%20%20%20%20%20%20%20%20%20%20%20%29%3B%0A%0A%20%20%20%20%20%20%20%20%20%20%20%20%0A%0A%20%20%20%20%20%20%20%20%0A%20%20%20%20%0A%20%20%20%20%20%20%20%20%20%20%20%20var%20tile_layer_a23e886cec7f46ccb087f295ae0a089e%20%3D%20L.tileLayer%28%0A%20%20%20%20%20%20%20%20%20%20%20%20%20%20%20%20%22https%3A//stamen-tiles-%7Bs%7D.a.ssl.fastly.net/terrain/%7Bz%7D/%7Bx%7D/%7By%7D.jpg%22%2C%0A%20%20%20%20%20%20%20%20%20%20%20%20%20%20%20%20%7B%22attribution%22%3A%20%22Map%20tiles%20by%20%5Cu003ca%20href%3D%5C%22http%3A//stamen.com%5C%22%5Cu003eStamen%20Design%5Cu003c/a%5Cu003e%2C%20under%20%5Cu003ca%20href%3D%5C%22http%3A//creativecommons.org/licenses/by/3.0%5C%22%5Cu003eCC%20BY%203.0%5Cu003c/a%5Cu003e.%20Data%20by%20%5Cu0026copy%3B%20%5Cu003ca%20href%3D%5C%22http%3A//openstreetmap.org%5C%22%5Cu003eOpenStreetMap%5Cu003c/a%5Cu003e%2C%20under%20%5Cu003ca%20href%3D%5C%22http%3A//creativecommons.org/licenses/by-sa/3.0%5C%22%5Cu003eCC%20BY%20SA%5Cu003c/a%5Cu003e.%22%2C%20%22detectRetina%22%3A%20false%2C%20%22maxNativeZoom%22%3A%2018%2C%20%22maxZoom%22%3A%2018%2C%20%22minZoom%22%3A%200%2C%20%22noWrap%22%3A%20false%2C%20%22opacity%22%3A%201%2C%20%22subdomains%22%3A%20%22abc%22%2C%20%22tms%22%3A%20false%7D%0A%20%20%20%20%20%20%20%20%20%20%20%20%29.addTo%28map_a6f061f22a544363b3484d2862c11689%29%3B%0A%20%20%20%20%20%20%20%20%0A%20%20%20%20%0A%20%20%20%20%20%20%20%20%20%20%20%20var%20circle_marker_c76bfbc12b5f4d65adabfd73bcdd2a43%20%3D%20L.circleMarker%28%0A%20%20%20%20%20%20%20%20%20%20%20%20%20%20%20%20%5B14.7504291%2C%2078.57002559%5D%2C%0A%20%20%20%20%20%20%20%20%20%20%20%20%20%20%20%20%7B%22bubblingMouseEvents%22%3A%20true%2C%20%22color%22%3A%20%22red%22%2C%20%22dashArray%22%3A%20null%2C%20%22dashOffset%22%3A%20null%2C%20%22fill%22%3A%20true%2C%20%22fillColor%22%3A%20%22red%22%2C%20%22fillOpacity%22%3A%200.4%2C%20%22fillRule%22%3A%20%22evenodd%22%2C%20%22lineCap%22%3A%20%22round%22%2C%20%22lineJoin%22%3A%20%22round%22%2C%20%22opacity%22%3A%201.0%2C%20%22radius%22%3A%204.098628%2C%20%22stroke%22%3A%20true%2C%20%22weight%22%3A%203%7D%0A%20%20%20%20%20%20%20%20%20%20%20%20%29.addTo%28map_a6f061f22a544363b3484d2862c11689%29%3B%0A%20%20%20%20%20%20%20%20%0A%20%20%20%20%0A%20%20%20%20%20%20%20%20var%20popup_4e1d0121c39445b8b03ac272224d21ad%20%3D%20L.popup%28%7B%22maxWidth%22%3A%20%22100%25%22%7D%29%3B%0A%0A%20%20%20%20%20%20%20%20%0A%20%20%20%20%20%20%20%20%20%20%20%20var%20html_3191f1b5b8d54e949abed2aaf73fb28e%20%3D%20%24%28%60%3Cdiv%20id%3D%22html_3191f1b5b8d54e949abed2aaf73fb28e%22%20style%3D%22width%3A%20100.0%25%3B%20height%3A%20100.0%25%3B%22%3E%3Cstrong%3EState/UTs%3C/strong%3E%3A%20Andhra%20pradesh%3Cbr%3E%3Cstrong%3E%20Total%20Cases%3C/strong%3E%3A%202049314%3Cbr%3E%3C/div%3E%60%29%5B0%5D%3B%0A%20%20%20%20%20%20%20%20%20%20%20%20popup_4e1d0121c39445b8b03ac272224d21ad.setContent%28html_3191f1b5b8d54e949abed2aaf73fb28e%29%3B%0A%20%20%20%20%20%20%20%20%0A%0A%20%20%20%20%20%20%20%20circle_marker_c76bfbc12b5f4d65adabfd73bcdd2a43.bindPopup%28popup_4e1d0121c39445b8b03ac272224d21ad%29%0A%20%20%20%20%20%20%20%20%3B%0A%0A%20%20%20%20%20%20%20%20%0A%20%20%20%20%0A%20%20%20%20%0A%20%20%20%20%20%20%20%20%20%20%20%20var%20circle_marker_d279f30e50e04088a72c125813c4ce12%20%3D%20L.circleMarker%28%0A%20%20%20%20%20%20%20%20%20%20%20%20%20%20%20%20%5B28.6699929%2C%2077.23000403%5D%2C%0A%20%20%20%20%20%20%20%20%20%20%20%20%20%20%20%20%7B%22bubblingMouseEvents%22%3A%20true%2C%20%22color%22%3A%20%22red%22%2C%20%22dashArray%22%3A%20null%2C%20%22dashOffset%22%3A%20null%2C%20%22fill%22%3A%20true%2C%20%22fillColor%22%3A%20%22red%22%2C%20%22fillOpacity%22%3A%200.4%2C%20%22fillRule%22%3A%20%22evenodd%22%2C%20%22lineCap%22%3A%20%22round%22%2C%20%22lineJoin%22%3A%20%22round%22%2C%20%22opacity%22%3A%201.0%2C%20%22radius%22%3A%202.877642%2C%20%22stroke%22%3A%20true%2C%20%22weight%22%3A%203%7D%0A%20%20%20%20%20%20%20%20%20%20%20%20%29.addTo%28map_a6f061f22a544363b3484d2862c11689%29%3B%0A%20%20%20%20%20%20%20%20%0A%20%20%20%20%0A%20%20%20%20%20%20%20%20var%20popup_44d4c383a0f242a2881d8086854f4480%20%3D%20L.popup%28%7B%22maxWidth%22%3A%20%22100%25%22%7D%29%3B%0A%0A%20%20%20%20%20%20%20%20%0A%20%20%20%20%20%20%20%20%20%20%20%20var%20html_4baa998b40764c3ea565a831cbff2fdc%20%3D%20%24%28%60%3Cdiv%20id%3D%22html_4baa998b40764c3ea565a831cbff2fdc%22%20style%3D%22width%3A%20100.0%25%3B%20height%3A%20100.0%25%3B%22%3E%3Cstrong%3EState/UTs%3C/strong%3E%3A%20Delhi%3Cbr%3E%3Cstrong%3E%20Total%20Cases%3C/strong%3E%3A%201438821%3Cbr%3E%3C/div%3E%60%29%5B0%5D%3B%0A%20%20%20%20%20%20%20%20%20%20%20%20popup_44d4c383a0f242a2881d8086854f4480.setContent%28html_4baa998b40764c3ea565a831cbff2fdc%29%3B%0A%20%20%20%20%20%20%20%20%0A%0A%20%20%20%20%20%20%20%20circle_marker_d279f30e50e04088a72c125813c4ce12.bindPopup%28popup_44d4c383a0f242a2881d8086854f4480%29%0A%20%20%20%20%20%20%20%20%3B%0A%0A%20%20%20%20%20%20%20%20%0A%20%20%20%20%0A%20%20%20%20%0A%20%20%20%20%20%20%20%20%20%20%20%20var%20circle_marker_d9fbd5fcbd1e472b87b642f3b8e8b1d0%20%3D%20L.circleMarker%28%0A%20%20%20%20%20%20%20%20%20%20%20%20%20%20%20%20%5B28.45000633%2C%2077.01999101%5D%2C%0A%20%20%20%20%20%20%20%20%20%20%20%20%20%20%20%20%7B%22bubblingMouseEvents%22%3A%20true%2C%20%22color%22%3A%20%22red%22%2C%20%22dashArray%22%3A%20null%2C%20%22dashOffset%22%3A%20null%2C%20%22fill%22%3A%20true%2C%20%22fillColor%22%3A%20%22red%22%2C%20%22fillOpacity%22%3A%200.4%2C%20%22fillRule%22%3A%20%22evenodd%22%2C%20%22lineCap%22%3A%20%22round%22%2C%20%22lineJoin%22%3A%20%22round%22%2C%20%22opacity%22%3A%201.0%2C%20%22radius%22%3A%201.541726%2C%20%22stroke%22%3A%20true%2C%20%22weight%22%3A%203%7D%0A%20%20%20%20%20%20%20%20%20%20%20%20%29.addTo%28map_a6f061f22a544363b3484d2862c11689%29%3B%0A%20%20%20%20%20%20%20%20%0A%20%20%20%20%0A%20%20%20%20%20%20%20%20var%20popup_f90a27b437734fb4bee42570084f6b9e%20%3D%20L.popup%28%7B%22maxWidth%22%3A%20%22100%25%22%7D%29%3B%0A%0A%20%20%20%20%20%20%20%20%0A%20%20%20%20%20%20%20%20%20%20%20%20var%20html_71618b1fd6d3449eb54512a9ab31d276%20%3D%20%24%28%60%3Cdiv%20id%3D%22html_71618b1fd6d3449eb54512a9ab31d276%22%20style%3D%22width%3A%20100.0%25%3B%20height%3A%20100.0%25%3B%22%3E%3Cstrong%3EState/UTs%3C/strong%3E%3A%20Haryana%3Cbr%3E%3Cstrong%3E%20Total%20Cases%3C/strong%3E%3A%20770863%3Cbr%3E%3C/div%3E%60%29%5B0%5D%3B%0A%20%20%20%20%20%20%20%20%20%20%20%20popup_f90a27b437734fb4bee42570084f6b9e.setContent%28html_71618b1fd6d3449eb54512a9ab31d276%29%3B%0A%20%20%20%20%20%20%20%20%0A%0A%20%20%20%20%20%20%20%20circle_marker_d9fbd5fcbd1e472b87b642f3b8e8b1d0.bindPopup%28popup_f90a27b437734fb4bee42570084f6b9e%29%0A%20%20%20%20%20%20%20%20%3B%0A%0A%20%20%20%20%20%20%20%20%0A%20%20%20%20%0A%20%20%20%20%0A%20%20%20%20%20%20%20%20%20%20%20%20var%20circle_marker_bbc0e046065047e597e3bfc59ed3360e%20%3D%20L.circleMarker%28%0A%20%20%20%20%20%20%20%20%20%20%20%20%20%20%20%20%5B12.57038129%2C%2076.91999711%5D%2C%0A%20%20%20%20%20%20%20%20%20%20%20%20%20%20%20%20%7B%22bubblingMouseEvents%22%3A%20true%2C%20%22color%22%3A%20%22red%22%2C%20%22dashArray%22%3A%20null%2C%20%22dashOffset%22%3A%20null%2C%20%22fill%22%3A%20true%2C%20%22fillColor%22%3A%20%22red%22%2C%20%22fillOpacity%22%3A%200.4%2C%20%22fillRule%22%3A%20%22evenodd%22%2C%20%22lineCap%22%3A%20%22round%22%2C%20%22lineJoin%22%3A%20%22round%22%2C%20%22opacity%22%3A%201.0%2C%20%22radius%22%3A%205.950133999999999%2C%20%22stroke%22%3A%20true%2C%20%22weight%22%3A%203%7D%0A%20%20%20%20%20%20%20%20%20%20%20%20%29.addTo%28map_a6f061f22a544363b3484d2862c11689%29%3B%0A%20%20%20%20%20%20%20%20%0A%20%20%20%20%0A%20%20%20%20%20%20%20%20var%20popup_405affc2eeb04d76a422b8fcfd4492cb%20%3D%20L.popup%28%7B%22maxWidth%22%3A%20%22100%25%22%7D%29%3B%0A%0A%20%20%20%20%20%20%20%20%0A%20%20%20%20%20%20%20%20%20%20%20%20var%20html_3455998b3e63438189e518fa1feea751%20%3D%20%24%28%60%3Cdiv%20id%3D%22html_3455998b3e63438189e518fa1feea751%22%20style%3D%22width%3A%20100.0%25%3B%20height%3A%20100.0%25%3B%22%3E%3Cstrong%3EState/UTs%3C/strong%3E%3A%20Karnataka%3Cbr%3E%3Cstrong%3E%20Total%20Cases%3C/strong%3E%3A%202975067%3Cbr%3E%3C/div%3E%60%29%5B0%5D%3B%0A%20%20%20%20%20%20%20%20%20%20%20%20popup_405affc2eeb04d76a422b8fcfd4492cb.setContent%28html_3455998b3e63438189e518fa1feea751%29%3B%0A%20%20%20%20%20%20%20%20%0A%0A%20%20%20%20%20%20%20%20circle_marker_bbc0e046065047e597e3bfc59ed3360e.bindPopup%28popup_405affc2eeb04d76a422b8fcfd4492cb%29%0A%20%20%20%20%20%20%20%20%3B%0A%0A%20%20%20%20%20%20%20%20%0A%20%20%20%20%0A%20%20%20%20%0A%20%20%20%20%20%20%20%20%20%20%20%20var%20circle_marker_38ebd1189e924168b2f79713950cdabe%20%3D%20L.circleMarker%28%0A%20%20%20%20%20%20%20%20%20%20%20%20%20%20%20%20%5B8.900372741%2C%2076.56999263%5D%2C%0A%20%20%20%20%20%20%20%20%20%20%20%20%20%20%20%20%7B%22bubblingMouseEvents%22%3A%20true%2C%20%22color%22%3A%20%22red%22%2C%20%22dashArray%22%3A%20null%2C%20%22dashOffset%22%3A%20null%2C%20%22fill%22%3A%20true%2C%20%22fillColor%22%3A%20%22red%22%2C%20%22fillOpacity%22%3A%200.4%2C%20%22fillRule%22%3A%20%22evenodd%22%2C%20%22lineCap%22%3A%20%22round%22%2C%20%22lineJoin%22%3A%20%22round%22%2C%20%22opacity%22%3A%201.0%2C%20%22radius%22%3A%209.329888%2C%20%22stroke%22%3A%20true%2C%20%22weight%22%3A%203%7D%0A%20%20%20%20%20%20%20%20%20%20%20%20%29.addTo%28map_a6f061f22a544363b3484d2862c11689%29%3B%0A%20%20%20%20%20%20%20%20%0A%20%20%20%20%0A%20%20%20%20%20%20%20%20var%20popup_2f5bac47b9f740f7a02f87897294460b%20%3D%20L.popup%28%7B%22maxWidth%22%3A%20%22100%25%22%7D%29%3B%0A%0A%20%20%20%20%20%20%20%20%0A%20%20%20%20%20%20%20%20%20%20%20%20var%20html_a1017c93004d4c0b925f67d982db8f6f%20%3D%20%24%28%60%3Cdiv%20id%3D%22html_a1017c93004d4c0b925f67d982db8f6f%22%20style%3D%22width%3A%20100.0%25%3B%20height%3A%20100.0%25%3B%22%3E%3Cstrong%3EState/UTs%3C/strong%3E%3A%20Kerala%3Cbr%3E%3Cstrong%3E%20Total%20Cases%3C/strong%3E%3A%204664944%3Cbr%3E%3C/div%3E%60%29%5B0%5D%3B%0A%20%20%20%20%20%20%20%20%20%20%20%20popup_2f5bac47b9f740f7a02f87897294460b.setContent%28html_a1017c93004d4c0b925f67d982db8f6f%29%3B%0A%20%20%20%20%20%20%20%20%0A%0A%20%20%20%20%20%20%20%20circle_marker_38ebd1189e924168b2f79713950cdabe.bindPopup%28popup_2f5bac47b9f740f7a02f87897294460b%29%0A%20%20%20%20%20%20%20%20%3B%0A%0A%20%20%20%20%20%20%20%20%0A%20%20%20%20%0A%20%20%20%20%0A%20%20%20%20%20%20%20%20%20%20%20%20var%20circle_marker_cfbfe5ff216644e190819a3853104663%20%3D%20L.circleMarker%28%0A%20%20%20%20%20%20%20%20%20%20%20%20%20%20%20%20%5B19.25023195%2C%2073.16017493%5D%2C%0A%20%20%20%20%20%20%20%20%20%20%20%20%20%20%20%20%7B%22bubblingMouseEvents%22%3A%20true%2C%20%22color%22%3A%20%22red%22%2C%20%22dashArray%22%3A%20null%2C%20%22dashOffset%22%3A%20null%2C%20%22fill%22%3A%20true%2C%20%22fillColor%22%3A%20%22red%22%2C%20%22fillOpacity%22%3A%200.4%2C%20%22fillRule%22%3A%20%22evenodd%22%2C%20%22lineCap%22%3A%20%22round%22%2C%20%22lineJoin%22%3A%20%22round%22%2C%20%22opacity%22%3A%201.0%2C%20%22radius%22%3A%2013.095585999999999%2C%20%22stroke%22%3A%20true%2C%20%22weight%22%3A%203%7D%0A%20%20%20%20%20%20%20%20%20%20%20%20%29.addTo%28map_a6f061f22a544363b3484d2862c11689%29%3B%0A%20%20%20%20%20%20%20%20%0A%20%20%20%20%0A%20%20%20%20%20%20%20%20var%20popup_495011ca45f54b7f8de3775f620d67f2%20%3D%20L.popup%28%7B%22maxWidth%22%3A%20%22100%25%22%7D%29%3B%0A%0A%20%20%20%20%20%20%20%20%0A%20%20%20%20%20%20%20%20%20%20%20%20var%20html_e27967552872483887efabddd926a06b%20%3D%20%24%28%60%3Cdiv%20id%3D%22html_e27967552872483887efabddd926a06b%22%20style%3D%22width%3A%20100.0%25%3B%20height%3A%20100.0%25%3B%22%3E%3Cstrong%3EState/UTs%3C/strong%3E%3A%20Maharashtra%3Cbr%3E%3Cstrong%3E%20Total%20Cases%3C/strong%3E%3A%206547793%3Cbr%3E%3C/div%3E%60%29%5B0%5D%3B%0A%20%20%20%20%20%20%20%20%20%20%20%20popup_495011ca45f54b7f8de3775f620d67f2.setContent%28html_e27967552872483887efabddd926a06b%29%3B%0A%20%20%20%20%20%20%20%20%0A%0A%20%20%20%20%20%20%20%20circle_marker_cfbfe5ff216644e190819a3853104663.bindPopup%28popup_495011ca45f54b7f8de3775f620d67f2%29%0A%20%20%20%20%20%20%20%20%3B%0A%0A%20%20%20%20%20%20%20%20%0A%20%20%20%20%0A%20%20%20%20%0A%20%20%20%20%20%20%20%20%20%20%20%20var%20circle_marker_972cbe841f474c91826542f46cba9af6%20%3D%20L.circleMarker%28%0A%20%20%20%20%20%20%20%20%20%20%20%20%20%20%20%20%5B31.51997398%2C%2075.98000281%5D%2C%0A%20%20%20%20%20%20%20%20%20%20%20%20%20%20%20%20%7B%22bubblingMouseEvents%22%3A%20true%2C%20%22color%22%3A%20%22red%22%2C%20%22dashArray%22%3A%20null%2C%20%22dashOffset%22%3A%20null%2C%20%22fill%22%3A%20true%2C%20%22fillColor%22%3A%20%22red%22%2C%20%22fillOpacity%22%3A%200.4%2C%20%22fillRule%22%3A%20%22evenodd%22%2C%20%22lineCap%22%3A%20%22round%22%2C%20%22lineJoin%22%3A%20%22round%22%2C%20%22opacity%22%3A%201.0%2C%20%22radius%22%3A%201.2032%2C%20%22stroke%22%3A%20true%2C%20%22weight%22%3A%203%7D%0A%20%20%20%20%20%20%20%20%20%20%20%20%29.addTo%28map_a6f061f22a544363b3484d2862c11689%29%3B%0A%20%20%20%20%20%20%20%20%0A%20%20%20%20%0A%20%20%20%20%20%20%20%20var%20popup_3ea72d90a90345db95094ca6bd0b9f17%20%3D%20L.popup%28%7B%22maxWidth%22%3A%20%22100%25%22%7D%29%3B%0A%0A%20%20%20%20%20%20%20%20%0A%20%20%20%20%20%20%20%20%20%20%20%20var%20html_e310f45ec2d04a05a579b5ae756e736d%20%3D%20%24%28%60%3Cdiv%20id%3D%22html_e310f45ec2d04a05a579b5ae756e736d%22%20style%3D%22width%3A%20100.0%25%3B%20height%3A%20100.0%25%3B%22%3E%3Cstrong%3EState/UTs%3C/strong%3E%3A%20Punjab%3Cbr%3E%3Cstrong%3E%20Total%20Cases%3C/strong%3E%3A%20601600%3Cbr%3E%3C/div%3E%60%29%5B0%5D%3B%0A%20%20%20%20%20%20%20%20%20%20%20%20popup_3ea72d90a90345db95094ca6bd0b9f17.setContent%28html_e310f45ec2d04a05a579b5ae756e736d%29%3B%0A%20%20%20%20%20%20%20%20%0A%0A%20%20%20%20%20%20%20%20circle_marker_972cbe841f474c91826542f46cba9af6.bindPopup%28popup_3ea72d90a90345db95094ca6bd0b9f17%29%0A%20%20%20%20%20%20%20%20%3B%0A%0A%20%20%20%20%20%20%20%20%0A%20%20%20%20%0A%20%20%20%20%0A%20%20%20%20%20%20%20%20%20%20%20%20var%20circle_marker_edd6839c9d724d13afc14c1fe483fceb%20%3D%20L.circleMarker%28%0A%20%20%20%20%20%20%20%20%20%20%20%20%20%20%20%20%5B26.44999921%2C%2074.63998124%5D%2C%0A%20%20%20%20%20%20%20%20%20%20%20%20%20%20%20%20%7B%22bubblingMouseEvents%22%3A%20true%2C%20%22color%22%3A%20%22red%22%2C%20%22dashArray%22%3A%20null%2C%20%22dashOffset%22%3A%20null%2C%20%22fill%22%3A%20true%2C%20%22fillColor%22%3A%20%22red%22%2C%20%22fillOpacity%22%3A%200.4%2C%20%22fillRule%22%3A%20%22evenodd%22%2C%20%22lineCap%22%3A%20%22round%22%2C%20%22lineJoin%22%3A%20%22round%22%2C%20%22opacity%22%3A%201.0%2C%20%22radius%22%3A%201.908644%2C%20%22stroke%22%3A%20true%2C%20%22weight%22%3A%203%7D%0A%20%20%20%20%20%20%20%20%20%20%20%20%29.addTo%28map_a6f061f22a544363b3484d2862c11689%29%3B%0A%20%20%20%20%20%20%20%20%0A%20%20%20%20%0A%20%20%20%20%20%20%20%20var%20popup_0737ca45d8ee4d07b7d94273990bb162%20%3D%20L.popup%28%7B%22maxWidth%22%3A%20%22100%25%22%7D%29%3B%0A%0A%20%20%20%20%20%20%20%20%0A%20%20%20%20%20%20%20%20%20%20%20%20var%20html_add4361a84e7473b8d9bee0e3d078529%20%3D%20%24%28%60%3Cdiv%20id%3D%22html_add4361a84e7473b8d9bee0e3d078529%22%20style%3D%22width%3A%20100.0%25%3B%20height%3A%20100.0%25%3B%22%3E%3Cstrong%3EState/UTs%3C/strong%3E%3A%20Rajasthan%3Cbr%3E%3Cstrong%3E%20Total%20Cases%3C/strong%3E%3A%20954322%3Cbr%3E%3C/div%3E%60%29%5B0%5D%3B%0A%20%20%20%20%20%20%20%20%20%20%20%20popup_0737ca45d8ee4d07b7d94273990bb162.setContent%28html_add4361a84e7473b8d9bee0e3d078529%29%3B%0A%20%20%20%20%20%20%20%20%0A%0A%20%20%20%20%20%20%20%20circle_marker_edd6839c9d724d13afc14c1fe483fceb.bindPopup%28popup_0737ca45d8ee4d07b7d94273990bb162%29%0A%20%20%20%20%20%20%20%20%3B%0A%0A%20%20%20%20%20%20%20%20%0A%20%20%20%20%0A%20%20%20%20%0A%20%20%20%20%20%20%20%20%20%20%20%20var%20circle_marker_f13182abb84f47238285401790d09433%20%3D%20L.circleMarker%28%0A%20%20%20%20%20%20%20%20%20%20%20%20%20%20%20%20%5B18.1124%2C%2079.0193%5D%2C%0A%20%20%20%20%20%20%20%20%20%20%20%20%20%20%20%20%7B%22bubblingMouseEvents%22%3A%20true%2C%20%22color%22%3A%20%22red%22%2C%20%22dashArray%22%3A%20null%2C%20%22dashOffset%22%3A%20null%2C%20%22fill%22%3A%20true%2C%20%22fillColor%22%3A%20%22red%22%2C%20%22fillOpacity%22%3A%200.4%2C%20%22fillRule%22%3A%20%22evenodd%22%2C%20%22lineCap%22%3A%20%22round%22%2C%20%22lineJoin%22%3A%20%22round%22%2C%20%22opacity%22%3A%201.0%2C%20%22radius%22%3A%201.3314979999999998%2C%20%22stroke%22%3A%20true%2C%20%22weight%22%3A%203%7D%0A%20%20%20%20%20%20%20%20%20%20%20%20%29.addTo%28map_a6f061f22a544363b3484d2862c11689%29%3B%0A%20%20%20%20%20%20%20%20%0A%20%20%20%20%0A%20%20%20%20%20%20%20%20var%20popup_f1f7b1b2f1ac487da04658a4837521f9%20%3D%20L.popup%28%7B%22maxWidth%22%3A%20%22100%25%22%7D%29%3B%0A%0A%20%20%20%20%20%20%20%20%0A%20%20%20%20%20%20%20%20%20%20%20%20var%20html_d78696aa771647a288f17ce8db7a6c0c%20%3D%20%24%28%60%3Cdiv%20id%3D%22html_d78696aa771647a288f17ce8db7a6c0c%22%20style%3D%22width%3A%20100.0%25%3B%20height%3A%20100.0%25%3B%22%3E%3Cstrong%3EState/UTs%3C/strong%3E%3A%20Telengana%3Cbr%3E%3Cstrong%3E%20Total%20Cases%3C/strong%3E%3A%20665749%3Cbr%3E%3C/div%3E%60%29%5B0%5D%3B%0A%20%20%20%20%20%20%20%20%20%20%20%20popup_f1f7b1b2f1ac487da04658a4837521f9.setContent%28html_d78696aa771647a288f17ce8db7a6c0c%29%3B%0A%20%20%20%20%20%20%20%20%0A%0A%20%20%20%20%20%20%20%20circle_marker_f13182abb84f47238285401790d09433.bindPopup%28popup_f1f7b1b2f1ac487da04658a4837521f9%29%0A%20%20%20%20%20%20%20%20%3B%0A%0A%20%20%20%20%20%20%20%20%0A%20%20%20%20%0A%20%20%20%20%0A%20%20%20%20%20%20%20%20%20%20%20%20var%20circle_marker_cc91a661b1164f64a07bee01659785d9%20%3D%20L.circleMarker%28%0A%20%20%20%20%20%20%20%20%20%20%20%20%20%20%20%20%5B12.92038576%2C%2079.15004187%5D%2C%0A%20%20%20%20%20%20%20%20%20%20%20%20%20%20%20%20%7B%22bubblingMouseEvents%22%3A%20true%2C%20%22color%22%3A%20%22red%22%2C%20%22dashArray%22%3A%20null%2C%20%22dashOffset%22%3A%20null%2C%20%22fill%22%3A%20true%2C%20%22fillColor%22%3A%20%22red%22%2C%20%22fillOpacity%22%3A%200.4%2C%20%22fillRule%22%3A%20%22evenodd%22%2C%20%22lineCap%22%3A%20%22round%22%2C%20%22lineJoin%22%3A%20%22round%22%2C%20%22opacity%22%3A%201.0%2C%20%22radius%22%3A%205.324354%2C%20%22stroke%22%3A%20true%2C%20%22weight%22%3A%203%7D%0A%20%20%20%20%20%20%20%20%20%20%20%20%29.addTo%28map_a6f061f22a544363b3484d2862c11689%29%3B%0A%20%20%20%20%20%20%20%20%0A%20%20%20%20%0A%20%20%20%20%20%20%20%20var%20popup_e48ff6cd2b644abcaaf02752450282ed%20%3D%20L.popup%28%7B%22maxWidth%22%3A%20%22100%25%22%7D%29%3B%0A%0A%20%20%20%20%20%20%20%20%0A%20%20%20%20%20%20%20%20%20%20%20%20var%20html_35ce4641f9094ddfa1a6d053e39180ab%20%3D%20%24%28%60%3Cdiv%20id%3D%22html_35ce4641f9094ddfa1a6d053e39180ab%22%20style%3D%22width%3A%20100.0%25%3B%20height%3A%20100.0%25%3B%22%3E%3Cstrong%3EState/UTs%3C/strong%3E%3A%20Tamil%20nadu%3Cbr%3E%3Cstrong%3E%20Total%20Cases%3C/strong%3E%3A%202662177%3Cbr%3E%3C/div%3E%60%29%5B0%5D%3B%0A%20%20%20%20%20%20%20%20%20%20%20%20popup_e48ff6cd2b644abcaaf02752450282ed.setContent%28html_35ce4641f9094ddfa1a6d053e39180ab%29%3B%0A%20%20%20%20%20%20%20%20%0A%0A%20%20%20%20%20%20%20%20circle_marker_cc91a661b1164f64a07bee01659785d9.bindPopup%28popup_e48ff6cd2b644abcaaf02752450282ed%29%0A%20%20%20%20%20%20%20%20%3B%0A%0A%20%20%20%20%20%20%20%20%0A%20%20%20%20%0A%20%20%20%20%0A%20%20%20%20%20%20%20%20%20%20%20%20var%20circle_marker_10242affde294cc883b8e6b22a7e3b8d%20%3D%20L.circleMarker%28%0A%20%20%20%20%20%20%20%20%20%20%20%20%20%20%20%20%5B27.59998069%2C%2078.05000565%5D%2C%0A%20%20%20%20%20%20%20%20%20%20%20%20%20%20%20%20%7B%22bubblingMouseEvents%22%3A%20true%2C%20%22color%22%3A%20%22red%22%2C%20%22dashArray%22%3A%20null%2C%20%22dashOffset%22%3A%20null%2C%20%22fill%22%3A%20true%2C%20%22fillColor%22%3A%20%22red%22%2C%20%22fillOpacity%22%3A%200.4%2C%20%22fillRule%22%3A%20%22evenodd%22%2C%20%22lineCap%22%3A%20%22round%22%2C%20%22lineJoin%22%3A%20%22round%22%2C%20%22opacity%22%3A%201.0%2C%20%22radius%22%3A%203.4196%2C%20%22stroke%22%3A%20true%2C%20%22weight%22%3A%203%7D%0A%20%20%20%20%20%20%20%20%20%20%20%20%29.addTo%28map_a6f061f22a544363b3484d2862c11689%29%3B%0A%20%20%20%20%20%20%20%20%0A%20%20%20%20%0A%20%20%20%20%20%20%20%20var%20popup_109df65dd1f749aba7234af4e7637151%20%3D%20L.popup%28%7B%22maxWidth%22%3A%20%22100%25%22%7D%29%3B%0A%0A%20%20%20%20%20%20%20%20%0A%20%20%20%20%20%20%20%20%20%20%20%20var%20html_98c8913c413946eb94613114ee86039d%20%3D%20%24%28%60%3Cdiv%20id%3D%22html_98c8913c413946eb94613114ee86039d%22%20style%3D%22width%3A%20100.0%25%3B%20height%3A%20100.0%25%3B%22%3E%3Cstrong%3EState/UTs%3C/strong%3E%3A%20Uttar%20pradesh%3Cbr%3E%3Cstrong%3E%20Total%20Cases%3C/strong%3E%3A%201709800%3Cbr%3E%3C/div%3E%60%29%5B0%5D%3B%0A%20%20%20%20%20%20%20%20%20%20%20%20popup_109df65dd1f749aba7234af4e7637151.setContent%28html_98c8913c413946eb94613114ee86039d%29%3B%0A%20%20%20%20%20%20%20%20%0A%0A%20%20%20%20%20%20%20%20circle_marker_10242affde294cc883b8e6b22a7e3b8d.bindPopup%28popup_109df65dd1f749aba7234af4e7637151%29%0A%20%20%20%20%20%20%20%20%3B%0A%0A%20%20%20%20%20%20%20%20%0A%20%20%20%20%0A%20%20%20%20%0A%20%20%20%20%20%20%20%20%20%20%20%20var%20circle_marker_9a10a0e819134c4c9cfcd1d7e33c28c2%20%3D%20L.circleMarker%28%0A%20%20%20%20%20%20%20%20%20%20%20%20%20%20%20%20%5B30.32040895%2C%2078.05000565%5D%2C%0A%20%20%20%20%20%20%20%20%20%20%20%20%20%20%20%20%7B%22bubblingMouseEvents%22%3A%20true%2C%20%22color%22%3A%20%22red%22%2C%20%22dashArray%22%3A%20null%2C%20%22dashOffset%22%3A%20null%2C%20%22fill%22%3A%20true%2C%20%22fillColor%22%3A%20%22red%22%2C%20%22fillOpacity%22%3A%200.4%2C%20%22fillRule%22%3A%20%22evenodd%22%2C%20%22lineCap%22%3A%20%22round%22%2C%20%22lineJoin%22%3A%20%22round%22%2C%20%22opacity%22%3A%201.0%2C%20%22radius%22%3A%200.68706%2C%20%22stroke%22%3A%20true%2C%20%22weight%22%3A%203%7D%0A%20%20%20%20%20%20%20%20%20%20%20%20%29.addTo%28map_a6f061f22a544363b3484d2862c11689%29%3B%0A%20%20%20%20%20%20%20%20%0A%20%20%20%20%0A%20%20%20%20%20%20%20%20var%20popup_66321ff07c2c465fa2b4372c84c85ab6%20%3D%20L.popup%28%7B%22maxWidth%22%3A%20%22100%25%22%7D%29%3B%0A%0A%20%20%20%20%20%20%20%20%0A%20%20%20%20%20%20%20%20%20%20%20%20var%20html_7bc87fd6bc874ced9311586b4adf1b0e%20%3D%20%24%28%60%3Cdiv%20id%3D%22html_7bc87fd6bc874ced9311586b4adf1b0e%22%20style%3D%22width%3A%20100.0%25%3B%20height%3A%20100.0%25%3B%22%3E%3Cstrong%3EState/UTs%3C/strong%3E%3A%20Uttarakhand%3Cbr%3E%3Cstrong%3E%20Total%20Cases%3C/strong%3E%3A%20343530%3Cbr%3E%3C/div%3E%60%29%5B0%5D%3B%0A%20%20%20%20%20%20%20%20%20%20%20%20popup_66321ff07c2c465fa2b4372c84c85ab6.setContent%28html_7bc87fd6bc874ced9311586b4adf1b0e%29%3B%0A%20%20%20%20%20%20%20%20%0A%0A%20%20%20%20%20%20%20%20circle_marker_9a10a0e819134c4c9cfcd1d7e33c28c2.bindPopup%28popup_66321ff07c2c465fa2b4372c84c85ab6%29%0A%20%20%20%20%20%20%20%20%3B%0A%0A%20%20%20%20%20%20%20%20%0A%20%20%20%20%0A%3C/script%3E onload=\"this.contentDocument.open();this.contentDocument.write(    decodeURIComponent(this.getAttribute('data-html')));this.contentDocument.close();\" allowfullscreen webkitallowfullscreen mozallowfullscreen></iframe></div></div>"
      ],
      "text/plain": [
       "<folium.folium.Map at 0x1f5220b2970>"
      ]
     },
     "execution_count": 130,
     "metadata": {},
     "output_type": "execute_result"
    }
   ],
   "source": [
    "map"
   ]
  },
  {
   "cell_type": "code",
   "execution_count": 135,
   "metadata": {},
   "outputs": [],
   "source": [
    "map_death=folium.Map(loaction=[20,70],zoom_start=4,tiles='Stamenterrain')\n",
    "for lat, long ,value , name in zip(dataframe_f['Latitude'],dataframe_f['Longitude'],dataframe_f['Deaths'],dataframe_f['State/UTs']):\n",
    "    folium.CircleMarker([lat,long],radius=value*0.0001,popup=('<strong>State/UTs</strong>: ' +str(name).capitalize()+'<br>' '<strong> Total Cases</strong>: '+str(value)+ '<br>'),color='red',fill_color='red',fill_opacity=0.4).add_to(map_death)"
   ]
  },
  {
   "cell_type": "code",
   "execution_count": 136,
   "metadata": {},
   "outputs": [
    {
     "data": {
      "text/html": [
       "<div style=\"width:100%;\"><div style=\"position:relative;width:100%;height:0;padding-bottom:60%;\"><span style=\"color:#565656\">Make this Notebook Trusted to load map: File -> Trust Notebook</span><iframe src=\"about:blank\" style=\"position:absolute;width:100%;height:100%;left:0;top:0;border:none !important;\" data-html=%3C%21DOCTYPE%20html%3E%0A%3Chead%3E%20%20%20%20%0A%20%20%20%20%3Cmeta%20http-equiv%3D%22content-type%22%20content%3D%22text/html%3B%20charset%3DUTF-8%22%20/%3E%0A%20%20%20%20%0A%20%20%20%20%20%20%20%20%3Cscript%3E%0A%20%20%20%20%20%20%20%20%20%20%20%20L_NO_TOUCH%20%3D%20false%3B%0A%20%20%20%20%20%20%20%20%20%20%20%20L_DISABLE_3D%20%3D%20false%3B%0A%20%20%20%20%20%20%20%20%3C/script%3E%0A%20%20%20%20%0A%20%20%20%20%3Cstyle%3Ehtml%2C%20body%20%7Bwidth%3A%20100%25%3Bheight%3A%20100%25%3Bmargin%3A%200%3Bpadding%3A%200%3B%7D%3C/style%3E%0A%20%20%20%20%3Cstyle%3E%23map%20%7Bposition%3Aabsolute%3Btop%3A0%3Bbottom%3A0%3Bright%3A0%3Bleft%3A0%3B%7D%3C/style%3E%0A%20%20%20%20%3Cscript%20src%3D%22https%3A//cdn.jsdelivr.net/npm/leaflet%401.6.0/dist/leaflet.js%22%3E%3C/script%3E%0A%20%20%20%20%3Cscript%20src%3D%22https%3A//code.jquery.com/jquery-1.12.4.min.js%22%3E%3C/script%3E%0A%20%20%20%20%3Cscript%20src%3D%22https%3A//maxcdn.bootstrapcdn.com/bootstrap/3.2.0/js/bootstrap.min.js%22%3E%3C/script%3E%0A%20%20%20%20%3Cscript%20src%3D%22https%3A//cdnjs.cloudflare.com/ajax/libs/Leaflet.awesome-markers/2.0.2/leaflet.awesome-markers.js%22%3E%3C/script%3E%0A%20%20%20%20%3Clink%20rel%3D%22stylesheet%22%20href%3D%22https%3A//cdn.jsdelivr.net/npm/leaflet%401.6.0/dist/leaflet.css%22/%3E%0A%20%20%20%20%3Clink%20rel%3D%22stylesheet%22%20href%3D%22https%3A//maxcdn.bootstrapcdn.com/bootstrap/3.2.0/css/bootstrap.min.css%22/%3E%0A%20%20%20%20%3Clink%20rel%3D%22stylesheet%22%20href%3D%22https%3A//maxcdn.bootstrapcdn.com/bootstrap/3.2.0/css/bootstrap-theme.min.css%22/%3E%0A%20%20%20%20%3Clink%20rel%3D%22stylesheet%22%20href%3D%22https%3A//maxcdn.bootstrapcdn.com/font-awesome/4.6.3/css/font-awesome.min.css%22/%3E%0A%20%20%20%20%3Clink%20rel%3D%22stylesheet%22%20href%3D%22https%3A//cdnjs.cloudflare.com/ajax/libs/Leaflet.awesome-markers/2.0.2/leaflet.awesome-markers.css%22/%3E%0A%20%20%20%20%3Clink%20rel%3D%22stylesheet%22%20href%3D%22https%3A//cdn.jsdelivr.net/gh/python-visualization/folium/folium/templates/leaflet.awesome.rotate.min.css%22/%3E%0A%20%20%20%20%0A%20%20%20%20%20%20%20%20%20%20%20%20%3Cmeta%20name%3D%22viewport%22%20content%3D%22width%3Ddevice-width%2C%0A%20%20%20%20%20%20%20%20%20%20%20%20%20%20%20%20initial-scale%3D1.0%2C%20maximum-scale%3D1.0%2C%20user-scalable%3Dno%22%20/%3E%0A%20%20%20%20%20%20%20%20%20%20%20%20%3Cstyle%3E%0A%20%20%20%20%20%20%20%20%20%20%20%20%20%20%20%20%23map_49c0a9ac5fd7497b8eab3209c151bb7f%20%7B%0A%20%20%20%20%20%20%20%20%20%20%20%20%20%20%20%20%20%20%20%20position%3A%20relative%3B%0A%20%20%20%20%20%20%20%20%20%20%20%20%20%20%20%20%20%20%20%20width%3A%20100.0%25%3B%0A%20%20%20%20%20%20%20%20%20%20%20%20%20%20%20%20%20%20%20%20height%3A%20100.0%25%3B%0A%20%20%20%20%20%20%20%20%20%20%20%20%20%20%20%20%20%20%20%20left%3A%200.0%25%3B%0A%20%20%20%20%20%20%20%20%20%20%20%20%20%20%20%20%20%20%20%20top%3A%200.0%25%3B%0A%20%20%20%20%20%20%20%20%20%20%20%20%20%20%20%20%7D%0A%20%20%20%20%20%20%20%20%20%20%20%20%3C/style%3E%0A%20%20%20%20%20%20%20%20%0A%3C/head%3E%0A%3Cbody%3E%20%20%20%20%0A%20%20%20%20%0A%20%20%20%20%20%20%20%20%20%20%20%20%3Cdiv%20class%3D%22folium-map%22%20id%3D%22map_49c0a9ac5fd7497b8eab3209c151bb7f%22%20%3E%3C/div%3E%0A%20%20%20%20%20%20%20%20%0A%3C/body%3E%0A%3Cscript%3E%20%20%20%20%0A%20%20%20%20%0A%20%20%20%20%20%20%20%20%20%20%20%20var%20map_49c0a9ac5fd7497b8eab3209c151bb7f%20%3D%20L.map%28%0A%20%20%20%20%20%20%20%20%20%20%20%20%20%20%20%20%22map_49c0a9ac5fd7497b8eab3209c151bb7f%22%2C%0A%20%20%20%20%20%20%20%20%20%20%20%20%20%20%20%20%7B%0A%20%20%20%20%20%20%20%20%20%20%20%20%20%20%20%20%20%20%20%20center%3A%20%5B0%2C%200%5D%2C%0A%20%20%20%20%20%20%20%20%20%20%20%20%20%20%20%20%20%20%20%20crs%3A%20L.CRS.EPSG3857%2C%0A%20%20%20%20%20%20%20%20%20%20%20%20%20%20%20%20%20%20%20%20zoom%3A%201%2C%0A%20%20%20%20%20%20%20%20%20%20%20%20%20%20%20%20%20%20%20%20zoomControl%3A%20true%2C%0A%20%20%20%20%20%20%20%20%20%20%20%20%20%20%20%20%20%20%20%20preferCanvas%3A%20false%2C%0A%20%20%20%20%20%20%20%20%20%20%20%20%20%20%20%20%20%20%20%20loaction%3A%20%5B20%2C%2070%5D%2C%0A%20%20%20%20%20%20%20%20%20%20%20%20%20%20%20%20%7D%0A%20%20%20%20%20%20%20%20%20%20%20%20%29%3B%0A%0A%20%20%20%20%20%20%20%20%20%20%20%20%0A%0A%20%20%20%20%20%20%20%20%0A%20%20%20%20%0A%20%20%20%20%20%20%20%20%20%20%20%20var%20tile_layer_844655ebe6474e35b06b2e3b3a376941%20%3D%20L.tileLayer%28%0A%20%20%20%20%20%20%20%20%20%20%20%20%20%20%20%20%22https%3A//stamen-tiles-%7Bs%7D.a.ssl.fastly.net/terrain/%7Bz%7D/%7Bx%7D/%7By%7D.jpg%22%2C%0A%20%20%20%20%20%20%20%20%20%20%20%20%20%20%20%20%7B%22attribution%22%3A%20%22Map%20tiles%20by%20%5Cu003ca%20href%3D%5C%22http%3A//stamen.com%5C%22%5Cu003eStamen%20Design%5Cu003c/a%5Cu003e%2C%20under%20%5Cu003ca%20href%3D%5C%22http%3A//creativecommons.org/licenses/by/3.0%5C%22%5Cu003eCC%20BY%203.0%5Cu003c/a%5Cu003e.%20Data%20by%20%5Cu0026copy%3B%20%5Cu003ca%20href%3D%5C%22http%3A//openstreetmap.org%5C%22%5Cu003eOpenStreetMap%5Cu003c/a%5Cu003e%2C%20under%20%5Cu003ca%20href%3D%5C%22http%3A//creativecommons.org/licenses/by-sa/3.0%5C%22%5Cu003eCC%20BY%20SA%5Cu003c/a%5Cu003e.%22%2C%20%22detectRetina%22%3A%20false%2C%20%22maxNativeZoom%22%3A%2018%2C%20%22maxZoom%22%3A%2018%2C%20%22minZoom%22%3A%200%2C%20%22noWrap%22%3A%20false%2C%20%22opacity%22%3A%201%2C%20%22subdomains%22%3A%20%22abc%22%2C%20%22tms%22%3A%20false%7D%0A%20%20%20%20%20%20%20%20%20%20%20%20%29.addTo%28map_49c0a9ac5fd7497b8eab3209c151bb7f%29%3B%0A%20%20%20%20%20%20%20%20%0A%20%20%20%20%0A%20%20%20%20%20%20%20%20%20%20%20%20var%20circle_marker_89c2a5243f914f7da6350b1a86786f61%20%3D%20L.circleMarker%28%0A%20%20%20%20%20%20%20%20%20%20%20%20%20%20%20%20%5B14.7504291%2C%2078.57002559%5D%2C%0A%20%20%20%20%20%20%20%20%20%20%20%20%20%20%20%20%7B%22bubblingMouseEvents%22%3A%20true%2C%20%22color%22%3A%20%22red%22%2C%20%22dashArray%22%3A%20null%2C%20%22dashOffset%22%3A%20null%2C%20%22fill%22%3A%20true%2C%20%22fillColor%22%3A%20%22red%22%2C%20%22fillOpacity%22%3A%200.4%2C%20%22fillRule%22%3A%20%22evenodd%22%2C%20%22lineCap%22%3A%20%22round%22%2C%20%22lineJoin%22%3A%20%22round%22%2C%20%22opacity%22%3A%201.0%2C%20%22radius%22%3A%201.4163000000000001%2C%20%22stroke%22%3A%20true%2C%20%22weight%22%3A%203%7D%0A%20%20%20%20%20%20%20%20%20%20%20%20%29.addTo%28map_49c0a9ac5fd7497b8eab3209c151bb7f%29%3B%0A%20%20%20%20%20%20%20%20%0A%20%20%20%20%0A%20%20%20%20%20%20%20%20var%20popup_90f8a877533041e988cdaa8bebbe574c%20%3D%20L.popup%28%7B%22maxWidth%22%3A%20%22100%25%22%7D%29%3B%0A%0A%20%20%20%20%20%20%20%20%0A%20%20%20%20%20%20%20%20%20%20%20%20var%20html_995e224340e3439fb2866f16f3a3056e%20%3D%20%24%28%60%3Cdiv%20id%3D%22html_995e224340e3439fb2866f16f3a3056e%22%20style%3D%22width%3A%20100.0%25%3B%20height%3A%20100.0%25%3B%22%3E%3Cstrong%3EState/UTs%3C/strong%3E%3A%20Andhra%20pradesh%3Cbr%3E%3Cstrong%3E%20Total%20Cases%3C/strong%3E%3A%2014163%3Cbr%3E%3C/div%3E%60%29%5B0%5D%3B%0A%20%20%20%20%20%20%20%20%20%20%20%20popup_90f8a877533041e988cdaa8bebbe574c.setContent%28html_995e224340e3439fb2866f16f3a3056e%29%3B%0A%20%20%20%20%20%20%20%20%0A%0A%20%20%20%20%20%20%20%20circle_marker_89c2a5243f914f7da6350b1a86786f61.bindPopup%28popup_90f8a877533041e988cdaa8bebbe574c%29%0A%20%20%20%20%20%20%20%20%3B%0A%0A%20%20%20%20%20%20%20%20%0A%20%20%20%20%0A%20%20%20%20%0A%20%20%20%20%20%20%20%20%20%20%20%20var%20circle_marker_dd56b3e97bef429789daf0a341b674ed%20%3D%20L.circleMarker%28%0A%20%20%20%20%20%20%20%20%20%20%20%20%20%20%20%20%5B28.6699929%2C%2077.23000403%5D%2C%0A%20%20%20%20%20%20%20%20%20%20%20%20%20%20%20%20%7B%22bubblingMouseEvents%22%3A%20true%2C%20%22color%22%3A%20%22red%22%2C%20%22dashArray%22%3A%20null%2C%20%22dashOffset%22%3A%20null%2C%20%22fill%22%3A%20true%2C%20%22fillColor%22%3A%20%22red%22%2C%20%22fillOpacity%22%3A%200.4%2C%20%22fillRule%22%3A%20%22evenodd%22%2C%20%22lineCap%22%3A%20%22round%22%2C%20%22lineJoin%22%3A%20%22round%22%2C%20%22opacity%22%3A%201.0%2C%20%22radius%22%3A%202.5087%2C%20%22stroke%22%3A%20true%2C%20%22weight%22%3A%203%7D%0A%20%20%20%20%20%20%20%20%20%20%20%20%29.addTo%28map_49c0a9ac5fd7497b8eab3209c151bb7f%29%3B%0A%20%20%20%20%20%20%20%20%0A%20%20%20%20%0A%20%20%20%20%20%20%20%20var%20popup_e90e9fdbcac5482d8d08d6d5dc016d7a%20%3D%20L.popup%28%7B%22maxWidth%22%3A%20%22100%25%22%7D%29%3B%0A%0A%20%20%20%20%20%20%20%20%0A%20%20%20%20%20%20%20%20%20%20%20%20var%20html_3e99c072353341fda7f9b88a59938838%20%3D%20%24%28%60%3Cdiv%20id%3D%22html_3e99c072353341fda7f9b88a59938838%22%20style%3D%22width%3A%20100.0%25%3B%20height%3A%20100.0%25%3B%22%3E%3Cstrong%3EState/UTs%3C/strong%3E%3A%20Delhi%3Cbr%3E%3Cstrong%3E%20Total%20Cases%3C/strong%3E%3A%2025087%3Cbr%3E%3C/div%3E%60%29%5B0%5D%3B%0A%20%20%20%20%20%20%20%20%20%20%20%20popup_e90e9fdbcac5482d8d08d6d5dc016d7a.setContent%28html_3e99c072353341fda7f9b88a59938838%29%3B%0A%20%20%20%20%20%20%20%20%0A%0A%20%20%20%20%20%20%20%20circle_marker_dd56b3e97bef429789daf0a341b674ed.bindPopup%28popup_e90e9fdbcac5482d8d08d6d5dc016d7a%29%0A%20%20%20%20%20%20%20%20%3B%0A%0A%20%20%20%20%20%20%20%20%0A%20%20%20%20%0A%20%20%20%20%0A%20%20%20%20%20%20%20%20%20%20%20%20var%20circle_marker_ba83f6d5c777465cb9f13985c01a5831%20%3D%20L.circleMarker%28%0A%20%20%20%20%20%20%20%20%20%20%20%20%20%20%20%20%5B28.45000633%2C%2077.01999101%5D%2C%0A%20%20%20%20%20%20%20%20%20%20%20%20%20%20%20%20%7B%22bubblingMouseEvents%22%3A%20true%2C%20%22color%22%3A%20%22red%22%2C%20%22dashArray%22%3A%20null%2C%20%22dashOffset%22%3A%20null%2C%20%22fill%22%3A%20true%2C%20%22fillColor%22%3A%20%22red%22%2C%20%22fillOpacity%22%3A%200.4%2C%20%22fillRule%22%3A%20%22evenodd%22%2C%20%22lineCap%22%3A%20%22round%22%2C%20%22lineJoin%22%3A%20%22round%22%2C%20%22opacity%22%3A%201.0%2C%20%22radius%22%3A%200.9874%2C%20%22stroke%22%3A%20true%2C%20%22weight%22%3A%203%7D%0A%20%20%20%20%20%20%20%20%20%20%20%20%29.addTo%28map_49c0a9ac5fd7497b8eab3209c151bb7f%29%3B%0A%20%20%20%20%20%20%20%20%0A%20%20%20%20%0A%20%20%20%20%20%20%20%20var%20popup_f096e6ac33064bfe819bc571d9227052%20%3D%20L.popup%28%7B%22maxWidth%22%3A%20%22100%25%22%7D%29%3B%0A%0A%20%20%20%20%20%20%20%20%0A%20%20%20%20%20%20%20%20%20%20%20%20var%20html_53119fd3fe2e4797bc3592fc92293f9c%20%3D%20%24%28%60%3Cdiv%20id%3D%22html_53119fd3fe2e4797bc3592fc92293f9c%22%20style%3D%22width%3A%20100.0%25%3B%20height%3A%20100.0%25%3B%22%3E%3Cstrong%3EState/UTs%3C/strong%3E%3A%20Haryana%3Cbr%3E%3Cstrong%3E%20Total%20Cases%3C/strong%3E%3A%209874%3Cbr%3E%3C/div%3E%60%29%5B0%5D%3B%0A%20%20%20%20%20%20%20%20%20%20%20%20popup_f096e6ac33064bfe819bc571d9227052.setContent%28html_53119fd3fe2e4797bc3592fc92293f9c%29%3B%0A%20%20%20%20%20%20%20%20%0A%0A%20%20%20%20%20%20%20%20circle_marker_ba83f6d5c777465cb9f13985c01a5831.bindPopup%28popup_f096e6ac33064bfe819bc571d9227052%29%0A%20%20%20%20%20%20%20%20%3B%0A%0A%20%20%20%20%20%20%20%20%0A%20%20%20%20%0A%20%20%20%20%0A%20%20%20%20%20%20%20%20%20%20%20%20var%20circle_marker_4d89b4b695124e159812a2c6eedd9362%20%3D%20L.circleMarker%28%0A%20%20%20%20%20%20%20%20%20%20%20%20%20%20%20%20%5B12.57038129%2C%2076.91999711%5D%2C%0A%20%20%20%20%20%20%20%20%20%20%20%20%20%20%20%20%7B%22bubblingMouseEvents%22%3A%20true%2C%20%22color%22%3A%20%22red%22%2C%20%22dashArray%22%3A%20null%2C%20%22dashOffset%22%3A%20null%2C%20%22fill%22%3A%20true%2C%20%22fillColor%22%3A%20%22red%22%2C%20%22fillOpacity%22%3A%200.4%2C%20%22fillRule%22%3A%20%22evenodd%22%2C%20%22lineCap%22%3A%20%22round%22%2C%20%22lineJoin%22%3A%20%22round%22%2C%20%22opacity%22%3A%201.0%2C%20%22radius%22%3A%203.778%2C%20%22stroke%22%3A%20true%2C%20%22weight%22%3A%203%7D%0A%20%20%20%20%20%20%20%20%20%20%20%20%29.addTo%28map_49c0a9ac5fd7497b8eab3209c151bb7f%29%3B%0A%20%20%20%20%20%20%20%20%0A%20%20%20%20%0A%20%20%20%20%20%20%20%20var%20popup_4df59397d7e549d0a630ed1971a87e34%20%3D%20L.popup%28%7B%22maxWidth%22%3A%20%22100%25%22%7D%29%3B%0A%0A%20%20%20%20%20%20%20%20%0A%20%20%20%20%20%20%20%20%20%20%20%20var%20html_f65eb0950d944aa0ad7c7c5c7f7708cc%20%3D%20%24%28%60%3Cdiv%20id%3D%22html_f65eb0950d944aa0ad7c7c5c7f7708cc%22%20style%3D%22width%3A%20100.0%25%3B%20height%3A%20100.0%25%3B%22%3E%3Cstrong%3EState/UTs%3C/strong%3E%3A%20Karnataka%3Cbr%3E%3Cstrong%3E%20Total%20Cases%3C/strong%3E%3A%2037780%3Cbr%3E%3C/div%3E%60%29%5B0%5D%3B%0A%20%20%20%20%20%20%20%20%20%20%20%20popup_4df59397d7e549d0a630ed1971a87e34.setContent%28html_f65eb0950d944aa0ad7c7c5c7f7708cc%29%3B%0A%20%20%20%20%20%20%20%20%0A%0A%20%20%20%20%20%20%20%20circle_marker_4d89b4b695124e159812a2c6eedd9362.bindPopup%28popup_4df59397d7e549d0a630ed1971a87e34%29%0A%20%20%20%20%20%20%20%20%3B%0A%0A%20%20%20%20%20%20%20%20%0A%20%20%20%20%0A%20%20%20%20%0A%20%20%20%20%20%20%20%20%20%20%20%20var%20circle_marker_cb6ba92c256347d987dccc73c7609c3e%20%3D%20L.circleMarker%28%0A%20%20%20%20%20%20%20%20%20%20%20%20%20%20%20%20%5B8.900372741%2C%2076.56999263%5D%2C%0A%20%20%20%20%20%20%20%20%20%20%20%20%20%20%20%20%7B%22bubblingMouseEvents%22%3A%20true%2C%20%22color%22%3A%20%22red%22%2C%20%22dashArray%22%3A%20null%2C%20%22dashOffset%22%3A%20null%2C%20%22fill%22%3A%20true%2C%20%22fillColor%22%3A%20%22red%22%2C%20%22fillOpacity%22%3A%200.4%2C%20%22fillRule%22%3A%20%22evenodd%22%2C%20%22lineCap%22%3A%20%22round%22%2C%20%22lineJoin%22%3A%20%22round%22%2C%20%22opacity%22%3A%201.0%2C%20%22radius%22%3A%202.4965%2C%20%22stroke%22%3A%20true%2C%20%22weight%22%3A%203%7D%0A%20%20%20%20%20%20%20%20%20%20%20%20%29.addTo%28map_49c0a9ac5fd7497b8eab3209c151bb7f%29%3B%0A%20%20%20%20%20%20%20%20%0A%20%20%20%20%0A%20%20%20%20%20%20%20%20var%20popup_ec15ee195cb946ff8f3a319c05301738%20%3D%20L.popup%28%7B%22maxWidth%22%3A%20%22100%25%22%7D%29%3B%0A%0A%20%20%20%20%20%20%20%20%0A%20%20%20%20%20%20%20%20%20%20%20%20var%20html_769dea69a8c549b0b20ff0f9b0ffabb8%20%3D%20%24%28%60%3Cdiv%20id%3D%22html_769dea69a8c549b0b20ff0f9b0ffabb8%22%20style%3D%22width%3A%20100.0%25%3B%20height%3A%20100.0%25%3B%22%3E%3Cstrong%3EState/UTs%3C/strong%3E%3A%20Kerala%3Cbr%3E%3Cstrong%3E%20Total%20Cases%3C/strong%3E%3A%2024965%3Cbr%3E%3C/div%3E%60%29%5B0%5D%3B%0A%20%20%20%20%20%20%20%20%20%20%20%20popup_ec15ee195cb946ff8f3a319c05301738.setContent%28html_769dea69a8c549b0b20ff0f9b0ffabb8%29%3B%0A%20%20%20%20%20%20%20%20%0A%0A%20%20%20%20%20%20%20%20circle_marker_cb6ba92c256347d987dccc73c7609c3e.bindPopup%28popup_ec15ee195cb946ff8f3a319c05301738%29%0A%20%20%20%20%20%20%20%20%3B%0A%0A%20%20%20%20%20%20%20%20%0A%20%20%20%20%0A%20%20%20%20%0A%20%20%20%20%20%20%20%20%20%20%20%20var%20circle_marker_dfbfce035f4c47e0b7b0e73be0f3d92a%20%3D%20L.circleMarker%28%0A%20%20%20%20%20%20%20%20%20%20%20%20%20%20%20%20%5B19.25023195%2C%2073.16017493%5D%2C%0A%20%20%20%20%20%20%20%20%20%20%20%20%20%20%20%20%7B%22bubblingMouseEvents%22%3A%20true%2C%20%22color%22%3A%20%22red%22%2C%20%22dashArray%22%3A%20null%2C%20%22dashOffset%22%3A%20null%2C%20%22fill%22%3A%20true%2C%20%22fillColor%22%3A%20%22red%22%2C%20%22fillOpacity%22%3A%200.4%2C%20%22fillRule%22%3A%20%22evenodd%22%2C%20%22lineCap%22%3A%20%22round%22%2C%20%22lineJoin%22%3A%20%22round%22%2C%20%22opacity%22%3A%201.0%2C%20%22radius%22%3A%2013.901100000000001%2C%20%22stroke%22%3A%20true%2C%20%22weight%22%3A%203%7D%0A%20%20%20%20%20%20%20%20%20%20%20%20%29.addTo%28map_49c0a9ac5fd7497b8eab3209c151bb7f%29%3B%0A%20%20%20%20%20%20%20%20%0A%20%20%20%20%0A%20%20%20%20%20%20%20%20var%20popup_9fbfdd409f5b4b8985c31749110eeef4%20%3D%20L.popup%28%7B%22maxWidth%22%3A%20%22100%25%22%7D%29%3B%0A%0A%20%20%20%20%20%20%20%20%0A%20%20%20%20%20%20%20%20%20%20%20%20var%20html_2945f479d9a444129ef845178ca5e099%20%3D%20%24%28%60%3Cdiv%20id%3D%22html_2945f479d9a444129ef845178ca5e099%22%20style%3D%22width%3A%20100.0%25%3B%20height%3A%20100.0%25%3B%22%3E%3Cstrong%3EState/UTs%3C/strong%3E%3A%20Maharashtra%3Cbr%3E%3Cstrong%3E%20Total%20Cases%3C/strong%3E%3A%20139011%3Cbr%3E%3C/div%3E%60%29%5B0%5D%3B%0A%20%20%20%20%20%20%20%20%20%20%20%20popup_9fbfdd409f5b4b8985c31749110eeef4.setContent%28html_2945f479d9a444129ef845178ca5e099%29%3B%0A%20%20%20%20%20%20%20%20%0A%0A%20%20%20%20%20%20%20%20circle_marker_dfbfce035f4c47e0b7b0e73be0f3d92a.bindPopup%28popup_9fbfdd409f5b4b8985c31749110eeef4%29%0A%20%20%20%20%20%20%20%20%3B%0A%0A%20%20%20%20%20%20%20%20%0A%20%20%20%20%0A%20%20%20%20%0A%20%20%20%20%20%20%20%20%20%20%20%20var%20circle_marker_64504eecbbaa45d29955ccd7ed6c1c6a%20%3D%20L.circleMarker%28%0A%20%20%20%20%20%20%20%20%20%20%20%20%20%20%20%20%5B31.51997398%2C%2075.98000281%5D%2C%0A%20%20%20%20%20%20%20%20%20%20%20%20%20%20%20%20%7B%22bubblingMouseEvents%22%3A%20true%2C%20%22color%22%3A%20%22red%22%2C%20%22dashArray%22%3A%20null%2C%20%22dashOffset%22%3A%20null%2C%20%22fill%22%3A%20true%2C%20%22fillColor%22%3A%20%22red%22%2C%20%22fillOpacity%22%3A%200.4%2C%20%22fillRule%22%3A%20%22evenodd%22%2C%20%22lineCap%22%3A%20%22round%22%2C%20%22lineJoin%22%3A%20%22round%22%2C%20%22opacity%22%3A%201.0%2C%20%22radius%22%3A%201.6513%2C%20%22stroke%22%3A%20true%2C%20%22weight%22%3A%203%7D%0A%20%20%20%20%20%20%20%20%20%20%20%20%29.addTo%28map_49c0a9ac5fd7497b8eab3209c151bb7f%29%3B%0A%20%20%20%20%20%20%20%20%0A%20%20%20%20%0A%20%20%20%20%20%20%20%20var%20popup_b83fdfe2974e463992ec2568028483ac%20%3D%20L.popup%28%7B%22maxWidth%22%3A%20%22100%25%22%7D%29%3B%0A%0A%20%20%20%20%20%20%20%20%0A%20%20%20%20%20%20%20%20%20%20%20%20var%20html_4bb5c2f563c842f28453a504287ed8cf%20%3D%20%24%28%60%3Cdiv%20id%3D%22html_4bb5c2f563c842f28453a504287ed8cf%22%20style%3D%22width%3A%20100.0%25%3B%20height%3A%20100.0%25%3B%22%3E%3Cstrong%3EState/UTs%3C/strong%3E%3A%20Punjab%3Cbr%3E%3Cstrong%3E%20Total%20Cases%3C/strong%3E%3A%2016513%3Cbr%3E%3C/div%3E%60%29%5B0%5D%3B%0A%20%20%20%20%20%20%20%20%20%20%20%20popup_b83fdfe2974e463992ec2568028483ac.setContent%28html_4bb5c2f563c842f28453a504287ed8cf%29%3B%0A%20%20%20%20%20%20%20%20%0A%0A%20%20%20%20%20%20%20%20circle_marker_64504eecbbaa45d29955ccd7ed6c1c6a.bindPopup%28popup_b83fdfe2974e463992ec2568028483ac%29%0A%20%20%20%20%20%20%20%20%3B%0A%0A%20%20%20%20%20%20%20%20%0A%20%20%20%20%0A%20%20%20%20%0A%20%20%20%20%20%20%20%20%20%20%20%20var%20circle_marker_62d4919d41b147dba39ec182025ed37f%20%3D%20L.circleMarker%28%0A%20%20%20%20%20%20%20%20%20%20%20%20%20%20%20%20%5B26.44999921%2C%2074.63998124%5D%2C%0A%20%20%20%20%20%20%20%20%20%20%20%20%20%20%20%20%7B%22bubblingMouseEvents%22%3A%20true%2C%20%22color%22%3A%20%22red%22%2C%20%22dashArray%22%3A%20null%2C%20%22dashOffset%22%3A%20null%2C%20%22fill%22%3A%20true%2C%20%22fillColor%22%3A%20%22red%22%2C%20%22fillOpacity%22%3A%200.4%2C%20%22fillRule%22%3A%20%22evenodd%22%2C%20%22lineCap%22%3A%20%22round%22%2C%20%22lineJoin%22%3A%20%22round%22%2C%20%22opacity%22%3A%201.0%2C%20%22radius%22%3A%200.8954000000000001%2C%20%22stroke%22%3A%20true%2C%20%22weight%22%3A%203%7D%0A%20%20%20%20%20%20%20%20%20%20%20%20%29.addTo%28map_49c0a9ac5fd7497b8eab3209c151bb7f%29%3B%0A%20%20%20%20%20%20%20%20%0A%20%20%20%20%0A%20%20%20%20%20%20%20%20var%20popup_3d4dda6e9d2342a3bcd58da03b66dc6c%20%3D%20L.popup%28%7B%22maxWidth%22%3A%20%22100%25%22%7D%29%3B%0A%0A%20%20%20%20%20%20%20%20%0A%20%20%20%20%20%20%20%20%20%20%20%20var%20html_d3ad614611bb49868c4e65c7275d65b1%20%3D%20%24%28%60%3Cdiv%20id%3D%22html_d3ad614611bb49868c4e65c7275d65b1%22%20style%3D%22width%3A%20100.0%25%3B%20height%3A%20100.0%25%3B%22%3E%3Cstrong%3EState/UTs%3C/strong%3E%3A%20Rajasthan%3Cbr%3E%3Cstrong%3E%20Total%20Cases%3C/strong%3E%3A%208954%3Cbr%3E%3C/div%3E%60%29%5B0%5D%3B%0A%20%20%20%20%20%20%20%20%20%20%20%20popup_3d4dda6e9d2342a3bcd58da03b66dc6c.setContent%28html_d3ad614611bb49868c4e65c7275d65b1%29%3B%0A%20%20%20%20%20%20%20%20%0A%0A%20%20%20%20%20%20%20%20circle_marker_62d4919d41b147dba39ec182025ed37f.bindPopup%28popup_3d4dda6e9d2342a3bcd58da03b66dc6c%29%0A%20%20%20%20%20%20%20%20%3B%0A%0A%20%20%20%20%20%20%20%20%0A%20%20%20%20%0A%20%20%20%20%0A%20%20%20%20%20%20%20%20%20%20%20%20var%20circle_marker_2c7370f64a1042c088de5cc959115e32%20%3D%20L.circleMarker%28%0A%20%20%20%20%20%20%20%20%20%20%20%20%20%20%20%20%5B18.1124%2C%2079.0193%5D%2C%0A%20%20%20%20%20%20%20%20%20%20%20%20%20%20%20%20%7B%22bubblingMouseEvents%22%3A%20true%2C%20%22color%22%3A%20%22red%22%2C%20%22dashArray%22%3A%20null%2C%20%22dashOffset%22%3A%20null%2C%20%22fill%22%3A%20true%2C%20%22fillColor%22%3A%20%22red%22%2C%20%22fillOpacity%22%3A%200.4%2C%20%22fillRule%22%3A%20%22evenodd%22%2C%20%22lineCap%22%3A%20%22round%22%2C%20%22lineJoin%22%3A%20%22round%22%2C%20%22opacity%22%3A%201.0%2C%20%22radius%22%3A%200.3916%2C%20%22stroke%22%3A%20true%2C%20%22weight%22%3A%203%7D%0A%20%20%20%20%20%20%20%20%20%20%20%20%29.addTo%28map_49c0a9ac5fd7497b8eab3209c151bb7f%29%3B%0A%20%20%20%20%20%20%20%20%0A%20%20%20%20%0A%20%20%20%20%20%20%20%20var%20popup_c4bab5fa52b143318aec225a6e105baa%20%3D%20L.popup%28%7B%22maxWidth%22%3A%20%22100%25%22%7D%29%3B%0A%0A%20%20%20%20%20%20%20%20%0A%20%20%20%20%20%20%20%20%20%20%20%20var%20html_0cec025b0d4449c6bf132280be3faea3%20%3D%20%24%28%60%3Cdiv%20id%3D%22html_0cec025b0d4449c6bf132280be3faea3%22%20style%3D%22width%3A%20100.0%25%3B%20height%3A%20100.0%25%3B%22%3E%3Cstrong%3EState/UTs%3C/strong%3E%3A%20Telengana%3Cbr%3E%3Cstrong%3E%20Total%20Cases%3C/strong%3E%3A%203916%3Cbr%3E%3C/div%3E%60%29%5B0%5D%3B%0A%20%20%20%20%20%20%20%20%20%20%20%20popup_c4bab5fa52b143318aec225a6e105baa.setContent%28html_0cec025b0d4449c6bf132280be3faea3%29%3B%0A%20%20%20%20%20%20%20%20%0A%0A%20%20%20%20%20%20%20%20circle_marker_2c7370f64a1042c088de5cc959115e32.bindPopup%28popup_c4bab5fa52b143318aec225a6e105baa%29%0A%20%20%20%20%20%20%20%20%3B%0A%0A%20%20%20%20%20%20%20%20%0A%20%20%20%20%0A%20%20%20%20%0A%20%20%20%20%20%20%20%20%20%20%20%20var%20circle_marker_1288663719e446fc8d6a76400d895130%20%3D%20L.circleMarker%28%0A%20%20%20%20%20%20%20%20%20%20%20%20%20%20%20%20%5B12.92038576%2C%2079.15004187%5D%2C%0A%20%20%20%20%20%20%20%20%20%20%20%20%20%20%20%20%7B%22bubblingMouseEvents%22%3A%20true%2C%20%22color%22%3A%20%22red%22%2C%20%22dashArray%22%3A%20null%2C%20%22dashOffset%22%3A%20null%2C%20%22fill%22%3A%20true%2C%20%22fillColor%22%3A%20%22red%22%2C%20%22fillOpacity%22%3A%200.4%2C%20%22fillRule%22%3A%20%22evenodd%22%2C%20%22lineCap%22%3A%20%22round%22%2C%20%22lineJoin%22%3A%20%22round%22%2C%20%22opacity%22%3A%201.0%2C%20%22radius%22%3A%203.555%2C%20%22stroke%22%3A%20true%2C%20%22weight%22%3A%203%7D%0A%20%20%20%20%20%20%20%20%20%20%20%20%29.addTo%28map_49c0a9ac5fd7497b8eab3209c151bb7f%29%3B%0A%20%20%20%20%20%20%20%20%0A%20%20%20%20%0A%20%20%20%20%20%20%20%20var%20popup_a868fe58af0a4801a1f615a18cadf5d8%20%3D%20L.popup%28%7B%22maxWidth%22%3A%20%22100%25%22%7D%29%3B%0A%0A%20%20%20%20%20%20%20%20%0A%20%20%20%20%20%20%20%20%20%20%20%20var%20html_8dc208fa66234cd9a405c663d9504dc0%20%3D%20%24%28%60%3Cdiv%20id%3D%22html_8dc208fa66234cd9a405c663d9504dc0%22%20style%3D%22width%3A%20100.0%25%3B%20height%3A%20100.0%25%3B%22%3E%3Cstrong%3EState/UTs%3C/strong%3E%3A%20Tamil%20nadu%3Cbr%3E%3Cstrong%3E%20Total%20Cases%3C/strong%3E%3A%2035550%3Cbr%3E%3C/div%3E%60%29%5B0%5D%3B%0A%20%20%20%20%20%20%20%20%20%20%20%20popup_a868fe58af0a4801a1f615a18cadf5d8.setContent%28html_8dc208fa66234cd9a405c663d9504dc0%29%3B%0A%20%20%20%20%20%20%20%20%0A%0A%20%20%20%20%20%20%20%20circle_marker_1288663719e446fc8d6a76400d895130.bindPopup%28popup_a868fe58af0a4801a1f615a18cadf5d8%29%0A%20%20%20%20%20%20%20%20%3B%0A%0A%20%20%20%20%20%20%20%20%0A%20%20%20%20%0A%20%20%20%20%0A%20%20%20%20%20%20%20%20%20%20%20%20var%20circle_marker_6498a7d296e841639f841f75dfc2912d%20%3D%20L.circleMarker%28%0A%20%20%20%20%20%20%20%20%20%20%20%20%20%20%20%20%5B27.59998069%2C%2078.05000565%5D%2C%0A%20%20%20%20%20%20%20%20%20%20%20%20%20%20%20%20%7B%22bubblingMouseEvents%22%3A%20true%2C%20%22color%22%3A%20%22red%22%2C%20%22dashArray%22%3A%20null%2C%20%22dashOffset%22%3A%20null%2C%20%22fill%22%3A%20true%2C%20%22fillColor%22%3A%20%22red%22%2C%20%22fillOpacity%22%3A%200.4%2C%20%22fillRule%22%3A%20%22evenodd%22%2C%20%22lineCap%22%3A%20%22round%22%2C%20%22lineJoin%22%3A%20%22round%22%2C%20%22opacity%22%3A%201.0%2C%20%22radius%22%3A%202.2892%2C%20%22stroke%22%3A%20true%2C%20%22weight%22%3A%203%7D%0A%20%20%20%20%20%20%20%20%20%20%20%20%29.addTo%28map_49c0a9ac5fd7497b8eab3209c151bb7f%29%3B%0A%20%20%20%20%20%20%20%20%0A%20%20%20%20%0A%20%20%20%20%20%20%20%20var%20popup_e30c4fd3995f429bb184e947d5e7eae0%20%3D%20L.popup%28%7B%22maxWidth%22%3A%20%22100%25%22%7D%29%3B%0A%0A%20%20%20%20%20%20%20%20%0A%20%20%20%20%20%20%20%20%20%20%20%20var%20html_ff09ef9a76eb49a3974341107e6b037a%20%3D%20%24%28%60%3Cdiv%20id%3D%22html_ff09ef9a76eb49a3974341107e6b037a%22%20style%3D%22width%3A%20100.0%25%3B%20height%3A%20100.0%25%3B%22%3E%3Cstrong%3EState/UTs%3C/strong%3E%3A%20Uttar%20pradesh%3Cbr%3E%3Cstrong%3E%20Total%20Cases%3C/strong%3E%3A%2022892%3Cbr%3E%3C/div%3E%60%29%5B0%5D%3B%0A%20%20%20%20%20%20%20%20%20%20%20%20popup_e30c4fd3995f429bb184e947d5e7eae0.setContent%28html_ff09ef9a76eb49a3974341107e6b037a%29%3B%0A%20%20%20%20%20%20%20%20%0A%0A%20%20%20%20%20%20%20%20circle_marker_6498a7d296e841639f841f75dfc2912d.bindPopup%28popup_e30c4fd3995f429bb184e947d5e7eae0%29%0A%20%20%20%20%20%20%20%20%3B%0A%0A%20%20%20%20%20%20%20%20%0A%20%20%20%20%0A%20%20%20%20%0A%20%20%20%20%20%20%20%20%20%20%20%20var%20circle_marker_5b97e5aec89e4f31a7f4732f72bb968c%20%3D%20L.circleMarker%28%0A%20%20%20%20%20%20%20%20%20%20%20%20%20%20%20%20%5B30.32040895%2C%2078.05000565%5D%2C%0A%20%20%20%20%20%20%20%20%20%20%20%20%20%20%20%20%7B%22bubblingMouseEvents%22%3A%20true%2C%20%22color%22%3A%20%22red%22%2C%20%22dashArray%22%3A%20null%2C%20%22dashOffset%22%3A%20null%2C%20%22fill%22%3A%20true%2C%20%22fillColor%22%3A%20%22red%22%2C%20%22fillOpacity%22%3A%200.4%2C%20%22fillRule%22%3A%20%22evenodd%22%2C%20%22lineCap%22%3A%20%22round%22%2C%20%22lineJoin%22%3A%20%22round%22%2C%20%22opacity%22%3A%201.0%2C%20%22radius%22%3A%200.7394000000000001%2C%20%22stroke%22%3A%20true%2C%20%22weight%22%3A%203%7D%0A%20%20%20%20%20%20%20%20%20%20%20%20%29.addTo%28map_49c0a9ac5fd7497b8eab3209c151bb7f%29%3B%0A%20%20%20%20%20%20%20%20%0A%20%20%20%20%0A%20%20%20%20%20%20%20%20var%20popup_91fe15f494f84b1794265774bb87e342%20%3D%20L.popup%28%7B%22maxWidth%22%3A%20%22100%25%22%7D%29%3B%0A%0A%20%20%20%20%20%20%20%20%0A%20%20%20%20%20%20%20%20%20%20%20%20var%20html_2d01475cc8a1401eb901da26fab72425%20%3D%20%24%28%60%3Cdiv%20id%3D%22html_2d01475cc8a1401eb901da26fab72425%22%20style%3D%22width%3A%20100.0%25%3B%20height%3A%20100.0%25%3B%22%3E%3Cstrong%3EState/UTs%3C/strong%3E%3A%20Uttarakhand%3Cbr%3E%3Cstrong%3E%20Total%20Cases%3C/strong%3E%3A%207394%3Cbr%3E%3C/div%3E%60%29%5B0%5D%3B%0A%20%20%20%20%20%20%20%20%20%20%20%20popup_91fe15f494f84b1794265774bb87e342.setContent%28html_2d01475cc8a1401eb901da26fab72425%29%3B%0A%20%20%20%20%20%20%20%20%0A%0A%20%20%20%20%20%20%20%20circle_marker_5b97e5aec89e4f31a7f4732f72bb968c.bindPopup%28popup_91fe15f494f84b1794265774bb87e342%29%0A%20%20%20%20%20%20%20%20%3B%0A%0A%20%20%20%20%20%20%20%20%0A%20%20%20%20%0A%3C/script%3E onload=\"this.contentDocument.open();this.contentDocument.write(    decodeURIComponent(this.getAttribute('data-html')));this.contentDocument.close();\" allowfullscreen webkitallowfullscreen mozallowfullscreen></iframe></div></div>"
      ],
      "text/plain": [
       "<folium.folium.Map at 0x1f52212a040>"
      ]
     },
     "execution_count": 136,
     "metadata": {},
     "output_type": "execute_result"
    }
   ],
   "source": [
    "map_death"
   ]
  },
  {
   "cell_type": "code",
   "execution_count": 139,
   "metadata": {},
   "outputs": [],
   "source": [
    "map_active=folium.Map(loaction=[20,70],zoom_start=4,tiles='Stamenterrain')\n",
    "for lat, long ,value , name in zip(dataframe_f['Latitude'],dataframe_f['Longitude'],dataframe_f['Active'],dataframe_f['State/UTs']):\n",
    "    folium.CircleMarker([lat,long],radius=value*0.0002,popup=('<strong>State/UTs</strong>: ' +str(name).capitalize()+'<br>' '<strong> Total Cases</strong>: '+str(value)+ '<br>'),color='red',fill_color='red',fill_opacity=0.4).add_to(map_active)"
   ]
  },
  {
   "cell_type": "code",
   "execution_count": 140,
   "metadata": {},
   "outputs": [
    {
     "data": {
      "text/html": [
       "<div style=\"width:100%;\"><div style=\"position:relative;width:100%;height:0;padding-bottom:60%;\"><span style=\"color:#565656\">Make this Notebook Trusted to load map: File -> Trust Notebook</span><iframe src=\"about:blank\" style=\"position:absolute;width:100%;height:100%;left:0;top:0;border:none !important;\" data-html=%3C%21DOCTYPE%20html%3E%0A%3Chead%3E%20%20%20%20%0A%20%20%20%20%3Cmeta%20http-equiv%3D%22content-type%22%20content%3D%22text/html%3B%20charset%3DUTF-8%22%20/%3E%0A%20%20%20%20%0A%20%20%20%20%20%20%20%20%3Cscript%3E%0A%20%20%20%20%20%20%20%20%20%20%20%20L_NO_TOUCH%20%3D%20false%3B%0A%20%20%20%20%20%20%20%20%20%20%20%20L_DISABLE_3D%20%3D%20false%3B%0A%20%20%20%20%20%20%20%20%3C/script%3E%0A%20%20%20%20%0A%20%20%20%20%3Cstyle%3Ehtml%2C%20body%20%7Bwidth%3A%20100%25%3Bheight%3A%20100%25%3Bmargin%3A%200%3Bpadding%3A%200%3B%7D%3C/style%3E%0A%20%20%20%20%3Cstyle%3E%23map%20%7Bposition%3Aabsolute%3Btop%3A0%3Bbottom%3A0%3Bright%3A0%3Bleft%3A0%3B%7D%3C/style%3E%0A%20%20%20%20%3Cscript%20src%3D%22https%3A//cdn.jsdelivr.net/npm/leaflet%401.6.0/dist/leaflet.js%22%3E%3C/script%3E%0A%20%20%20%20%3Cscript%20src%3D%22https%3A//code.jquery.com/jquery-1.12.4.min.js%22%3E%3C/script%3E%0A%20%20%20%20%3Cscript%20src%3D%22https%3A//maxcdn.bootstrapcdn.com/bootstrap/3.2.0/js/bootstrap.min.js%22%3E%3C/script%3E%0A%20%20%20%20%3Cscript%20src%3D%22https%3A//cdnjs.cloudflare.com/ajax/libs/Leaflet.awesome-markers/2.0.2/leaflet.awesome-markers.js%22%3E%3C/script%3E%0A%20%20%20%20%3Clink%20rel%3D%22stylesheet%22%20href%3D%22https%3A//cdn.jsdelivr.net/npm/leaflet%401.6.0/dist/leaflet.css%22/%3E%0A%20%20%20%20%3Clink%20rel%3D%22stylesheet%22%20href%3D%22https%3A//maxcdn.bootstrapcdn.com/bootstrap/3.2.0/css/bootstrap.min.css%22/%3E%0A%20%20%20%20%3Clink%20rel%3D%22stylesheet%22%20href%3D%22https%3A//maxcdn.bootstrapcdn.com/bootstrap/3.2.0/css/bootstrap-theme.min.css%22/%3E%0A%20%20%20%20%3Clink%20rel%3D%22stylesheet%22%20href%3D%22https%3A//maxcdn.bootstrapcdn.com/font-awesome/4.6.3/css/font-awesome.min.css%22/%3E%0A%20%20%20%20%3Clink%20rel%3D%22stylesheet%22%20href%3D%22https%3A//cdnjs.cloudflare.com/ajax/libs/Leaflet.awesome-markers/2.0.2/leaflet.awesome-markers.css%22/%3E%0A%20%20%20%20%3Clink%20rel%3D%22stylesheet%22%20href%3D%22https%3A//cdn.jsdelivr.net/gh/python-visualization/folium/folium/templates/leaflet.awesome.rotate.min.css%22/%3E%0A%20%20%20%20%0A%20%20%20%20%20%20%20%20%20%20%20%20%3Cmeta%20name%3D%22viewport%22%20content%3D%22width%3Ddevice-width%2C%0A%20%20%20%20%20%20%20%20%20%20%20%20%20%20%20%20initial-scale%3D1.0%2C%20maximum-scale%3D1.0%2C%20user-scalable%3Dno%22%20/%3E%0A%20%20%20%20%20%20%20%20%20%20%20%20%3Cstyle%3E%0A%20%20%20%20%20%20%20%20%20%20%20%20%20%20%20%20%23map_966ba36692004d318b61c2709be3ec57%20%7B%0A%20%20%20%20%20%20%20%20%20%20%20%20%20%20%20%20%20%20%20%20position%3A%20relative%3B%0A%20%20%20%20%20%20%20%20%20%20%20%20%20%20%20%20%20%20%20%20width%3A%20100.0%25%3B%0A%20%20%20%20%20%20%20%20%20%20%20%20%20%20%20%20%20%20%20%20height%3A%20100.0%25%3B%0A%20%20%20%20%20%20%20%20%20%20%20%20%20%20%20%20%20%20%20%20left%3A%200.0%25%3B%0A%20%20%20%20%20%20%20%20%20%20%20%20%20%20%20%20%20%20%20%20top%3A%200.0%25%3B%0A%20%20%20%20%20%20%20%20%20%20%20%20%20%20%20%20%7D%0A%20%20%20%20%20%20%20%20%20%20%20%20%3C/style%3E%0A%20%20%20%20%20%20%20%20%0A%3C/head%3E%0A%3Cbody%3E%20%20%20%20%0A%20%20%20%20%0A%20%20%20%20%20%20%20%20%20%20%20%20%3Cdiv%20class%3D%22folium-map%22%20id%3D%22map_966ba36692004d318b61c2709be3ec57%22%20%3E%3C/div%3E%0A%20%20%20%20%20%20%20%20%0A%3C/body%3E%0A%3Cscript%3E%20%20%20%20%0A%20%20%20%20%0A%20%20%20%20%20%20%20%20%20%20%20%20var%20map_966ba36692004d318b61c2709be3ec57%20%3D%20L.map%28%0A%20%20%20%20%20%20%20%20%20%20%20%20%20%20%20%20%22map_966ba36692004d318b61c2709be3ec57%22%2C%0A%20%20%20%20%20%20%20%20%20%20%20%20%20%20%20%20%7B%0A%20%20%20%20%20%20%20%20%20%20%20%20%20%20%20%20%20%20%20%20center%3A%20%5B0%2C%200%5D%2C%0A%20%20%20%20%20%20%20%20%20%20%20%20%20%20%20%20%20%20%20%20crs%3A%20L.CRS.EPSG3857%2C%0A%20%20%20%20%20%20%20%20%20%20%20%20%20%20%20%20%20%20%20%20zoom%3A%201%2C%0A%20%20%20%20%20%20%20%20%20%20%20%20%20%20%20%20%20%20%20%20zoomControl%3A%20true%2C%0A%20%20%20%20%20%20%20%20%20%20%20%20%20%20%20%20%20%20%20%20preferCanvas%3A%20false%2C%0A%20%20%20%20%20%20%20%20%20%20%20%20%20%20%20%20%20%20%20%20loaction%3A%20%5B20%2C%2070%5D%2C%0A%20%20%20%20%20%20%20%20%20%20%20%20%20%20%20%20%7D%0A%20%20%20%20%20%20%20%20%20%20%20%20%29%3B%0A%0A%20%20%20%20%20%20%20%20%20%20%20%20%0A%0A%20%20%20%20%20%20%20%20%0A%20%20%20%20%0A%20%20%20%20%20%20%20%20%20%20%20%20var%20tile_layer_ebde4ea1ac6f4bfc88407a28f0cf5718%20%3D%20L.tileLayer%28%0A%20%20%20%20%20%20%20%20%20%20%20%20%20%20%20%20%22https%3A//stamen-tiles-%7Bs%7D.a.ssl.fastly.net/terrain/%7Bz%7D/%7Bx%7D/%7By%7D.jpg%22%2C%0A%20%20%20%20%20%20%20%20%20%20%20%20%20%20%20%20%7B%22attribution%22%3A%20%22Map%20tiles%20by%20%5Cu003ca%20href%3D%5C%22http%3A//stamen.com%5C%22%5Cu003eStamen%20Design%5Cu003c/a%5Cu003e%2C%20under%20%5Cu003ca%20href%3D%5C%22http%3A//creativecommons.org/licenses/by/3.0%5C%22%5Cu003eCC%20BY%203.0%5Cu003c/a%5Cu003e.%20Data%20by%20%5Cu0026copy%3B%20%5Cu003ca%20href%3D%5C%22http%3A//openstreetmap.org%5C%22%5Cu003eOpenStreetMap%5Cu003c/a%5Cu003e%2C%20under%20%5Cu003ca%20href%3D%5C%22http%3A//creativecommons.org/licenses/by-sa/3.0%5C%22%5Cu003eCC%20BY%20SA%5Cu003c/a%5Cu003e.%22%2C%20%22detectRetina%22%3A%20false%2C%20%22maxNativeZoom%22%3A%2018%2C%20%22maxZoom%22%3A%2018%2C%20%22minZoom%22%3A%200%2C%20%22noWrap%22%3A%20false%2C%20%22opacity%22%3A%201%2C%20%22subdomains%22%3A%20%22abc%22%2C%20%22tms%22%3A%20false%7D%0A%20%20%20%20%20%20%20%20%20%20%20%20%29.addTo%28map_966ba36692004d318b61c2709be3ec57%29%3B%0A%20%20%20%20%20%20%20%20%0A%20%20%20%20%0A%20%20%20%20%20%20%20%20%20%20%20%20var%20circle_marker_0e221c91a35f4c78ba0ca38f089ef4fe%20%3D%20L.circleMarker%28%0A%20%20%20%20%20%20%20%20%20%20%20%20%20%20%20%20%5B14.7504291%2C%2078.57002559%5D%2C%0A%20%20%20%20%20%20%20%20%20%20%20%20%20%20%20%20%7B%22bubblingMouseEvents%22%3A%20true%2C%20%22color%22%3A%20%22red%22%2C%20%22dashArray%22%3A%20null%2C%20%22dashOffset%22%3A%20null%2C%20%22fill%22%3A%20true%2C%20%22fillColor%22%3A%20%22red%22%2C%20%22fillOpacity%22%3A%200.4%2C%20%22fillRule%22%3A%20%22evenodd%22%2C%20%22lineCap%22%3A%20%22round%22%2C%20%22lineJoin%22%3A%20%22round%22%2C%20%22opacity%22%3A%201.0%2C%20%22radius%22%3A%202.331%2C%20%22stroke%22%3A%20true%2C%20%22weight%22%3A%203%7D%0A%20%20%20%20%20%20%20%20%20%20%20%20%29.addTo%28map_966ba36692004d318b61c2709be3ec57%29%3B%0A%20%20%20%20%20%20%20%20%0A%20%20%20%20%0A%20%20%20%20%20%20%20%20var%20popup_402c70172fef484ea539662f716b59d2%20%3D%20L.popup%28%7B%22maxWidth%22%3A%20%22100%25%22%7D%29%3B%0A%0A%20%20%20%20%20%20%20%20%0A%20%20%20%20%20%20%20%20%20%20%20%20var%20html_13ae30f087304d09826c360ae4c875e0%20%3D%20%24%28%60%3Cdiv%20id%3D%22html_13ae30f087304d09826c360ae4c875e0%22%20style%3D%22width%3A%20100.0%25%3B%20height%3A%20100.0%25%3B%22%3E%3Cstrong%3EState/UTs%3C/strong%3E%3A%20Andhra%20pradesh%3Cbr%3E%3Cstrong%3E%20Total%20Cases%3C/strong%3E%3A%2011655%3Cbr%3E%3C/div%3E%60%29%5B0%5D%3B%0A%20%20%20%20%20%20%20%20%20%20%20%20popup_402c70172fef484ea539662f716b59d2.setContent%28html_13ae30f087304d09826c360ae4c875e0%29%3B%0A%20%20%20%20%20%20%20%20%0A%0A%20%20%20%20%20%20%20%20circle_marker_0e221c91a35f4c78ba0ca38f089ef4fe.bindPopup%28popup_402c70172fef484ea539662f716b59d2%29%0A%20%20%20%20%20%20%20%20%3B%0A%0A%20%20%20%20%20%20%20%20%0A%20%20%20%20%0A%20%20%20%20%0A%20%20%20%20%20%20%20%20%20%20%20%20var%20circle_marker_85e1a9cd145d468e8e9f7f308ead660a%20%3D%20L.circleMarker%28%0A%20%20%20%20%20%20%20%20%20%20%20%20%20%20%20%20%5B28.6699929%2C%2077.23000403%5D%2C%0A%20%20%20%20%20%20%20%20%20%20%20%20%20%20%20%20%7B%22bubblingMouseEvents%22%3A%20true%2C%20%22color%22%3A%20%22red%22%2C%20%22dashArray%22%3A%20null%2C%20%22dashOffset%22%3A%20null%2C%20%22fill%22%3A%20true%2C%20%22fillColor%22%3A%20%22red%22%2C%20%22fillOpacity%22%3A%200.4%2C%20%22fillRule%22%3A%20%22evenodd%22%2C%20%22lineCap%22%3A%20%22round%22%2C%20%22lineJoin%22%3A%20%22round%22%2C%20%22opacity%22%3A%201.0%2C%20%22radius%22%3A%200.0784%2C%20%22stroke%22%3A%20true%2C%20%22weight%22%3A%203%7D%0A%20%20%20%20%20%20%20%20%20%20%20%20%29.addTo%28map_966ba36692004d318b61c2709be3ec57%29%3B%0A%20%20%20%20%20%20%20%20%0A%20%20%20%20%0A%20%20%20%20%20%20%20%20var%20popup_46f54e77d49e4fb1a55654252c78fa33%20%3D%20L.popup%28%7B%22maxWidth%22%3A%20%22100%25%22%7D%29%3B%0A%0A%20%20%20%20%20%20%20%20%0A%20%20%20%20%20%20%20%20%20%20%20%20var%20html_5e38f1df23f042f68d877ee182d56134%20%3D%20%24%28%60%3Cdiv%20id%3D%22html_5e38f1df23f042f68d877ee182d56134%22%20style%3D%22width%3A%20100.0%25%3B%20height%3A%20100.0%25%3B%22%3E%3Cstrong%3EState/UTs%3C/strong%3E%3A%20Delhi%3Cbr%3E%3Cstrong%3E%20Total%20Cases%3C/strong%3E%3A%20392%3Cbr%3E%3C/div%3E%60%29%5B0%5D%3B%0A%20%20%20%20%20%20%20%20%20%20%20%20popup_46f54e77d49e4fb1a55654252c78fa33.setContent%28html_5e38f1df23f042f68d877ee182d56134%29%3B%0A%20%20%20%20%20%20%20%20%0A%0A%20%20%20%20%20%20%20%20circle_marker_85e1a9cd145d468e8e9f7f308ead660a.bindPopup%28popup_46f54e77d49e4fb1a55654252c78fa33%29%0A%20%20%20%20%20%20%20%20%3B%0A%0A%20%20%20%20%20%20%20%20%0A%20%20%20%20%0A%20%20%20%20%0A%20%20%20%20%20%20%20%20%20%20%20%20var%20circle_marker_234b534abed346ad9bdb83c8b3d9dbcc%20%3D%20L.circleMarker%28%0A%20%20%20%20%20%20%20%20%20%20%20%20%20%20%20%20%5B28.45000633%2C%2077.01999101%5D%2C%0A%20%20%20%20%20%20%20%20%20%20%20%20%20%20%20%20%7B%22bubblingMouseEvents%22%3A%20true%2C%20%22color%22%3A%20%22red%22%2C%20%22dashArray%22%3A%20null%2C%20%22dashOffset%22%3A%20null%2C%20%22fill%22%3A%20true%2C%20%22fillColor%22%3A%20%22red%22%2C%20%22fillOpacity%22%3A%200.4%2C%20%22fillRule%22%3A%20%22evenodd%22%2C%20%22lineCap%22%3A%20%22round%22%2C%20%22lineJoin%22%3A%20%22round%22%2C%20%22opacity%22%3A%201.0%2C%20%22radius%22%3A%200.055600000000000004%2C%20%22stroke%22%3A%20true%2C%20%22weight%22%3A%203%7D%0A%20%20%20%20%20%20%20%20%20%20%20%20%29.addTo%28map_966ba36692004d318b61c2709be3ec57%29%3B%0A%20%20%20%20%20%20%20%20%0A%20%20%20%20%0A%20%20%20%20%20%20%20%20var%20popup_12bf6507641c4182bef8388394135746%20%3D%20L.popup%28%7B%22maxWidth%22%3A%20%22100%25%22%7D%29%3B%0A%0A%20%20%20%20%20%20%20%20%0A%20%20%20%20%20%20%20%20%20%20%20%20var%20html_6443e3598b824a619b872f7fba62069a%20%3D%20%24%28%60%3Cdiv%20id%3D%22html_6443e3598b824a619b872f7fba62069a%22%20style%3D%22width%3A%20100.0%25%3B%20height%3A%20100.0%25%3B%22%3E%3Cstrong%3EState/UTs%3C/strong%3E%3A%20Haryana%3Cbr%3E%3Cstrong%3E%20Total%20Cases%3C/strong%3E%3A%20278%3Cbr%3E%3C/div%3E%60%29%5B0%5D%3B%0A%20%20%20%20%20%20%20%20%20%20%20%20popup_12bf6507641c4182bef8388394135746.setContent%28html_6443e3598b824a619b872f7fba62069a%29%3B%0A%20%20%20%20%20%20%20%20%0A%0A%20%20%20%20%20%20%20%20circle_marker_234b534abed346ad9bdb83c8b3d9dbcc.bindPopup%28popup_12bf6507641c4182bef8388394135746%29%0A%20%20%20%20%20%20%20%20%3B%0A%0A%20%20%20%20%20%20%20%20%0A%20%20%20%20%0A%20%20%20%20%0A%20%20%20%20%20%20%20%20%20%20%20%20var%20circle_marker_0db85d63159b46078247d8e11151d44c%20%3D%20L.circleMarker%28%0A%20%20%20%20%20%20%20%20%20%20%20%20%20%20%20%20%5B12.57038129%2C%2076.91999711%5D%2C%0A%20%20%20%20%20%20%20%20%20%20%20%20%20%20%20%20%7B%22bubblingMouseEvents%22%3A%20true%2C%20%22color%22%3A%20%22red%22%2C%20%22dashArray%22%3A%20null%2C%20%22dashOffset%22%3A%20null%2C%20%22fill%22%3A%20true%2C%20%22fillColor%22%3A%20%22red%22%2C%20%22fillOpacity%22%3A%200.4%2C%20%22fillRule%22%3A%20%22evenodd%22%2C%20%22lineCap%22%3A%20%22round%22%2C%20%22lineJoin%22%3A%20%22round%22%2C%20%22opacity%22%3A%201.0%2C%20%22radius%22%3A%202.5188%2C%20%22stroke%22%3A%20true%2C%20%22weight%22%3A%203%7D%0A%20%20%20%20%20%20%20%20%20%20%20%20%29.addTo%28map_966ba36692004d318b61c2709be3ec57%29%3B%0A%20%20%20%20%20%20%20%20%0A%20%20%20%20%0A%20%20%20%20%20%20%20%20var%20popup_f58ec2b20ee14399b3abb2993bb6affd%20%3D%20L.popup%28%7B%22maxWidth%22%3A%20%22100%25%22%7D%29%3B%0A%0A%20%20%20%20%20%20%20%20%0A%20%20%20%20%20%20%20%20%20%20%20%20var%20html_4dd528be73db41e68e1ad3359cb99744%20%3D%20%24%28%60%3Cdiv%20id%3D%22html_4dd528be73db41e68e1ad3359cb99744%22%20style%3D%22width%3A%20100.0%25%3B%20height%3A%20100.0%25%3B%22%3E%3Cstrong%3EState/UTs%3C/strong%3E%3A%20Karnataka%3Cbr%3E%3Cstrong%3E%20Total%20Cases%3C/strong%3E%3A%2012594%3Cbr%3E%3C/div%3E%60%29%5B0%5D%3B%0A%20%20%20%20%20%20%20%20%20%20%20%20popup_f58ec2b20ee14399b3abb2993bb6affd.setContent%28html_4dd528be73db41e68e1ad3359cb99744%29%3B%0A%20%20%20%20%20%20%20%20%0A%0A%20%20%20%20%20%20%20%20circle_marker_0db85d63159b46078247d8e11151d44c.bindPopup%28popup_f58ec2b20ee14399b3abb2993bb6affd%29%0A%20%20%20%20%20%20%20%20%3B%0A%0A%20%20%20%20%20%20%20%20%0A%20%20%20%20%0A%20%20%20%20%0A%20%20%20%20%20%20%20%20%20%20%20%20var%20circle_marker_42ecbf3046d0449093824ac74b900253%20%3D%20L.circleMarker%28%0A%20%20%20%20%20%20%20%20%20%20%20%20%20%20%20%20%5B8.900372741%2C%2076.56999263%5D%2C%0A%20%20%20%20%20%20%20%20%20%20%20%20%20%20%20%20%7B%22bubblingMouseEvents%22%3A%20true%2C%20%22color%22%3A%20%22red%22%2C%20%22dashArray%22%3A%20null%2C%20%22dashOffset%22%3A%20null%2C%20%22fill%22%3A%20true%2C%20%22fillColor%22%3A%20%22red%22%2C%20%22fillOpacity%22%3A%200.4%2C%20%22fillRule%22%3A%20%22evenodd%22%2C%20%22lineCap%22%3A%20%22round%22%2C%20%22lineJoin%22%3A%20%22round%22%2C%20%22opacity%22%3A%201.0%2C%20%22radius%22%3A%2028.815%2C%20%22stroke%22%3A%20true%2C%20%22weight%22%3A%203%7D%0A%20%20%20%20%20%20%20%20%20%20%20%20%29.addTo%28map_966ba36692004d318b61c2709be3ec57%29%3B%0A%20%20%20%20%20%20%20%20%0A%20%20%20%20%0A%20%20%20%20%20%20%20%20var%20popup_022b54ea71ba40e28a766cf2ad1ff394%20%3D%20L.popup%28%7B%22maxWidth%22%3A%20%22100%25%22%7D%29%3B%0A%0A%20%20%20%20%20%20%20%20%0A%20%20%20%20%20%20%20%20%20%20%20%20var%20html_95dc713f13224d7d823b28aba09a045a%20%3D%20%24%28%60%3Cdiv%20id%3D%22html_95dc713f13224d7d823b28aba09a045a%22%20style%3D%22width%3A%20100.0%25%3B%20height%3A%20100.0%25%3B%22%3E%3Cstrong%3EState/UTs%3C/strong%3E%3A%20Kerala%3Cbr%3E%3Cstrong%3E%20Total%20Cases%3C/strong%3E%3A%20144075%3Cbr%3E%3C/div%3E%60%29%5B0%5D%3B%0A%20%20%20%20%20%20%20%20%20%20%20%20popup_022b54ea71ba40e28a766cf2ad1ff394.setContent%28html_95dc713f13224d7d823b28aba09a045a%29%3B%0A%20%20%20%20%20%20%20%20%0A%0A%20%20%20%20%20%20%20%20circle_marker_42ecbf3046d0449093824ac74b900253.bindPopup%28popup_022b54ea71ba40e28a766cf2ad1ff394%29%0A%20%20%20%20%20%20%20%20%3B%0A%0A%20%20%20%20%20%20%20%20%0A%20%20%20%20%0A%20%20%20%20%0A%20%20%20%20%20%20%20%20%20%20%20%20var%20circle_marker_bcc4508e23a646138e908845dbf7fb67%20%3D%20L.circleMarker%28%0A%20%20%20%20%20%20%20%20%20%20%20%20%20%20%20%20%5B19.25023195%2C%2073.16017493%5D%2C%0A%20%20%20%20%20%20%20%20%20%20%20%20%20%20%20%20%7B%22bubblingMouseEvents%22%3A%20true%2C%20%22color%22%3A%20%22red%22%2C%20%22dashArray%22%3A%20null%2C%20%22dashOffset%22%3A%20null%2C%20%22fill%22%3A%20true%2C%20%22fillColor%22%3A%20%22red%22%2C%20%22fillOpacity%22%3A%200.4%2C%20%22fillRule%22%3A%20%22evenodd%22%2C%20%22lineCap%22%3A%20%22round%22%2C%20%22lineJoin%22%3A%20%22round%22%2C%20%22opacity%22%3A%201.0%2C%20%22radius%22%3A%208.0504%2C%20%22stroke%22%3A%20true%2C%20%22weight%22%3A%203%7D%0A%20%20%20%20%20%20%20%20%20%20%20%20%29.addTo%28map_966ba36692004d318b61c2709be3ec57%29%3B%0A%20%20%20%20%20%20%20%20%0A%20%20%20%20%0A%20%20%20%20%20%20%20%20var%20popup_4c5a514c5a0d4763a18a404bd82c27f9%20%3D%20L.popup%28%7B%22maxWidth%22%3A%20%22100%25%22%7D%29%3B%0A%0A%20%20%20%20%20%20%20%20%0A%20%20%20%20%20%20%20%20%20%20%20%20var%20html_6c5aeb337d224c8293ab3c4d69a83744%20%3D%20%24%28%60%3Cdiv%20id%3D%22html_6c5aeb337d224c8293ab3c4d69a83744%22%20style%3D%22width%3A%20100.0%25%3B%20height%3A%20100.0%25%3B%22%3E%3Cstrong%3EState/UTs%3C/strong%3E%3A%20Maharashtra%3Cbr%3E%3Cstrong%3E%20Total%20Cases%3C/strong%3E%3A%2040252%3Cbr%3E%3C/div%3E%60%29%5B0%5D%3B%0A%20%20%20%20%20%20%20%20%20%20%20%20popup_4c5a514c5a0d4763a18a404bd82c27f9.setContent%28html_6c5aeb337d224c8293ab3c4d69a83744%29%3B%0A%20%20%20%20%20%20%20%20%0A%0A%20%20%20%20%20%20%20%20circle_marker_bcc4508e23a646138e908845dbf7fb67.bindPopup%28popup_4c5a514c5a0d4763a18a404bd82c27f9%29%0A%20%20%20%20%20%20%20%20%3B%0A%0A%20%20%20%20%20%20%20%20%0A%20%20%20%20%0A%20%20%20%20%0A%20%20%20%20%20%20%20%20%20%20%20%20var%20circle_marker_26c6af488268407b9c168aa323a8edd5%20%3D%20L.circleMarker%28%0A%20%20%20%20%20%20%20%20%20%20%20%20%20%20%20%20%5B31.51997398%2C%2075.98000281%5D%2C%0A%20%20%20%20%20%20%20%20%20%20%20%20%20%20%20%20%7B%22bubblingMouseEvents%22%3A%20true%2C%20%22color%22%3A%20%22red%22%2C%20%22dashArray%22%3A%20null%2C%20%22dashOffset%22%3A%20null%2C%20%22fill%22%3A%20true%2C%20%22fillColor%22%3A%20%22red%22%2C%20%22fillOpacity%22%3A%200.4%2C%20%22fillRule%22%3A%20%22evenodd%22%2C%20%22lineCap%22%3A%20%22round%22%2C%20%22lineJoin%22%3A%20%22round%22%2C%20%22opacity%22%3A%201.0%2C%20%22radius%22%3A%200.058%2C%20%22stroke%22%3A%20true%2C%20%22weight%22%3A%203%7D%0A%20%20%20%20%20%20%20%20%20%20%20%20%29.addTo%28map_966ba36692004d318b61c2709be3ec57%29%3B%0A%20%20%20%20%20%20%20%20%0A%20%20%20%20%0A%20%20%20%20%20%20%20%20var%20popup_3a73bef6cb5e45e99a09788092fd18f7%20%3D%20L.popup%28%7B%22maxWidth%22%3A%20%22100%25%22%7D%29%3B%0A%0A%20%20%20%20%20%20%20%20%0A%20%20%20%20%20%20%20%20%20%20%20%20var%20html_5218edd4ab3040f8b2a345b3bf08a627%20%3D%20%24%28%60%3Cdiv%20id%3D%22html_5218edd4ab3040f8b2a345b3bf08a627%22%20style%3D%22width%3A%20100.0%25%3B%20height%3A%20100.0%25%3B%22%3E%3Cstrong%3EState/UTs%3C/strong%3E%3A%20Punjab%3Cbr%3E%3Cstrong%3E%20Total%20Cases%3C/strong%3E%3A%20290%3Cbr%3E%3C/div%3E%60%29%5B0%5D%3B%0A%20%20%20%20%20%20%20%20%20%20%20%20popup_3a73bef6cb5e45e99a09788092fd18f7.setContent%28html_5218edd4ab3040f8b2a345b3bf08a627%29%3B%0A%20%20%20%20%20%20%20%20%0A%0A%20%20%20%20%20%20%20%20circle_marker_26c6af488268407b9c168aa323a8edd5.bindPopup%28popup_3a73bef6cb5e45e99a09788092fd18f7%29%0A%20%20%20%20%20%20%20%20%3B%0A%0A%20%20%20%20%20%20%20%20%0A%20%20%20%20%0A%20%20%20%20%0A%20%20%20%20%20%20%20%20%20%20%20%20var%20circle_marker_de94447ba29440588e9149bb22472402%20%3D%20L.circleMarker%28%0A%20%20%20%20%20%20%20%20%20%20%20%20%20%20%20%20%5B26.44999921%2C%2074.63998124%5D%2C%0A%20%20%20%20%20%20%20%20%20%20%20%20%20%20%20%20%7B%22bubblingMouseEvents%22%3A%20true%2C%20%22color%22%3A%20%22red%22%2C%20%22dashArray%22%3A%20null%2C%20%22dashOffset%22%3A%20null%2C%20%22fill%22%3A%20true%2C%20%22fillColor%22%3A%20%22red%22%2C%20%22fillOpacity%22%3A%200.4%2C%20%22fillRule%22%3A%20%22evenodd%22%2C%20%22lineCap%22%3A%20%22round%22%2C%20%22lineJoin%22%3A%20%22round%22%2C%20%22opacity%22%3A%201.0%2C%20%22radius%22%3A%200.0152%2C%20%22stroke%22%3A%20true%2C%20%22weight%22%3A%203%7D%0A%20%20%20%20%20%20%20%20%20%20%20%20%29.addTo%28map_966ba36692004d318b61c2709be3ec57%29%3B%0A%20%20%20%20%20%20%20%20%0A%20%20%20%20%0A%20%20%20%20%20%20%20%20var%20popup_096f6c68f5984844ac5c19fd1715d3b1%20%3D%20L.popup%28%7B%22maxWidth%22%3A%20%22100%25%22%7D%29%3B%0A%0A%20%20%20%20%20%20%20%20%0A%20%20%20%20%20%20%20%20%20%20%20%20var%20html_049e7b053b1b482da5d724886b90e8a1%20%3D%20%24%28%60%3Cdiv%20id%3D%22html_049e7b053b1b482da5d724886b90e8a1%22%20style%3D%22width%3A%20100.0%25%3B%20height%3A%20100.0%25%3B%22%3E%3Cstrong%3EState/UTs%3C/strong%3E%3A%20Rajasthan%3Cbr%3E%3Cstrong%3E%20Total%20Cases%3C/strong%3E%3A%2076%3Cbr%3E%3C/div%3E%60%29%5B0%5D%3B%0A%20%20%20%20%20%20%20%20%20%20%20%20popup_096f6c68f5984844ac5c19fd1715d3b1.setContent%28html_049e7b053b1b482da5d724886b90e8a1%29%3B%0A%20%20%20%20%20%20%20%20%0A%0A%20%20%20%20%20%20%20%20circle_marker_de94447ba29440588e9149bb22472402.bindPopup%28popup_096f6c68f5984844ac5c19fd1715d3b1%29%0A%20%20%20%20%20%20%20%20%3B%0A%0A%20%20%20%20%20%20%20%20%0A%20%20%20%20%0A%20%20%20%20%0A%20%20%20%20%20%20%20%20%20%20%20%20var%20circle_marker_e87dd08e19194bfb885357702f8e84e5%20%3D%20L.circleMarker%28%0A%20%20%20%20%20%20%20%20%20%20%20%20%20%20%20%20%5B18.1124%2C%2079.0193%5D%2C%0A%20%20%20%20%20%20%20%20%20%20%20%20%20%20%20%20%7B%22bubblingMouseEvents%22%3A%20true%2C%20%22color%22%3A%20%22red%22%2C%20%22dashArray%22%3A%20null%2C%20%22dashOffset%22%3A%20null%2C%20%22fill%22%3A%20true%2C%20%22fillColor%22%3A%20%22red%22%2C%20%22fillOpacity%22%3A%200.4%2C%20%22fillRule%22%3A%20%22evenodd%22%2C%20%22lineCap%22%3A%20%22round%22%2C%20%22lineJoin%22%3A%20%22round%22%2C%20%22opacity%22%3A%201.0%2C%20%22radius%22%3A%200.924%2C%20%22stroke%22%3A%20true%2C%20%22weight%22%3A%203%7D%0A%20%20%20%20%20%20%20%20%20%20%20%20%29.addTo%28map_966ba36692004d318b61c2709be3ec57%29%3B%0A%20%20%20%20%20%20%20%20%0A%20%20%20%20%0A%20%20%20%20%20%20%20%20var%20popup_a272991937d94abea0191d36b15c87ac%20%3D%20L.popup%28%7B%22maxWidth%22%3A%20%22100%25%22%7D%29%3B%0A%0A%20%20%20%20%20%20%20%20%0A%20%20%20%20%20%20%20%20%20%20%20%20var%20html_da9d21b70a584bf5a6a9a8c52c8f82e9%20%3D%20%24%28%60%3Cdiv%20id%3D%22html_da9d21b70a584bf5a6a9a8c52c8f82e9%22%20style%3D%22width%3A%20100.0%25%3B%20height%3A%20100.0%25%3B%22%3E%3Cstrong%3EState/UTs%3C/strong%3E%3A%20Telengana%3Cbr%3E%3Cstrong%3E%20Total%20Cases%3C/strong%3E%3A%204620%3Cbr%3E%3C/div%3E%60%29%5B0%5D%3B%0A%20%20%20%20%20%20%20%20%20%20%20%20popup_a272991937d94abea0191d36b15c87ac.setContent%28html_da9d21b70a584bf5a6a9a8c52c8f82e9%29%3B%0A%20%20%20%20%20%20%20%20%0A%0A%20%20%20%20%20%20%20%20circle_marker_e87dd08e19194bfb885357702f8e84e5.bindPopup%28popup_a272991937d94abea0191d36b15c87ac%29%0A%20%20%20%20%20%20%20%20%3B%0A%0A%20%20%20%20%20%20%20%20%0A%20%20%20%20%0A%20%20%20%20%0A%20%20%20%20%20%20%20%20%20%20%20%20var%20circle_marker_dc77ccb8f49148ecae17464a04d6627c%20%3D%20L.circleMarker%28%0A%20%20%20%20%20%20%20%20%20%20%20%20%20%20%20%20%5B12.92038576%2C%2079.15004187%5D%2C%0A%20%20%20%20%20%20%20%20%20%20%20%20%20%20%20%20%7B%22bubblingMouseEvents%22%3A%20true%2C%20%22color%22%3A%20%22red%22%2C%20%22dashArray%22%3A%20null%2C%20%22dashOffset%22%3A%20null%2C%20%22fill%22%3A%20true%2C%20%22fillColor%22%3A%20%22red%22%2C%20%22fillOpacity%22%3A%200.4%2C%20%22fillRule%22%3A%20%22evenodd%22%2C%20%22lineCap%22%3A%20%22round%22%2C%20%22lineJoin%22%3A%20%22round%22%2C%20%22opacity%22%3A%201.0%2C%20%22radius%22%3A%203.4384%2C%20%22stroke%22%3A%20true%2C%20%22weight%22%3A%203%7D%0A%20%20%20%20%20%20%20%20%20%20%20%20%29.addTo%28map_966ba36692004d318b61c2709be3ec57%29%3B%0A%20%20%20%20%20%20%20%20%0A%20%20%20%20%0A%20%20%20%20%20%20%20%20var%20popup_7494175ea0b448a08922fe18e1396e6e%20%3D%20L.popup%28%7B%22maxWidth%22%3A%20%22100%25%22%7D%29%3B%0A%0A%20%20%20%20%20%20%20%20%0A%20%20%20%20%20%20%20%20%20%20%20%20var%20html_a621153af85348e0a3ce9a884802a5f1%20%3D%20%24%28%60%3Cdiv%20id%3D%22html_a621153af85348e0a3ce9a884802a5f1%22%20style%3D%22width%3A%20100.0%25%3B%20height%3A%20100.0%25%3B%22%3E%3Cstrong%3EState/UTs%3C/strong%3E%3A%20Tamil%20nadu%3Cbr%3E%3Cstrong%3E%20Total%20Cases%3C/strong%3E%3A%2017192%3Cbr%3E%3C/div%3E%60%29%5B0%5D%3B%0A%20%20%20%20%20%20%20%20%20%20%20%20popup_7494175ea0b448a08922fe18e1396e6e.setContent%28html_a621153af85348e0a3ce9a884802a5f1%29%3B%0A%20%20%20%20%20%20%20%20%0A%0A%20%20%20%20%20%20%20%20circle_marker_dc77ccb8f49148ecae17464a04d6627c.bindPopup%28popup_7494175ea0b448a08922fe18e1396e6e%29%0A%20%20%20%20%20%20%20%20%3B%0A%0A%20%20%20%20%20%20%20%20%0A%20%20%20%20%0A%20%20%20%20%0A%20%20%20%20%20%20%20%20%20%20%20%20var%20circle_marker_d4dc938a881a40aeb51f39df13143ce0%20%3D%20L.circleMarker%28%0A%20%20%20%20%20%20%20%20%20%20%20%20%20%20%20%20%5B27.59998069%2C%2078.05000565%5D%2C%0A%20%20%20%20%20%20%20%20%20%20%20%20%20%20%20%20%7B%22bubblingMouseEvents%22%3A%20true%2C%20%22color%22%3A%20%22red%22%2C%20%22dashArray%22%3A%20null%2C%20%22dashOffset%22%3A%20null%2C%20%22fill%22%3A%20true%2C%20%22fillColor%22%3A%20%22red%22%2C%20%22fillOpacity%22%3A%200.4%2C%20%22fillRule%22%3A%20%22evenodd%22%2C%20%22lineCap%22%3A%20%22round%22%2C%20%22lineJoin%22%3A%20%22round%22%2C%20%22opacity%22%3A%201.0%2C%20%22radius%22%3A%200.0318%2C%20%22stroke%22%3A%20true%2C%20%22weight%22%3A%203%7D%0A%20%20%20%20%20%20%20%20%20%20%20%20%29.addTo%28map_966ba36692004d318b61c2709be3ec57%29%3B%0A%20%20%20%20%20%20%20%20%0A%20%20%20%20%0A%20%20%20%20%20%20%20%20var%20popup_bb656352cb094d3aa26b8158b018c6a4%20%3D%20L.popup%28%7B%22maxWidth%22%3A%20%22100%25%22%7D%29%3B%0A%0A%20%20%20%20%20%20%20%20%0A%20%20%20%20%20%20%20%20%20%20%20%20var%20html_b1d1129af49b4740a0a1e3acace30d7c%20%3D%20%24%28%60%3Cdiv%20id%3D%22html_b1d1129af49b4740a0a1e3acace30d7c%22%20style%3D%22width%3A%20100.0%25%3B%20height%3A%20100.0%25%3B%22%3E%3Cstrong%3EState/UTs%3C/strong%3E%3A%20Uttar%20pradesh%3Cbr%3E%3Cstrong%3E%20Total%20Cases%3C/strong%3E%3A%20159%3Cbr%3E%3C/div%3E%60%29%5B0%5D%3B%0A%20%20%20%20%20%20%20%20%20%20%20%20popup_bb656352cb094d3aa26b8158b018c6a4.setContent%28html_b1d1129af49b4740a0a1e3acace30d7c%29%3B%0A%20%20%20%20%20%20%20%20%0A%0A%20%20%20%20%20%20%20%20circle_marker_d4dc938a881a40aeb51f39df13143ce0.bindPopup%28popup_bb656352cb094d3aa26b8158b018c6a4%29%0A%20%20%20%20%20%20%20%20%3B%0A%0A%20%20%20%20%20%20%20%20%0A%20%20%20%20%0A%20%20%20%20%0A%20%20%20%20%20%20%20%20%20%20%20%20var%20circle_marker_b4949480657d46fca5219f59861ab01b%20%3D%20L.circleMarker%28%0A%20%20%20%20%20%20%20%20%20%20%20%20%20%20%20%20%5B30.32040895%2C%2078.05000565%5D%2C%0A%20%20%20%20%20%20%20%20%20%20%20%20%20%20%20%20%7B%22bubblingMouseEvents%22%3A%20true%2C%20%22color%22%3A%20%22red%22%2C%20%22dashArray%22%3A%20null%2C%20%22dashOffset%22%3A%20null%2C%20%22fill%22%3A%20true%2C%20%22fillColor%22%3A%20%22red%22%2C%20%22fillOpacity%22%3A%200.4%2C%20%22fillRule%22%3A%20%22evenodd%22%2C%20%22lineCap%22%3A%20%22round%22%2C%20%22lineJoin%22%3A%20%22round%22%2C%20%22opacity%22%3A%201.0%2C%20%22radius%22%3A%200.041800000000000004%2C%20%22stroke%22%3A%20true%2C%20%22weight%22%3A%203%7D%0A%20%20%20%20%20%20%20%20%20%20%20%20%29.addTo%28map_966ba36692004d318b61c2709be3ec57%29%3B%0A%20%20%20%20%20%20%20%20%0A%20%20%20%20%0A%20%20%20%20%20%20%20%20var%20popup_6d94bb93c5fb4bc09ff614c124bf0c65%20%3D%20L.popup%28%7B%22maxWidth%22%3A%20%22100%25%22%7D%29%3B%0A%0A%20%20%20%20%20%20%20%20%0A%20%20%20%20%20%20%20%20%20%20%20%20var%20html_510703084ad643f3aad7c4131d97def8%20%3D%20%24%28%60%3Cdiv%20id%3D%22html_510703084ad643f3aad7c4131d97def8%22%20style%3D%22width%3A%20100.0%25%3B%20height%3A%20100.0%25%3B%22%3E%3Cstrong%3EState/UTs%3C/strong%3E%3A%20Uttarakhand%3Cbr%3E%3Cstrong%3E%20Total%20Cases%3C/strong%3E%3A%20209%3Cbr%3E%3C/div%3E%60%29%5B0%5D%3B%0A%20%20%20%20%20%20%20%20%20%20%20%20popup_6d94bb93c5fb4bc09ff614c124bf0c65.setContent%28html_510703084ad643f3aad7c4131d97def8%29%3B%0A%20%20%20%20%20%20%20%20%0A%0A%20%20%20%20%20%20%20%20circle_marker_b4949480657d46fca5219f59861ab01b.bindPopup%28popup_6d94bb93c5fb4bc09ff614c124bf0c65%29%0A%20%20%20%20%20%20%20%20%3B%0A%0A%20%20%20%20%20%20%20%20%0A%20%20%20%20%0A%3C/script%3E onload=\"this.contentDocument.open();this.contentDocument.write(    decodeURIComponent(this.getAttribute('data-html')));this.contentDocument.close();\" allowfullscreen webkitallowfullscreen mozallowfullscreen></iframe></div></div>"
      ],
      "text/plain": [
       "<folium.folium.Map at 0x1f5221744f0>"
      ]
     },
     "execution_count": 140,
     "metadata": {},
     "output_type": "execute_result"
    }
   ],
   "source": [
    "map_active"
   ]
  },
  {
   "cell_type": "code",
   "execution_count": null,
   "metadata": {},
   "outputs": [],
   "source": []
  }
 ],
 "metadata": {
  "kernelspec": {
   "display_name": "Python 3",
   "language": "python",
   "name": "python3"
  },
  "language_info": {
   "codemirror_mode": {
    "name": "ipython",
    "version": 3
   },
   "file_extension": ".py",
   "mimetype": "text/x-python",
   "name": "python",
   "nbconvert_exporter": "python",
   "pygments_lexer": "ipython3",
   "version": "3.8.5"
  }
 },
 "nbformat": 4,
 "nbformat_minor": 4
}
